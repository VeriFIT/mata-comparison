{
 "cells": [
  {
   "cell_type": "markdown",
   "metadata": {},
   "source": [
    "Cora Documentation – WeightSets Ib\n",
    "==\n",
    "\n",
    "(version 21/02/2019 - Awali 1.0.2)\n",
    "\n",
    "Awali deals with weighted automata. The weights are taken in sets that are called internally `WeightSets` and that are, in a first approximation, *semirings*. \n",
    "This first document presents the *numerical* semirings that are available in the current version of Awali.\n",
    "A next document will present more complex `WeightSets` , and another one how a user can define its own `WeightSet` and integrate it in Awali.\n",
    "\n",
    "The list of numerical semirings that are available is given at the end of the output of the command `cora help`: \n",
    "\n",
    "    B, Z, Q, R, C, F2, Z-min-plus, Z-max-plus, R-max-prod, Z/<int>Z\n",
    "    \n",
    "The name are explicit. Besides for the last one which is peculiar as it depends from a parameter given by the user, the above writing is the way the semiring is denoted in the `-W` option.\n",
    "\n",
    "Boolean automata have been described in the document **GettingStartedWithCora**, those with weights in the semirings `Z`, `Q`, `R` and `C` in **CoraDoc-WeightsIA**.\n",
    "We review here the commands for the remaining semirings.\n",
    "\n",
    "\n",
    "\n",
    "TO BE WRITTEN"
   ]
  },
  {
   "cell_type": "markdown",
   "metadata": {},
   "source": [
    "## 1. Weights in $\\mathbb{F}2$\n",
    "\n",
    "There is no preloaded $\\mathbb{F}2$-automaton in Awali so far."
   ]
  },
  {
   "cell_type": "markdown",
   "metadata": {},
   "source": [
    "## 2. Weights in $\\mathbb{Z}\\mathsf{-min}\\mathsf{-plus}$\n",
    "\n",
    "There are several preloaded $\\mathbb{Z}\\mathsf{-min-plus}$-automata in Awali:\n",
    "\n",
    "    minab, minblocka, slowgrow"
   ]
  },
  {
   "cell_type": "markdown",
   "metadata": {},
   "source": [
    "## 3. Weights in $\\mathbb{Z}\\mathsf{-max}\\mathsf{-plus}$\n",
    "\n",
    "There is only one preloaded $\\mathbb{Z}\\mathsf{-max}\\mathsf{-plus}$-automaton in Awali: `heapmodel`"
   ]
  },
  {
   "cell_type": "markdown",
   "metadata": {},
   "source": [
    "## 4. Weights in $\\mathbb{R}\\mathsf{-max}\\mathsf{-prod}$\n",
    "\n",
    "There is no preloaded $\\mathbb{R}\\mathsf{-max}\\mathsf{-prod}$-automata in Awali."
   ]
  },
  {
   "cell_type": "markdown",
   "metadata": {},
   "source": [
    "## 5. Weights in $\\mathbb{Z}/\\mathtt{<\\!int\\!>}\\mathbb{Z}$\n",
    "\n",
    "There is no preloaded $\\mathbb{Z}/\\mathtt{<\\!int\\!>}\\mathbb{Z}$-automata in Awali."
   ]
  },
  {
   "cell_type": "code",
   "execution_count": null,
   "metadata": {},
   "outputs": [],
   "source": []
  },
  {
   "cell_type": "code",
   "execution_count": null,
   "metadata": {},
   "outputs": [],
   "source": []
  }
 ],
 "metadata": {
  "kernelspec": {
   "display_name": "Python 2",
   "language": "python",
   "name": "python2"
  },
  "language_info": {
   "codemirror_mode": {
    "name": "ipython",
    "version": 2
   },
   "file_extension": ".py",
   "mimetype": "text/x-python",
   "name": "python",
   "nbconvert_exporter": "python",
   "pygments_lexer": "ipython2",
   "version": "2.7.15"
  }
 },
 "nbformat": 4,
 "nbformat_minor": 2
}
