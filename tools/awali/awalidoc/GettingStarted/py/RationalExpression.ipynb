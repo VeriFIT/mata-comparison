{
 "cells": [
  {
   "cell_type": "markdown",
   "metadata": {},
   "source": [
    "# Rational expressions\n",
    "<br>"
   ]
  },
  {
   "cell_type": "code",
   "execution_count": 1,
   "metadata": {},
   "outputs": [
    {
     "data": {
      "application/javascript": [
       "IPython.notebook.set_autosave_interval(0)"
      ]
     },
     "metadata": {},
     "output_type": "display_data"
    },
    {
     "name": "stdout",
     "output_type": "stream",
     "text": [
      "Autosave disabled\n"
     ]
    }
   ],
   "source": [
    "# We disable autosave for technical reasons.\n",
    "# Replace 0 by 120 in next line to restore default.\n",
    "%autosave 0"
   ]
  },
  {
   "cell_type": "code",
   "execution_count": 2,
   "metadata": {},
   "outputs": [
    {
     "name": "stdout",
     "output_type": "stream",
     "text": [
      "[Warning] The python module awalipy relies on compilation executed \"on-the-fly\" depending on the context (type of weights, of labels, etc.). As a result, the very first call to a given function in a given context may take up to 10 seconds. \n"
     ]
    }
   ],
   "source": [
    "import awalipy # If import fails, check that \n",
    "               # Python version used as Jupyter\n",
    "               # kernel matches the one\n",
    "               # Awalipy was compiled with."
   ]
  },
  {
   "cell_type": "markdown",
   "metadata": {},
   "source": [
    "## Creating a RatExp"
   ]
  },
  {
   "cell_type": "markdown",
   "metadata": {},
   "source": [
    "When parsing a rational expression operator precedence is : star > concatenation > union . In other words,  \n",
    "\n",
    "- `a+(b*)` = `a+b*` != `(a+b)*`\n",
    "- `a(b*)`  = `ab*` != `(ab)*`\n",
    "- `a+(bc)` = `a+bc` != `(a+b)c`"
   ]
  },
  {
   "cell_type": "code",
   "execution_count": 3,
   "metadata": {},
   "outputs": [
    {
     "data": {
      "text/plain": [
       "(a+bc)c*(ab)*"
      ]
     },
     "execution_count": 3,
     "metadata": {},
     "output_type": "execute_result"
    }
   ],
   "source": [
    "e = awalipy.RatExp(\"(a+bc)c*(ab)*\")\n",
    "e\n"
   ]
  },
  {
   "cell_type": "markdown",
   "metadata": {},
   "source": [
    "By default, the *alphabet* of a rational expression is the set of all letters appearing in it. However the alphabet may be increased artifically as follows."
   ]
  },
  {
   "cell_type": "code",
   "execution_count": 4,
   "metadata": {},
   "outputs": [
    {
     "data": {
      "text/plain": [
       "(a+b)(c*+a)*"
      ]
     },
     "execution_count": 4,
     "metadata": {},
     "output_type": "execute_result"
    }
   ],
   "source": [
    "f = awalipy.RatExp(\"(a+b)(c*+a)*\", alphabet=\"abcd\")\n",
    "f"
   ]
  },
  {
   "cell_type": "markdown",
   "metadata": {},
   "source": [
    "---\n",
    "Displaying a rational expression as a tree."
   ]
  },
  {
   "cell_type": "code",
   "execution_count": 5,
   "metadata": {},
   "outputs": [
    {
     "data": {
      "image/svg+xml": [
       "<svg height=\"260pt\" viewBox=\"0.00 0.00 491.00 260.00\" width=\"491pt\" xmlns=\"http://www.w3.org/2000/svg\" xmlns:xlink=\"http://www.w3.org/1999/xlink\">\n",
       "<g class=\"graph\" id=\"graph0\" transform=\"scale(1 1) rotate(0) translate(4 256)\">\n",
       "<title>%3</title>\n",
       "<polygon fill=\"white\" points=\"-4,4 -4,-256 487,-256 487,4 -4,4\" stroke=\"transparent\"/>\n",
       "<!-- I2 -->\n",
       "<g class=\"node\" id=\"node1\">\n",
       "<title>I2</title>\n",
       "<ellipse cx=\"0\" cy=\"-99\" fill=\"black\" rx=\"0\" ry=\"0\" stroke=\"black\"/>\n",
       "</g>\n",
       "<!-- 2 -->\n",
       "<g class=\"node\" id=\"node2\">\n",
       "<title>2</title>\n",
       "<path d=\"M79,-117C79,-117 49,-117 49,-117 43,-117 37,-111 37,-105 37,-105 37,-93 37,-93 37,-87 43,-81 49,-81 49,-81 79,-81 79,-81 85,-81 91,-87 91,-93 91,-93 91,-105 91,-105 91,-111 85,-117 79,-117\" fill=\"none\" stroke=\"DimGray\"/>\n",
       "<text font-family=\"Times,serif\" font-size=\"14.00\" text-anchor=\"middle\" x=\"64\" y=\"-95.3\">[.]</text>\n",
       "</g>\n",
       "<!-- I2&#45;&gt;2 -->\n",
       "<g class=\"edge\" id=\"edge1\">\n",
       "<title>I2-&gt;2</title>\n",
       "<path d=\"M1.04,-99C1.86,-99 13.73,-99 26.87,-99\" fill=\"none\" stroke=\"DimGray\"/>\n",
       "<polygon fill=\"DimGray\" points=\"27,-102.5 37,-99 27,-95.5 27,-102.5\" stroke=\"DimGray\"/>\n",
       "</g>\n",
       "<!-- 3 -->\n",
       "<g class=\"node\" id=\"node3\">\n",
       "<title>3</title>\n",
       "<path d=\"M177,-144C177,-144 147,-144 147,-144 141,-144 135,-138 135,-132 135,-132 135,-120 135,-120 135,-114 141,-108 147,-108 147,-108 177,-108 177,-108 183,-108 189,-114 189,-120 189,-120 189,-132 189,-132 189,-138 183,-144 177,-144\" fill=\"none\" stroke=\"DimGray\"/>\n",
       "<text font-family=\"Times,serif\" font-size=\"14.00\" text-anchor=\"middle\" x=\"162\" y=\"-122.3\">[.]</text>\n",
       "</g>\n",
       "<!-- 2&#45;&gt;3 -->\n",
       "<g class=\"edge\" id=\"edge2\">\n",
       "<title>2-&gt;3</title>\n",
       "<path d=\"M91.23,-106.38C101.6,-109.29 113.69,-112.7 124.87,-115.84\" fill=\"none\" stroke=\"DimGray\"/>\n",
       "<polygon fill=\"DimGray\" points=\"124.23,-119.29 134.8,-118.63 126.12,-112.55 124.23,-119.29\" stroke=\"DimGray\"/>\n",
       "<text font-family=\"Times,serif\" font-size=\"14.00\" text-anchor=\"middle\" x=\"113\" y=\"-117.8\">.</text>\n",
       "</g>\n",
       "<!-- 14 -->\n",
       "<g class=\"node\" id=\"node14\">\n",
       "<title>14</title>\n",
       "<path d=\"M177,-90C177,-90 147,-90 147,-90 141,-90 135,-84 135,-78 135,-78 135,-66 135,-66 135,-60 141,-54 147,-54 147,-54 177,-54 177,-54 183,-54 189,-60 189,-66 189,-66 189,-78 189,-78 189,-84 183,-90 177,-90\" fill=\"none\" stroke=\"DimGray\"/>\n",
       "<text font-family=\"Times,serif\" font-size=\"14.00\" text-anchor=\"middle\" x=\"162\" y=\"-68.3\">[*]</text>\n",
       "</g>\n",
       "<!-- 2&#45;&gt;14 -->\n",
       "<g class=\"edge\" id=\"edge3\">\n",
       "<title>2-&gt;14</title>\n",
       "<path d=\"M91.23,-91.62C101.6,-88.71 113.69,-85.3 124.87,-82.16\" fill=\"none\" stroke=\"DimGray\"/>\n",
       "<polygon fill=\"DimGray\" points=\"126.12,-85.45 134.8,-79.37 124.23,-78.71 126.12,-85.45\" stroke=\"DimGray\"/>\n",
       "<text font-family=\"Times,serif\" font-size=\"14.00\" text-anchor=\"middle\" x=\"113\" y=\"-90.8\">..</text>\n",
       "</g>\n",
       "<!-- 4 -->\n",
       "<g class=\"node\" id=\"node4\">\n",
       "<title>4</title>\n",
       "<path d=\"M275,-198C275,-198 245,-198 245,-198 239,-198 233,-192 233,-186 233,-186 233,-174 233,-174 233,-168 239,-162 245,-162 245,-162 275,-162 275,-162 281,-162 287,-168 287,-174 287,-174 287,-186 287,-186 287,-192 281,-198 275,-198\" fill=\"none\" stroke=\"DimGray\"/>\n",
       "<text font-family=\"Times,serif\" font-size=\"14.00\" text-anchor=\"middle\" x=\"260\" y=\"-176.3\">[+]</text>\n",
       "</g>\n",
       "<!-- 3&#45;&gt;4 -->\n",
       "<g class=\"edge\" id=\"edge4\">\n",
       "<title>3-&gt;4</title>\n",
       "<path d=\"M189.23,-140.76C199.92,-146.77 212.44,-153.81 223.89,-160.25\" fill=\"none\" stroke=\"DimGray\"/>\n",
       "<polygon fill=\"DimGray\" points=\"222.37,-163.41 232.8,-165.26 225.8,-157.31 222.37,-163.41\" stroke=\"DimGray\"/>\n",
       "<text font-family=\"Times,serif\" font-size=\"14.00\" text-anchor=\"middle\" x=\"211\" y=\"-157.8\">.</text>\n",
       "</g>\n",
       "<!-- 10 -->\n",
       "<g class=\"node\" id=\"node10\">\n",
       "<title>10</title>\n",
       "<path d=\"M275,-144C275,-144 245,-144 245,-144 239,-144 233,-138 233,-132 233,-132 233,-120 233,-120 233,-114 239,-108 245,-108 245,-108 275,-108 275,-108 281,-108 287,-114 287,-120 287,-120 287,-132 287,-132 287,-138 281,-144 275,-144\" fill=\"none\" stroke=\"DimGray\"/>\n",
       "<text font-family=\"Times,serif\" font-size=\"14.00\" text-anchor=\"middle\" x=\"260\" y=\"-122.3\">[*]</text>\n",
       "</g>\n",
       "<!-- 3&#45;&gt;10 -->\n",
       "<g class=\"edge\" id=\"edge5\">\n",
       "<title>3-&gt;10</title>\n",
       "<path d=\"M189.23,-126C199.5,-126 211.45,-126 222.53,-126\" fill=\"none\" stroke=\"DimGray\"/>\n",
       "<polygon fill=\"DimGray\" points=\"222.8,-129.5 232.8,-126 222.8,-122.5 222.8,-129.5\" stroke=\"DimGray\"/>\n",
       "<text font-family=\"Times,serif\" font-size=\"14.00\" text-anchor=\"middle\" x=\"211\" y=\"-129.8\">..</text>\n",
       "</g>\n",
       "<!-- 5 -->\n",
       "<g class=\"node\" id=\"node5\">\n",
       "<title>5</title>\n",
       "<path d=\"M373,-252C373,-252 343,-252 343,-252 337,-252 331,-246 331,-240 331,-240 331,-228 331,-228 331,-222 337,-216 343,-216 343,-216 373,-216 373,-216 379,-216 385,-222 385,-228 385,-228 385,-240 385,-240 385,-246 379,-252 373,-252\" fill=\"none\" stroke=\"DimGray\"/>\n",
       "<text font-family=\"Times,serif\" font-size=\"14.00\" text-anchor=\"middle\" x=\"358\" y=\"-230.3\">a</text>\n",
       "</g>\n",
       "<!-- 4&#45;&gt;5 -->\n",
       "<g class=\"edge\" id=\"edge6\">\n",
       "<title>4-&gt;5</title>\n",
       "<path d=\"M287.23,-194.76C297.92,-200.77 310.44,-207.81 321.89,-214.25\" fill=\"none\" stroke=\"DimGray\"/>\n",
       "<polygon fill=\"DimGray\" points=\"320.37,-217.41 330.8,-219.26 323.8,-211.31 320.37,-217.41\" stroke=\"DimGray\"/>\n",
       "<text font-family=\"Times,serif\" font-size=\"14.00\" text-anchor=\"middle\" x=\"309\" y=\"-211.8\">.</text>\n",
       "</g>\n",
       "<!-- 6 -->\n",
       "<g class=\"node\" id=\"node6\">\n",
       "<title>6</title>\n",
       "<path d=\"M373,-198C373,-198 343,-198 343,-198 337,-198 331,-192 331,-186 331,-186 331,-174 331,-174 331,-168 337,-162 343,-162 343,-162 373,-162 373,-162 379,-162 385,-168 385,-174 385,-174 385,-186 385,-186 385,-192 379,-198 373,-198\" fill=\"none\" stroke=\"DimGray\"/>\n",
       "<text font-family=\"Times,serif\" font-size=\"14.00\" text-anchor=\"middle\" x=\"358\" y=\"-176.3\">[.]</text>\n",
       "</g>\n",
       "<!-- 4&#45;&gt;6 -->\n",
       "<g class=\"edge\" id=\"edge7\">\n",
       "<title>4-&gt;6</title>\n",
       "<path d=\"M287.23,-180C297.5,-180 309.45,-180 320.53,-180\" fill=\"none\" stroke=\"DimGray\"/>\n",
       "<polygon fill=\"DimGray\" points=\"320.8,-183.5 330.8,-180 320.8,-176.5 320.8,-183.5\" stroke=\"DimGray\"/>\n",
       "<text font-family=\"Times,serif\" font-size=\"14.00\" text-anchor=\"middle\" x=\"309\" y=\"-183.8\">..</text>\n",
       "</g>\n",
       "<!-- 7 -->\n",
       "<g class=\"node\" id=\"node7\">\n",
       "<title>7</title>\n",
       "<path d=\"M471,-225C471,-225 441,-225 441,-225 435,-225 429,-219 429,-213 429,-213 429,-201 429,-201 429,-195 435,-189 441,-189 441,-189 471,-189 471,-189 477,-189 483,-195 483,-201 483,-201 483,-213 483,-213 483,-219 477,-225 471,-225\" fill=\"none\" stroke=\"DimGray\"/>\n",
       "<text font-family=\"Times,serif\" font-size=\"14.00\" text-anchor=\"middle\" x=\"456\" y=\"-203.3\">b</text>\n",
       "</g>\n",
       "<!-- 6&#45;&gt;7 -->\n",
       "<g class=\"edge\" id=\"edge8\">\n",
       "<title>6-&gt;7</title>\n",
       "<path d=\"M385.23,-187.38C395.6,-190.29 407.69,-193.7 418.87,-196.84\" fill=\"none\" stroke=\"DimGray\"/>\n",
       "<polygon fill=\"DimGray\" points=\"418.23,-200.29 428.8,-199.63 420.12,-193.55 418.23,-200.29\" stroke=\"DimGray\"/>\n",
       "<text font-family=\"Times,serif\" font-size=\"14.00\" text-anchor=\"middle\" x=\"407\" y=\"-197.8\">.</text>\n",
       "</g>\n",
       "<!-- 8 -->\n",
       "<g class=\"node\" id=\"node8\">\n",
       "<title>8</title>\n",
       "<path d=\"M471,-171C471,-171 441,-171 441,-171 435,-171 429,-165 429,-159 429,-159 429,-147 429,-147 429,-141 435,-135 441,-135 441,-135 471,-135 471,-135 477,-135 483,-141 483,-147 483,-147 483,-159 483,-159 483,-165 477,-171 471,-171\" fill=\"none\" stroke=\"DimGray\"/>\n",
       "<text font-family=\"Times,serif\" font-size=\"14.00\" text-anchor=\"middle\" x=\"456\" y=\"-149.3\">c</text>\n",
       "</g>\n",
       "<!-- 6&#45;&gt;8 -->\n",
       "<g class=\"edge\" id=\"edge9\">\n",
       "<title>6-&gt;8</title>\n",
       "<path d=\"M385.23,-172.62C395.6,-169.71 407.69,-166.3 418.87,-163.16\" fill=\"none\" stroke=\"DimGray\"/>\n",
       "<polygon fill=\"DimGray\" points=\"420.12,-166.45 428.8,-160.37 418.23,-159.71 420.12,-166.45\" stroke=\"DimGray\"/>\n",
       "<text font-family=\"Times,serif\" font-size=\"14.00\" text-anchor=\"middle\" x=\"407\" y=\"-170.8\">..</text>\n",
       "</g>\n",
       "<!-- 9 -->\n",
       "<g class=\"node\" id=\"node9\">\n",
       "<title>9</title>\n",
       "<path d=\"M373,-144C373,-144 343,-144 343,-144 337,-144 331,-138 331,-132 331,-132 331,-120 331,-120 331,-114 337,-108 343,-108 343,-108 373,-108 373,-108 379,-108 385,-114 385,-120 385,-120 385,-132 385,-132 385,-138 379,-144 373,-144\" fill=\"none\" stroke=\"DimGray\"/>\n",
       "<text font-family=\"Times,serif\" font-size=\"14.00\" text-anchor=\"middle\" x=\"358\" y=\"-122.3\">c</text>\n",
       "</g>\n",
       "<!-- 10&#45;&gt;9 -->\n",
       "<g class=\"edge\" id=\"edge10\">\n",
       "<title>10-&gt;9</title>\n",
       "<path d=\"M287.23,-126C297.5,-126 309.45,-126 320.53,-126\" fill=\"none\" stroke=\"DimGray\"/>\n",
       "<polygon fill=\"DimGray\" points=\"320.8,-129.5 330.8,-126 320.8,-122.5 320.8,-129.5\" stroke=\"DimGray\"/>\n",
       "<text font-family=\"Times,serif\" font-size=\"14.00\" text-anchor=\"middle\" x=\"309\" y=\"-129.8\"> </text>\n",
       "</g>\n",
       "<!-- 11 -->\n",
       "<g class=\"node\" id=\"node11\">\n",
       "<title>11</title>\n",
       "<path d=\"M275,-90C275,-90 245,-90 245,-90 239,-90 233,-84 233,-78 233,-78 233,-66 233,-66 233,-60 239,-54 245,-54 245,-54 275,-54 275,-54 281,-54 287,-60 287,-66 287,-66 287,-78 287,-78 287,-84 281,-90 275,-90\" fill=\"none\" stroke=\"DimGray\"/>\n",
       "<text font-family=\"Times,serif\" font-size=\"14.00\" text-anchor=\"middle\" x=\"260\" y=\"-68.3\">[.]</text>\n",
       "</g>\n",
       "<!-- 12 -->\n",
       "<g class=\"node\" id=\"node12\">\n",
       "<title>12</title>\n",
       "<path d=\"M373,-90C373,-90 343,-90 343,-90 337,-90 331,-84 331,-78 331,-78 331,-66 331,-66 331,-60 337,-54 343,-54 343,-54 373,-54 373,-54 379,-54 385,-60 385,-66 385,-66 385,-78 385,-78 385,-84 379,-90 373,-90\" fill=\"none\" stroke=\"DimGray\"/>\n",
       "<text font-family=\"Times,serif\" font-size=\"14.00\" text-anchor=\"middle\" x=\"358\" y=\"-68.3\">a</text>\n",
       "</g>\n",
       "<!-- 11&#45;&gt;12 -->\n",
       "<g class=\"edge\" id=\"edge11\">\n",
       "<title>11-&gt;12</title>\n",
       "<path d=\"M287.23,-72C297.5,-72 309.45,-72 320.53,-72\" fill=\"none\" stroke=\"DimGray\"/>\n",
       "<polygon fill=\"DimGray\" points=\"320.8,-75.5 330.8,-72 320.8,-68.5 320.8,-75.5\" stroke=\"DimGray\"/>\n",
       "<text font-family=\"Times,serif\" font-size=\"14.00\" text-anchor=\"middle\" x=\"309\" y=\"-75.8\">.</text>\n",
       "</g>\n",
       "<!-- 13 -->\n",
       "<g class=\"node\" id=\"node13\">\n",
       "<title>13</title>\n",
       "<path d=\"M373,-36C373,-36 343,-36 343,-36 337,-36 331,-30 331,-24 331,-24 331,-12 331,-12 331,-6 337,0 343,0 343,0 373,0 373,0 379,0 385,-6 385,-12 385,-12 385,-24 385,-24 385,-30 379,-36 373,-36\" fill=\"none\" stroke=\"DimGray\"/>\n",
       "<text font-family=\"Times,serif\" font-size=\"14.00\" text-anchor=\"middle\" x=\"358\" y=\"-14.3\">b</text>\n",
       "</g>\n",
       "<!-- 11&#45;&gt;13 -->\n",
       "<g class=\"edge\" id=\"edge12\">\n",
       "<title>11-&gt;13</title>\n",
       "<path d=\"M287.23,-57.24C297.92,-51.23 310.44,-44.19 321.89,-37.75\" fill=\"none\" stroke=\"DimGray\"/>\n",
       "<polygon fill=\"DimGray\" points=\"323.8,-40.69 330.8,-32.74 320.37,-34.59 323.8,-40.69\" stroke=\"DimGray\"/>\n",
       "<text font-family=\"Times,serif\" font-size=\"14.00\" text-anchor=\"middle\" x=\"309\" y=\"-50.8\">..</text>\n",
       "</g>\n",
       "<!-- 14&#45;&gt;11 -->\n",
       "<g class=\"edge\" id=\"edge13\">\n",
       "<title>14-&gt;11</title>\n",
       "<path d=\"M189.23,-72C199.5,-72 211.45,-72 222.53,-72\" fill=\"none\" stroke=\"DimGray\"/>\n",
       "<polygon fill=\"DimGray\" points=\"222.8,-75.5 232.8,-72 222.8,-68.5 222.8,-75.5\" stroke=\"DimGray\"/>\n",
       "<text font-family=\"Times,serif\" font-size=\"14.00\" text-anchor=\"middle\" x=\"211\" y=\"-75.8\"> </text>\n",
       "</g>\n",
       "</g>\n",
       "</svg>"
      ],
      "text/plain": [
       "<IPython.core.display.SVG object>"
      ]
     },
     "metadata": {},
     "output_type": "display_data"
    }
   ],
   "source": [
    "e.display()"
   ]
  },
  {
   "cell_type": "markdown",
   "metadata": {},
   "source": [
    "## Union"
   ]
  },
  {
   "cell_type": "code",
   "execution_count": 6,
   "metadata": {},
   "outputs": [
    {
     "data": {
      "text/plain": [
       "(a+bc)c*(ab)*+(a+b)(c*+a)*"
      ]
     },
     "execution_count": 6,
     "metadata": {},
     "output_type": "execute_result"
    }
   ],
   "source": [
    "e+f"
   ]
  },
  {
   "cell_type": "code",
   "execution_count": 7,
   "metadata": {},
   "outputs": [
    {
     "data": {
      "text/plain": [
       "(a+bc)c*(ab)*+(a+bc)c*(ab)*"
      ]
     },
     "execution_count": 7,
     "metadata": {},
     "output_type": "execute_result"
    }
   ],
   "source": [
    "e+=e\n",
    "e"
   ]
  },
  {
   "cell_type": "markdown",
   "metadata": {},
   "source": [
    "## Concatenation"
   ]
  },
  {
   "cell_type": "code",
   "execution_count": 8,
   "metadata": {},
   "outputs": [
    {
     "data": {
      "text/plain": [
       "((a+bc)c*(ab)*+(a+bc)c*(ab)*)((a+b)(c*+a)*)"
      ]
     },
     "execution_count": 8,
     "metadata": {},
     "output_type": "execute_result"
    }
   ],
   "source": [
    "e^f"
   ]
  },
  {
   "cell_type": "code",
   "execution_count": 9,
   "metadata": {},
   "outputs": [
    {
     "data": {
      "text/plain": [
       "((a+bc)c*(ab)*+(a+bc)c*(ab)*)(abc*)"
      ]
     },
     "execution_count": 9,
     "metadata": {},
     "output_type": "execute_result"
    }
   ],
   "source": [
    "e^=\"abc*\"\n",
    "e"
   ]
  },
  {
   "cell_type": "markdown",
   "metadata": {},
   "source": [
    "## Star"
   ]
  },
  {
   "cell_type": "code",
   "execution_count": 10,
   "metadata": {},
   "outputs": [
    {
     "data": {
      "text/plain": [
       "(((a+bc)c*(ab)*+(a+bc)c*(ab)*)(abc*))*"
      ]
     },
     "execution_count": 10,
     "metadata": {},
     "output_type": "execute_result"
    }
   ],
   "source": [
    "e.star()"
   ]
  },
  {
   "cell_type": "code",
   "execution_count": 11,
   "metadata": {},
   "outputs": [
    {
     "data": {
      "text/plain": [
       "(((a+bc)c*(ab)*+(a+bc)c*(ab)*)(abc*))*"
      ]
     },
     "execution_count": 11,
     "metadata": {},
     "output_type": "execute_result"
    }
   ],
   "source": [
    "e.star_here()\n",
    "e"
   ]
  },
  {
   "cell_type": "markdown",
   "metadata": {},
   "source": [
    "## Star normal form and star height"
   ]
  },
  {
   "cell_type": "code",
   "execution_count": 12,
   "metadata": {},
   "outputs": [
    {
     "data": {
      "text/plain": [
       "2"
      ]
     },
     "execution_count": 12,
     "metadata": {},
     "output_type": "execute_result"
    }
   ],
   "source": [
    "e.star_height()"
   ]
  },
  {
   "cell_type": "code",
   "execution_count": 13,
   "metadata": {},
   "outputs": [
    {
     "data": {
      "text/plain": [
       "(((a+bc)c*(ab)*+(a+bc)c*(ab)*)(abc*))*"
      ]
     },
     "execution_count": 13,
     "metadata": {},
     "output_type": "execute_result"
    }
   ],
   "source": [
    "e.star_normal_form()"
   ]
  },
  {
   "cell_type": "markdown",
   "metadata": {},
   "source": [
    "## Expand"
   ]
  },
  {
   "cell_type": "markdown",
   "metadata": {},
   "source": [
    "The method `expand` distribute union and concatenation as much as possible."
   ]
  },
  {
   "cell_type": "code",
   "execution_count": 14,
   "metadata": {},
   "outputs": [
    {
     "data": {
      "text/plain": [
       "ad(f+g)*+ae(f+g)*+bcd(f+g)*+bce(f+g)*"
      ]
     },
     "execution_count": 14,
     "metadata": {},
     "output_type": "execute_result"
    }
   ],
   "source": [
    "awalipy.RatExp(\"(a+bc)(d+e)(f+g)*\").expand()"
   ]
  },
  {
   "cell_type": "markdown",
   "metadata": {},
   "source": [
    "## Expressions to automata"
   ]
  },
  {
   "cell_type": "markdown",
   "metadata": {},
   "source": [
    "By default, awali uses the *derived term* algorithm."
   ]
  },
  {
   "cell_type": "code",
   "execution_count": 15,
   "metadata": {},
   "outputs": [
    {
     "data": {
      "image/svg+xml": [
       "<svg height=\"180pt\" viewBox=\"0.00 0.00 718.00 180.00\" width=\"718pt\" xmlns=\"http://www.w3.org/2000/svg\" xmlns:xlink=\"http://www.w3.org/1999/xlink\">\n",
       "<g class=\"graph\" id=\"graph0\" transform=\"scale(1 1) rotate(0) translate(4 176)\">\n",
       "<title>%3</title>\n",
       "<polygon fill=\"white\" points=\"-4,4 -4,-176 714,-176 714,4 -4,4\" stroke=\"transparent\"/>\n",
       "<!-- I6 -->\n",
       "<g class=\"node\" id=\"node1\">\n",
       "<title>I6</title>\n",
       "<ellipse cx=\"0\" cy=\"-128\" fill=\"black\" rx=\"0\" ry=\"0\" stroke=\"black\"/>\n",
       "</g>\n",
       "<!-- 6 -->\n",
       "<g class=\"node\" id=\"node8\">\n",
       "<title>6</title>\n",
       "<path d=\"M79,-146C79,-146 49,-146 49,-146 43,-146 37,-140 37,-134 37,-134 37,-122 37,-122 37,-116 43,-110 49,-110 49,-110 79,-110 79,-110 85,-110 91,-116 91,-122 91,-122 91,-134 91,-134 91,-140 85,-146 79,-146\" fill=\"none\" stroke=\"black\"/>\n",
       "<text font-family=\"Times,serif\" font-size=\"14.00\" text-anchor=\"middle\" x=\"64\" y=\"-124.3\">$0</text>\n",
       "</g>\n",
       "<!-- I6&#45;&gt;6 -->\n",
       "<g class=\"edge\" id=\"edge1\">\n",
       "<title>I6-&gt;6</title>\n",
       "<path d=\"M1.04,-128C1.86,-128 13.73,-128 26.87,-128\" fill=\"none\" stroke=\"DimGray\"/>\n",
       "<polygon fill=\"DimGray\" points=\"27,-131.5 37,-128 27,-124.5 27,-131.5\" stroke=\"DimGray\"/>\n",
       "</g>\n",
       "<!-- F6 -->\n",
       "<g class=\"node\" id=\"node2\">\n",
       "<title>F6</title>\n",
       "<ellipse cx=\"161\" cy=\"-164\" fill=\"black\" rx=\"0\" ry=\"0\" stroke=\"black\"/>\n",
       "</g>\n",
       "<!-- F7 -->\n",
       "<g class=\"node\" id=\"node3\">\n",
       "<title>F7</title>\n",
       "<ellipse cx=\"710\" cy=\"-67\" fill=\"black\" rx=\"0\" ry=\"0\" stroke=\"black\"/>\n",
       "</g>\n",
       "<!-- 2 -->\n",
       "<g class=\"node\" id=\"node4\">\n",
       "<title>2</title>\n",
       "<path d=\"M176,-146C176,-146 146,-146 146,-146 140,-146 134,-140 134,-134 134,-134 134,-122 134,-122 134,-116 140,-110 146,-110 146,-110 176,-110 176,-110 182,-110 188,-116 188,-122 188,-122 188,-134 188,-134 188,-140 182,-146 176,-146\" fill=\"none\" stroke=\"black\"/>\n",
       "<text font-family=\"Times,serif\" font-size=\"14.00\" text-anchor=\"middle\" x=\"161\" y=\"-124.3\">$3</text>\n",
       "</g>\n",
       "<!-- 5 -->\n",
       "<g class=\"node\" id=\"node7\">\n",
       "<title>5</title>\n",
       "<path d=\"M273,-95C273,-95 243,-95 243,-95 237,-95 231,-89 231,-83 231,-83 231,-71 231,-71 231,-65 237,-59 243,-59 243,-59 273,-59 273,-59 279,-59 285,-65 285,-71 285,-71 285,-83 285,-83 285,-89 279,-95 273,-95\" fill=\"none\" stroke=\"black\"/>\n",
       "<text font-family=\"Times,serif\" font-size=\"14.00\" text-anchor=\"middle\" x=\"258\" y=\"-73.3\">$1</text>\n",
       "</g>\n",
       "<!-- 2&#45;&gt;5 -->\n",
       "<g class=\"edge\" id=\"edge2\">\n",
       "<title>2-&gt;5</title>\n",
       "<path d=\"M188.21,-113.93C198.59,-108.35 210.69,-101.86 221.82,-95.89\" fill=\"none\" stroke=\"black\"/>\n",
       "<polygon fill=\"black\" points=\"223.72,-98.84 230.87,-91.03 220.41,-92.67 223.72,-98.84\" stroke=\"black\"/>\n",
       "<text font-family=\"Times,serif\" font-size=\"14.00\" text-anchor=\"middle\" x=\"209.5\" y=\"-107.8\">c</text>\n",
       "</g>\n",
       "<!-- 3 -->\n",
       "<g class=\"node\" id=\"node5\">\n",
       "<title>3</title>\n",
       "<path d=\"M467,-107C467,-107 437,-107 437,-107 431,-107 425,-101 425,-95 425,-95 425,-83 425,-83 425,-77 431,-71 437,-71 437,-71 467,-71 467,-71 473,-71 479,-77 479,-83 479,-83 479,-95 479,-95 479,-101 473,-107 467,-107\" fill=\"none\" stroke=\"black\"/>\n",
       "<text font-family=\"Times,serif\" font-size=\"14.00\" text-anchor=\"middle\" x=\"452\" y=\"-85.3\">$8</text>\n",
       "</g>\n",
       "<!-- 4 -->\n",
       "<g class=\"node\" id=\"node6\">\n",
       "<title>4</title>\n",
       "<path d=\"M370,-107C370,-107 340,-107 340,-107 334,-107 328,-101 328,-95 328,-95 328,-83 328,-83 328,-77 334,-71 340,-71 340,-71 370,-71 370,-71 376,-71 382,-77 382,-83 382,-83 382,-95 382,-95 382,-101 376,-107 370,-107\" fill=\"none\" stroke=\"black\"/>\n",
       "<text font-family=\"Times,serif\" font-size=\"14.00\" text-anchor=\"middle\" x=\"355\" y=\"-85.3\">$6</text>\n",
       "</g>\n",
       "<!-- 3&#45;&gt;4 -->\n",
       "<g class=\"edge\" id=\"edge3\">\n",
       "<title>3-&gt;4</title>\n",
       "<path d=\"M424.56,-84.1C418.79,-83.23 412.71,-82.45 407,-82 402.19,-81.62 397.13,-81.71 392.15,-82.09\" fill=\"none\" stroke=\"black\"/>\n",
       "<polygon fill=\"black\" points=\"391.69,-78.62 382.14,-83.23 392.47,-85.58 391.69,-78.62\" stroke=\"black\"/>\n",
       "<text font-family=\"Times,serif\" font-size=\"14.00\" text-anchor=\"middle\" x=\"403.5\" y=\"-85.8\">a</text>\n",
       "</g>\n",
       "<!-- 8 -->\n",
       "<g class=\"node\" id=\"node10\">\n",
       "<title>8</title>\n",
       "<path d=\"M564,-85C564,-85 534,-85 534,-85 528,-85 522,-79 522,-73 522,-73 522,-61 522,-61 522,-55 528,-49 534,-49 534,-49 564,-49 564,-49 570,-49 576,-55 576,-61 576,-61 576,-73 576,-73 576,-79 570,-85 564,-85\" fill=\"none\" stroke=\"black\"/>\n",
       "<text font-family=\"Times,serif\" font-size=\"14.00\" text-anchor=\"middle\" x=\"549\" y=\"-63.3\">$9</text>\n",
       "</g>\n",
       "<!-- 3&#45;&gt;8 -->\n",
       "<g class=\"edge\" id=\"edge4\">\n",
       "<title>3-&gt;8</title>\n",
       "<path d=\"M479.21,-82.93C489.28,-80.6 500.96,-77.89 511.81,-75.38\" fill=\"none\" stroke=\"black\"/>\n",
       "<polygon fill=\"black\" points=\"512.92,-78.72 521.87,-73.05 511.34,-71.9 512.92,-78.72\" stroke=\"black\"/>\n",
       "<text font-family=\"Times,serif\" font-size=\"14.00\" text-anchor=\"middle\" x=\"500.5\" y=\"-81.8\">a</text>\n",
       "</g>\n",
       "<!-- 4&#45;&gt;3 -->\n",
       "<g class=\"edge\" id=\"edge5\">\n",
       "<title>4-&gt;3</title>\n",
       "<path d=\"M382.13,-95.6C390.08,-96.93 398.88,-97.73 407,-97 409.5,-96.77 412.08,-96.48 414.66,-96.13\" fill=\"none\" stroke=\"black\"/>\n",
       "<polygon fill=\"black\" points=\"415.23,-99.59 424.58,-94.6 414.16,-92.67 415.23,-99.59\" stroke=\"black\"/>\n",
       "<text font-family=\"Times,serif\" font-size=\"14.00\" text-anchor=\"middle\" x=\"403.5\" y=\"-100.8\">b</text>\n",
       "</g>\n",
       "<!-- 5&#45;&gt;4 -->\n",
       "<g class=\"edge\" id=\"edge6\">\n",
       "<title>5-&gt;4</title>\n",
       "<path d=\"M285.21,-80.31C295.28,-81.58 306.96,-83.06 317.81,-84.43\" fill=\"none\" stroke=\"black\"/>\n",
       "<polygon fill=\"black\" points=\"317.52,-87.92 327.87,-85.7 318.39,-80.97 317.52,-87.92\" stroke=\"black\"/>\n",
       "<text font-family=\"Times,serif\" font-size=\"14.00\" text-anchor=\"middle\" x=\"306.5\" y=\"-86.8\">a</text>\n",
       "</g>\n",
       "<!-- 5&#45;&gt;5 -->\n",
       "<g class=\"edge\" id=\"edge7\">\n",
       "<title>5-&gt;5</title>\n",
       "<path d=\"M249.32,-95.15C247.98,-104.54 250.88,-113 258,-113 262.34,-113 265.11,-109.86 266.31,-105.28\" fill=\"none\" stroke=\"black\"/>\n",
       "<polygon fill=\"black\" points=\"269.82,-105.27 266.68,-95.15 262.82,-105.02 269.82,-105.27\" stroke=\"black\"/>\n",
       "<text font-family=\"Times,serif\" font-size=\"14.00\" text-anchor=\"middle\" x=\"258\" y=\"-116.8\">c</text>\n",
       "</g>\n",
       "<!-- 5&#45;&gt;8 -->\n",
       "<g class=\"edge\" id=\"edge8\">\n",
       "<title>5-&gt;8</title>\n",
       "<path d=\"M285.32,-69.89C298.1,-66.8 313.74,-63.53 328,-62 392.39,-55.08 467.98,-59.52 511.69,-63.31\" fill=\"none\" stroke=\"black\"/>\n",
       "<polygon fill=\"black\" points=\"511.56,-66.81 521.83,-64.22 512.19,-59.84 511.56,-66.81\" stroke=\"black\"/>\n",
       "<text font-family=\"Times,serif\" font-size=\"14.00\" text-anchor=\"middle\" x=\"403.5\" y=\"-62.8\">a</text>\n",
       "</g>\n",
       "<!-- 6&#45;&gt;F6 -->\n",
       "<g class=\"edge\" id=\"edge9\">\n",
       "<title>6-&gt;F6</title>\n",
       "<path d=\"M91.37,-139.83C97.14,-142.29 103.25,-144.8 109,-147 123.19,-152.42 139.95,-157.82 150.28,-161.03\" fill=\"none\" stroke=\"DimGray\"/>\n",
       "<polygon fill=\"DimGray\" points=\"149.33,-164.4 159.92,-163.98 151.37,-157.71 149.33,-164.4\" stroke=\"DimGray\"/>\n",
       "</g>\n",
       "<!-- 6&#45;&gt;2 -->\n",
       "<g class=\"edge\" id=\"edge10\">\n",
       "<title>6-&gt;2</title>\n",
       "<path d=\"M91.21,-128C101.28,-128 112.96,-128 123.81,-128\" fill=\"none\" stroke=\"black\"/>\n",
       "<polygon fill=\"black\" points=\"123.87,-131.5 133.87,-128 123.87,-124.5 123.87,-131.5\" stroke=\"black\"/>\n",
       "<text font-family=\"Times,serif\" font-size=\"14.00\" text-anchor=\"middle\" x=\"112.5\" y=\"-131.8\">b</text>\n",
       "</g>\n",
       "<!-- 6&#45;&gt;5 -->\n",
       "<g class=\"edge\" id=\"edge11\">\n",
       "<title>6-&gt;5</title>\n",
       "<path d=\"M88.53,-109.81C101.27,-101 117.71,-91.22 134,-86 162.19,-76.97 195.81,-75.07 220.76,-75.23\" fill=\"none\" stroke=\"black\"/>\n",
       "<polygon fill=\"black\" points=\"220.83,-78.73 230.89,-75.41 220.95,-71.73 220.83,-78.73\" stroke=\"black\"/>\n",
       "<text font-family=\"Times,serif\" font-size=\"14.00\" text-anchor=\"middle\" x=\"161\" y=\"-89.8\">a</text>\n",
       "</g>\n",
       "<!-- 7 -->\n",
       "<g class=\"node\" id=\"node9\">\n",
       "<title>7</title>\n",
       "<path d=\"M661,-85C661,-85 631,-85 631,-85 625,-85 619,-79 619,-73 619,-73 619,-61 619,-61 619,-55 625,-49 631,-49 631,-49 661,-49 661,-49 667,-49 673,-55 673,-61 673,-61 673,-73 673,-73 673,-79 667,-85 661,-85\" fill=\"none\" stroke=\"black\"/>\n",
       "<text font-family=\"Times,serif\" font-size=\"14.00\" text-anchor=\"middle\" x=\"646\" y=\"-63.3\">$16</text>\n",
       "</g>\n",
       "<!-- 7&#45;&gt;F7 -->\n",
       "<g class=\"edge\" id=\"edge12\">\n",
       "<title>7-&gt;F7</title>\n",
       "<path d=\"M673.29,-67C682.25,-67 691.73,-67 698.68,-67\" fill=\"none\" stroke=\"DimGray\"/>\n",
       "<polygon fill=\"DimGray\" points=\"698.95,-70.5 708.95,-67 698.95,-63.5 698.95,-70.5\" stroke=\"DimGray\"/>\n",
       "</g>\n",
       "<!-- 7&#45;&gt;2 -->\n",
       "<g class=\"edge\" id=\"edge13\">\n",
       "<title>7-&gt;2</title>\n",
       "<path d=\"M636.14,-85.21C621.92,-111.51 591.35,-157 550,-157 257,-157 257,-157 257,-157 236.96,-157 215.54,-151.03 198.12,-144.5\" fill=\"none\" stroke=\"black\"/>\n",
       "<polygon fill=\"black\" points=\"198.96,-141.07 188.37,-140.64 196.38,-147.57 198.96,-141.07\" stroke=\"black\"/>\n",
       "<text font-family=\"Times,serif\" font-size=\"14.00\" text-anchor=\"middle\" x=\"403.5\" y=\"-160.8\">b</text>\n",
       "</g>\n",
       "<!-- 7&#45;&gt;5 -->\n",
       "<g class=\"edge\" id=\"edge14\">\n",
       "<title>7-&gt;5</title>\n",
       "<path d=\"M631.06,-48.69C614.22,-28.85 583.91,0 550,0 354,0 354,0 354,0 321.06,0 293.14,-28.29 276.27,-50.58\" fill=\"none\" stroke=\"black\"/>\n",
       "<polygon fill=\"black\" points=\"273.38,-48.6 270.36,-58.75 279.05,-52.7 273.38,-48.6\" stroke=\"black\"/>\n",
       "<text font-family=\"Times,serif\" font-size=\"14.00\" text-anchor=\"middle\" x=\"452\" y=\"-3.8\">a</text>\n",
       "</g>\n",
       "<!-- 7&#45;&gt;7 -->\n",
       "<g class=\"edge\" id=\"edge15\">\n",
       "<title>7-&gt;7</title>\n",
       "<path d=\"M638.04,-85.15C636.82,-94.54 639.47,-103 646,-103 649.98,-103 652.52,-99.86 653.62,-95.28\" fill=\"none\" stroke=\"black\"/>\n",
       "<polygon fill=\"black\" points=\"657.12,-95.26 653.96,-85.15 650.13,-95.03 657.12,-95.26\" stroke=\"black\"/>\n",
       "<text font-family=\"Times,serif\" font-size=\"14.00\" text-anchor=\"middle\" x=\"646\" y=\"-106.8\">c</text>\n",
       "</g>\n",
       "<!-- 8&#45;&gt;7 -->\n",
       "<g class=\"edge\" id=\"edge16\">\n",
       "<title>8-&gt;7</title>\n",
       "<path d=\"M576.21,-67C586.28,-67 597.96,-67 608.81,-67\" fill=\"none\" stroke=\"black\"/>\n",
       "<polygon fill=\"black\" points=\"608.87,-70.5 618.87,-67 608.87,-63.5 608.87,-70.5\" stroke=\"black\"/>\n",
       "<text font-family=\"Times,serif\" font-size=\"14.00\" text-anchor=\"middle\" x=\"597.5\" y=\"-70.8\">b</text>\n",
       "</g>\n",
       "</g>\n",
       "</svg>"
      ],
      "text/plain": [
       "<IPython.core.display.SVG object>"
      ]
     },
     "metadata": {},
     "output_type": "display_data"
    }
   ],
   "source": [
    "A = e.exp_to_aut()\n",
    "A.display()"
   ]
  },
  {
   "cell_type": "markdown",
   "metadata": {},
   "source": [
    "The states of `A` are indeed all the derived expressions of `e`. It may be displayed by setting to `True` the optional argument `history`."
   ]
  },
  {
   "cell_type": "code",
   "execution_count": 16,
   "metadata": {},
   "outputs": [
    {
     "data": {
      "image/svg+xml": [
       "<svg height=\"640pt\" viewBox=\"0.00 0.00 240.00 640.00\" width=\"240pt\" xmlns=\"http://www.w3.org/2000/svg\" xmlns:xlink=\"http://www.w3.org/1999/xlink\">\n",
       "<g class=\"graph\" id=\"graph0\" transform=\"scale(1 1) rotate(0) translate(4 636)\">\n",
       "<title>%3</title>\n",
       "<polygon fill=\"white\" points=\"-4,4 -4,-636 236,-636 236,4 -4,4\" stroke=\"transparent\"/>\n",
       "<!-- I6 -->\n",
       "<g class=\"node\" id=\"node1\">\n",
       "<title>I6</title>\n",
       "<ellipse cx=\"54\" cy=\"-632\" fill=\"black\" rx=\"0\" ry=\"0\" stroke=\"black\"/>\n",
       "</g>\n",
       "<!-- 6 -->\n",
       "<g class=\"node\" id=\"node8\">\n",
       "<title>6</title>\n",
       "<path d=\"M69,-595C69,-595 39,-595 39,-595 33,-595 27,-589 27,-583 27,-583 27,-571 27,-571 27,-565 33,-559 39,-559 39,-559 69,-559 69,-559 75,-559 81,-565 81,-571 81,-571 81,-583 81,-583 81,-589 75,-595 69,-595\" fill=\"none\" stroke=\"black\"/>\n",
       "<text font-family=\"Times,serif\" font-size=\"14.00\" text-anchor=\"middle\" x=\"54\" y=\"-573.3\">{$0}</text>\n",
       "</g>\n",
       "<!-- I6&#45;&gt;6 -->\n",
       "<g class=\"edge\" id=\"edge1\">\n",
       "<title>I6-&gt;6</title>\n",
       "<path d=\"M54,-630.85C54,-629.37 54,-617.32 54,-605.1\" fill=\"none\" stroke=\"DimGray\"/>\n",
       "<polygon fill=\"DimGray\" points=\"57.5,-605.02 54,-595.02 50.5,-605.02 57.5,-605.02\" stroke=\"DimGray\"/>\n",
       "</g>\n",
       "<!-- F6 -->\n",
       "<g class=\"node\" id=\"node2\">\n",
       "<title>F6</title>\n",
       "<ellipse cx=\"0\" cy=\"-490\" fill=\"black\" rx=\"0\" ry=\"0\" stroke=\"black\"/>\n",
       "</g>\n",
       "<!-- F7 -->\n",
       "<g class=\"node\" id=\"node3\">\n",
       "<title>F7</title>\n",
       "<ellipse cx=\"63\" cy=\"0\" fill=\"black\" rx=\"0\" ry=\"0\" stroke=\"black\"/>\n",
       "</g>\n",
       "<!-- 2 -->\n",
       "<g class=\"node\" id=\"node4\">\n",
       "<title>2</title>\n",
       "<path d=\"M77.5,-508C77.5,-508 30.5,-508 30.5,-508 24.5,-508 18.5,-502 18.5,-496 18.5,-496 18.5,-484 18.5,-484 18.5,-478 24.5,-472 30.5,-472 30.5,-472 77.5,-472 77.5,-472 83.5,-472 89.5,-478 89.5,-484 89.5,-484 89.5,-496 89.5,-496 89.5,-502 83.5,-508 77.5,-508\" fill=\"none\" stroke=\"black\"/>\n",
       "<text font-family=\"Times,serif\" font-size=\"14.00\" text-anchor=\"middle\" x=\"54\" y=\"-486.3\">{$3, $10}</text>\n",
       "</g>\n",
       "<!-- 5 -->\n",
       "<g class=\"node\" id=\"node7\">\n",
       "<title>5</title>\n",
       "<path d=\"M195,-421C195,-421 57,-421 57,-421 51,-421 45,-415 45,-409 45,-409 45,-397 45,-397 45,-391 51,-385 57,-385 57,-385 195,-385 195,-385 201,-385 207,-391 207,-397 207,-397 207,-409 207,-409 207,-415 201,-421 195,-421\" fill=\"none\" stroke=\"black\"/>\n",
       "<text font-family=\"Times,serif\" font-size=\"14.00\" text-anchor=\"middle\" x=\"126\" y=\"-399.3\">{$1, $4, $5, $7, $11, $12}</text>\n",
       "</g>\n",
       "<!-- 2&#45;&gt;5 -->\n",
       "<g class=\"edge\" id=\"edge2\">\n",
       "<title>2-&gt;5</title>\n",
       "<path d=\"M68.57,-471.8C79.01,-459.47 93.24,-442.68 104.92,-428.89\" fill=\"none\" stroke=\"black\"/>\n",
       "<polygon fill=\"black\" points=\"107.66,-431.07 111.45,-421.18 102.32,-426.54 107.66,-431.07\" stroke=\"black\"/>\n",
       "<text font-family=\"Times,serif\" font-size=\"14.00\" text-anchor=\"middle\" x=\"98.5\" y=\"-442.8\">c</text>\n",
       "</g>\n",
       "<!-- 3 -->\n",
       "<g class=\"node\" id=\"node5\">\n",
       "<title>3</title>\n",
       "<path d=\"M149.5,-247C149.5,-247 102.5,-247 102.5,-247 96.5,-247 90.5,-241 90.5,-235 90.5,-235 90.5,-223 90.5,-223 90.5,-217 96.5,-211 102.5,-211 102.5,-211 149.5,-211 149.5,-211 155.5,-211 161.5,-217 161.5,-223 161.5,-223 161.5,-235 161.5,-235 161.5,-241 155.5,-247 149.5,-247\" fill=\"none\" stroke=\"black\"/>\n",
       "<text font-family=\"Times,serif\" font-size=\"14.00\" text-anchor=\"middle\" x=\"126\" y=\"-225.3\">{$8, $15}</text>\n",
       "</g>\n",
       "<!-- 4 -->\n",
       "<g class=\"node\" id=\"node6\">\n",
       "<title>4</title>\n",
       "<path d=\"M150.5,-334C150.5,-334 103.5,-334 103.5,-334 97.5,-334 91.5,-328 91.5,-322 91.5,-322 91.5,-310 91.5,-310 91.5,-304 97.5,-298 103.5,-298 103.5,-298 150.5,-298 150.5,-298 156.5,-298 162.5,-304 162.5,-310 162.5,-310 162.5,-322 162.5,-322 162.5,-328 156.5,-334 150.5,-334\" fill=\"none\" stroke=\"black\"/>\n",
       "<text font-family=\"Times,serif\" font-size=\"14.00\" text-anchor=\"middle\" x=\"127\" y=\"-312.3\">{$6, $13}</text>\n",
       "</g>\n",
       "<!-- 3&#45;&gt;4 -->\n",
       "<g class=\"edge\" id=\"edge3\">\n",
       "<title>3-&gt;4</title>\n",
       "<path d=\"M126.2,-247.18C126.34,-258.81 126.52,-274.42 126.68,-287.73\" fill=\"none\" stroke=\"black\"/>\n",
       "<polygon fill=\"black\" points=\"123.18,-287.84 126.8,-297.8 130.18,-287.76 123.18,-287.84\" stroke=\"black\"/>\n",
       "<text font-family=\"Times,serif\" font-size=\"14.00\" text-anchor=\"middle\" x=\"130.5\" y=\"-268.8\">a</text>\n",
       "</g>\n",
       "<!-- 8 -->\n",
       "<g class=\"node\" id=\"node10\">\n",
       "<title>8</title>\n",
       "<path d=\"M141,-160C141,-160 111,-160 111,-160 105,-160 99,-154 99,-148 99,-148 99,-136 99,-136 99,-130 105,-124 111,-124 111,-124 141,-124 141,-124 147,-124 153,-130 153,-136 153,-136 153,-148 153,-148 153,-154 147,-160 141,-160\" fill=\"none\" stroke=\"black\"/>\n",
       "<text font-family=\"Times,serif\" font-size=\"14.00\" text-anchor=\"middle\" x=\"126\" y=\"-138.3\">{$9}</text>\n",
       "</g>\n",
       "<!-- 3&#45;&gt;8 -->\n",
       "<g class=\"edge\" id=\"edge4\">\n",
       "<title>3-&gt;8</title>\n",
       "<path d=\"M126,-210.8C126,-199.16 126,-183.55 126,-170.24\" fill=\"none\" stroke=\"black\"/>\n",
       "<polygon fill=\"black\" points=\"129.5,-170.18 126,-160.18 122.5,-170.18 129.5,-170.18\" stroke=\"black\"/>\n",
       "<text font-family=\"Times,serif\" font-size=\"14.00\" text-anchor=\"middle\" x=\"129.5\" y=\"-181.8\">a</text>\n",
       "</g>\n",
       "<!-- 4&#45;&gt;3 -->\n",
       "<g class=\"edge\" id=\"edge5\">\n",
       "<title>4-&gt;3</title>\n",
       "<path d=\"M120.45,-297.8C118.63,-292.21 116.91,-285.92 116,-280 114.85,-272.51 115.59,-264.43 117.08,-257\" fill=\"none\" stroke=\"black\"/>\n",
       "<polygon fill=\"black\" points=\"120.54,-257.61 119.57,-247.06 113.75,-255.91 120.54,-257.61\" stroke=\"black\"/>\n",
       "<text font-family=\"Times,serif\" font-size=\"14.00\" text-anchor=\"middle\" x=\"119.5\" y=\"-268.8\">b</text>\n",
       "</g>\n",
       "<!-- 5&#45;&gt;4 -->\n",
       "<g class=\"edge\" id=\"edge6\">\n",
       "<title>5-&gt;4</title>\n",
       "<path d=\"M126.2,-384.8C126.34,-373.16 126.52,-357.55 126.68,-344.24\" fill=\"none\" stroke=\"black\"/>\n",
       "<polygon fill=\"black\" points=\"130.18,-344.22 126.8,-334.18 123.18,-344.13 130.18,-344.22\" stroke=\"black\"/>\n",
       "<text font-family=\"Times,serif\" font-size=\"14.00\" text-anchor=\"middle\" x=\"130.5\" y=\"-355.8\">a</text>\n",
       "</g>\n",
       "<!-- 5&#45;&gt;5 -->\n",
       "<g class=\"edge\" id=\"edge7\">\n",
       "<title>5-&gt;5</title>\n",
       "<path d=\"M207.18,-409.94C217.89,-408.76 225,-406.45 225,-403 225,-400.79 222.08,-399.05 217.17,-397.77\" fill=\"none\" stroke=\"black\"/>\n",
       "<polygon fill=\"black\" points=\"217.63,-394.3 207.18,-396.06 216.44,-401.2 217.63,-394.3\" stroke=\"black\"/>\n",
       "<text font-family=\"Times,serif\" font-size=\"14.00\" text-anchor=\"middle\" x=\"228.5\" y=\"-399.3\">c</text>\n",
       "</g>\n",
       "<!-- 5&#45;&gt;8 -->\n",
       "<g class=\"edge\" id=\"edge8\">\n",
       "<title>5-&gt;8</title>\n",
       "<path d=\"M141.6,-384.73C152.18,-371.8 165.25,-353.11 171,-334 176.14,-316.91 180.91,-247.17 170,-211 165.36,-195.62 156.1,-180.42 147.26,-168.31\" fill=\"none\" stroke=\"black\"/>\n",
       "<polygon fill=\"black\" points=\"149.83,-165.9 140.98,-160.07 144.26,-170.14 149.83,-165.9\" stroke=\"black\"/>\n",
       "<text font-family=\"Times,serif\" font-size=\"14.00\" text-anchor=\"middle\" x=\"180.5\" y=\"-268.8\">a</text>\n",
       "</g>\n",
       "<!-- 6&#45;&gt;F6 -->\n",
       "<g class=\"edge\" id=\"edge9\">\n",
       "<title>6-&gt;F6</title>\n",
       "<path d=\"M42.06,-558.97C32.7,-545.39 19.55,-525.77 9,-508 7.53,-505.52 6.03,-502.79 4.68,-500.24\" fill=\"none\" stroke=\"DimGray\"/>\n",
       "<polygon fill=\"DimGray\" points=\"7.7,-498.45 0.05,-491.11 1.45,-501.61 7.7,-498.45\" stroke=\"DimGray\"/>\n",
       "</g>\n",
       "<!-- 6&#45;&gt;2 -->\n",
       "<g class=\"edge\" id=\"edge10\">\n",
       "<title>6-&gt;2</title>\n",
       "<path d=\"M54,-558.8C54,-547.16 54,-531.55 54,-518.24\" fill=\"none\" stroke=\"black\"/>\n",
       "<polygon fill=\"black\" points=\"57.5,-518.18 54,-508.18 50.5,-518.18 57.5,-518.18\" stroke=\"black\"/>\n",
       "<text font-family=\"Times,serif\" font-size=\"14.00\" text-anchor=\"middle\" x=\"57.5\" y=\"-529.8\">b</text>\n",
       "</g>\n",
       "<!-- 6&#45;&gt;5 -->\n",
       "<g class=\"edge\" id=\"edge11\">\n",
       "<title>6-&gt;5</title>\n",
       "<path d=\"M67.17,-558.96C76.88,-545.7 89.77,-526.5 98,-508 109.12,-483.01 116.67,-452.62 121.11,-431.16\" fill=\"none\" stroke=\"black\"/>\n",
       "<polygon fill=\"black\" points=\"124.59,-431.61 123.09,-421.12 117.72,-430.25 124.59,-431.61\" stroke=\"black\"/>\n",
       "<text font-family=\"Times,serif\" font-size=\"14.00\" text-anchor=\"middle\" x=\"114.5\" y=\"-486.3\">a</text>\n",
       "</g>\n",
       "<!-- 7 -->\n",
       "<g class=\"node\" id=\"node9\">\n",
       "<title>7</title>\n",
       "<path d=\"M90,-73C90,-73 36,-73 36,-73 30,-73 24,-67 24,-61 24,-61 24,-49 24,-49 24,-43 30,-37 36,-37 36,-37 90,-37 90,-37 96,-37 102,-43 102,-49 102,-49 102,-61 102,-61 102,-67 96,-73 90,-73\" fill=\"none\" stroke=\"black\"/>\n",
       "<text font-family=\"Times,serif\" font-size=\"14.00\" text-anchor=\"middle\" x=\"63\" y=\"-51.3\">{$16, $17}</text>\n",
       "</g>\n",
       "<!-- 7&#45;&gt;F7 -->\n",
       "<g class=\"edge\" id=\"edge12\">\n",
       "<title>7-&gt;F7</title>\n",
       "<path d=\"M63,-36.94C63,-28.5 63,-18.58 63,-11.31\" fill=\"none\" stroke=\"DimGray\"/>\n",
       "<polygon fill=\"DimGray\" points=\"66.5,-11.06 63,-1.06 59.5,-11.06 66.5,-11.06\" stroke=\"DimGray\"/>\n",
       "</g>\n",
       "<!-- 7&#45;&gt;2 -->\n",
       "<g class=\"edge\" id=\"edge13\">\n",
       "<title>7-&gt;2</title>\n",
       "<path d=\"M47.17,-73.11C33.86,-89.32 17,-114.99 17,-141 17,-404 17,-404 17,-404 17,-424.99 26.6,-446.65 36.02,-462.85\" fill=\"none\" stroke=\"black\"/>\n",
       "<polygon fill=\"black\" points=\"33.25,-465.03 41.47,-471.72 39.22,-461.36 33.25,-465.03\" stroke=\"black\"/>\n",
       "<text font-family=\"Times,serif\" font-size=\"14.00\" text-anchor=\"middle\" x=\"20.5\" y=\"-268.8\">b</text>\n",
       "</g>\n",
       "<!-- 7&#45;&gt;5 -->\n",
       "<g class=\"edge\" id=\"edge14\">\n",
       "<title>7-&gt;5</title>\n",
       "<path d=\"M63,-73.26C63,-90.43 63,-117.54 63,-141 63,-317 63,-317 63,-317 63,-340.84 79.19,-362.35 95.15,-377.77\" fill=\"none\" stroke=\"black\"/>\n",
       "<polygon fill=\"black\" points=\"93.15,-380.68 102.9,-384.83 97.87,-375.51 93.15,-380.68\" stroke=\"black\"/>\n",
       "<text font-family=\"Times,serif\" font-size=\"14.00\" text-anchor=\"middle\" x=\"66.5\" y=\"-225.3\">a</text>\n",
       "</g>\n",
       "<!-- 7&#45;&gt;7 -->\n",
       "<g class=\"edge\" id=\"edge15\">\n",
       "<title>7-&gt;7</title>\n",
       "<path d=\"M102.16,-61.68C112.33,-61.27 120,-59.04 120,-55 120,-52.47 117,-50.66 112.28,-49.55\" fill=\"none\" stroke=\"black\"/>\n",
       "<polygon fill=\"black\" points=\"112.51,-46.05 102.16,-48.32 111.67,-53 112.51,-46.05\" stroke=\"black\"/>\n",
       "<text font-family=\"Times,serif\" font-size=\"14.00\" text-anchor=\"middle\" x=\"123.5\" y=\"-51.3\">c</text>\n",
       "</g>\n",
       "<!-- 8&#45;&gt;7 -->\n",
       "<g class=\"edge\" id=\"edge16\">\n",
       "<title>8-&gt;7</title>\n",
       "<path d=\"M113.25,-123.8C104.2,-111.59 91.9,-94.99 81.74,-81.28\" fill=\"none\" stroke=\"black\"/>\n",
       "<polygon fill=\"black\" points=\"84.5,-79.13 75.73,-73.18 78.87,-83.29 84.5,-79.13\" stroke=\"black\"/>\n",
       "<text font-family=\"Times,serif\" font-size=\"14.00\" text-anchor=\"middle\" x=\"102.5\" y=\"-94.8\">b</text>\n",
       "</g>\n",
       "</g>\n",
       "</svg>"
      ],
      "text/plain": [
       "<IPython.core.display.SVG object>"
      ]
     },
     "metadata": {},
     "output_type": "display_data"
    }
   ],
   "source": [
    "A.display(horizontal=False,history=True)"
   ]
  },
  {
   "cell_type": "markdown",
   "metadata": {},
   "source": [
    "---\n",
    "For convenience, one may give an expression to the constructor of an automaton."
   ]
  },
  {
   "cell_type": "code",
   "execution_count": 17,
   "metadata": {},
   "outputs": [
    {
     "data": {
      "image/svg+xml": [
       "<svg height=\"112pt\" viewBox=\"0.00 0.00 330.00 112.00\" width=\"330pt\" xmlns=\"http://www.w3.org/2000/svg\" xmlns:xlink=\"http://www.w3.org/1999/xlink\">\n",
       "<g class=\"graph\" id=\"graph0\" transform=\"scale(1 1) rotate(0) translate(4 108)\">\n",
       "<title>%3</title>\n",
       "<polygon fill=\"white\" points=\"-4,4 -4,-108 326,-108 326,4 -4,4\" stroke=\"transparent\"/>\n",
       "<!-- I2 -->\n",
       "<g class=\"node\" id=\"node1\">\n",
       "<title>I2</title>\n",
       "<ellipse cx=\"0\" cy=\"-53\" fill=\"black\" rx=\"0\" ry=\"0\" stroke=\"black\"/>\n",
       "</g>\n",
       "<!-- 2 -->\n",
       "<g class=\"node\" id=\"node4\">\n",
       "<title>2</title>\n",
       "<path d=\"M79,-71C79,-71 49,-71 49,-71 43,-71 37,-65 37,-59 37,-59 37,-47 37,-47 37,-41 43,-35 49,-35 49,-35 79,-35 79,-35 85,-35 91,-41 91,-47 91,-47 91,-59 91,-59 91,-65 85,-71 79,-71\" fill=\"none\" stroke=\"black\"/>\n",
       "<text font-family=\"Times,serif\" font-size=\"14.00\" text-anchor=\"middle\" x=\"64\" y=\"-49.3\">$0</text>\n",
       "</g>\n",
       "<!-- I2&#45;&gt;2 -->\n",
       "<g class=\"edge\" id=\"edge1\">\n",
       "<title>I2-&gt;2</title>\n",
       "<path d=\"M1.04,-53C1.86,-53 13.73,-53 26.87,-53\" fill=\"none\" stroke=\"DimGray\"/>\n",
       "<polygon fill=\"DimGray\" points=\"27,-56.5 37,-53 27,-49.5 27,-56.5\" stroke=\"DimGray\"/>\n",
       "</g>\n",
       "<!-- F3 -->\n",
       "<g class=\"node\" id=\"node2\">\n",
       "<title>F3</title>\n",
       "<ellipse cx=\"322\" cy=\"-18\" fill=\"black\" rx=\"0\" ry=\"0\" stroke=\"black\"/>\n",
       "</g>\n",
       "<!-- F4 -->\n",
       "<g class=\"node\" id=\"node3\">\n",
       "<title>F4</title>\n",
       "<ellipse cx=\"258\" cy=\"-87\" fill=\"black\" rx=\"0\" ry=\"0\" stroke=\"black\"/>\n",
       "</g>\n",
       "<!-- 4 -->\n",
       "<g class=\"node\" id=\"node6\">\n",
       "<title>4</title>\n",
       "<path d=\"M176,-71C176,-71 146,-71 146,-71 140,-71 134,-65 134,-59 134,-59 134,-47 134,-47 134,-41 140,-35 146,-35 146,-35 176,-35 176,-35 182,-35 188,-41 188,-47 188,-47 188,-59 188,-59 188,-65 182,-71 176,-71\" fill=\"none\" stroke=\"black\"/>\n",
       "<text font-family=\"Times,serif\" font-size=\"14.00\" text-anchor=\"middle\" x=\"161\" y=\"-49.3\">$1</text>\n",
       "</g>\n",
       "<!-- 2&#45;&gt;4 -->\n",
       "<g class=\"edge\" id=\"edge2\">\n",
       "<title>2-&gt;4</title>\n",
       "<path d=\"M91.21,-53C101.28,-53 112.96,-53 123.81,-53\" fill=\"none\" stroke=\"black\"/>\n",
       "<polygon fill=\"black\" points=\"123.87,-56.5 133.87,-53 123.87,-49.5 123.87,-56.5\" stroke=\"black\"/>\n",
       "<text font-family=\"Times,serif\" font-size=\"14.00\" text-anchor=\"middle\" x=\"112.5\" y=\"-56.8\">0</text>\n",
       "</g>\n",
       "<!-- 3 -->\n",
       "<g class=\"node\" id=\"node5\">\n",
       "<title>3</title>\n",
       "<path d=\"M273,-36C273,-36 243,-36 243,-36 237,-36 231,-30 231,-24 231,-24 231,-12 231,-12 231,-6 237,0 243,0 243,0 273,0 273,0 279,0 285,-6 285,-12 285,-12 285,-24 285,-24 285,-30 279,-36 273,-36\" fill=\"none\" stroke=\"black\"/>\n",
       "<text font-family=\"Times,serif\" font-size=\"14.00\" text-anchor=\"middle\" x=\"258\" y=\"-14.3\">$4</text>\n",
       "</g>\n",
       "<!-- 3&#45;&gt;F3 -->\n",
       "<g class=\"edge\" id=\"edge3\">\n",
       "<title>3-&gt;F3</title>\n",
       "<path d=\"M285.29,-18C294.25,-18 303.73,-18 310.68,-18\" fill=\"none\" stroke=\"DimGray\"/>\n",
       "<polygon fill=\"DimGray\" points=\"310.95,-21.5 320.95,-18 310.95,-14.5 310.95,-21.5\" stroke=\"DimGray\"/>\n",
       "</g>\n",
       "<!-- 3&#45;&gt;3 -->\n",
       "<g class=\"edge\" id=\"edge4\">\n",
       "<title>3-&gt;3</title>\n",
       "<path d=\"M250.04,-36.15C248.82,-45.54 251.47,-54 258,-54 261.98,-54 264.52,-50.86 265.62,-46.28\" fill=\"none\" stroke=\"black\"/>\n",
       "<polygon fill=\"black\" points=\"269.12,-46.26 265.96,-36.15 262.13,-46.03 269.12,-46.26\" stroke=\"black\"/>\n",
       "<text font-family=\"Times,serif\" font-size=\"14.00\" text-anchor=\"middle\" x=\"258\" y=\"-57.8\">0</text>\n",
       "</g>\n",
       "<!-- 4&#45;&gt;F4 -->\n",
       "<g class=\"edge\" id=\"edge5\">\n",
       "<title>4-&gt;F4</title>\n",
       "<path d=\"M188.18,-62.59C201.06,-67.28 216.83,-72.98 231,-78 236.4,-79.91 242.45,-82.01 247.36,-83.7\" fill=\"none\" stroke=\"DimGray\"/>\n",
       "<polygon fill=\"DimGray\" points=\"246.24,-87.02 256.83,-86.94 248.51,-80.39 246.24,-87.02\" stroke=\"DimGray\"/>\n",
       "</g>\n",
       "<!-- 4&#45;&gt;3 -->\n",
       "<g class=\"edge\" id=\"edge6\">\n",
       "<title>4-&gt;3</title>\n",
       "<path d=\"M188.21,-43.34C198.49,-39.56 210.45,-35.15 221.48,-31.09\" fill=\"none\" stroke=\"black\"/>\n",
       "<polygon fill=\"black\" points=\"222.7,-34.37 230.87,-27.63 220.28,-27.8 222.7,-34.37\" stroke=\"black\"/>\n",
       "<text font-family=\"Times,serif\" font-size=\"14.00\" text-anchor=\"middle\" x=\"209.5\" y=\"-39.8\">0</text>\n",
       "</g>\n",
       "<!-- 4&#45;&gt;4 -->\n",
       "<g class=\"edge\" id=\"edge7\">\n",
       "<title>4-&gt;4</title>\n",
       "<path d=\"M152.32,-71.15C150.98,-80.54 153.88,-89 161,-89 165.34,-89 168.11,-85.86 169.31,-81.28\" fill=\"none\" stroke=\"black\"/>\n",
       "<polygon fill=\"black\" points=\"172.82,-81.27 169.68,-71.15 165.82,-81.02 172.82,-81.27\" stroke=\"black\"/>\n",
       "<text font-family=\"Times,serif\" font-size=\"14.00\" text-anchor=\"middle\" x=\"161\" y=\"-92.8\">1</text>\n",
       "</g>\n",
       "</g>\n",
       "</svg>"
      ],
      "text/plain": [
       "<IPython.core.display.SVG object>"
      ]
     },
     "metadata": {},
     "output_type": "display_data"
    }
   ],
   "source": [
    "A = awalipy.Automaton(awalipy.RatExp(\"01*0*\"))\n",
    "A.display()"
   ]
  },
  {
   "cell_type": "markdown",
   "metadata": {},
   "source": [
    "---\n",
    "Awali implements multiple algorithms for transforming expressions to automata, such as *thompson* or *standard*"
   ]
  },
  {
   "cell_type": "code",
   "execution_count": 18,
   "metadata": {},
   "outputs": [
    {
     "data": {
      "image/svg+xml": [
       "<svg height=\"83pt\" viewBox=\"0.00 0.00 633.00 83.00\" width=\"633pt\" xmlns=\"http://www.w3.org/2000/svg\" xmlns:xlink=\"http://www.w3.org/1999/xlink\">\n",
       "<g class=\"graph\" id=\"graph0\" transform=\"scale(1 1) rotate(0) translate(4 79)\">\n",
       "<title>%3</title>\n",
       "<polygon fill=\"white\" points=\"-4,4 -4,-79 629,-79 629,4 -4,4\" stroke=\"transparent\"/>\n",
       "<!-- I4 -->\n",
       "<g class=\"node\" id=\"node1\">\n",
       "<title>I4</title>\n",
       "<ellipse cx=\"0\" cy=\"-18\" fill=\"black\" rx=\"0\" ry=\"0\" stroke=\"black\"/>\n",
       "</g>\n",
       "<!-- 4 -->\n",
       "<g class=\"node\" id=\"node5\">\n",
       "<title>4</title>\n",
       "<path d=\"M79,-36C79,-36 49,-36 49,-36 43,-36 37,-30 37,-24 37,-24 37,-12 37,-12 37,-6 43,0 49,0 49,0 79,0 79,0 85,0 91,-6 91,-12 91,-12 91,-24 91,-24 91,-30 85,-36 79,-36\" fill=\"none\" stroke=\"black\"/>\n",
       "<text font-family=\"Times,serif\" font-size=\"14.00\" text-anchor=\"middle\" x=\"64\" y=\"-14.3\">s1</text>\n",
       "</g>\n",
       "<!-- I4&#45;&gt;4 -->\n",
       "<g class=\"edge\" id=\"edge1\">\n",
       "<title>I4-&gt;4</title>\n",
       "<path d=\"M1.04,-18C1.86,-18 13.73,-18 26.87,-18\" fill=\"none\" stroke=\"DimGray\"/>\n",
       "<polygon fill=\"DimGray\" points=\"27,-21.5 37,-18 27,-14.5 27,-21.5\" stroke=\"DimGray\"/>\n",
       "</g>\n",
       "<!-- F7 -->\n",
       "<g class=\"node\" id=\"node2\">\n",
       "<title>F7</title>\n",
       "<ellipse cx=\"625\" cy=\"-18\" fill=\"black\" rx=\"0\" ry=\"0\" stroke=\"black\"/>\n",
       "</g>\n",
       "<!-- 2 -->\n",
       "<g class=\"node\" id=\"node3\">\n",
       "<title>2</title>\n",
       "<path d=\"M179,-66C179,-66 149,-66 149,-66 143,-66 137,-60 137,-54 137,-54 137,-42 137,-42 137,-36 143,-30 149,-30 149,-30 179,-30 179,-30 185,-30 191,-36 191,-42 191,-42 191,-54 191,-54 191,-60 185,-66 179,-66\" fill=\"none\" stroke=\"black\"/>\n",
       "<text font-family=\"Times,serif\" font-size=\"14.00\" text-anchor=\"middle\" x=\"164\" y=\"-44.3\">s0</text>\n",
       "</g>\n",
       "<!-- 3 -->\n",
       "<g class=\"node\" id=\"node4\">\n",
       "<title>3</title>\n",
       "<path d=\"M279,-66C279,-66 249,-66 249,-66 243,-66 237,-60 237,-54 237,-54 237,-42 237,-42 237,-36 243,-30 249,-30 249,-30 279,-30 279,-30 285,-30 291,-36 291,-42 291,-42 291,-54 291,-54 291,-60 285,-66 279,-66\" fill=\"none\" stroke=\"black\"/>\n",
       "<text font-family=\"Times,serif\" font-size=\"14.00\" text-anchor=\"middle\" x=\"264\" y=\"-44.3\">t0</text>\n",
       "</g>\n",
       "<!-- 2&#45;&gt;3 -->\n",
       "<g class=\"edge\" id=\"edge2\">\n",
       "<title>2-&gt;3</title>\n",
       "<path d=\"M191.29,-56.39C197.07,-57.89 203.19,-59.22 209,-60 214.85,-60.78 221.01,-60.5 226.99,-59.61\" fill=\"none\" stroke=\"black\"/>\n",
       "<polygon fill=\"black\" points=\"227.68,-63.04 236.79,-57.64 226.3,-56.18 227.68,-63.04\" stroke=\"black\"/>\n",
       "<text font-family=\"Times,serif\" font-size=\"14.00\" text-anchor=\"middle\" x=\"214\" y=\"-63.8\">1</text>\n",
       "</g>\n",
       "<!-- 3&#45;&gt;2 -->\n",
       "<g class=\"edge\" id=\"edge3\">\n",
       "<title>3-&gt;2</title>\n",
       "<path d=\"M236.96,-42.42C228.11,-41.11 218.14,-40.28 209,-41 206.59,-41.19 204.12,-41.44 201.63,-41.73\" fill=\"none\" stroke=\"black\"/>\n",
       "<polygon fill=\"black\" points=\"200.89,-38.3 191.44,-43.1 201.82,-45.23 200.89,-38.3\" stroke=\"black\"/>\n",
       "<text font-family=\"Times,serif\" font-size=\"14.00\" text-anchor=\"middle\" x=\"214\" y=\"-44.8\">\\e</text>\n",
       "</g>\n",
       "<!-- 5 -->\n",
       "<g class=\"node\" id=\"node6\">\n",
       "<title>5</title>\n",
       "<path d=\"M379,-36C379,-36 349,-36 349,-36 343,-36 337,-30 337,-24 337,-24 337,-12 337,-12 337,-6 343,0 349,0 349,0 379,0 379,0 385,0 391,-6 391,-12 391,-12 391,-24 391,-24 391,-30 385,-36 379,-36\" fill=\"none\" stroke=\"black\"/>\n",
       "<text font-family=\"Times,serif\" font-size=\"14.00\" text-anchor=\"middle\" x=\"364\" y=\"-14.3\">t1</text>\n",
       "</g>\n",
       "<!-- 3&#45;&gt;5 -->\n",
       "<g class=\"edge\" id=\"edge4\">\n",
       "<title>3-&gt;5</title>\n",
       "<path d=\"M291,-40.04C302.08,-36.65 315.18,-32.64 327.15,-28.97\" fill=\"none\" stroke=\"black\"/>\n",
       "<polygon fill=\"black\" points=\"328.34,-32.27 336.87,-26 326.29,-25.58 328.34,-32.27\" stroke=\"black\"/>\n",
       "<text font-family=\"Times,serif\" font-size=\"14.00\" text-anchor=\"middle\" x=\"314\" y=\"-36.8\">\\e</text>\n",
       "</g>\n",
       "<!-- 4&#45;&gt;2 -->\n",
       "<g class=\"edge\" id=\"edge5\">\n",
       "<title>4-&gt;2</title>\n",
       "<path d=\"M91,-25.96C102.08,-29.35 115.18,-33.36 127.15,-37.03\" fill=\"none\" stroke=\"black\"/>\n",
       "<polygon fill=\"black\" points=\"126.29,-40.42 136.87,-40 128.34,-33.73 126.29,-40.42\" stroke=\"black\"/>\n",
       "<text font-family=\"Times,serif\" font-size=\"14.00\" text-anchor=\"middle\" x=\"114\" y=\"-36.8\">\\e</text>\n",
       "</g>\n",
       "<!-- 4&#45;&gt;5 -->\n",
       "<g class=\"edge\" id=\"edge6\">\n",
       "<title>4-&gt;5</title>\n",
       "<path d=\"M91.18,-18C144.51,-18 265.8,-18 326.69,-18\" fill=\"none\" stroke=\"black\"/>\n",
       "<polygon fill=\"black\" points=\"326.98,-21.5 336.98,-18 326.98,-14.5 326.98,-21.5\" stroke=\"black\"/>\n",
       "<text font-family=\"Times,serif\" font-size=\"14.00\" text-anchor=\"middle\" x=\"214\" y=\"-21.8\">\\e</text>\n",
       "</g>\n",
       "<!-- 6 -->\n",
       "<g class=\"node\" id=\"node7\">\n",
       "<title>6</title>\n",
       "<path d=\"M479,-36C479,-36 449,-36 449,-36 443,-36 437,-30 437,-24 437,-24 437,-12 437,-12 437,-6 443,0 449,0 449,0 479,0 479,0 485,0 491,-6 491,-12 491,-12 491,-24 491,-24 491,-30 485,-36 479,-36\" fill=\"none\" stroke=\"black\"/>\n",
       "<text font-family=\"Times,serif\" font-size=\"14.00\" text-anchor=\"middle\" x=\"464\" y=\"-14.3\">s2</text>\n",
       "</g>\n",
       "<!-- 5&#45;&gt;6 -->\n",
       "<g class=\"edge\" id=\"edge7\">\n",
       "<title>5-&gt;6</title>\n",
       "<path d=\"M391,-18C401.97,-18 414.92,-18 426.79,-18\" fill=\"none\" stroke=\"black\"/>\n",
       "<polygon fill=\"black\" points=\"426.87,-21.5 436.87,-18 426.87,-14.5 426.87,-21.5\" stroke=\"black\"/>\n",
       "<text font-family=\"Times,serif\" font-size=\"14.00\" text-anchor=\"middle\" x=\"414\" y=\"-21.8\">\\e</text>\n",
       "</g>\n",
       "<!-- 7 -->\n",
       "<g class=\"node\" id=\"node8\">\n",
       "<title>7</title>\n",
       "<path d=\"M576,-36C576,-36 546,-36 546,-36 540,-36 534,-30 534,-24 534,-24 534,-12 534,-12 534,-6 540,0 546,0 546,0 576,0 576,0 582,0 588,-6 588,-12 588,-12 588,-24 588,-24 588,-30 582,-36 576,-36\" fill=\"none\" stroke=\"black\"/>\n",
       "<text font-family=\"Times,serif\" font-size=\"14.00\" text-anchor=\"middle\" x=\"561\" y=\"-14.3\">t2</text>\n",
       "</g>\n",
       "<!-- 6&#45;&gt;7 -->\n",
       "<g class=\"edge\" id=\"edge8\">\n",
       "<title>6-&gt;7</title>\n",
       "<path d=\"M491.21,-18C501.28,-18 512.96,-18 523.81,-18\" fill=\"none\" stroke=\"black\"/>\n",
       "<polygon fill=\"black\" points=\"523.87,-21.5 533.87,-18 523.87,-14.5 523.87,-21.5\" stroke=\"black\"/>\n",
       "<text font-family=\"Times,serif\" font-size=\"14.00\" text-anchor=\"middle\" x=\"512.5\" y=\"-21.8\">0</text>\n",
       "</g>\n",
       "<!-- 7&#45;&gt;F7 -->\n",
       "<g class=\"edge\" id=\"edge9\">\n",
       "<title>7-&gt;F7</title>\n",
       "<path d=\"M588.29,-18C597.25,-18 606.73,-18 613.68,-18\" fill=\"none\" stroke=\"DimGray\"/>\n",
       "<polygon fill=\"DimGray\" points=\"613.95,-21.5 623.95,-18 613.95,-14.5 613.95,-21.5\" stroke=\"DimGray\"/>\n",
       "</g>\n",
       "</g>\n",
       "</svg>"
      ],
      "text/plain": [
       "<IPython.core.display.SVG object>"
      ]
     },
     "metadata": {},
     "output_type": "display_data"
    }
   ],
   "source": [
    "g = awalipy.RatExp(\"1*0\")\n",
    "g.exp_to_aut(\"thompson\").display()"
   ]
  },
  {
   "cell_type": "code",
   "execution_count": 19,
   "metadata": {},
   "outputs": [
    {
     "data": {
      "image/svg+xml": [
       "<svg height=\"112pt\" viewBox=\"0.00 0.00 330.00 112.00\" width=\"330pt\" xmlns=\"http://www.w3.org/2000/svg\" xmlns:xlink=\"http://www.w3.org/1999/xlink\">\n",
       "<g class=\"graph\" id=\"graph0\" transform=\"scale(1 1) rotate(0) translate(4 108)\">\n",
       "<title>%3</title>\n",
       "<polygon fill=\"white\" points=\"-4,4 -4,-108 326,-108 326,4 -4,4\" stroke=\"transparent\"/>\n",
       "<!-- I2 -->\n",
       "<g class=\"node\" id=\"node1\">\n",
       "<title>I2</title>\n",
       "<ellipse cx=\"0\" cy=\"-18\" fill=\"black\" rx=\"0\" ry=\"0\" stroke=\"black\"/>\n",
       "</g>\n",
       "<!-- 2 -->\n",
       "<g class=\"node\" id=\"node3\">\n",
       "<title>2</title>\n",
       "<path d=\"M79,-36C79,-36 49,-36 49,-36 43,-36 37,-30 37,-24 37,-24 37,-12 37,-12 37,-6 43,0 49,0 49,0 79,0 79,0 85,0 91,-6 91,-12 91,-12 91,-24 91,-24 91,-30 85,-36 79,-36\" fill=\"none\" stroke=\"black\"/>\n",
       "<text font-family=\"Times,serif\" font-size=\"14.00\" text-anchor=\"middle\" x=\"64\" y=\"-14.3\">$0</text>\n",
       "</g>\n",
       "<!-- I2&#45;&gt;2 -->\n",
       "<g class=\"edge\" id=\"edge1\">\n",
       "<title>I2-&gt;2</title>\n",
       "<path d=\"M1.04,-18C1.86,-18 13.73,-18 26.87,-18\" fill=\"none\" stroke=\"DimGray\"/>\n",
       "<polygon fill=\"DimGray\" points=\"27,-21.5 37,-18 27,-14.5 27,-21.5\" stroke=\"DimGray\"/>\n",
       "</g>\n",
       "<!-- F5 -->\n",
       "<g class=\"node\" id=\"node2\">\n",
       "<title>F5</title>\n",
       "<ellipse cx=\"322\" cy=\"-18\" fill=\"black\" rx=\"0\" ry=\"0\" stroke=\"black\"/>\n",
       "</g>\n",
       "<!-- 3 -->\n",
       "<g class=\"node\" id=\"node4\">\n",
       "<title>3</title>\n",
       "<path d=\"M176,-71C176,-71 146,-71 146,-71 140,-71 134,-65 134,-59 134,-59 134,-47 134,-47 134,-41 140,-35 146,-35 146,-35 176,-35 176,-35 182,-35 188,-41 188,-47 188,-47 188,-59 188,-59 188,-65 182,-71 176,-71\" fill=\"none\" stroke=\"black\"/>\n",
       "<text font-family=\"Times,serif\" font-size=\"14.00\" text-anchor=\"middle\" x=\"161\" y=\"-49.3\">$1</text>\n",
       "</g>\n",
       "<!-- 2&#45;&gt;3 -->\n",
       "<g class=\"edge\" id=\"edge2\">\n",
       "<title>2-&gt;3</title>\n",
       "<path d=\"M91.21,-27.66C101.49,-31.44 113.45,-35.85 124.48,-39.91\" fill=\"none\" stroke=\"black\"/>\n",
       "<polygon fill=\"black\" points=\"123.28,-43.2 133.87,-43.37 125.7,-36.63 123.28,-43.2\" stroke=\"black\"/>\n",
       "<text font-family=\"Times,serif\" font-size=\"14.00\" text-anchor=\"middle\" x=\"112.5\" y=\"-39.8\">1</text>\n",
       "</g>\n",
       "<!-- 5 -->\n",
       "<g class=\"node\" id=\"node5\">\n",
       "<title>5</title>\n",
       "<path d=\"M273,-36C273,-36 243,-36 243,-36 237,-36 231,-30 231,-24 231,-24 231,-12 231,-12 231,-6 237,0 243,0 243,0 273,0 273,0 279,0 285,-6 285,-12 285,-12 285,-24 285,-24 285,-30 279,-36 273,-36\" fill=\"none\" stroke=\"black\"/>\n",
       "<text font-family=\"Times,serif\" font-size=\"14.00\" text-anchor=\"middle\" x=\"258\" y=\"-14.3\">$3</text>\n",
       "</g>\n",
       "<!-- 2&#45;&gt;5 -->\n",
       "<g class=\"edge\" id=\"edge3\">\n",
       "<title>2-&gt;5</title>\n",
       "<path d=\"M91.16,-14.72C104.04,-13.26 119.81,-11.72 134,-11 157.97,-9.79 164.03,-9.79 188,-11 198.64,-11.54 210.17,-12.54 220.71,-13.62\" fill=\"none\" stroke=\"black\"/>\n",
       "<polygon fill=\"black\" points=\"220.52,-17.12 230.84,-14.72 221.27,-10.16 220.52,-17.12\" stroke=\"black\"/>\n",
       "<text font-family=\"Times,serif\" font-size=\"14.00\" text-anchor=\"middle\" x=\"161\" y=\"-14.8\">0</text>\n",
       "</g>\n",
       "<!-- 3&#45;&gt;3 -->\n",
       "<g class=\"edge\" id=\"edge4\">\n",
       "<title>3-&gt;3</title>\n",
       "<path d=\"M152.32,-71.15C150.98,-80.54 153.88,-89 161,-89 165.34,-89 168.11,-85.86 169.31,-81.28\" fill=\"none\" stroke=\"black\"/>\n",
       "<polygon fill=\"black\" points=\"172.82,-81.27 169.68,-71.15 165.82,-81.02 172.82,-81.27\" stroke=\"black\"/>\n",
       "<text font-family=\"Times,serif\" font-size=\"14.00\" text-anchor=\"middle\" x=\"161\" y=\"-92.8\">1</text>\n",
       "</g>\n",
       "<!-- 3&#45;&gt;5 -->\n",
       "<g class=\"edge\" id=\"edge5\">\n",
       "<title>3-&gt;5</title>\n",
       "<path d=\"M188.21,-43.34C198.49,-39.56 210.45,-35.15 221.48,-31.09\" fill=\"none\" stroke=\"black\"/>\n",
       "<polygon fill=\"black\" points=\"222.7,-34.37 230.87,-27.63 220.28,-27.8 222.7,-34.37\" stroke=\"black\"/>\n",
       "<text font-family=\"Times,serif\" font-size=\"14.00\" text-anchor=\"middle\" x=\"209.5\" y=\"-39.8\">0</text>\n",
       "</g>\n",
       "<!-- 5&#45;&gt;F5 -->\n",
       "<g class=\"edge\" id=\"edge6\">\n",
       "<title>5-&gt;F5</title>\n",
       "<path d=\"M285.29,-18C294.25,-18 303.73,-18 310.68,-18\" fill=\"none\" stroke=\"DimGray\"/>\n",
       "<polygon fill=\"DimGray\" points=\"310.95,-21.5 320.95,-18 310.95,-14.5 310.95,-21.5\" stroke=\"DimGray\"/>\n",
       "</g>\n",
       "</g>\n",
       "</svg>"
      ],
      "text/plain": [
       "<IPython.core.display.SVG object>"
      ]
     },
     "metadata": {},
     "output_type": "display_data"
    }
   ],
   "source": [
    "g.exp_to_aut(\"standard\").display()"
   ]
  },
  {
   "cell_type": "code",
   "execution_count": null,
   "metadata": {},
   "outputs": [],
   "source": []
  },
  {
   "cell_type": "markdown",
   "metadata": {},
   "source": [
    "## Weighted rational expression"
   ]
  },
  {
   "cell_type": "markdown",
   "metadata": {},
   "source": [
    "Weights must be put between \"<>\" and weights takes precedence over other operators:<br>\n",
    "\n",
    "- `<-1>a*` = `(<-1>a)*` != `<-1>(a*)`\n",
    "- `<-1>ab` = `(<-1>a)b` != `<-1>(ab)`\n",
    "- `<-1>a+b` = `(<-1>a)+b` != `<-1>(a+b)`\n",
    "\n",
    "\n",
    "The weighset must be given as a second argument at construction."
   ]
  },
  {
   "cell_type": "code",
   "execution_count": 20,
   "metadata": {},
   "outputs": [
    {
     "data": {
      "text/plain": [
       "a*+<-1>(b*)"
      ]
     },
     "execution_count": 20,
     "metadata": {},
     "output_type": "execute_result"
    }
   ],
   "source": [
    "h = awalipy.RatExp(\"(<1>a*+<-1>(b*))\",\"Z\")\n",
    "h"
   ]
  },
  {
   "cell_type": "code",
   "execution_count": 21,
   "metadata": {},
   "outputs": [
    {
     "data": {
      "image/svg+xml": [
       "<svg height=\"98pt\" viewBox=\"0.00 0.00 297.00 98.00\" width=\"297pt\" xmlns=\"http://www.w3.org/2000/svg\" xmlns:xlink=\"http://www.w3.org/1999/xlink\">\n",
       "<g class=\"graph\" id=\"graph0\" transform=\"scale(1 1) rotate(0) translate(4 94)\">\n",
       "<title>%3</title>\n",
       "<polygon fill=\"white\" points=\"-4,4 -4,-94 293,-94 293,4 -4,4\" stroke=\"transparent\"/>\n",
       "<!-- I2 -->\n",
       "<g class=\"node\" id=\"node1\">\n",
       "<title>I2</title>\n",
       "<ellipse cx=\"0\" cy=\"-45\" fill=\"black\" rx=\"0\" ry=\"0\" stroke=\"black\"/>\n",
       "</g>\n",
       "<!-- 2 -->\n",
       "<g class=\"node\" id=\"node2\">\n",
       "<title>2</title>\n",
       "<path d=\"M79,-63C79,-63 49,-63 49,-63 43,-63 37,-57 37,-51 37,-51 37,-39 37,-39 37,-33 43,-27 49,-27 49,-27 79,-27 79,-27 85,-27 91,-33 91,-39 91,-39 91,-51 91,-51 91,-57 85,-63 79,-63\" fill=\"none\" stroke=\"DimGray\"/>\n",
       "<text font-family=\"Times,serif\" font-size=\"14.00\" text-anchor=\"middle\" x=\"64\" y=\"-41.3\">[+]</text>\n",
       "</g>\n",
       "<!-- I2&#45;&gt;2 -->\n",
       "<g class=\"edge\" id=\"edge1\">\n",
       "<title>I2-&gt;2</title>\n",
       "<path d=\"M1.04,-45C1.86,-45 13.73,-45 26.87,-45\" fill=\"none\" stroke=\"DimGray\"/>\n",
       "<polygon fill=\"DimGray\" points=\"27,-48.5 37,-45 27,-41.5 27,-48.5\" stroke=\"DimGray\"/>\n",
       "</g>\n",
       "<!-- 4 -->\n",
       "<g class=\"node\" id=\"node4\">\n",
       "<title>4</title>\n",
       "<path d=\"M180,-90C180,-90 150,-90 150,-90 144,-90 138,-84 138,-78 138,-78 138,-66 138,-66 138,-60 144,-54 150,-54 150,-54 180,-54 180,-54 186,-54 192,-60 192,-66 192,-66 192,-78 192,-78 192,-84 186,-90 180,-90\" fill=\"none\" stroke=\"DimGray\"/>\n",
       "<text font-family=\"Times,serif\" font-size=\"14.00\" text-anchor=\"middle\" x=\"165\" y=\"-68.3\">[*]</text>\n",
       "</g>\n",
       "<!-- 2&#45;&gt;4 -->\n",
       "<g class=\"edge\" id=\"edge2\">\n",
       "<title>2-&gt;4</title>\n",
       "<path d=\"M91.01,-52.09C102.29,-55.17 115.69,-58.82 127.91,-62.16\" fill=\"none\" stroke=\"DimGray\"/>\n",
       "<polygon fill=\"DimGray\" points=\"127.25,-65.61 137.82,-64.86 129.09,-58.85 127.25,-65.61\" stroke=\"DimGray\"/>\n",
       "<text font-family=\"Times,serif\" font-size=\"14.00\" text-anchor=\"middle\" x=\"113\" y=\"-61.8\">.</text>\n",
       "</g>\n",
       "<!-- 6 -->\n",
       "<g class=\"node\" id=\"node6\">\n",
       "<title>6</title>\n",
       "<path d=\"M183,-36C183,-36 147,-36 147,-36 141,-36 135,-30 135,-24 135,-24 135,-12 135,-12 135,-6 141,0 147,0 147,0 183,0 183,0 189,0 195,-6 195,-12 195,-12 195,-24 195,-24 195,-30 189,-36 183,-36\" fill=\"none\" stroke=\"DimGray\"/>\n",
       "<text font-family=\"Times,serif\" font-size=\"14.00\" text-anchor=\"middle\" x=\"165\" y=\"-14.3\">&lt;-1&gt;[*]</text>\n",
       "</g>\n",
       "<!-- 2&#45;&gt;6 -->\n",
       "<g class=\"edge\" id=\"edge3\">\n",
       "<title>2-&gt;6</title>\n",
       "<path d=\"M91.01,-37.91C101.38,-35.08 113.54,-31.76 124.93,-28.66\" fill=\"none\" stroke=\"DimGray\"/>\n",
       "<polygon fill=\"DimGray\" points=\"125.94,-32.01 134.67,-26 124.1,-25.25 125.94,-32.01\" stroke=\"DimGray\"/>\n",
       "<text font-family=\"Times,serif\" font-size=\"14.00\" text-anchor=\"middle\" x=\"113\" y=\"-35.8\">..</text>\n",
       "</g>\n",
       "<!-- 3 -->\n",
       "<g class=\"node\" id=\"node3\">\n",
       "<title>3</title>\n",
       "<path d=\"M277,-90C277,-90 247,-90 247,-90 241,-90 235,-84 235,-78 235,-78 235,-66 235,-66 235,-60 241,-54 247,-54 247,-54 277,-54 277,-54 283,-54 289,-60 289,-66 289,-66 289,-78 289,-78 289,-84 283,-90 277,-90\" fill=\"none\" stroke=\"DimGray\"/>\n",
       "<text font-family=\"Times,serif\" font-size=\"14.00\" text-anchor=\"middle\" x=\"262\" y=\"-68.3\">a</text>\n",
       "</g>\n",
       "<!-- 4&#45;&gt;3 -->\n",
       "<g class=\"edge\" id=\"edge4\">\n",
       "<title>4-&gt;3</title>\n",
       "<path d=\"M192.21,-72C202.28,-72 213.96,-72 224.81,-72\" fill=\"none\" stroke=\"DimGray\"/>\n",
       "<polygon fill=\"DimGray\" points=\"224.87,-75.5 234.87,-72 224.87,-68.5 224.87,-75.5\" stroke=\"DimGray\"/>\n",
       "<text font-family=\"Times,serif\" font-size=\"14.00\" text-anchor=\"middle\" x=\"215\" y=\"-75.8\"> </text>\n",
       "</g>\n",
       "<!-- 5 -->\n",
       "<g class=\"node\" id=\"node5\">\n",
       "<title>5</title>\n",
       "<path d=\"M277,-36C277,-36 247,-36 247,-36 241,-36 235,-30 235,-24 235,-24 235,-12 235,-12 235,-6 241,0 247,0 247,0 277,0 277,0 283,0 289,-6 289,-12 289,-12 289,-24 289,-24 289,-30 283,-36 277,-36\" fill=\"none\" stroke=\"DimGray\"/>\n",
       "<text font-family=\"Times,serif\" font-size=\"14.00\" text-anchor=\"middle\" x=\"262\" y=\"-14.3\">b</text>\n",
       "</g>\n",
       "<!-- 6&#45;&gt;5 -->\n",
       "<g class=\"edge\" id=\"edge5\">\n",
       "<title>6-&gt;5</title>\n",
       "<path d=\"M195.02,-18C204.32,-18 214.73,-18 224.49,-18\" fill=\"none\" stroke=\"DimGray\"/>\n",
       "<polygon fill=\"DimGray\" points=\"224.74,-21.5 234.74,-18 224.74,-14.5 224.74,-21.5\" stroke=\"DimGray\"/>\n",
       "<text font-family=\"Times,serif\" font-size=\"14.00\" text-anchor=\"middle\" x=\"215\" y=\"-21.8\"> </text>\n",
       "</g>\n",
       "</g>\n",
       "</svg>"
      ],
      "text/plain": [
       "<IPython.core.display.SVG object>"
      ]
     },
     "metadata": {},
     "output_type": "display_data"
    }
   ],
   "source": [
    "h.display()"
   ]
  },
  {
   "cell_type": "markdown",
   "metadata": {},
   "source": [
    "<hr>\n",
    "For the sake of convenience, a weight alone (ie. \"<-1>\") is considered as a valid representation of the word epsilon with the given weight (ie. \"<-1>\\\\e\")."
   ]
  },
  {
   "cell_type": "code",
   "execution_count": 22,
   "metadata": {},
   "outputs": [
    {
     "data": {
      "text/plain": [
       "<-2>\\e"
      ]
     },
     "execution_count": 22,
     "metadata": {},
     "output_type": "execute_result"
    }
   ],
   "source": [
    "awalipy.RatExp(\"<-2>\",\"Z\")"
   ]
  },
  {
   "cell_type": "markdown",
   "metadata": {},
   "source": [
    "<hr>\n",
    "Union, concatenation and star works in the same way for weighted rational expressions."
   ]
  },
  {
   "cell_type": "code",
   "execution_count": 23,
   "metadata": {},
   "outputs": [
    {
     "data": {
      "text/plain": [
       "(a*+<-1>(b*))(a*+<-1>(b*)+<-1>(a*+<-1>(b*))*)"
      ]
     },
     "execution_count": 23,
     "metadata": {},
     "output_type": "execute_result"
    }
   ],
   "source": [
    "i = h ^ h + (\"<-1>\" ^ h).star()\n",
    "i"
   ]
  },
  {
   "cell_type": "markdown",
   "metadata": {},
   "source": [
    "### Weighted expression to weighted automaton"
   ]
  },
  {
   "cell_type": "markdown",
   "metadata": {},
   "source": [
    "For `aut_to_exp` or `standard` to work, the rational expression needs to be *valid*.\n",
    "An expression is *valid* if, in every sub-expression, the weight of $\\epsilon$ is well defined.\n",
    "For instance the expression *(< 2 >\\\\e)\\** is not valid (with weightset $(\\mathbb{Z},+,\\times$))"
   ]
  },
  {
   "cell_type": "code",
   "execution_count": 24,
   "metadata": {},
   "outputs": [
    {
     "data": {
      "text/plain": [
       "True"
      ]
     },
     "execution_count": 24,
     "metadata": {},
     "output_type": "execute_result"
    }
   ],
   "source": [
    "i.is_valid()"
   ]
  },
  {
   "cell_type": "code",
   "execution_count": 25,
   "metadata": {},
   "outputs": [
    {
     "data": {
      "image/svg+xml": [
       "<svg height=\"390pt\" viewBox=\"0.00 0.00 510.00 390.00\" width=\"510pt\" xmlns=\"http://www.w3.org/2000/svg\" xmlns:xlink=\"http://www.w3.org/1999/xlink\">\n",
       "<g class=\"graph\" id=\"graph0\" transform=\"scale(1 1) rotate(0) translate(4 386)\">\n",
       "<title>%3</title>\n",
       "<polygon fill=\"white\" points=\"-4,4 -4,-386 506,-386 506,4 -4,4\" stroke=\"transparent\"/>\n",
       "<!-- I2 -->\n",
       "<g class=\"node\" id=\"node1\">\n",
       "<title>I2</title>\n",
       "<ellipse cx=\"0\" cy=\"-155\" fill=\"black\" rx=\"0\" ry=\"0\" stroke=\"black\"/>\n",
       "</g>\n",
       "<!-- 2 -->\n",
       "<g class=\"node\" id=\"node8\">\n",
       "<title>2</title>\n",
       "<path d=\"M79,-173C79,-173 49,-173 49,-173 43,-173 37,-167 37,-161 37,-161 37,-149 37,-149 37,-143 43,-137 49,-137 49,-137 79,-137 79,-137 85,-137 91,-143 91,-149 91,-149 91,-161 91,-161 91,-167 85,-173 79,-173\" fill=\"none\" stroke=\"black\"/>\n",
       "<text font-family=\"Times,serif\" font-size=\"14.00\" text-anchor=\"middle\" x=\"64\" y=\"-151.3\">$0</text>\n",
       "</g>\n",
       "<!-- I2&#45;&gt;2 -->\n",
       "<g class=\"edge\" id=\"edge1\">\n",
       "<title>I2-&gt;2</title>\n",
       "<path d=\"M1.04,-155C1.86,-155 13.73,-155 26.87,-155\" fill=\"none\" stroke=\"DimGray\"/>\n",
       "<polygon fill=\"DimGray\" points=\"27,-158.5 37,-155 27,-151.5 27,-158.5\" stroke=\"DimGray\"/>\n",
       "</g>\n",
       "<!-- F3 -->\n",
       "<g class=\"node\" id=\"node2\">\n",
       "<title>F3</title>\n",
       "<ellipse cx=\"438\" cy=\"-226\" fill=\"black\" rx=\"0\" ry=\"0\" stroke=\"black\"/>\n",
       "</g>\n",
       "<!-- F4 -->\n",
       "<g class=\"node\" id=\"node3\">\n",
       "<title>F4</title>\n",
       "<ellipse cx=\"438\" cy=\"-313\" fill=\"black\" rx=\"0\" ry=\"0\" stroke=\"black\"/>\n",
       "</g>\n",
       "<!-- F5 -->\n",
       "<g class=\"node\" id=\"node4\">\n",
       "<title>F5</title>\n",
       "<ellipse cx=\"314\" cy=\"-382\" fill=\"black\" rx=\"0\" ry=\"0\" stroke=\"black\"/>\n",
       "</g>\n",
       "<!-- F6 -->\n",
       "<g class=\"node\" id=\"node5\">\n",
       "<title>F6</title>\n",
       "<ellipse cx=\"314\" cy=\"0\" fill=\"black\" rx=\"0\" ry=\"0\" stroke=\"black\"/>\n",
       "</g>\n",
       "<!-- F7 -->\n",
       "<g class=\"node\" id=\"node6\">\n",
       "<title>F7</title>\n",
       "<ellipse cx=\"438\" cy=\"-137\" fill=\"black\" rx=\"0\" ry=\"0\" stroke=\"black\"/>\n",
       "</g>\n",
       "<!-- F8 -->\n",
       "<g class=\"node\" id=\"node7\">\n",
       "<title>F8</title>\n",
       "<ellipse cx=\"502\" cy=\"-85\" fill=\"black\" rx=\"0\" ry=\"0\" stroke=\"black\"/>\n",
       "</g>\n",
       "<!-- 5 -->\n",
       "<g class=\"node\" id=\"node11\">\n",
       "<title>5</title>\n",
       "<path d=\"M204,-226C204,-226 174,-226 174,-226 168,-226 162,-220 162,-214 162,-214 162,-202 162,-202 162,-196 168,-190 174,-190 174,-190 204,-190 204,-190 210,-190 216,-196 216,-202 216,-202 216,-214 216,-214 216,-220 210,-226 204,-226\" fill=\"none\" stroke=\"black\"/>\n",
       "<text font-family=\"Times,serif\" font-size=\"14.00\" text-anchor=\"middle\" x=\"189\" y=\"-204.3\">$1</text>\n",
       "</g>\n",
       "<!-- 2&#45;&gt;5 -->\n",
       "<g class=\"edge\" id=\"edge2\">\n",
       "<title>2-&gt;5</title>\n",
       "<path d=\"M91.09,-166.24C109.02,-173.97 133.06,-184.33 152.71,-192.79\" fill=\"none\" stroke=\"black\"/>\n",
       "<polygon fill=\"black\" points=\"151.38,-196.03 161.95,-196.78 154.15,-189.6 151.38,-196.03\" stroke=\"black\"/>\n",
       "<text font-family=\"Times,serif\" font-size=\"14.00\" text-anchor=\"middle\" x=\"126.5\" y=\"-190.8\">a</text>\n",
       "</g>\n",
       "<!-- 6 -->\n",
       "<g class=\"node\" id=\"node12\">\n",
       "<title>6</title>\n",
       "<path d=\"M204,-130C204,-130 174,-130 174,-130 168,-130 162,-124 162,-118 162,-118 162,-106 162,-106 162,-100 168,-94 174,-94 174,-94 204,-94 204,-94 210,-94 216,-100 216,-106 216,-106 216,-118 216,-118 216,-124 210,-130 204,-130\" fill=\"none\" stroke=\"black\"/>\n",
       "<text font-family=\"Times,serif\" font-size=\"14.00\" text-anchor=\"middle\" x=\"189\" y=\"-108.3\">$3</text>\n",
       "</g>\n",
       "<!-- 2&#45;&gt;6 -->\n",
       "<g class=\"edge\" id=\"edge3\">\n",
       "<title>2-&gt;6</title>\n",
       "<path d=\"M91.09,-145.88C108.94,-139.64 132.84,-131.28 152.44,-124.43\" fill=\"none\" stroke=\"black\"/>\n",
       "<polygon fill=\"black\" points=\"153.67,-127.71 161.95,-121.11 151.36,-121.1 153.67,-127.71\" stroke=\"black\"/>\n",
       "<text font-family=\"Times,serif\" font-size=\"14.00\" text-anchor=\"middle\" x=\"126.5\" y=\"-141.8\">&lt;-1&gt;b</text>\n",
       "</g>\n",
       "<!-- 3 -->\n",
       "<g class=\"node\" id=\"node9\">\n",
       "<title>3</title>\n",
       "<path d=\"M329,-244C329,-244 299,-244 299,-244 293,-244 287,-238 287,-232 287,-232 287,-220 287,-220 287,-214 293,-208 299,-208 299,-208 329,-208 329,-208 335,-208 341,-214 341,-220 341,-220 341,-232 341,-232 341,-238 335,-244 329,-244\" fill=\"none\" stroke=\"black\"/>\n",
       "<text font-family=\"Times,serif\" font-size=\"14.00\" text-anchor=\"middle\" x=\"314\" y=\"-222.3\">$6</text>\n",
       "</g>\n",
       "<!-- 3&#45;&gt;F3 -->\n",
       "<g class=\"edge\" id=\"edge4\">\n",
       "<title>3-&gt;F3</title>\n",
       "<path d=\"M341.17,-226C367.91,-226 408.08,-226 426.77,-226\" fill=\"none\" stroke=\"DimGray\"/>\n",
       "<polygon fill=\"DimGray\" points=\"426.96,-229.5 436.96,-226 426.96,-222.5 426.96,-229.5\" stroke=\"DimGray\"/>\n",
       "</g>\n",
       "<!-- 3&#45;&gt;3 -->\n",
       "<g class=\"edge\" id=\"edge5\">\n",
       "<title>3-&gt;3</title>\n",
       "<path d=\"M302.78,-244.15C301.06,-253.54 304.8,-262 314,-262 319.61,-262 323.19,-258.86 324.74,-254.28\" fill=\"none\" stroke=\"black\"/>\n",
       "<polygon fill=\"black\" points=\"328.24,-254.31 325.22,-244.15 321.25,-253.98 328.24,-254.31\" stroke=\"black\"/>\n",
       "<text font-family=\"Times,serif\" font-size=\"14.00\" text-anchor=\"middle\" x=\"314\" y=\"-265.8\">b</text>\n",
       "</g>\n",
       "<!-- 4 -->\n",
       "<g class=\"node\" id=\"node10\">\n",
       "<title>4</title>\n",
       "<path d=\"M329,-331C329,-331 299,-331 299,-331 293,-331 287,-325 287,-319 287,-319 287,-307 287,-307 287,-301 293,-295 299,-295 299,-295 329,-295 329,-295 335,-295 341,-301 341,-307 341,-307 341,-319 341,-319 341,-325 335,-331 329,-331\" fill=\"none\" stroke=\"black\"/>\n",
       "<text font-family=\"Times,serif\" font-size=\"14.00\" text-anchor=\"middle\" x=\"314\" y=\"-309.3\">$4</text>\n",
       "</g>\n",
       "<!-- 4&#45;&gt;F4 -->\n",
       "<g class=\"edge\" id=\"edge6\">\n",
       "<title>4-&gt;F4</title>\n",
       "<path d=\"M341.17,-313C367.91,-313 408.08,-313 426.77,-313\" fill=\"none\" stroke=\"DimGray\"/>\n",
       "<polygon fill=\"DimGray\" points=\"426.96,-316.5 436.96,-313 426.96,-309.5 426.96,-316.5\" stroke=\"DimGray\"/>\n",
       "</g>\n",
       "<!-- 4&#45;&gt;4 -->\n",
       "<g class=\"edge\" id=\"edge7\">\n",
       "<title>4-&gt;4</title>\n",
       "<path d=\"M302.78,-331.15C301.06,-340.54 304.8,-349 314,-349 319.61,-349 323.19,-345.86 324.74,-341.28\" fill=\"none\" stroke=\"black\"/>\n",
       "<polygon fill=\"black\" points=\"328.24,-341.31 325.22,-331.15 321.25,-340.98 328.24,-341.31\" stroke=\"black\"/>\n",
       "<text font-family=\"Times,serif\" font-size=\"14.00\" text-anchor=\"middle\" x=\"314\" y=\"-352.8\">a</text>\n",
       "</g>\n",
       "<!-- 5&#45;&gt;F5 -->\n",
       "<g class=\"edge\" id=\"edge8\">\n",
       "<title>5-&gt;F5</title>\n",
       "<path d=\"M195.59,-226.21C207.02,-260.33 236.33,-333.96 287,-373 291.55,-376.5 297.55,-378.7 302.64,-380.05\" fill=\"none\" stroke=\"DimGray\"/>\n",
       "<polygon fill=\"DimGray\" points=\"302.48,-383.58 312.95,-382 303.78,-376.7 302.48,-383.58\" stroke=\"DimGray\"/>\n",
       "</g>\n",
       "<!-- 5&#45;&gt;3 -->\n",
       "<g class=\"edge\" id=\"edge9\">\n",
       "<title>5-&gt;3</title>\n",
       "<path d=\"M216.13,-219.07C221.92,-221.07 228.09,-222.88 234,-224 247.72,-226.6 263.02,-227.44 276.47,-227.52\" fill=\"none\" stroke=\"black\"/>\n",
       "<polygon fill=\"black\" points=\"276.83,-231.02 286.8,-227.44 276.77,-224.02 276.83,-231.02\" stroke=\"black\"/>\n",
       "<text font-family=\"Times,serif\" font-size=\"14.00\" text-anchor=\"middle\" x=\"251.5\" y=\"-230.8\">&lt;-1&gt;b</text>\n",
       "</g>\n",
       "<!-- 5&#45;&gt;4 -->\n",
       "<g class=\"edge\" id=\"edge10\">\n",
       "<title>5-&gt;4</title>\n",
       "<path d=\"M211,-226.21C218.28,-232.49 226.48,-239.57 234,-246 250.37,-260.01 268.72,-275.58 283.61,-288.18\" fill=\"none\" stroke=\"black\"/>\n",
       "<polygon fill=\"black\" points=\"281.6,-291.07 291.5,-294.85 286.12,-285.72 281.6,-291.07\" stroke=\"black\"/>\n",
       "<text font-family=\"Times,serif\" font-size=\"14.00\" text-anchor=\"middle\" x=\"251.5\" y=\"-278.8\">a</text>\n",
       "</g>\n",
       "<!-- 5&#45;&gt;5 -->\n",
       "<g class=\"edge\" id=\"edge11\">\n",
       "<title>5-&gt;5</title>\n",
       "<path d=\"M177.78,-226.15C176.06,-235.54 179.8,-244 189,-244 194.61,-244 198.19,-240.86 199.74,-236.28\" fill=\"none\" stroke=\"black\"/>\n",
       "<polygon fill=\"black\" points=\"203.24,-236.31 200.22,-226.15 196.25,-235.98 203.24,-236.31\" stroke=\"black\"/>\n",
       "<text font-family=\"Times,serif\" font-size=\"14.00\" text-anchor=\"middle\" x=\"189\" y=\"-247.8\">a</text>\n",
       "</g>\n",
       "<!-- 7 -->\n",
       "<g class=\"node\" id=\"node13\">\n",
       "<title>7</title>\n",
       "<path d=\"M329,-106C329,-106 299,-106 299,-106 293,-106 287,-100 287,-94 287,-94 287,-82 287,-82 287,-76 293,-70 299,-70 299,-70 329,-70 329,-70 335,-70 341,-76 341,-82 341,-82 341,-94 341,-94 341,-100 335,-106 329,-106\" fill=\"none\" stroke=\"black\"/>\n",
       "<text font-family=\"Times,serif\" font-size=\"14.00\" text-anchor=\"middle\" x=\"314\" y=\"-84.3\">$9</text>\n",
       "</g>\n",
       "<!-- 5&#45;&gt;7 -->\n",
       "<g class=\"edge\" id=\"edge12\">\n",
       "<title>5-&gt;7</title>\n",
       "<path d=\"M204.48,-189.93C208.53,-184.38 212.72,-178.12 216,-172 226.77,-151.92 218.45,-140.66 234,-124 245.56,-111.62 262.19,-103.17 277.22,-97.59\" fill=\"none\" stroke=\"black\"/>\n",
       "<polygon fill=\"black\" points=\"278.46,-100.86 286.79,-94.32 276.2,-94.24 278.46,-100.86\" stroke=\"black\"/>\n",
       "<text font-family=\"Times,serif\" font-size=\"14.00\" text-anchor=\"middle\" x=\"251.5\" y=\"-127.8\">b</text>\n",
       "</g>\n",
       "<!-- 8 -->\n",
       "<g class=\"node\" id=\"node14\">\n",
       "<title>8</title>\n",
       "<path d=\"M453,-103C453,-103 423,-103 423,-103 417,-103 411,-97 411,-91 411,-91 411,-79 411,-79 411,-73 417,-67 423,-67 423,-67 453,-67 453,-67 459,-67 465,-73 465,-79 465,-79 465,-91 465,-91 465,-97 459,-103 453,-103\" fill=\"none\" stroke=\"black\"/>\n",
       "<text font-family=\"Times,serif\" font-size=\"14.00\" text-anchor=\"middle\" x=\"438\" y=\"-81.3\">$7</text>\n",
       "</g>\n",
       "<!-- 5&#45;&gt;8 -->\n",
       "<g class=\"edge\" id=\"edge13\">\n",
       "<title>5-&gt;8</title>\n",
       "<path d=\"M216.45,-196.37C222.22,-193.89 228.3,-191.32 234,-189 281.17,-169.79 295.67,-171.22 341,-148 362.96,-136.75 386.12,-121.66 404.19,-109.06\" fill=\"none\" stroke=\"black\"/>\n",
       "<polygon fill=\"black\" points=\"406.47,-111.74 412.62,-103.11 402.44,-106.02 406.47,-111.74\" stroke=\"black\"/>\n",
       "<text font-family=\"Times,serif\" font-size=\"14.00\" text-anchor=\"middle\" x=\"314\" y=\"-173.8\">&lt;-1&gt;a</text>\n",
       "</g>\n",
       "<!-- 6&#45;&gt;F6 -->\n",
       "<g class=\"edge\" id=\"edge14\">\n",
       "<title>6-&gt;F6</title>\n",
       "<path d=\"M194.16,-93.66C199.75,-73.21 211.67,-40.57 234,-22 254.25,-5.15 286.5,-1.17 302.82,-0.25\" fill=\"none\" stroke=\"DimGray\"/>\n",
       "<polygon fill=\"DimGray\" points=\"302.94,-3.75 312.85,0 302.77,3.25 302.94,-3.75\" stroke=\"DimGray\"/>\n",
       "</g>\n",
       "<!-- 6&#45;&gt;3 -->\n",
       "<g class=\"edge\" id=\"edge15\">\n",
       "<title>6-&gt;3</title>\n",
       "<path d=\"M216.28,-129C232.34,-140.01 252.84,-155.2 269,-171 278.28,-180.07 278.91,-183.85 287,-194 288.45,-195.82 289.95,-197.69 291.47,-199.58\" fill=\"none\" stroke=\"black\"/>\n",
       "<polygon fill=\"black\" points=\"289.08,-202.19 298.09,-207.77 294.53,-197.79 289.08,-202.19\" stroke=\"black\"/>\n",
       "<text font-family=\"Times,serif\" font-size=\"14.00\" text-anchor=\"middle\" x=\"251.5\" y=\"-174.8\">&lt;-1&gt;b</text>\n",
       "</g>\n",
       "<!-- 6&#45;&gt;4 -->\n",
       "<g class=\"edge\" id=\"edge16\">\n",
       "<title>6-&gt;4</title>\n",
       "<path d=\"M197.49,-130.28C204.86,-146.51 217.41,-170.05 234,-186 246.76,-198.27 258.34,-190.87 269,-205 291.2,-234.45 269.56,-253.51 287,-286 287.1,-286.19 287.21,-286.39 287.32,-286.58\" fill=\"none\" stroke=\"black\"/>\n",
       "<polygon fill=\"black\" points=\"284.51,-288.67 293.09,-294.88 290.25,-284.67 284.51,-288.67\" stroke=\"black\"/>\n",
       "<text font-family=\"Times,serif\" font-size=\"14.00\" text-anchor=\"middle\" x=\"251.5\" y=\"-208.8\">a</text>\n",
       "</g>\n",
       "<!-- 6&#45;&gt;6 -->\n",
       "<g class=\"edge\" id=\"edge17\">\n",
       "<title>6-&gt;6</title>\n",
       "<path d=\"M177.78,-130.15C176.06,-139.54 179.8,-148 189,-148 194.61,-148 198.19,-144.86 199.74,-140.28\" fill=\"none\" stroke=\"black\"/>\n",
       "<polygon fill=\"black\" points=\"203.24,-140.31 200.22,-130.15 196.25,-139.98 203.24,-140.31\" stroke=\"black\"/>\n",
       "<text font-family=\"Times,serif\" font-size=\"14.00\" text-anchor=\"middle\" x=\"189\" y=\"-151.8\">b</text>\n",
       "</g>\n",
       "<!-- 6&#45;&gt;7 -->\n",
       "<g class=\"edge\" id=\"edge18\">\n",
       "<title>6-&gt;7</title>\n",
       "<path d=\"M203.34,-93.9C211.14,-84.88 221.84,-74.87 234,-70 247.66,-64.53 263.35,-66.53 277.12,-70.82\" fill=\"none\" stroke=\"black\"/>\n",
       "<polygon fill=\"black\" points=\"276.17,-74.19 286.76,-74.27 278.53,-67.6 276.17,-74.19\" stroke=\"black\"/>\n",
       "<text font-family=\"Times,serif\" font-size=\"14.00\" text-anchor=\"middle\" x=\"251.5\" y=\"-73.8\">b</text>\n",
       "</g>\n",
       "<!-- 6&#45;&gt;8 -->\n",
       "<g class=\"edge\" id=\"edge19\">\n",
       "<title>6-&gt;8</title>\n",
       "<path d=\"M202.42,-93.95C210.37,-83.59 221.52,-71.08 234,-63 254.76,-49.55 262.56,-49.82 287,-46 334.07,-38.64 348.93,-43.88 393,-62 395.86,-63.17 398.78,-64.47 401.69,-65.83\" fill=\"none\" stroke=\"black\"/>\n",
       "<polygon fill=\"black\" points=\"400.33,-69.07 410.85,-70.33 403.42,-62.78 400.33,-69.07\" stroke=\"black\"/>\n",
       "<text font-family=\"Times,serif\" font-size=\"14.00\" text-anchor=\"middle\" x=\"314\" y=\"-49.8\">&lt;-1&gt;a</text>\n",
       "</g>\n",
       "<!-- 7&#45;&gt;F7 -->\n",
       "<g class=\"edge\" id=\"edge20\">\n",
       "<title>7-&gt;F7</title>\n",
       "<path d=\"M341.04,-98.7C346.94,-101.11 353.18,-103.65 359,-106 383.61,-115.93 412.68,-127.42 427.41,-133.22\" fill=\"none\" stroke=\"DimGray\"/>\n",
       "<polygon fill=\"DimGray\" points=\"426.29,-136.54 436.87,-136.95 428.85,-130.03 426.29,-136.54\" stroke=\"DimGray\"/>\n",
       "</g>\n",
       "<!-- 7&#45;&gt;7 -->\n",
       "<g class=\"edge\" id=\"edge21\">\n",
       "<title>7-&gt;7</title>\n",
       "<path d=\"M302.78,-106.15C301.06,-115.54 304.8,-124 314,-124 319.61,-124 323.19,-120.86 324.74,-116.28\" fill=\"none\" stroke=\"black\"/>\n",
       "<polygon fill=\"black\" points=\"328.24,-116.31 325.22,-106.15 321.25,-115.98 328.24,-116.31\" stroke=\"black\"/>\n",
       "<text font-family=\"Times,serif\" font-size=\"14.00\" text-anchor=\"middle\" x=\"314\" y=\"-127.8\">&lt;2&gt;b</text>\n",
       "</g>\n",
       "<!-- 7&#45;&gt;8 -->\n",
       "<g class=\"edge\" id=\"edge22\">\n",
       "<title>7-&gt;8</title>\n",
       "<path d=\"M341.17,-87.36C358.54,-86.93 381.57,-86.36 400.7,-85.89\" fill=\"none\" stroke=\"black\"/>\n",
       "<polygon fill=\"black\" points=\"400.96,-89.39 410.87,-85.64 400.79,-82.39 400.96,-89.39\" stroke=\"black\"/>\n",
       "<text font-family=\"Times,serif\" font-size=\"14.00\" text-anchor=\"middle\" x=\"376\" y=\"-90.8\">&lt;-1&gt;a</text>\n",
       "</g>\n",
       "<!-- 8&#45;&gt;F8 -->\n",
       "<g class=\"edge\" id=\"edge23\">\n",
       "<title>8-&gt;F8</title>\n",
       "<path d=\"M465.29,-85C474.25,-85 483.73,-85 490.68,-85\" fill=\"none\" stroke=\"DimGray\"/>\n",
       "<polygon fill=\"DimGray\" points=\"490.95,-88.5 500.95,-85 490.95,-81.5 490.95,-88.5\" stroke=\"DimGray\"/>\n",
       "</g>\n",
       "<!-- 8&#45;&gt;7 -->\n",
       "<g class=\"edge\" id=\"edge24\">\n",
       "<title>8-&gt;7</title>\n",
       "<path d=\"M410.94,-73.12C405.15,-71 398.96,-69.11 393,-68 378.14,-65.23 373.77,-64.8 359,-68 356.32,-68.58 353.62,-69.34 350.93,-70.22\" fill=\"none\" stroke=\"black\"/>\n",
       "<polygon fill=\"black\" points=\"349.48,-67.02 341.37,-73.84 351.96,-73.57 349.48,-67.02\" stroke=\"black\"/>\n",
       "<text font-family=\"Times,serif\" font-size=\"14.00\" text-anchor=\"middle\" x=\"376\" y=\"-71.8\">b</text>\n",
       "</g>\n",
       "</g>\n",
       "</svg>"
      ],
      "text/plain": [
       "<IPython.core.display.SVG object>"
      ]
     },
     "metadata": {},
     "output_type": "display_data"
    }
   ],
   "source": [
    "i.exp_to_aut().display()"
   ]
  },
  {
   "cell_type": "markdown",
   "metadata": {},
   "source": [
    "---\n",
    "The method `thompson()` is not suitable for weighted expressions.\n",
    "\n",
    "Indeed, let us consider the following **valid** expression `g`: "
   ]
  },
  {
   "cell_type": "code",
   "execution_count": 26,
   "metadata": {},
   "outputs": [
    {
     "data": {
      "text/plain": [
       "True"
      ]
     },
     "execution_count": 26,
     "metadata": {},
     "output_type": "execute_result"
    }
   ],
   "source": [
    "g = awalipy.RatExp(\"(<1>(a*)+<-1>(b*))*\",\"Z\")\n",
    "g.is_valid()"
   ]
  },
  {
   "cell_type": "code",
   "execution_count": 27,
   "metadata": {},
   "outputs": [
    {
     "data": {
      "image/svg+xml": [
       "<svg height=\"727pt\" viewBox=\"0.00 0.00 309.00 727.00\" width=\"309pt\" xmlns=\"http://www.w3.org/2000/svg\" xmlns:xlink=\"http://www.w3.org/1999/xlink\">\n",
       "<g class=\"graph\" id=\"graph0\" transform=\"scale(1 1) rotate(0) translate(4 723)\">\n",
       "<title>%3</title>\n",
       "<polygon fill=\"white\" points=\"-4,4 -4,-723 305,-723 305,4 -4,4\" stroke=\"transparent\"/>\n",
       "<!-- I12 -->\n",
       "<g class=\"node\" id=\"node1\">\n",
       "<title>I12</title>\n",
       "<ellipse cx=\"263\" cy=\"-719\" fill=\"black\" rx=\"0\" ry=\"0\" stroke=\"black\"/>\n",
       "</g>\n",
       "<!-- 12 -->\n",
       "<g class=\"node\" id=\"node13\">\n",
       "<title>12</title>\n",
       "<path d=\"M278,-682C278,-682 248,-682 248,-682 242,-682 236,-676 236,-670 236,-670 236,-658 236,-658 236,-652 242,-646 248,-646 248,-646 278,-646 278,-646 284,-646 290,-652 290,-658 290,-658 290,-670 290,-670 290,-676 284,-682 278,-682\" fill=\"none\" stroke=\"black\"/>\n",
       "<text font-family=\"Times,serif\" font-size=\"14.00\" text-anchor=\"middle\" x=\"263\" y=\"-660.3\">s5</text>\n",
       "</g>\n",
       "<!-- I12&#45;&gt;12 -->\n",
       "<g class=\"edge\" id=\"edge1\">\n",
       "<title>I12-&gt;12</title>\n",
       "<path d=\"M263,-717.85C263,-716.37 263,-704.32 263,-692.1\" fill=\"none\" stroke=\"DimGray\"/>\n",
       "<polygon fill=\"DimGray\" points=\"266.5,-692.02 263,-682.02 259.5,-692.02 266.5,-692.02\" stroke=\"DimGray\"/>\n",
       "</g>\n",
       "<!-- F13 -->\n",
       "<g class=\"node\" id=\"node2\">\n",
       "<title>F13</title>\n",
       "<ellipse cx=\"263\" cy=\"0\" fill=\"black\" rx=\"0\" ry=\"0\" stroke=\"black\"/>\n",
       "</g>\n",
       "<!-- 2 -->\n",
       "<g class=\"node\" id=\"node3\">\n",
       "<title>2</title>\n",
       "<path d=\"M247,-595C247,-595 217,-595 217,-595 211,-595 205,-589 205,-583 205,-583 205,-571 205,-571 205,-565 211,-559 217,-559 217,-559 247,-559 247,-559 253,-559 259,-565 259,-571 259,-571 259,-583 259,-583 259,-589 253,-595 247,-595\" fill=\"none\" stroke=\"black\"/>\n",
       "<text font-family=\"Times,serif\" font-size=\"14.00\" text-anchor=\"middle\" x=\"232\" y=\"-573.3\">s4</text>\n",
       "</g>\n",
       "<!-- 6 -->\n",
       "<g class=\"node\" id=\"node7\">\n",
       "<title>6</title>\n",
       "<path d=\"M97,-508C97,-508 67,-508 67,-508 61,-508 55,-502 55,-496 55,-496 55,-484 55,-484 55,-478 61,-472 67,-472 67,-472 97,-472 97,-472 103,-472 109,-478 109,-484 109,-484 109,-496 109,-496 109,-502 103,-508 97,-508\" fill=\"none\" stroke=\"black\"/>\n",
       "<text font-family=\"Times,serif\" font-size=\"14.00\" text-anchor=\"middle\" x=\"82\" y=\"-486.3\">s1</text>\n",
       "</g>\n",
       "<!-- 2&#45;&gt;6 -->\n",
       "<g class=\"edge\" id=\"edge2\">\n",
       "<title>2-&gt;6</title>\n",
       "<path d=\"M204.84,-560.61C180.59,-546.87 144.91,-526.65 118.24,-511.54\" fill=\"none\" stroke=\"black\"/>\n",
       "<polygon fill=\"black\" points=\"119.64,-508.31 109.21,-506.42 116.19,-514.4 119.64,-508.31\" stroke=\"black\"/>\n",
       "<text font-family=\"Times,serif\" font-size=\"14.00\" text-anchor=\"middle\" x=\"170\" y=\"-529.8\">\\e</text>\n",
       "</g>\n",
       "<!-- 10 -->\n",
       "<g class=\"node\" id=\"node11\">\n",
       "<title>10</title>\n",
       "<path d=\"M207,-508C207,-508 177,-508 177,-508 171,-508 165,-502 165,-496 165,-496 165,-484 165,-484 165,-478 171,-472 177,-472 177,-472 207,-472 207,-472 213,-472 219,-478 219,-484 219,-484 219,-496 219,-496 219,-502 213,-508 207,-508\" fill=\"none\" stroke=\"black\"/>\n",
       "<text font-family=\"Times,serif\" font-size=\"14.00\" text-anchor=\"middle\" x=\"192\" y=\"-486.3\">s3</text>\n",
       "</g>\n",
       "<!-- 2&#45;&gt;10 -->\n",
       "<g class=\"edge\" id=\"edge3\">\n",
       "<title>2-&gt;10</title>\n",
       "<path d=\"M223.91,-558.8C218.32,-546.93 210.79,-530.93 204.45,-517.45\" fill=\"none\" stroke=\"black\"/>\n",
       "<polygon fill=\"black\" points=\"207.51,-515.73 200.08,-508.18 201.17,-518.71 207.51,-515.73\" stroke=\"black\"/>\n",
       "<text font-family=\"Times,serif\" font-size=\"14.00\" text-anchor=\"middle\" x=\"219\" y=\"-529.8\">\\e</text>\n",
       "</g>\n",
       "<!-- 3 -->\n",
       "<g class=\"node\" id=\"node4\">\n",
       "<title>3</title>\n",
       "<path d=\"M247,-160C247,-160 217,-160 217,-160 211,-160 205,-154 205,-148 205,-148 205,-136 205,-136 205,-130 211,-124 217,-124 217,-124 247,-124 247,-124 253,-124 259,-130 259,-136 259,-136 259,-148 259,-148 259,-154 253,-160 247,-160\" fill=\"none\" stroke=\"black\"/>\n",
       "<text font-family=\"Times,serif\" font-size=\"14.00\" text-anchor=\"middle\" x=\"232\" y=\"-138.3\">t4</text>\n",
       "</g>\n",
       "<!-- 3&#45;&gt;2 -->\n",
       "<g class=\"edge\" id=\"edge4\">\n",
       "<title>3-&gt;2</title>\n",
       "<path d=\"M238.88,-160.27C245,-177.23 253,-203.98 253,-228 253,-491 253,-491 253,-491 253,-510.89 247.51,-532.65 242.15,-549.18\" fill=\"none\" stroke=\"black\"/>\n",
       "<polygon fill=\"black\" points=\"238.81,-548.13 238.88,-558.73 245.43,-550.4 238.81,-548.13\" stroke=\"black\"/>\n",
       "<text font-family=\"Times,serif\" font-size=\"14.00\" text-anchor=\"middle\" x=\"258\" y=\"-355.8\">\\e</text>\n",
       "</g>\n",
       "<!-- 13 -->\n",
       "<g class=\"node\" id=\"node14\">\n",
       "<title>13</title>\n",
       "<path d=\"M278,-73C278,-73 248,-73 248,-73 242,-73 236,-67 236,-61 236,-61 236,-49 236,-49 236,-43 242,-37 248,-37 248,-37 278,-37 278,-37 284,-37 290,-43 290,-49 290,-49 290,-61 290,-61 290,-67 284,-73 278,-73\" fill=\"none\" stroke=\"black\"/>\n",
       "<text font-family=\"Times,serif\" font-size=\"14.00\" text-anchor=\"middle\" x=\"263\" y=\"-51.3\">t5</text>\n",
       "</g>\n",
       "<!-- 3&#45;&gt;13 -->\n",
       "<g class=\"edge\" id=\"edge5\">\n",
       "<title>3-&gt;13</title>\n",
       "<path d=\"M238.27,-123.8C242.56,-112.05 248.32,-96.24 253.21,-82.84\" fill=\"none\" stroke=\"black\"/>\n",
       "<polygon fill=\"black\" points=\"256.6,-83.77 256.74,-73.18 250.02,-81.37 256.6,-83.77\" stroke=\"black\"/>\n",
       "<text font-family=\"Times,serif\" font-size=\"14.00\" text-anchor=\"middle\" x=\"254\" y=\"-94.8\">\\e</text>\n",
       "</g>\n",
       "<!-- 4 -->\n",
       "<g class=\"node\" id=\"node5\">\n",
       "<title>4</title>\n",
       "<path d=\"M42,-421C42,-421 12,-421 12,-421 6,-421 0,-415 0,-409 0,-409 0,-397 0,-397 0,-391 6,-385 12,-385 12,-385 42,-385 42,-385 48,-385 54,-391 54,-397 54,-397 54,-409 54,-409 54,-415 48,-421 42,-421\" fill=\"none\" stroke=\"black\"/>\n",
       "<text font-family=\"Times,serif\" font-size=\"14.00\" text-anchor=\"middle\" x=\"27\" y=\"-399.3\">s0</text>\n",
       "</g>\n",
       "<!-- 5 -->\n",
       "<g class=\"node\" id=\"node6\">\n",
       "<title>5</title>\n",
       "<path d=\"M42,-334C42,-334 12,-334 12,-334 6,-334 0,-328 0,-322 0,-322 0,-310 0,-310 0,-304 6,-298 12,-298 12,-298 42,-298 42,-298 48,-298 54,-304 54,-310 54,-310 54,-322 54,-322 54,-328 48,-334 42,-334\" fill=\"none\" stroke=\"black\"/>\n",
       "<text font-family=\"Times,serif\" font-size=\"14.00\" text-anchor=\"middle\" x=\"27\" y=\"-312.3\">t0</text>\n",
       "</g>\n",
       "<!-- 4&#45;&gt;5 -->\n",
       "<g class=\"edge\" id=\"edge6\">\n",
       "<title>4-&gt;5</title>\n",
       "<path d=\"M17.32,-384.71C14.74,-379.22 12.31,-373.01 11,-367 9.33,-359.32 10.6,-351.14 13.02,-343.67\" fill=\"none\" stroke=\"black\"/>\n",
       "<polygon fill=\"black\" points=\"16.28,-344.95 16.71,-334.36 9.77,-342.37 16.28,-344.95\" stroke=\"black\"/>\n",
       "<text font-family=\"Times,serif\" font-size=\"14.00\" text-anchor=\"middle\" x=\"14.5\" y=\"-355.8\">a</text>\n",
       "</g>\n",
       "<!-- 5&#45;&gt;4 -->\n",
       "<g class=\"edge\" id=\"edge7\">\n",
       "<title>5-&gt;4</title>\n",
       "<path d=\"M27,-334.18C27,-345.81 27,-361.42 27,-374.73\" fill=\"none\" stroke=\"black\"/>\n",
       "<polygon fill=\"black\" points=\"23.5,-374.8 27,-384.8 30.5,-374.8 23.5,-374.8\" stroke=\"black\"/>\n",
       "<text font-family=\"Times,serif\" font-size=\"14.00\" text-anchor=\"middle\" x=\"32\" y=\"-355.8\">\\e</text>\n",
       "</g>\n",
       "<!-- 7 -->\n",
       "<g class=\"node\" id=\"node8\">\n",
       "<title>7</title>\n",
       "<path d=\"M97,-247C97,-247 67,-247 67,-247 61,-247 55,-241 55,-235 55,-235 55,-223 55,-223 55,-217 61,-211 67,-211 67,-211 97,-211 97,-211 103,-211 109,-217 109,-223 109,-223 109,-235 109,-235 109,-241 103,-247 97,-247\" fill=\"none\" stroke=\"black\"/>\n",
       "<text font-family=\"Times,serif\" font-size=\"14.00\" text-anchor=\"middle\" x=\"82\" y=\"-225.3\">t1</text>\n",
       "</g>\n",
       "<!-- 5&#45;&gt;7 -->\n",
       "<g class=\"edge\" id=\"edge8\">\n",
       "<title>5-&gt;7</title>\n",
       "<path d=\"M37.42,-297.75C43.35,-288.06 50.97,-275.78 58,-265 59.95,-262.01 62.02,-258.9 64.1,-255.81\" fill=\"none\" stroke=\"black\"/>\n",
       "<polygon fill=\"black\" points=\"67.14,-257.57 69.88,-247.34 61.35,-253.63 67.14,-257.57\" stroke=\"black\"/>\n",
       "<text font-family=\"Times,serif\" font-size=\"14.00\" text-anchor=\"middle\" x=\"63\" y=\"-268.8\">\\e</text>\n",
       "</g>\n",
       "<!-- 6&#45;&gt;4 -->\n",
       "<g class=\"edge\" id=\"edge9\">\n",
       "<title>6-&gt;4</title>\n",
       "<path d=\"M69.88,-471.66C66.03,-466.06 61.78,-459.8 58,-454 52.95,-446.25 47.59,-437.73 42.77,-429.95\" fill=\"none\" stroke=\"black\"/>\n",
       "<polygon fill=\"black\" points=\"45.64,-427.93 37.42,-421.25 39.68,-431.6 45.64,-427.93\" stroke=\"black\"/>\n",
       "<text font-family=\"Times,serif\" font-size=\"14.00\" text-anchor=\"middle\" x=\"63\" y=\"-442.8\">\\e</text>\n",
       "</g>\n",
       "<!-- 6&#45;&gt;7 -->\n",
       "<g class=\"edge\" id=\"edge10\">\n",
       "<title>6-&gt;7</title>\n",
       "<path d=\"M82,-471.6C82,-427.46 82,-310.83 82,-257.42\" fill=\"none\" stroke=\"black\"/>\n",
       "<polygon fill=\"black\" points=\"85.5,-257.32 82,-247.32 78.5,-257.32 85.5,-257.32\" stroke=\"black\"/>\n",
       "<text font-family=\"Times,serif\" font-size=\"14.00\" text-anchor=\"middle\" x=\"87\" y=\"-355.8\">\\e</text>\n",
       "</g>\n",
       "<!-- 7&#45;&gt;3 -->\n",
       "<g class=\"edge\" id=\"edge11\">\n",
       "<title>7-&gt;3</title>\n",
       "<path d=\"M109.16,-212.61C133.41,-198.87 169.09,-178.65 195.76,-163.54\" fill=\"none\" stroke=\"black\"/>\n",
       "<polygon fill=\"black\" points=\"197.81,-166.4 204.79,-158.42 194.36,-160.31 197.81,-166.4\" stroke=\"black\"/>\n",
       "<text font-family=\"Times,serif\" font-size=\"14.00\" text-anchor=\"middle\" x=\"170\" y=\"-181.8\">\\e</text>\n",
       "</g>\n",
       "<!-- 8 -->\n",
       "<g class=\"node\" id=\"node9\">\n",
       "<title>8</title>\n",
       "<path d=\"M152,-421C152,-421 122,-421 122,-421 116,-421 110,-415 110,-409 110,-409 110,-397 110,-397 110,-391 116,-385 122,-385 122,-385 152,-385 152,-385 158,-385 164,-391 164,-397 164,-397 164,-409 164,-409 164,-415 158,-421 152,-421\" fill=\"none\" stroke=\"black\"/>\n",
       "<text font-family=\"Times,serif\" font-size=\"14.00\" text-anchor=\"middle\" x=\"137\" y=\"-399.3\">s2</text>\n",
       "</g>\n",
       "<!-- 9 -->\n",
       "<g class=\"node\" id=\"node10\">\n",
       "<title>9</title>\n",
       "<path d=\"M152,-334C152,-334 122,-334 122,-334 116,-334 110,-328 110,-322 110,-322 110,-310 110,-310 110,-304 116,-298 122,-298 122,-298 152,-298 152,-298 158,-298 164,-304 164,-310 164,-310 164,-322 164,-322 164,-328 158,-334 152,-334\" fill=\"none\" stroke=\"black\"/>\n",
       "<text font-family=\"Times,serif\" font-size=\"14.00\" text-anchor=\"middle\" x=\"137\" y=\"-312.3\">t2</text>\n",
       "</g>\n",
       "<!-- 8&#45;&gt;9 -->\n",
       "<g class=\"edge\" id=\"edge12\">\n",
       "<title>8-&gt;9</title>\n",
       "<path d=\"M129.86,-384.85C127.87,-379.26 125.99,-372.96 125,-367 123.73,-359.37 124.69,-351.18 126.52,-343.68\" fill=\"none\" stroke=\"black\"/>\n",
       "<polygon fill=\"black\" points=\"129.91,-344.59 129.43,-334 123.2,-342.57 129.91,-344.59\" stroke=\"black\"/>\n",
       "<text font-family=\"Times,serif\" font-size=\"14.00\" text-anchor=\"middle\" x=\"128.5\" y=\"-355.8\">b</text>\n",
       "</g>\n",
       "<!-- 9&#45;&gt;8 -->\n",
       "<g class=\"edge\" id=\"edge13\">\n",
       "<title>9-&gt;8</title>\n",
       "<path d=\"M137,-334.18C137,-345.81 137,-361.42 137,-374.73\" fill=\"none\" stroke=\"black\"/>\n",
       "<polygon fill=\"black\" points=\"133.5,-374.8 137,-384.8 140.5,-374.8 133.5,-374.8\" stroke=\"black\"/>\n",
       "<text font-family=\"Times,serif\" font-size=\"14.00\" text-anchor=\"middle\" x=\"142\" y=\"-355.8\">\\e</text>\n",
       "</g>\n",
       "<!-- 11 -->\n",
       "<g class=\"node\" id=\"node12\">\n",
       "<title>11</title>\n",
       "<path d=\"M207,-247C207,-247 177,-247 177,-247 171,-247 165,-241 165,-235 165,-235 165,-223 165,-223 165,-217 171,-211 177,-211 177,-211 207,-211 207,-211 213,-211 219,-217 219,-223 219,-223 219,-235 219,-235 219,-241 213,-247 207,-247\" fill=\"none\" stroke=\"black\"/>\n",
       "<text font-family=\"Times,serif\" font-size=\"14.00\" text-anchor=\"middle\" x=\"192\" y=\"-225.3\">t3</text>\n",
       "</g>\n",
       "<!-- 9&#45;&gt;11 -->\n",
       "<g class=\"edge\" id=\"edge14\">\n",
       "<title>9-&gt;11</title>\n",
       "<path d=\"M147.42,-297.75C153.35,-288.06 160.97,-275.78 168,-265 169.95,-262.01 172.02,-258.9 174.1,-255.81\" fill=\"none\" stroke=\"black\"/>\n",
       "<polygon fill=\"black\" points=\"177.14,-257.57 179.88,-247.34 171.35,-253.63 177.14,-257.57\" stroke=\"black\"/>\n",
       "<text font-family=\"Times,serif\" font-size=\"14.00\" text-anchor=\"middle\" x=\"173\" y=\"-268.8\">\\e</text>\n",
       "</g>\n",
       "<!-- 10&#45;&gt;8 -->\n",
       "<g class=\"edge\" id=\"edge15\">\n",
       "<title>10-&gt;8</title>\n",
       "<path d=\"M164.98,-477.19C155.44,-471.59 145.67,-463.92 140,-454 136.14,-447.25 134.61,-439.12 134.26,-431.4\" fill=\"none\" stroke=\"black\"/>\n",
       "<polygon fill=\"black\" points=\"137.76,-431.33 134.39,-421.28 130.76,-431.23 137.76,-431.33\" stroke=\"black\"/>\n",
       "<text font-family=\"Times,serif\" font-size=\"14.00\" text-anchor=\"middle\" x=\"159\" y=\"-442.8\">&lt;-1&gt;\\e</text>\n",
       "</g>\n",
       "<!-- 10&#45;&gt;11 -->\n",
       "<g class=\"edge\" id=\"edge16\">\n",
       "<title>10-&gt;11</title>\n",
       "<path d=\"M192,-471.6C192,-427.46 192,-310.83 192,-257.42\" fill=\"none\" stroke=\"black\"/>\n",
       "<polygon fill=\"black\" points=\"195.5,-257.32 192,-247.32 188.5,-257.32 195.5,-257.32\" stroke=\"black\"/>\n",
       "<text font-family=\"Times,serif\" font-size=\"14.00\" text-anchor=\"middle\" x=\"211\" y=\"-355.8\">&lt;-1&gt;\\e</text>\n",
       "</g>\n",
       "<!-- 11&#45;&gt;3 -->\n",
       "<g class=\"edge\" id=\"edge17\">\n",
       "<title>11-&gt;3</title>\n",
       "<path d=\"M200.09,-210.8C205.68,-198.93 213.21,-182.93 219.55,-169.45\" fill=\"none\" stroke=\"black\"/>\n",
       "<polygon fill=\"black\" points=\"222.83,-170.71 223.92,-160.18 216.49,-167.73 222.83,-170.71\" stroke=\"black\"/>\n",
       "<text font-family=\"Times,serif\" font-size=\"14.00\" text-anchor=\"middle\" x=\"219\" y=\"-181.8\">\\e</text>\n",
       "</g>\n",
       "<!-- 12&#45;&gt;2 -->\n",
       "<g class=\"edge\" id=\"edge18\">\n",
       "<title>12-&gt;2</title>\n",
       "<path d=\"M256.73,-645.8C252.44,-634.05 246.68,-618.24 241.79,-604.84\" fill=\"none\" stroke=\"black\"/>\n",
       "<polygon fill=\"black\" points=\"244.98,-603.37 238.26,-595.18 238.4,-605.77 244.98,-603.37\" stroke=\"black\"/>\n",
       "<text font-family=\"Times,serif\" font-size=\"14.00\" text-anchor=\"middle\" x=\"254\" y=\"-616.8\">\\e</text>\n",
       "</g>\n",
       "<!-- 12&#45;&gt;13 -->\n",
       "<g class=\"edge\" id=\"edge19\">\n",
       "<title>12-&gt;13</title>\n",
       "<path d=\"M272.17,-645.96C280.33,-629.17 291,-602.55 291,-578 291,-578 291,-578 291,-141 291,-120.67 283.69,-98.92 276.53,-82.51\" fill=\"none\" stroke=\"black\"/>\n",
       "<polygon fill=\"black\" points=\"279.53,-80.66 272.17,-73.04 273.18,-83.59 279.53,-80.66\" stroke=\"black\"/>\n",
       "<text font-family=\"Times,serif\" font-size=\"14.00\" text-anchor=\"middle\" x=\"296\" y=\"-355.8\">\\e</text>\n",
       "</g>\n",
       "<!-- 13&#45;&gt;F13 -->\n",
       "<g class=\"edge\" id=\"edge20\">\n",
       "<title>13-&gt;F13</title>\n",
       "<path d=\"M263,-36.94C263,-28.5 263,-18.58 263,-11.31\" fill=\"none\" stroke=\"DimGray\"/>\n",
       "<polygon fill=\"DimGray\" points=\"266.5,-11.06 263,-1.06 259.5,-11.06 266.5,-11.06\" stroke=\"DimGray\"/>\n",
       "</g>\n",
       "</g>\n",
       "</svg>"
      ],
      "text/plain": [
       "<IPython.core.display.SVG object>"
      ]
     },
     "metadata": {},
     "output_type": "display_data"
    }
   ],
   "source": [
    "G = g.exp_to_aut(method=\"thompson\")\n",
    "G.display(horizontal=False)\n"
   ]
  },
  {
   "cell_type": "markdown",
   "metadata": {},
   "source": [
    "In this case, `thompson` produces an automaton that **is not valid**."
   ]
  },
  {
   "cell_type": "code",
   "execution_count": 28,
   "metadata": {},
   "outputs": [
    {
     "data": {
      "text/plain": [
       "False"
      ]
     },
     "execution_count": 28,
     "metadata": {},
     "output_type": "execute_result"
    }
   ],
   "source": [
    "G.is_valid()"
   ]
  },
  {
   "cell_type": "markdown",
   "metadata": {},
   "source": [
    "## Other functions"
   ]
  },
  {
   "cell_type": "markdown",
   "metadata": {},
   "source": [
    "The method `constant_term` gives the weight of epsilon"
   ]
  },
  {
   "cell_type": "code",
   "execution_count": 29,
   "metadata": {},
   "outputs": [
    {
     "data": {
      "text/plain": [
       "<3>((<1/4>(a*)+<1/4>(b*))*)<2>"
      ]
     },
     "execution_count": 29,
     "metadata": {},
     "output_type": "execute_result"
    }
   ],
   "source": [
    "j = awalipy.RatExp(\"<3>((<1/4>(a*)+<1/4>(b*))*)<2>\",\"Q\")\n",
    "j"
   ]
  },
  {
   "cell_type": "code",
   "execution_count": 30,
   "metadata": {},
   "outputs": [
    {
     "data": {
      "text/plain": [
       "'12'"
      ]
     },
     "execution_count": 30,
     "metadata": {},
     "output_type": "execute_result"
    }
   ],
   "source": [
    "j.constant_term()"
   ]
  },
  {
   "cell_type": "markdown",
   "metadata": {},
   "source": [
    "<hr>\n"
   ]
  },
  {
   "cell_type": "code",
   "execution_count": 31,
   "metadata": {},
   "outputs": [
    {
     "data": {
      "text/plain": [
       "Q"
      ]
     },
     "execution_count": 31,
     "metadata": {},
     "output_type": "execute_result"
    }
   ],
   "source": [
    "j.get_weightset()"
   ]
  },
  {
   "cell_type": "markdown",
   "metadata": {},
   "source": [
    "## Decomposing RatExp's\n",
    "### Kind of RatExp's"
   ]
  },
  {
   "cell_type": "markdown",
   "metadata": {},
   "source": [
    "The method `exp.get_kind()` gives the top level kind of a RatExp `exp`. \n",
    "(For instance, below, the top level operator of expression `j` is the Kleene star.)"
   ]
  },
  {
   "cell_type": "code",
   "execution_count": 32,
   "metadata": {},
   "outputs": [
    {
     "data": {
      "text/plain": [
       "STAR~5"
      ]
     },
     "execution_count": 32,
     "metadata": {},
     "output_type": "execute_result"
    }
   ],
   "source": [
    "j.get_kind()"
   ]
  },
  {
   "cell_type": "markdown",
   "metadata": {},
   "source": [
    "The method `get_kind()` returns an object of `RatExpKind`, which is a sort of enum. The different instances are accessible as follows."
   ]
  },
  {
   "cell_type": "code",
   "execution_count": 33,
   "metadata": {},
   "outputs": [
    {
     "data": {
      "text/plain": [
       "ZERO~0"
      ]
     },
     "execution_count": 33,
     "metadata": {},
     "output_type": "execute_result"
    }
   ],
   "source": [
    "awalipy.RatExp.ZERO"
   ]
  },
  {
   "cell_type": "code",
   "execution_count": 34,
   "metadata": {},
   "outputs": [
    {
     "data": {
      "text/plain": [
       "ONE~1"
      ]
     },
     "execution_count": 34,
     "metadata": {},
     "output_type": "execute_result"
    }
   ],
   "source": [
    "awalipy.RatExp.ONE"
   ]
  },
  {
   "cell_type": "code",
   "execution_count": 35,
   "metadata": {},
   "outputs": [
    {
     "data": {
      "text/plain": [
       "ATOM~2"
      ]
     },
     "execution_count": 35,
     "metadata": {},
     "output_type": "execute_result"
    }
   ],
   "source": [
    "awalipy.RatExp.ATOM"
   ]
  },
  {
   "cell_type": "code",
   "execution_count": 36,
   "metadata": {},
   "outputs": [
    {
     "data": {
      "text/plain": [
       "SUM~3"
      ]
     },
     "execution_count": 36,
     "metadata": {},
     "output_type": "execute_result"
    }
   ],
   "source": [
    "awalipy.RatExp.SUM"
   ]
  },
  {
   "cell_type": "code",
   "execution_count": 37,
   "metadata": {},
   "outputs": [
    {
     "data": {
      "text/plain": [
       "PROD~4"
      ]
     },
     "execution_count": 37,
     "metadata": {},
     "output_type": "execute_result"
    }
   ],
   "source": [
    "awalipy.RatExp.PROD"
   ]
  },
  {
   "cell_type": "code",
   "execution_count": 38,
   "metadata": {},
   "outputs": [
    {
     "data": {
      "text/plain": [
       "STAR~5"
      ]
     },
     "execution_count": 38,
     "metadata": {},
     "output_type": "execute_result"
    }
   ],
   "source": [
    "awalipy.RatExp.STAR"
   ]
  },
  {
   "cell_type": "markdown",
   "metadata": {},
   "source": [
    "The list of all possible instances of `RatExpKind` can be accessed via `RatExpKind.instance`."
   ]
  },
  {
   "cell_type": "code",
   "execution_count": 39,
   "metadata": {},
   "outputs": [
    {
     "data": {
      "text/plain": [
       "[ZERO~0, ONE~1, ATOM~2, SUM~3, PROD~4, STAR~5]"
      ]
     },
     "execution_count": 39,
     "metadata": {},
     "output_type": "execute_result"
    }
   ],
   "source": [
    "awalipy.RatExpKind.instances"
   ]
  },
  {
   "cell_type": "markdown",
   "metadata": {},
   "source": [
    "Object of type `RatExpKind` can be converted to or built from their integer value or their string value as follows."
   ]
  },
  {
   "cell_type": "code",
   "execution_count": 40,
   "metadata": {},
   "outputs": [
    {
     "data": {
      "text/plain": [
       "STAR~5"
      ]
     },
     "execution_count": 40,
     "metadata": {},
     "output_type": "execute_result"
    }
   ],
   "source": [
    "awalipy.RatExpKind.of[\"STAR\"]"
   ]
  },
  {
   "cell_type": "code",
   "execution_count": 41,
   "metadata": {},
   "outputs": [
    {
     "data": {
      "text/plain": [
       "'PROD'"
      ]
     },
     "execution_count": 41,
     "metadata": {},
     "output_type": "execute_result"
    }
   ],
   "source": [
    "str(awalipy.RatExp.PROD)"
   ]
  },
  {
   "cell_type": "code",
   "execution_count": 42,
   "metadata": {},
   "outputs": [
    {
     "data": {
      "text/plain": [
       "ATOM~2"
      ]
     },
     "execution_count": 42,
     "metadata": {},
     "output_type": "execute_result"
    }
   ],
   "source": [
    "awalipy.RatExpKind.of[2]"
   ]
  },
  {
   "cell_type": "code",
   "execution_count": 43,
   "metadata": {},
   "outputs": [
    {
     "data": {
      "text/plain": [
       "2"
      ]
     },
     "execution_count": 43,
     "metadata": {},
     "output_type": "execute_result"
    }
   ],
   "source": [
    "int(awalipy.RatExp.ATOM)"
   ]
  },
  {
   "cell_type": "markdown",
   "metadata": {},
   "source": [
    "### Sub-expression"
   ]
  },
  {
   "cell_type": "markdown",
   "metadata": {},
   "source": [
    "The method `ratexp.children()` gives the sub-expressions of a `RatExp` `ratexp`."
   ]
  },
  {
   "cell_type": "code",
   "execution_count": 44,
   "metadata": {},
   "outputs": [
    {
     "data": {
      "text/plain": [
       "[<1/4>(a*)+<1/4>(b*)]"
      ]
     },
     "execution_count": 44,
     "metadata": {},
     "output_type": "execute_result"
    }
   ],
   "source": [
    "j.children()"
   ]
  },
  {
   "cell_type": "markdown",
   "metadata": {},
   "source": [
    "In the case where the expression is a `RatExp.ATOM`, then `children()` gives the held label as string."
   ]
  },
  {
   "cell_type": "code",
   "execution_count": 45,
   "metadata": {},
   "outputs": [
    {
     "data": {
      "text/plain": [
       "ATOM~2"
      ]
     },
     "execution_count": 45,
     "metadata": {},
     "output_type": "execute_result"
    }
   ],
   "source": [
    "k = awalipy.RatExp('a')\n",
    "k.get_kind()"
   ]
  },
  {
   "cell_type": "code",
   "execution_count": 46,
   "metadata": {},
   "outputs": [
    {
     "data": {
      "text/plain": [
       "['a']"
      ]
     },
     "execution_count": 46,
     "metadata": {},
     "output_type": "execute_result"
    }
   ],
   "source": [
    "k.children()"
   ]
  },
  {
   "cell_type": "markdown",
   "metadata": {},
   "source": [
    "\n"
   ]
  },
  {
   "cell_type": "code",
   "execution_count": 47,
   "metadata": {},
   "outputs": [
    {
     "data": {
      "text/plain": [
       "ATOM~2"
      ]
     },
     "execution_count": 47,
     "metadata": {},
     "output_type": "execute_result"
    }
   ],
   "source": [
    "l = awalipy.RatExp('<2>a','Z')\n",
    "l.get_kind()"
   ]
  },
  {
   "cell_type": "code",
   "execution_count": 48,
   "metadata": {},
   "outputs": [
    {
     "data": {
      "text/plain": [
       "['a']"
      ]
     },
     "execution_count": 48,
     "metadata": {},
     "output_type": "execute_result"
    }
   ],
   "source": [
    "l.children()"
   ]
  },
  {
   "cell_type": "markdown",
   "metadata": {},
   "source": [
    "### Weights"
   ]
  },
  {
   "cell_type": "markdown",
   "metadata": {},
   "source": [
    "The method `ratexp.weight()` gives the left and right weights of a `RatExp` `ratexp`."
   ]
  },
  {
   "cell_type": "code",
   "execution_count": 49,
   "metadata": {},
   "outputs": [
    {
     "data": {
      "image/svg+xml": [
       "<svg height=\"98pt\" viewBox=\"0.00 0.00 422.00 98.00\" width=\"422pt\" xmlns=\"http://www.w3.org/2000/svg\" xmlns:xlink=\"http://www.w3.org/1999/xlink\">\n",
       "<g class=\"graph\" id=\"graph0\" transform=\"scale(1 1) rotate(0) translate(4 94)\">\n",
       "<title>%3</title>\n",
       "<polygon fill=\"white\" points=\"-4,4 -4,-94 418,-94 418,4 -4,4\" stroke=\"transparent\"/>\n",
       "<!-- I7 -->\n",
       "<g class=\"node\" id=\"node1\">\n",
       "<title>I7</title>\n",
       "<ellipse cx=\"0\" cy=\"-45\" fill=\"black\" rx=\"0\" ry=\"0\" stroke=\"black\"/>\n",
       "</g>\n",
       "<!-- 7 -->\n",
       "<g class=\"node\" id=\"node7\">\n",
       "<title>7</title>\n",
       "<path d=\"M104,-63C104,-63 49,-63 49,-63 43,-63 37,-57 37,-51 37,-51 37,-39 37,-39 37,-33 43,-27 49,-27 49,-27 104,-27 104,-27 110,-27 116,-33 116,-39 116,-39 116,-51 116,-51 116,-57 110,-63 104,-63\" fill=\"none\" stroke=\"DimGray\"/>\n",
       "<text font-family=\"Times,serif\" font-size=\"14.00\" text-anchor=\"middle\" x=\"76.5\" y=\"-41.3\">&lt;3&gt;[*]&lt;2&gt;</text>\n",
       "</g>\n",
       "<!-- I7&#45;&gt;7 -->\n",
       "<g class=\"edge\" id=\"edge1\">\n",
       "<title>I7-&gt;7</title>\n",
       "<path d=\"M1.05,-45C1.93,-45 13.25,-45 26.82,-45\" fill=\"none\" stroke=\"DimGray\"/>\n",
       "<polygon fill=\"DimGray\" points=\"26.97,-48.5 36.97,-45 26.97,-41.5 26.97,-48.5\" stroke=\"DimGray\"/>\n",
       "</g>\n",
       "<!-- 2 -->\n",
       "<g class=\"node\" id=\"node2\">\n",
       "<title>2</title>\n",
       "<path d=\"M198,-63C198,-63 168,-63 168,-63 162,-63 156,-57 156,-51 156,-51 156,-39 156,-39 156,-33 162,-27 168,-27 168,-27 198,-27 198,-27 204,-27 210,-33 210,-39 210,-39 210,-51 210,-51 210,-57 204,-63 198,-63\" fill=\"none\" stroke=\"DimGray\"/>\n",
       "<text font-family=\"Times,serif\" font-size=\"14.00\" text-anchor=\"middle\" x=\"183\" y=\"-41.3\">[+]</text>\n",
       "</g>\n",
       "<!-- 4 -->\n",
       "<g class=\"node\" id=\"node4\">\n",
       "<title>4</title>\n",
       "<path d=\"M308,-90C308,-90 266,-90 266,-90 260,-90 254,-84 254,-78 254,-78 254,-66 254,-66 254,-60 260,-54 266,-54 266,-54 308,-54 308,-54 314,-54 320,-60 320,-66 320,-66 320,-78 320,-78 320,-84 314,-90 308,-90\" fill=\"none\" stroke=\"DimGray\"/>\n",
       "<text font-family=\"Times,serif\" font-size=\"14.00\" text-anchor=\"middle\" x=\"287\" y=\"-68.3\">&lt;1/4&gt;[*]</text>\n",
       "</g>\n",
       "<!-- 2&#45;&gt;4 -->\n",
       "<g class=\"edge\" id=\"edge2\">\n",
       "<title>2-&gt;4</title>\n",
       "<path d=\"M210,-51.88C220.32,-54.61 232.45,-57.83 243.95,-60.87\" fill=\"none\" stroke=\"DimGray\"/>\n",
       "<polygon fill=\"DimGray\" points=\"243.28,-64.31 253.84,-63.49 245.07,-57.54 243.28,-64.31\" stroke=\"DimGray\"/>\n",
       "<text font-family=\"Times,serif\" font-size=\"14.00\" text-anchor=\"middle\" x=\"232\" y=\"-61.8\">.</text>\n",
       "</g>\n",
       "<!-- 6 -->\n",
       "<g class=\"node\" id=\"node6\">\n",
       "<title>6</title>\n",
       "<path d=\"M308,-36C308,-36 266,-36 266,-36 260,-36 254,-30 254,-24 254,-24 254,-12 254,-12 254,-6 260,0 266,0 266,0 308,0 308,0 314,0 320,-6 320,-12 320,-12 320,-24 320,-24 320,-30 314,-36 308,-36\" fill=\"none\" stroke=\"DimGray\"/>\n",
       "<text font-family=\"Times,serif\" font-size=\"14.00\" text-anchor=\"middle\" x=\"287\" y=\"-14.3\">&lt;1/4&gt;[*]</text>\n",
       "</g>\n",
       "<!-- 2&#45;&gt;6 -->\n",
       "<g class=\"edge\" id=\"edge3\">\n",
       "<title>2-&gt;6</title>\n",
       "<path d=\"M210,-38.12C220.32,-35.39 232.45,-32.17 243.95,-29.13\" fill=\"none\" stroke=\"DimGray\"/>\n",
       "<polygon fill=\"DimGray\" points=\"245.07,-32.46 253.84,-26.51 243.28,-25.69 245.07,-32.46\" stroke=\"DimGray\"/>\n",
       "<text font-family=\"Times,serif\" font-size=\"14.00\" text-anchor=\"middle\" x=\"232\" y=\"-36.8\">..</text>\n",
       "</g>\n",
       "<!-- 3 -->\n",
       "<g class=\"node\" id=\"node3\">\n",
       "<title>3</title>\n",
       "<path d=\"M402,-90C402,-90 372,-90 372,-90 366,-90 360,-84 360,-78 360,-78 360,-66 360,-66 360,-60 366,-54 372,-54 372,-54 402,-54 402,-54 408,-54 414,-60 414,-66 414,-66 414,-78 414,-78 414,-84 408,-90 402,-90\" fill=\"none\" stroke=\"DimGray\"/>\n",
       "<text font-family=\"Times,serif\" font-size=\"14.00\" text-anchor=\"middle\" x=\"387\" y=\"-68.3\">a</text>\n",
       "</g>\n",
       "<!-- 4&#45;&gt;3 -->\n",
       "<g class=\"edge\" id=\"edge4\">\n",
       "<title>4-&gt;3</title>\n",
       "<path d=\"M320.09,-72C329.52,-72 339.9,-72 349.58,-72\" fill=\"none\" stroke=\"DimGray\"/>\n",
       "<polygon fill=\"DimGray\" points=\"349.73,-75.5 359.73,-72 349.73,-68.5 349.73,-75.5\" stroke=\"DimGray\"/>\n",
       "<text font-family=\"Times,serif\" font-size=\"14.00\" text-anchor=\"middle\" x=\"340\" y=\"-75.8\"> </text>\n",
       "</g>\n",
       "<!-- 5 -->\n",
       "<g class=\"node\" id=\"node5\">\n",
       "<title>5</title>\n",
       "<path d=\"M402,-36C402,-36 372,-36 372,-36 366,-36 360,-30 360,-24 360,-24 360,-12 360,-12 360,-6 366,0 372,0 372,0 402,0 402,0 408,0 414,-6 414,-12 414,-12 414,-24 414,-24 414,-30 408,-36 402,-36\" fill=\"none\" stroke=\"DimGray\"/>\n",
       "<text font-family=\"Times,serif\" font-size=\"14.00\" text-anchor=\"middle\" x=\"387\" y=\"-14.3\">b</text>\n",
       "</g>\n",
       "<!-- 6&#45;&gt;5 -->\n",
       "<g class=\"edge\" id=\"edge5\">\n",
       "<title>6-&gt;5</title>\n",
       "<path d=\"M320.09,-18C329.52,-18 339.9,-18 349.58,-18\" fill=\"none\" stroke=\"DimGray\"/>\n",
       "<polygon fill=\"DimGray\" points=\"349.73,-21.5 359.73,-18 349.73,-14.5 349.73,-21.5\" stroke=\"DimGray\"/>\n",
       "<text font-family=\"Times,serif\" font-size=\"14.00\" text-anchor=\"middle\" x=\"340\" y=\"-21.8\"> </text>\n",
       "</g>\n",
       "<!-- 7&#45;&gt;2 -->\n",
       "<g class=\"edge\" id=\"edge6\">\n",
       "<title>7-&gt;2</title>\n",
       "<path d=\"M116.12,-45C125.85,-45 136.26,-45 145.87,-45\" fill=\"none\" stroke=\"DimGray\"/>\n",
       "<polygon fill=\"DimGray\" points=\"145.91,-48.5 155.91,-45 145.91,-41.5 145.91,-48.5\" stroke=\"DimGray\"/>\n",
       "<text font-family=\"Times,serif\" font-size=\"14.00\" text-anchor=\"middle\" x=\"136\" y=\"-48.8\"> </text>\n",
       "</g>\n",
       "</g>\n",
       "</svg>"
      ],
      "text/plain": [
       "<IPython.core.display.SVG object>"
      ]
     },
     "metadata": {},
     "output_type": "display_data"
    }
   ],
   "source": [
    "j.display()"
   ]
  },
  {
   "cell_type": "code",
   "execution_count": 50,
   "metadata": {},
   "outputs": [
    {
     "data": {
      "text/plain": [
       "['3', '2']"
      ]
     },
     "execution_count": 50,
     "metadata": {},
     "output_type": "execute_result"
    }
   ],
   "source": [
    "j.weight()"
   ]
  },
  {
   "cell_type": "markdown",
   "metadata": {},
   "source": [
    "\n"
   ]
  },
  {
   "cell_type": "code",
   "execution_count": 51,
   "metadata": {},
   "outputs": [
    {
     "data": {
      "image/svg+xml": [
       "<svg height=\"44pt\" viewBox=\"0.00 0.00 98.00 44.00\" width=\"98pt\" xmlns=\"http://www.w3.org/2000/svg\" xmlns:xlink=\"http://www.w3.org/1999/xlink\">\n",
       "<g class=\"graph\" id=\"graph0\" transform=\"scale(1 1) rotate(0) translate(4 40)\">\n",
       "<title>%3</title>\n",
       "<polygon fill=\"white\" points=\"-4,4 -4,-40 94,-40 94,4 -4,4\" stroke=\"transparent\"/>\n",
       "<!-- I2 -->\n",
       "<g class=\"node\" id=\"node1\">\n",
       "<title>I2</title>\n",
       "<ellipse cx=\"0\" cy=\"-18\" fill=\"black\" rx=\"0\" ry=\"0\" stroke=\"black\"/>\n",
       "</g>\n",
       "<!-- 2 -->\n",
       "<g class=\"node\" id=\"node2\">\n",
       "<title>2</title>\n",
       "<path d=\"M78,-36C78,-36 48,-36 48,-36 42,-36 36,-30 36,-24 36,-24 36,-12 36,-12 36,-6 42,0 48,0 48,0 78,0 78,0 84,0 90,-6 90,-12 90,-12 90,-24 90,-24 90,-30 84,-36 78,-36\" fill=\"none\" stroke=\"DimGray\"/>\n",
       "<text font-family=\"Times,serif\" font-size=\"14.00\" text-anchor=\"middle\" x=\"63\" y=\"-14.3\">a</text>\n",
       "</g>\n",
       "<!-- I2&#45;&gt;2 -->\n",
       "<g class=\"edge\" id=\"edge1\">\n",
       "<title>I2-&gt;2</title>\n",
       "<path d=\"M1.04,-18C1.83,-18 12.98,-18 25.53,-18\" fill=\"none\" stroke=\"DimGray\"/>\n",
       "<polygon fill=\"DimGray\" points=\"25.72,-21.5 35.72,-18 25.72,-14.5 25.72,-21.5\" stroke=\"DimGray\"/>\n",
       "</g>\n",
       "</g>\n",
       "</svg>"
      ],
      "text/plain": [
       "<IPython.core.display.SVG object>"
      ]
     },
     "metadata": {},
     "output_type": "display_data"
    }
   ],
   "source": [
    "k.display()"
   ]
  },
  {
   "cell_type": "code",
   "execution_count": 52,
   "metadata": {},
   "outputs": [
    {
     "data": {
      "text/plain": [
       "['1', '1']"
      ]
     },
     "execution_count": 52,
     "metadata": {},
     "output_type": "execute_result"
    }
   ],
   "source": [
    "k.weight()"
   ]
  },
  {
   "cell_type": "markdown",
   "metadata": {},
   "source": [
    "\n"
   ]
  },
  {
   "cell_type": "code",
   "execution_count": 53,
   "metadata": {},
   "outputs": [
    {
     "data": {
      "image/svg+xml": [
       "<svg height=\"44pt\" viewBox=\"0.00 0.00 98.00 44.00\" width=\"98pt\" xmlns=\"http://www.w3.org/2000/svg\" xmlns:xlink=\"http://www.w3.org/1999/xlink\">\n",
       "<g class=\"graph\" id=\"graph0\" transform=\"scale(1 1) rotate(0) translate(4 40)\">\n",
       "<title>%3</title>\n",
       "<polygon fill=\"white\" points=\"-4,4 -4,-40 94,-40 94,4 -4,4\" stroke=\"transparent\"/>\n",
       "<!-- I2 -->\n",
       "<g class=\"node\" id=\"node1\">\n",
       "<title>I2</title>\n",
       "<ellipse cx=\"0\" cy=\"-18\" fill=\"black\" rx=\"0\" ry=\"0\" stroke=\"black\"/>\n",
       "</g>\n",
       "<!-- 2 -->\n",
       "<g class=\"node\" id=\"node2\">\n",
       "<title>2</title>\n",
       "<path d=\"M78,-36C78,-36 48,-36 48,-36 42,-36 36,-30 36,-24 36,-24 36,-12 36,-12 36,-6 42,0 48,0 48,0 78,0 78,0 84,0 90,-6 90,-12 90,-12 90,-24 90,-24 90,-30 84,-36 78,-36\" fill=\"none\" stroke=\"DimGray\"/>\n",
       "<text font-family=\"Times,serif\" font-size=\"14.00\" text-anchor=\"middle\" x=\"63\" y=\"-14.3\">&lt;2&gt;a</text>\n",
       "</g>\n",
       "<!-- I2&#45;&gt;2 -->\n",
       "<g class=\"edge\" id=\"edge1\">\n",
       "<title>I2-&gt;2</title>\n",
       "<path d=\"M1.04,-18C1.83,-18 12.98,-18 25.53,-18\" fill=\"none\" stroke=\"DimGray\"/>\n",
       "<polygon fill=\"DimGray\" points=\"25.72,-21.5 35.72,-18 25.72,-14.5 25.72,-21.5\" stroke=\"DimGray\"/>\n",
       "</g>\n",
       "</g>\n",
       "</svg>"
      ],
      "text/plain": [
       "<IPython.core.display.SVG object>"
      ]
     },
     "metadata": {},
     "output_type": "display_data"
    }
   ],
   "source": [
    "l.display()"
   ]
  },
  {
   "cell_type": "code",
   "execution_count": 54,
   "metadata": {},
   "outputs": [
    {
     "data": {
      "text/plain": [
       "['2', '1']"
      ]
     },
     "execution_count": 54,
     "metadata": {},
     "output_type": "execute_result"
    }
   ],
   "source": [
    "l.weight()"
   ]
  },
  {
   "cell_type": "markdown",
   "metadata": {},
   "source": [
    "### Unpack a RatExp"
   ]
  },
  {
   "cell_type": "markdown",
   "metadata": {},
   "source": [
    "The method `ratexp.content()` gives the full top-level content of a `RatExp` `exp`."
   ]
  },
  {
   "cell_type": "code",
   "execution_count": 55,
   "metadata": {},
   "outputs": [
    {
     "data": {
      "image/svg+xml": [
       "<svg height=\"98pt\" viewBox=\"0.00 0.00 422.00 98.00\" width=\"422pt\" xmlns=\"http://www.w3.org/2000/svg\" xmlns:xlink=\"http://www.w3.org/1999/xlink\">\n",
       "<g class=\"graph\" id=\"graph0\" transform=\"scale(1 1) rotate(0) translate(4 94)\">\n",
       "<title>%3</title>\n",
       "<polygon fill=\"white\" points=\"-4,4 -4,-94 418,-94 418,4 -4,4\" stroke=\"transparent\"/>\n",
       "<!-- I7 -->\n",
       "<g class=\"node\" id=\"node1\">\n",
       "<title>I7</title>\n",
       "<ellipse cx=\"0\" cy=\"-45\" fill=\"black\" rx=\"0\" ry=\"0\" stroke=\"black\"/>\n",
       "</g>\n",
       "<!-- 7 -->\n",
       "<g class=\"node\" id=\"node7\">\n",
       "<title>7</title>\n",
       "<path d=\"M104,-63C104,-63 49,-63 49,-63 43,-63 37,-57 37,-51 37,-51 37,-39 37,-39 37,-33 43,-27 49,-27 49,-27 104,-27 104,-27 110,-27 116,-33 116,-39 116,-39 116,-51 116,-51 116,-57 110,-63 104,-63\" fill=\"none\" stroke=\"DimGray\"/>\n",
       "<text font-family=\"Times,serif\" font-size=\"14.00\" text-anchor=\"middle\" x=\"76.5\" y=\"-41.3\">&lt;3&gt;[*]&lt;2&gt;</text>\n",
       "</g>\n",
       "<!-- I7&#45;&gt;7 -->\n",
       "<g class=\"edge\" id=\"edge1\">\n",
       "<title>I7-&gt;7</title>\n",
       "<path d=\"M1.05,-45C1.93,-45 13.25,-45 26.82,-45\" fill=\"none\" stroke=\"DimGray\"/>\n",
       "<polygon fill=\"DimGray\" points=\"26.97,-48.5 36.97,-45 26.97,-41.5 26.97,-48.5\" stroke=\"DimGray\"/>\n",
       "</g>\n",
       "<!-- 2 -->\n",
       "<g class=\"node\" id=\"node2\">\n",
       "<title>2</title>\n",
       "<path d=\"M198,-63C198,-63 168,-63 168,-63 162,-63 156,-57 156,-51 156,-51 156,-39 156,-39 156,-33 162,-27 168,-27 168,-27 198,-27 198,-27 204,-27 210,-33 210,-39 210,-39 210,-51 210,-51 210,-57 204,-63 198,-63\" fill=\"none\" stroke=\"DimGray\"/>\n",
       "<text font-family=\"Times,serif\" font-size=\"14.00\" text-anchor=\"middle\" x=\"183\" y=\"-41.3\">[+]</text>\n",
       "</g>\n",
       "<!-- 4 -->\n",
       "<g class=\"node\" id=\"node4\">\n",
       "<title>4</title>\n",
       "<path d=\"M308,-90C308,-90 266,-90 266,-90 260,-90 254,-84 254,-78 254,-78 254,-66 254,-66 254,-60 260,-54 266,-54 266,-54 308,-54 308,-54 314,-54 320,-60 320,-66 320,-66 320,-78 320,-78 320,-84 314,-90 308,-90\" fill=\"none\" stroke=\"DimGray\"/>\n",
       "<text font-family=\"Times,serif\" font-size=\"14.00\" text-anchor=\"middle\" x=\"287\" y=\"-68.3\">&lt;1/4&gt;[*]</text>\n",
       "</g>\n",
       "<!-- 2&#45;&gt;4 -->\n",
       "<g class=\"edge\" id=\"edge2\">\n",
       "<title>2-&gt;4</title>\n",
       "<path d=\"M210,-51.88C220.32,-54.61 232.45,-57.83 243.95,-60.87\" fill=\"none\" stroke=\"DimGray\"/>\n",
       "<polygon fill=\"DimGray\" points=\"243.28,-64.31 253.84,-63.49 245.07,-57.54 243.28,-64.31\" stroke=\"DimGray\"/>\n",
       "<text font-family=\"Times,serif\" font-size=\"14.00\" text-anchor=\"middle\" x=\"232\" y=\"-61.8\">.</text>\n",
       "</g>\n",
       "<!-- 6 -->\n",
       "<g class=\"node\" id=\"node6\">\n",
       "<title>6</title>\n",
       "<path d=\"M308,-36C308,-36 266,-36 266,-36 260,-36 254,-30 254,-24 254,-24 254,-12 254,-12 254,-6 260,0 266,0 266,0 308,0 308,0 314,0 320,-6 320,-12 320,-12 320,-24 320,-24 320,-30 314,-36 308,-36\" fill=\"none\" stroke=\"DimGray\"/>\n",
       "<text font-family=\"Times,serif\" font-size=\"14.00\" text-anchor=\"middle\" x=\"287\" y=\"-14.3\">&lt;1/4&gt;[*]</text>\n",
       "</g>\n",
       "<!-- 2&#45;&gt;6 -->\n",
       "<g class=\"edge\" id=\"edge3\">\n",
       "<title>2-&gt;6</title>\n",
       "<path d=\"M210,-38.12C220.32,-35.39 232.45,-32.17 243.95,-29.13\" fill=\"none\" stroke=\"DimGray\"/>\n",
       "<polygon fill=\"DimGray\" points=\"245.07,-32.46 253.84,-26.51 243.28,-25.69 245.07,-32.46\" stroke=\"DimGray\"/>\n",
       "<text font-family=\"Times,serif\" font-size=\"14.00\" text-anchor=\"middle\" x=\"232\" y=\"-36.8\">..</text>\n",
       "</g>\n",
       "<!-- 3 -->\n",
       "<g class=\"node\" id=\"node3\">\n",
       "<title>3</title>\n",
       "<path d=\"M402,-90C402,-90 372,-90 372,-90 366,-90 360,-84 360,-78 360,-78 360,-66 360,-66 360,-60 366,-54 372,-54 372,-54 402,-54 402,-54 408,-54 414,-60 414,-66 414,-66 414,-78 414,-78 414,-84 408,-90 402,-90\" fill=\"none\" stroke=\"DimGray\"/>\n",
       "<text font-family=\"Times,serif\" font-size=\"14.00\" text-anchor=\"middle\" x=\"387\" y=\"-68.3\">a</text>\n",
       "</g>\n",
       "<!-- 4&#45;&gt;3 -->\n",
       "<g class=\"edge\" id=\"edge4\">\n",
       "<title>4-&gt;3</title>\n",
       "<path d=\"M320.09,-72C329.52,-72 339.9,-72 349.58,-72\" fill=\"none\" stroke=\"DimGray\"/>\n",
       "<polygon fill=\"DimGray\" points=\"349.73,-75.5 359.73,-72 349.73,-68.5 349.73,-75.5\" stroke=\"DimGray\"/>\n",
       "<text font-family=\"Times,serif\" font-size=\"14.00\" text-anchor=\"middle\" x=\"340\" y=\"-75.8\"> </text>\n",
       "</g>\n",
       "<!-- 5 -->\n",
       "<g class=\"node\" id=\"node5\">\n",
       "<title>5</title>\n",
       "<path d=\"M402,-36C402,-36 372,-36 372,-36 366,-36 360,-30 360,-24 360,-24 360,-12 360,-12 360,-6 366,0 372,0 372,0 402,0 402,0 408,0 414,-6 414,-12 414,-12 414,-24 414,-24 414,-30 408,-36 402,-36\" fill=\"none\" stroke=\"DimGray\"/>\n",
       "<text font-family=\"Times,serif\" font-size=\"14.00\" text-anchor=\"middle\" x=\"387\" y=\"-14.3\">b</text>\n",
       "</g>\n",
       "<!-- 6&#45;&gt;5 -->\n",
       "<g class=\"edge\" id=\"edge5\">\n",
       "<title>6-&gt;5</title>\n",
       "<path d=\"M320.09,-18C329.52,-18 339.9,-18 349.58,-18\" fill=\"none\" stroke=\"DimGray\"/>\n",
       "<polygon fill=\"DimGray\" points=\"349.73,-21.5 359.73,-18 349.73,-14.5 349.73,-21.5\" stroke=\"DimGray\"/>\n",
       "<text font-family=\"Times,serif\" font-size=\"14.00\" text-anchor=\"middle\" x=\"340\" y=\"-21.8\"> </text>\n",
       "</g>\n",
       "<!-- 7&#45;&gt;2 -->\n",
       "<g class=\"edge\" id=\"edge6\">\n",
       "<title>7-&gt;2</title>\n",
       "<path d=\"M116.12,-45C125.85,-45 136.26,-45 145.87,-45\" fill=\"none\" stroke=\"DimGray\"/>\n",
       "<polygon fill=\"DimGray\" points=\"145.91,-48.5 155.91,-45 145.91,-41.5 145.91,-48.5\" stroke=\"DimGray\"/>\n",
       "<text font-family=\"Times,serif\" font-size=\"14.00\" text-anchor=\"middle\" x=\"136\" y=\"-48.8\"> </text>\n",
       "</g>\n",
       "</g>\n",
       "</svg>"
      ],
      "text/plain": [
       "<IPython.core.display.SVG object>"
      ]
     },
     "metadata": {},
     "output_type": "display_data"
    },
    {
     "data": {
      "text/plain": [
       "<3>((<1/4>(a*)+<1/4>(b*))*)<2>"
      ]
     },
     "execution_count": 55,
     "metadata": {},
     "output_type": "execute_result"
    }
   ],
   "source": [
    "j.display()\n",
    "j"
   ]
  },
  {
   "cell_type": "code",
   "execution_count": 56,
   "metadata": {},
   "outputs": [
    {
     "data": {
      "text/plain": [
       "[STAR~5, '3', <1/4>(a*)+<1/4>(b*), '2']"
      ]
     },
     "execution_count": 56,
     "metadata": {},
     "output_type": "execute_result"
    }
   ],
   "source": [
    "j.content()"
   ]
  },
  {
   "cell_type": "code",
   "execution_count": null,
   "metadata": {},
   "outputs": [],
   "source": []
  },
  {
   "cell_type": "code",
   "execution_count": null,
   "metadata": {},
   "outputs": [],
   "source": []
  },
  {
   "cell_type": "code",
   "execution_count": null,
   "metadata": {},
   "outputs": [],
   "source": []
  },
  {
   "cell_type": "code",
   "execution_count": null,
   "metadata": {},
   "outputs": [],
   "source": []
  },
  {
   "cell_type": "code",
   "execution_count": null,
   "metadata": {},
   "outputs": [],
   "source": []
  }
 ],
 "metadata": {
  "kernelspec": {
   "display_name": "Python 2",
   "language": "python",
   "name": "python2"
  },
  "language_info": {
   "codemirror_mode": {
    "name": "ipython",
    "version": 2
   },
   "file_extension": ".py",
   "mimetype": "text/x-python",
   "name": "python",
   "nbconvert_exporter": "python",
   "pygments_lexer": "ipython2",
   "version": "2.7.13"
  }
 },
 "nbformat": 4,
 "nbformat_minor": 1
}
