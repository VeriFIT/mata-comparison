{
 "cells": [
  {
   "cell_type": "markdown",
   "metadata": {},
   "source": [
    "# Edition, visualisation, traversal\n",
    "## Weighted automata\n",
    "<br>\n"
   ]
  },
  {
   "cell_type": "code",
   "execution_count": 1,
   "metadata": {},
   "outputs": [
    {
     "data": {
      "application/javascript": [
       "IPython.notebook.set_autosave_interval(0)"
      ]
     },
     "metadata": {},
     "output_type": "display_data"
    },
    {
     "name": "stdout",
     "output_type": "stream",
     "text": [
      "Autosave disabled\n"
     ]
    }
   ],
   "source": [
    "# We disable autosave for technical reasons.\n",
    "# Replace 0 by 120 in next line to restore default.\n",
    "%autosave 0"
   ]
  },
  {
   "cell_type": "code",
   "execution_count": 2,
   "metadata": {},
   "outputs": [
    {
     "name": "stdout",
     "output_type": "stream",
     "text": [
      "[Warning] The python module awalipy relies on compilation executed \"on-the-fly\" depending on the context (type of weights, of labels, etc.). As a result, the very first call to a given function in a given context may take up to 10 seconds. \n"
     ]
    }
   ],
   "source": [
    "import awalipy # If import fails, check that \n",
    "               # Python version used as Jupyter\n",
    "               # kernel matches the one\n",
    "               # Awalipy was compiled with."
   ]
  },
  {
   "cell_type": "markdown",
   "metadata": {},
   "source": [
    "## Creating an weighted automaton or transducer"
   ]
  },
  {
   "cell_type": "markdown",
   "metadata": {},
   "source": [
    "The constructor of both `Transducer` and `Automaton` take a second optional argument `weightset` of type `str`. Currently the weightsets implemented in awali are the following:\n",
    "\n",
    "- `\"B\"` : the set {true, false}, endowed with *and* and *or*\n",
    "- `\"N\"` : the set of natural integers endowed with $+$ and $\\times$ \n",
    "- `\"Z\"` : the set of relative integers endowed with $+$ and $\\times$ \n",
    "- `\"Q\"` : the set of rational numbers endowed with $+$ and $\\times$\n",
    "- `\"R\"` : the set of real numbers (double) endowed with $+$ and $\\times$\n",
    "- `\"C\"` : the set of complex numbers (pairs of double) endowed with $+$ and $\\times$\n",
    "- `\"N-oo\"`: the set of natural integers completed with an infinite element, endowed with $+$ and $\\times$\n",
    "- `\"Z-min-plus\"`, set of relative integers endowed with $\\min$ and $+$\n",
    "- `\"Z-max-plus\"`, set of relative integers endowed with $\\max$ and $+$\n",
    "- `\"R-max-prod\"`, set of real numbers (double) endowed with $\\max$ and $\\times$\n",
    "- `\"Fuzzy\"`, the set of integers endowed with $\\min$ and $\\max$\n",
    "- `\"Z/kZ\"` (eg. `\"Z/3Z\"` `\"Z/99Z\"`), cyclic semiring of cardinal k, endowed with $+$ and $\\times$<br>\n",
    "- `\"Nk\"` (e.g `\"N3\"`, `\"N20\"`), the set $\\{0,...,k\\}$, endowed with $+$ (with $k+1=k$) and $\\times$."
   ]
  },
  {
   "cell_type": "markdown",
   "metadata": {},
   "source": [
    "---\n",
    "Creating an automaton over alphabet {0,1} and weightset Z."
   ]
  },
  {
   "cell_type": "code",
   "execution_count": 3,
   "metadata": {},
   "outputs": [],
   "source": [
    "A = awalipy.Automaton(\"01\", \"Z\")"
   ]
  },
  {
   "cell_type": "markdown",
   "metadata": {},
   "source": [
    "---\n",
    "Adding states is the same as for unweighted automata."
   ]
  },
  {
   "cell_type": "code",
   "execution_count": 4,
   "metadata": {},
   "outputs": [],
   "source": [
    "stt_0 = A.add_state()\n",
    "stt_1 = A.add_state()"
   ]
  },
  {
   "cell_type": "markdown",
   "metadata": {},
   "source": [
    "---\n",
    "Transitions of weighted automata bear weights.\n",
    "\n",
    "- The function `set_transition` takes an optional fourth argument of type `str` representing a weight.\n",
    "- The function `set_initial` and `set_final` take an optional second argument of type `str` representing a weight."
   ]
  },
  {
   "cell_type": "code",
   "execution_count": 5,
   "metadata": {},
   "outputs": [
    {
     "data": {
      "image/svg+xml": [
       "<svg height=\"77pt\" viewBox=\"0.00 0.00 166.00 77.00\" width=\"166pt\" xmlns=\"http://www.w3.org/2000/svg\" xmlns:xlink=\"http://www.w3.org/1999/xlink\">\n",
       "<g class=\"graph\" id=\"graph0\" transform=\"scale(1 1) rotate(0) translate(4 73)\">\n",
       "<title>%3</title>\n",
       "<polygon fill=\"white\" points=\"-4,4 -4,-73 162,-73 162,4 -4,4\" stroke=\"transparent\"/>\n",
       "<!-- 2 -->\n",
       "<g class=\"node\" id=\"node1\">\n",
       "<title>2</title>\n",
       "<path d=\"M42,-36C42,-36 12,-36 12,-36 6,-36 0,-30 0,-24 0,-24 0,-12 0,-12 0,-6 6,0 12,0 12,0 42,0 42,0 48,0 54,-6 54,-12 54,-12 54,-24 54,-24 54,-30 48,-36 42,-36\" fill=\"none\" stroke=\"DimGray\"/>\n",
       "<text font-family=\"Times,serif\" font-size=\"14.00\" text-anchor=\"middle\" x=\"27\" y=\"-14.3\">$0</text>\n",
       "</g>\n",
       "<!-- 2&#45;&gt;2 -->\n",
       "<g class=\"edge\" id=\"edge1\">\n",
       "<title>2-&gt;2</title>\n",
       "<path d=\"M18.32,-36.15C16.98,-45.54 19.88,-54 27,-54 31.34,-54 34.11,-50.86 35.31,-46.28\" fill=\"none\" stroke=\"DimGray\"/>\n",
       "<polygon fill=\"DimGray\" points=\"38.82,-46.27 35.68,-36.15 31.82,-46.02 38.82,-46.27\" stroke=\"DimGray\"/>\n",
       "<text font-family=\"Times,serif\" font-size=\"14.00\" text-anchor=\"middle\" x=\"27\" y=\"-57.8\">0, 1</text>\n",
       "</g>\n",
       "<!-- 3 -->\n",
       "<g class=\"node\" id=\"node2\">\n",
       "<title>3</title>\n",
       "<path d=\"M139,-36C139,-36 109,-36 109,-36 103,-36 97,-30 97,-24 97,-24 97,-12 97,-12 97,-6 103,0 109,0 109,0 139,0 139,0 145,0 151,-6 151,-12 151,-12 151,-24 151,-24 151,-30 145,-36 139,-36\" fill=\"none\" stroke=\"DimGray\"/>\n",
       "<text font-family=\"Times,serif\" font-size=\"14.00\" text-anchor=\"middle\" x=\"124\" y=\"-14.3\">$1</text>\n",
       "</g>\n",
       "<!-- 2&#45;&gt;3 -->\n",
       "<g class=\"edge\" id=\"edge2\">\n",
       "<title>2-&gt;3</title>\n",
       "<path d=\"M54.21,-18C64.28,-18 75.96,-18 86.81,-18\" fill=\"none\" stroke=\"DimGray\"/>\n",
       "<polygon fill=\"DimGray\" points=\"86.87,-21.5 96.87,-18 86.87,-14.5 86.87,-21.5\" stroke=\"DimGray\"/>\n",
       "<text font-family=\"Times,serif\" font-size=\"14.00\" text-anchor=\"middle\" x=\"75.5\" y=\"-21.8\">1</text>\n",
       "</g>\n",
       "<!-- 3&#45;&gt;3 -->\n",
       "<g class=\"edge\" id=\"edge3\">\n",
       "<title>3-&gt;3</title>\n",
       "<path d=\"M115.32,-36.15C113.98,-45.54 116.88,-54 124,-54 128.34,-54 131.11,-50.86 132.31,-46.28\" fill=\"none\" stroke=\"DimGray\"/>\n",
       "<polygon fill=\"DimGray\" points=\"135.82,-46.27 132.68,-36.15 128.82,-46.02 135.82,-46.27\" stroke=\"DimGray\"/>\n",
       "<text font-family=\"Times,serif\" font-size=\"14.00\" text-anchor=\"middle\" x=\"124\" y=\"-57.8\">&lt;2&gt;0, &lt;2&gt;1</text>\n",
       "</g>\n",
       "</g>\n",
       "</svg>"
      ],
      "text/plain": [
       "<IPython.core.display.SVG object>"
      ]
     },
     "metadata": {},
     "output_type": "display_data"
    }
   ],
   "source": [
    "tr_0 = A.set_transition(stt_0,stt_0,\"0\",\"1\")\n",
    "tr_1 = A.set_transition(stt_0,stt_0,\"1\")        # Default \"weight\" parameter is the neutral element for multiplication.\n",
    "tr_2 = A.set_transition(stt_0,stt_1,\"1\")        # In \"Z\" it is 1 and is not displayed.\n",
    "tr_3 = A.set_transition(stt_1,stt_1,\"0\",\"2\")\n",
    "tr_4 = A.set_transition(stt_1,stt_1,\"1\",\"2\")\n",
    "A.display()"
   ]
  },
  {
   "cell_type": "markdown",
   "metadata": {},
   "source": [
    "As may be seen above, weights are displayed between `<`...`>` and if a weight is the weightset multiplicative neutral element, then it is usually omitted.\n"
   ]
  },
  {
   "cell_type": "code",
   "execution_count": 6,
   "metadata": {},
   "outputs": [
    {
     "data": {
      "image/svg+xml": [
       "<svg height=\"77pt\" viewBox=\"0.00 0.00 256.00 77.00\" width=\"256pt\" xmlns=\"http://www.w3.org/2000/svg\" xmlns:xlink=\"http://www.w3.org/1999/xlink\">\n",
       "<g class=\"graph\" id=\"graph0\" transform=\"scale(1 1) rotate(0) translate(4 73)\">\n",
       "<title>%3</title>\n",
       "<polygon fill=\"white\" points=\"-4,4 -4,-73 252,-73 252,4 -4,4\" stroke=\"transparent\"/>\n",
       "<!-- I2 -->\n",
       "<g class=\"node\" id=\"node1\">\n",
       "<title>I2</title>\n",
       "<ellipse cx=\"0\" cy=\"-18\" fill=\"black\" rx=\"0\" ry=\"0\" stroke=\"black\"/>\n",
       "</g>\n",
       "<!-- 2 -->\n",
       "<g class=\"node\" id=\"node3\">\n",
       "<title>2</title>\n",
       "<path d=\"M79,-36C79,-36 49,-36 49,-36 43,-36 37,-30 37,-24 37,-24 37,-12 37,-12 37,-6 43,0 49,0 49,0 79,0 79,0 85,0 91,-6 91,-12 91,-12 91,-24 91,-24 91,-30 85,-36 79,-36\" fill=\"none\" stroke=\"black\"/>\n",
       "<text font-family=\"Times,serif\" font-size=\"14.00\" text-anchor=\"middle\" x=\"64\" y=\"-14.3\">$0</text>\n",
       "</g>\n",
       "<!-- I2&#45;&gt;2 -->\n",
       "<g class=\"edge\" id=\"edge1\">\n",
       "<title>I2-&gt;2</title>\n",
       "<path d=\"M1.04,-18C1.86,-18 13.73,-18 26.87,-18\" fill=\"none\" stroke=\"DimGray\"/>\n",
       "<polygon fill=\"DimGray\" points=\"27,-21.5 37,-18 27,-14.5 27,-21.5\" stroke=\"DimGray\"/>\n",
       "</g>\n",
       "<!-- F3 -->\n",
       "<g class=\"node\" id=\"node2\">\n",
       "<title>F3</title>\n",
       "<ellipse cx=\"248\" cy=\"-18\" fill=\"black\" rx=\"0\" ry=\"0\" stroke=\"black\"/>\n",
       "</g>\n",
       "<!-- 2&#45;&gt;2 -->\n",
       "<g class=\"edge\" id=\"edge2\">\n",
       "<title>2-&gt;2</title>\n",
       "<path d=\"M56.04,-36.15C54.82,-45.54 57.47,-54 64,-54 67.98,-54 70.52,-50.86 71.62,-46.28\" fill=\"none\" stroke=\"black\"/>\n",
       "<polygon fill=\"black\" points=\"75.12,-46.26 71.96,-36.15 68.13,-46.03 75.12,-46.26\" stroke=\"black\"/>\n",
       "<text font-family=\"Times,serif\" font-size=\"14.00\" text-anchor=\"middle\" x=\"64\" y=\"-57.8\">0, 1</text>\n",
       "</g>\n",
       "<!-- 3 -->\n",
       "<g class=\"node\" id=\"node4\">\n",
       "<title>3</title>\n",
       "<path d=\"M176,-36C176,-36 146,-36 146,-36 140,-36 134,-30 134,-24 134,-24 134,-12 134,-12 134,-6 140,0 146,0 146,0 176,0 176,0 182,0 188,-6 188,-12 188,-12 188,-24 188,-24 188,-30 182,-36 176,-36\" fill=\"none\" stroke=\"black\"/>\n",
       "<text font-family=\"Times,serif\" font-size=\"14.00\" text-anchor=\"middle\" x=\"161\" y=\"-14.3\">$1</text>\n",
       "</g>\n",
       "<!-- 2&#45;&gt;3 -->\n",
       "<g class=\"edge\" id=\"edge3\">\n",
       "<title>2-&gt;3</title>\n",
       "<path d=\"M91.21,-18C101.28,-18 112.96,-18 123.81,-18\" fill=\"none\" stroke=\"black\"/>\n",
       "<polygon fill=\"black\" points=\"123.87,-21.5 133.87,-18 123.87,-14.5 123.87,-21.5\" stroke=\"black\"/>\n",
       "<text font-family=\"Times,serif\" font-size=\"14.00\" text-anchor=\"middle\" x=\"112.5\" y=\"-21.8\">1</text>\n",
       "</g>\n",
       "<!-- 3&#45;&gt;F3 -->\n",
       "<g class=\"edge\" id=\"edge4\">\n",
       "<title>3-&gt;F3</title>\n",
       "<path d=\"M188.43,-18C204.67,-18 224.58,-18 236.51,-18\" fill=\"none\" stroke=\"DimGray\"/>\n",
       "<polygon fill=\"DimGray\" points=\"236.9,-21.5 246.9,-18 236.9,-14.5 236.9,-21.5\" stroke=\"DimGray\"/>\n",
       "<text font-family=\"Times,serif\" font-size=\"14.00\" text-anchor=\"middle\" x=\"218\" y=\"-21.8\">&lt;2&gt;</text>\n",
       "</g>\n",
       "<!-- 3&#45;&gt;3 -->\n",
       "<g class=\"edge\" id=\"edge5\">\n",
       "<title>3-&gt;3</title>\n",
       "<path d=\"M152.32,-36.15C150.98,-45.54 153.88,-54 161,-54 165.34,-54 168.11,-50.86 169.31,-46.28\" fill=\"none\" stroke=\"black\"/>\n",
       "<polygon fill=\"black\" points=\"172.82,-46.27 169.68,-36.15 165.82,-46.02 172.82,-46.27\" stroke=\"black\"/>\n",
       "<text font-family=\"Times,serif\" font-size=\"14.00\" text-anchor=\"middle\" x=\"161\" y=\"-57.8\">&lt;2&gt;0, &lt;2&gt;1</text>\n",
       "</g>\n",
       "</g>\n",
       "</svg>"
      ],
      "text/plain": [
       "<IPython.core.display.SVG object>"
      ]
     },
     "metadata": {},
     "output_type": "display_data"
    }
   ],
   "source": [
    "A.set_initial(stt_0,\"1\")\n",
    "A.set_final(stt_1,\"2\")\n",
    "A.display()"
   ]
  },
  {
   "cell_type": "markdown",
   "metadata": {},
   "source": [
    "---\n",
    "The methods starting with `set_` or `unset_` ignore an eventual previous weight.  Awali also provides all the same commands starting with `add_` which \n",
    "1) **add** given weight to a transition, possibly creating it; and\n",
    "2) returns the new weight of the transition and not its id."
   ]
  },
  {
   "cell_type": "code",
   "execution_count": 7,
   "metadata": {},
   "outputs": [
    {
     "name": "stdout",
     "output_type": "stream",
     "text": [
      "11\n",
      "100\n",
      "1001\n"
     ]
    },
    {
     "data": {
      "image/svg+xml": [
       "<svg height=\"81pt\" viewBox=\"0.00 0.00 336.00 80.97\" width=\"336pt\" xmlns=\"http://www.w3.org/2000/svg\" xmlns:xlink=\"http://www.w3.org/1999/xlink\">\n",
       "<g class=\"graph\" id=\"graph0\" transform=\"scale(1 1) rotate(0) translate(4 76.97)\">\n",
       "<title>%3</title>\n",
       "<polygon fill=\"white\" points=\"-4,4 -4,-76.97 332,-76.97 332,4 -4,4\" stroke=\"transparent\"/>\n",
       "<!-- I2 -->\n",
       "<g class=\"node\" id=\"node1\">\n",
       "<title>I2</title>\n",
       "<ellipse cx=\"0\" cy=\"-21.97\" fill=\"black\" rx=\"0\" ry=\"0\" stroke=\"black\"/>\n",
       "</g>\n",
       "<!-- 2 -->\n",
       "<g class=\"node\" id=\"node3\">\n",
       "<title>2</title>\n",
       "<path d=\"M122,-39.97C122,-39.97 92,-39.97 92,-39.97 86,-39.97 80,-33.97 80,-27.97 80,-27.97 80,-15.97 80,-15.97 80,-9.97 86,-3.97 92,-3.97 92,-3.97 122,-3.97 122,-3.97 128,-3.97 134,-9.97 134,-15.97 134,-15.97 134,-27.97 134,-27.97 134,-33.97 128,-39.97 122,-39.97\" fill=\"none\" stroke=\"black\"/>\n",
       "<text font-family=\"Times,serif\" font-size=\"14.00\" text-anchor=\"middle\" x=\"107\" y=\"-18.27\">$0</text>\n",
       "</g>\n",
       "<!-- I2&#45;&gt;2 -->\n",
       "<g class=\"edge\" id=\"edge1\">\n",
       "<title>I2-&gt;2</title>\n",
       "<path d=\"M1.08,-21.97C2.98,-21.97 40.28,-21.97 69.87,-21.97\" fill=\"none\" stroke=\"DimGray\"/>\n",
       "<polygon fill=\"DimGray\" points=\"69.95,-25.47 79.95,-21.97 69.95,-18.47 69.95,-25.47\" stroke=\"DimGray\"/>\n",
       "<text font-family=\"Times,serif\" font-size=\"14.00\" text-anchor=\"middle\" x=\"40\" y=\"-25.77\">&lt;1001&gt;</text>\n",
       "</g>\n",
       "<!-- F3 -->\n",
       "<g class=\"node\" id=\"node2\">\n",
       "<title>F3</title>\n",
       "<ellipse cx=\"328\" cy=\"-21.97\" fill=\"black\" rx=\"0\" ry=\"0\" stroke=\"black\"/>\n",
       "</g>\n",
       "<!-- 2&#45;&gt;2 -->\n",
       "<g class=\"edge\" id=\"edge2\">\n",
       "<title>2-&gt;2</title>\n",
       "<path d=\"M95.06,-40.12C93.22,-49.51 97.2,-57.97 107,-57.97 112.97,-57.97 116.78,-54.83 118.43,-50.25\" fill=\"none\" stroke=\"black\"/>\n",
       "<polygon fill=\"black\" points=\"121.93,-50.28 118.94,-40.12 114.94,-49.93 121.93,-50.28\" stroke=\"black\"/>\n",
       "<text font-family=\"Times,serif\" font-size=\"14.00\" text-anchor=\"middle\" x=\"107\" y=\"-61.77\">&lt;11&gt;0, 1</text>\n",
       "</g>\n",
       "<!-- 3 -->\n",
       "<g class=\"node\" id=\"node4\">\n",
       "<title>3</title>\n",
       "<path d=\"M256,-39.97C256,-39.97 226,-39.97 226,-39.97 220,-39.97 214,-33.97 214,-27.97 214,-27.97 214,-15.97 214,-15.97 214,-9.97 220,-3.97 226,-3.97 226,-3.97 256,-3.97 256,-3.97 262,-3.97 268,-9.97 268,-15.97 268,-15.97 268,-27.97 268,-27.97 268,-33.97 262,-39.97 256,-39.97\" fill=\"none\" stroke=\"black\"/>\n",
       "<text font-family=\"Times,serif\" font-size=\"14.00\" text-anchor=\"middle\" x=\"241\" y=\"-18.27\">$1</text>\n",
       "</g>\n",
       "<!-- 2&#45;&gt;3 -->\n",
       "<g class=\"edge\" id=\"edge3\">\n",
       "<title>2-&gt;3</title>\n",
       "<path d=\"M134.08,-21.97C154.06,-21.97 181.85,-21.97 203.95,-21.97\" fill=\"none\" stroke=\"black\"/>\n",
       "<polygon fill=\"black\" points=\"203.98,-25.47 213.98,-21.97 203.98,-18.47 203.98,-25.47\" stroke=\"black\"/>\n",
       "<text font-family=\"Times,serif\" font-size=\"14.00\" text-anchor=\"middle\" x=\"174\" y=\"-25.77\">1</text>\n",
       "</g>\n",
       "<!-- 3&#45;&gt;F3 -->\n",
       "<g class=\"edge\" id=\"edge4\">\n",
       "<title>3-&gt;F3</title>\n",
       "<path d=\"M268.43,-21.97C284.67,-21.97 304.58,-21.97 316.51,-21.97\" fill=\"none\" stroke=\"DimGray\"/>\n",
       "<polygon fill=\"DimGray\" points=\"316.9,-25.47 326.9,-21.97 316.9,-18.47 316.9,-25.47\" stroke=\"DimGray\"/>\n",
       "<text font-family=\"Times,serif\" font-size=\"14.00\" text-anchor=\"middle\" x=\"298\" y=\"-25.77\">&lt;2&gt;</text>\n",
       "</g>\n",
       "<!-- 3&#45;&gt;2 -->\n",
       "<g class=\"edge\" id=\"edge5\">\n",
       "<title>3-&gt;2</title>\n",
       "<path d=\"M213.58,-8.51C207.91,-6.21 201.87,-4.18 196,-2.97 176.85,0.99 171.15,0.99 152,-2.97 149.34,-3.52 146.65,-4.24 143.97,-5.07\" fill=\"none\" stroke=\"black\"/>\n",
       "<polygon fill=\"black\" points=\"142.64,-1.83 134.42,-8.51 145.02,-8.41 142.64,-1.83\" stroke=\"black\"/>\n",
       "<text font-family=\"Times,serif\" font-size=\"14.00\" text-anchor=\"middle\" x=\"174\" y=\"-6.77\">&lt;100&gt;0</text>\n",
       "</g>\n",
       "<!-- 3&#45;&gt;3 -->\n",
       "<g class=\"edge\" id=\"edge6\">\n",
       "<title>3-&gt;3</title>\n",
       "<path d=\"M230.87,-40.12C229.31,-49.51 232.69,-57.97 241,-57.97 246.07,-57.97 249.3,-54.83 250.7,-50.25\" fill=\"none\" stroke=\"black\"/>\n",
       "<polygon fill=\"black\" points=\"254.2,-50.26 251.13,-40.12 247.21,-49.96 254.2,-50.26\" stroke=\"black\"/>\n",
       "<text font-family=\"Times,serif\" font-size=\"14.00\" text-anchor=\"middle\" x=\"241\" y=\"-61.77\">&lt;2&gt;0, &lt;2&gt;1</text>\n",
       "</g>\n",
       "</g>\n",
       "</svg>"
      ],
      "text/plain": [
       "<IPython.core.display.SVG object>"
      ]
     },
     "metadata": {},
     "output_type": "display_data"
    }
   ],
   "source": [
    "B = A.copy()\n",
    "print (B.add_transition(stt_0,stt_0,\"0\",\"10\"))\n",
    "print (B.add_transition(stt_1,stt_0,\"0\",\"100\"))\n",
    "print (B.add_initial(stt_0,\"1000\"))\n",
    "B.display()"
   ]
  },
  {
   "cell_type": "markdown",
   "metadata": {},
   "source": [
    "---\n",
    "For bigger automata, it may be useful to look at its string representation..."
   ]
  },
  {
   "cell_type": "code",
   "execution_count": 8,
   "metadata": {},
   "outputs": [
    {
     "data": {
      "text/plain": [
       "Automaton (lal_char_z):\tWeight Set: Z\tAlphabet: 01\n",
       "States:{\t0(i:1001)\t1(f:2)\t}\n",
       "Transitions:{\t0--<11>0-->0\t0--1-->0\t0--1-->1\t1--<2>0-->1\t1--<2>1-->1\t1--<100>0-->0\t\t}"
      ]
     },
     "execution_count": 8,
     "metadata": {},
     "output_type": "execute_result"
    }
   ],
   "source": [
    "B"
   ]
  },
  {
   "cell_type": "markdown",
   "metadata": {},
   "source": [
    "NB: the mention \"(i:1001)\" following a state means that the state is *initial* with weight 1001.  Similarly, \"(f:2)\" means *final* with weight 2."
   ]
  },
  {
   "cell_type": "markdown",
   "metadata": {},
   "source": [
    "## Epsilon transitions\n",
    "As for unweighted automata, epsilon transitions are not allowed by default."
   ]
  },
  {
   "cell_type": "code",
   "execution_count": 9,
   "metadata": {},
   "outputs": [
    {
     "data": {
      "image/svg+xml": [
       "<svg height=\"77pt\" viewBox=\"0.00 0.00 256.00 77.00\" width=\"256pt\" xmlns=\"http://www.w3.org/2000/svg\" xmlns:xlink=\"http://www.w3.org/1999/xlink\">\n",
       "<g class=\"graph\" id=\"graph0\" transform=\"scale(1 1) rotate(0) translate(4 73)\">\n",
       "<title>%3</title>\n",
       "<polygon fill=\"white\" points=\"-4,4 -4,-73 252,-73 252,4 -4,4\" stroke=\"transparent\"/>\n",
       "<!-- I2 -->\n",
       "<g class=\"node\" id=\"node1\">\n",
       "<title>I2</title>\n",
       "<ellipse cx=\"0\" cy=\"-18\" fill=\"black\" rx=\"0\" ry=\"0\" stroke=\"black\"/>\n",
       "</g>\n",
       "<!-- 2 -->\n",
       "<g class=\"node\" id=\"node3\">\n",
       "<title>2</title>\n",
       "<path d=\"M79,-36C79,-36 49,-36 49,-36 43,-36 37,-30 37,-24 37,-24 37,-12 37,-12 37,-6 43,0 49,0 49,0 79,0 79,0 85,0 91,-6 91,-12 91,-12 91,-24 91,-24 91,-30 85,-36 79,-36\" fill=\"none\" stroke=\"black\"/>\n",
       "<text font-family=\"Times,serif\" font-size=\"14.00\" text-anchor=\"middle\" x=\"64\" y=\"-14.3\">$0</text>\n",
       "</g>\n",
       "<!-- I2&#45;&gt;2 -->\n",
       "<g class=\"edge\" id=\"edge1\">\n",
       "<title>I2-&gt;2</title>\n",
       "<path d=\"M1.04,-18C1.86,-18 13.73,-18 26.87,-18\" fill=\"none\" stroke=\"DimGray\"/>\n",
       "<polygon fill=\"DimGray\" points=\"27,-21.5 37,-18 27,-14.5 27,-21.5\" stroke=\"DimGray\"/>\n",
       "</g>\n",
       "<!-- F3 -->\n",
       "<g class=\"node\" id=\"node2\">\n",
       "<title>F3</title>\n",
       "<ellipse cx=\"248\" cy=\"-18\" fill=\"black\" rx=\"0\" ry=\"0\" stroke=\"black\"/>\n",
       "</g>\n",
       "<!-- 2&#45;&gt;2 -->\n",
       "<g class=\"edge\" id=\"edge2\">\n",
       "<title>2-&gt;2</title>\n",
       "<path d=\"M56.04,-36.15C54.82,-45.54 57.47,-54 64,-54 67.98,-54 70.52,-50.86 71.62,-46.28\" fill=\"none\" stroke=\"black\"/>\n",
       "<polygon fill=\"black\" points=\"75.12,-46.26 71.96,-36.15 68.13,-46.03 75.12,-46.26\" stroke=\"black\"/>\n",
       "<text font-family=\"Times,serif\" font-size=\"14.00\" text-anchor=\"middle\" x=\"64\" y=\"-57.8\">0, 1</text>\n",
       "</g>\n",
       "<!-- 3 -->\n",
       "<g class=\"node\" id=\"node4\">\n",
       "<title>3</title>\n",
       "<path d=\"M176,-36C176,-36 146,-36 146,-36 140,-36 134,-30 134,-24 134,-24 134,-12 134,-12 134,-6 140,0 146,0 146,0 176,0 176,0 182,0 188,-6 188,-12 188,-12 188,-24 188,-24 188,-30 182,-36 176,-36\" fill=\"none\" stroke=\"black\"/>\n",
       "<text font-family=\"Times,serif\" font-size=\"14.00\" text-anchor=\"middle\" x=\"161\" y=\"-14.3\">$1</text>\n",
       "</g>\n",
       "<!-- 2&#45;&gt;3 -->\n",
       "<g class=\"edge\" id=\"edge3\">\n",
       "<title>2-&gt;3</title>\n",
       "<path d=\"M91.21,-18C101.28,-18 112.96,-18 123.81,-18\" fill=\"none\" stroke=\"black\"/>\n",
       "<polygon fill=\"black\" points=\"123.87,-21.5 133.87,-18 123.87,-14.5 123.87,-21.5\" stroke=\"black\"/>\n",
       "<text font-family=\"Times,serif\" font-size=\"14.00\" text-anchor=\"middle\" x=\"112.5\" y=\"-21.8\">1</text>\n",
       "</g>\n",
       "<!-- 3&#45;&gt;F3 -->\n",
       "<g class=\"edge\" id=\"edge4\">\n",
       "<title>3-&gt;F3</title>\n",
       "<path d=\"M188.43,-18C204.67,-18 224.58,-18 236.51,-18\" fill=\"none\" stroke=\"DimGray\"/>\n",
       "<polygon fill=\"DimGray\" points=\"236.9,-21.5 246.9,-18 236.9,-14.5 236.9,-21.5\" stroke=\"DimGray\"/>\n",
       "<text font-family=\"Times,serif\" font-size=\"14.00\" text-anchor=\"middle\" x=\"218\" y=\"-21.8\">&lt;2&gt;</text>\n",
       "</g>\n",
       "<!-- 3&#45;&gt;3 -->\n",
       "<g class=\"edge\" id=\"edge5\">\n",
       "<title>3-&gt;3</title>\n",
       "<path d=\"M152.32,-36.15C150.98,-45.54 153.88,-54 161,-54 165.34,-54 168.11,-50.86 169.31,-46.28\" fill=\"none\" stroke=\"black\"/>\n",
       "<polygon fill=\"black\" points=\"172.82,-46.27 169.68,-36.15 165.82,-46.02 172.82,-46.27\" stroke=\"black\"/>\n",
       "<text font-family=\"Times,serif\" font-size=\"14.00\" text-anchor=\"middle\" x=\"161\" y=\"-57.8\">&lt;2&gt;0, &lt;2&gt;1</text>\n",
       "</g>\n",
       "</g>\n",
       "</svg>"
      ],
      "text/plain": [
       "<IPython.core.display.SVG object>"
      ]
     },
     "metadata": {},
     "output_type": "display_data"
    }
   ],
   "source": [
    "C = A.allow_eps_transition() # Copies the automaton\n",
    "C.display()"
   ]
  },
  {
   "cell_type": "markdown",
   "metadata": {},
   "source": [
    "---\n",
    "Adding an epsilon-transition"
   ]
  },
  {
   "cell_type": "code",
   "execution_count": 10,
   "metadata": {},
   "outputs": [
    {
     "data": {
      "image/svg+xml": [
       "<svg height=\"96pt\" viewBox=\"0.00 0.00 310.00 96.00\" width=\"310pt\" xmlns=\"http://www.w3.org/2000/svg\" xmlns:xlink=\"http://www.w3.org/1999/xlink\">\n",
       "<g class=\"graph\" id=\"graph0\" transform=\"scale(1 1) rotate(0) translate(4 92)\">\n",
       "<title>%3</title>\n",
       "<polygon fill=\"white\" points=\"-4,4 -4,-92 306,-92 306,4 -4,4\" stroke=\"transparent\"/>\n",
       "<!-- I2 -->\n",
       "<g class=\"node\" id=\"node1\">\n",
       "<title>I2</title>\n",
       "<ellipse cx=\"0\" cy=\"-37\" fill=\"black\" rx=\"0\" ry=\"0\" stroke=\"black\"/>\n",
       "</g>\n",
       "<!-- 2 -->\n",
       "<g class=\"node\" id=\"node3\">\n",
       "<title>2</title>\n",
       "<path d=\"M79,-55C79,-55 49,-55 49,-55 43,-55 37,-49 37,-43 37,-43 37,-31 37,-31 37,-25 43,-19 49,-19 49,-19 79,-19 79,-19 85,-19 91,-25 91,-31 91,-31 91,-43 91,-43 91,-49 85,-55 79,-55\" fill=\"none\" stroke=\"black\"/>\n",
       "<text font-family=\"Times,serif\" font-size=\"14.00\" text-anchor=\"middle\" x=\"64\" y=\"-33.3\">$0</text>\n",
       "</g>\n",
       "<!-- I2&#45;&gt;2 -->\n",
       "<g class=\"edge\" id=\"edge1\">\n",
       "<title>I2-&gt;2</title>\n",
       "<path d=\"M1.04,-37C1.86,-37 13.73,-37 26.87,-37\" fill=\"none\" stroke=\"DimGray\"/>\n",
       "<polygon fill=\"DimGray\" points=\"27,-40.5 37,-37 27,-33.5 27,-40.5\" stroke=\"DimGray\"/>\n",
       "</g>\n",
       "<!-- F3 -->\n",
       "<g class=\"node\" id=\"node2\">\n",
       "<title>F3</title>\n",
       "<ellipse cx=\"275\" cy=\"-75\" fill=\"black\" rx=\"0\" ry=\"0\" stroke=\"black\"/>\n",
       "</g>\n",
       "<!-- 2&#45;&gt;2 -->\n",
       "<g class=\"edge\" id=\"edge2\">\n",
       "<title>2-&gt;2</title>\n",
       "<path d=\"M56.04,-55.15C54.82,-64.54 57.47,-73 64,-73 67.98,-73 70.52,-69.86 71.62,-65.28\" fill=\"none\" stroke=\"black\"/>\n",
       "<polygon fill=\"black\" points=\"75.12,-65.26 71.96,-55.15 68.13,-65.03 75.12,-65.26\" stroke=\"black\"/>\n",
       "<text font-family=\"Times,serif\" font-size=\"14.00\" text-anchor=\"middle\" x=\"64\" y=\"-76.8\">0, 1</text>\n",
       "</g>\n",
       "<!-- 3 -->\n",
       "<g class=\"node\" id=\"node4\">\n",
       "<title>3</title>\n",
       "<path d=\"M176,-55C176,-55 146,-55 146,-55 140,-55 134,-49 134,-43 134,-43 134,-31 134,-31 134,-25 140,-19 146,-19 146,-19 176,-19 176,-19 182,-19 188,-25 188,-31 188,-31 188,-43 188,-43 188,-49 182,-55 176,-55\" fill=\"none\" stroke=\"black\"/>\n",
       "<text font-family=\"Times,serif\" font-size=\"14.00\" text-anchor=\"middle\" x=\"161\" y=\"-33.3\">$1</text>\n",
       "</g>\n",
       "<!-- 2&#45;&gt;3 -->\n",
       "<g class=\"edge\" id=\"edge3\">\n",
       "<title>2-&gt;3</title>\n",
       "<path d=\"M91.21,-37C101.28,-37 112.96,-37 123.81,-37\" fill=\"none\" stroke=\"black\"/>\n",
       "<polygon fill=\"black\" points=\"123.87,-40.5 133.87,-37 123.87,-33.5 123.87,-40.5\" stroke=\"black\"/>\n",
       "<text font-family=\"Times,serif\" font-size=\"14.00\" text-anchor=\"middle\" x=\"112.5\" y=\"-40.8\">1</text>\n",
       "</g>\n",
       "<!-- 3&#45;&gt;F3 -->\n",
       "<g class=\"edge\" id=\"edge4\">\n",
       "<title>3-&gt;F3</title>\n",
       "<path d=\"M188.26,-45.91C212.56,-54.15 247.39,-65.97 264.19,-71.67\" fill=\"none\" stroke=\"DimGray\"/>\n",
       "<polygon fill=\"DimGray\" points=\"263.25,-75.05 273.85,-74.95 265.5,-68.42 263.25,-75.05\" stroke=\"DimGray\"/>\n",
       "<text font-family=\"Times,serif\" font-size=\"14.00\" text-anchor=\"middle\" x=\"218\" y=\"-62.8\">&lt;2&gt;</text>\n",
       "</g>\n",
       "<!-- 3&#45;&gt;3 -->\n",
       "<g class=\"edge\" id=\"edge5\">\n",
       "<title>3-&gt;3</title>\n",
       "<path d=\"M152.32,-55.15C150.98,-64.54 153.88,-73 161,-73 165.34,-73 168.11,-69.86 169.31,-65.28\" fill=\"none\" stroke=\"black\"/>\n",
       "<polygon fill=\"black\" points=\"172.82,-65.27 169.68,-55.15 165.82,-65.02 172.82,-65.27\" stroke=\"black\"/>\n",
       "<text font-family=\"Times,serif\" font-size=\"14.00\" text-anchor=\"middle\" x=\"161\" y=\"-76.8\">&lt;2&gt;0, &lt;2&gt;1</text>\n",
       "</g>\n",
       "<!-- 4 -->\n",
       "<g class=\"node\" id=\"node5\">\n",
       "<title>4</title>\n",
       "<path d=\"M290,-36C290,-36 260,-36 260,-36 254,-36 248,-30 248,-24 248,-24 248,-12 248,-12 248,-6 254,0 260,0 260,0 290,0 290,0 296,0 302,-6 302,-12 302,-12 302,-24 302,-24 302,-30 296,-36 290,-36\" fill=\"none\" stroke=\"black\"/>\n",
       "<text font-family=\"Times,serif\" font-size=\"14.00\" text-anchor=\"middle\" x=\"275\" y=\"-14.3\">$2</text>\n",
       "</g>\n",
       "<!-- 3&#45;&gt;4 -->\n",
       "<g class=\"edge\" id=\"edge6\">\n",
       "<title>3-&gt;4</title>\n",
       "<path d=\"M188.26,-32.55C203,-30.04 221.62,-26.89 237.74,-24.15\" fill=\"none\" stroke=\"black\"/>\n",
       "<polygon fill=\"black\" points=\"238.63,-27.55 247.91,-22.43 237.46,-20.65 238.63,-27.55\" stroke=\"black\"/>\n",
       "<text font-family=\"Times,serif\" font-size=\"14.00\" text-anchor=\"middle\" x=\"218\" y=\"-32.8\">\\e</text>\n",
       "</g>\n",
       "<!-- 4&#45;&gt;3 -->\n",
       "<g class=\"edge\" id=\"edge7\">\n",
       "<title>4-&gt;3</title>\n",
       "<path d=\"M247.78,-7.57C234.99,-3.94 219.48,-1.73 206,-6 200.66,-7.69 195.4,-10.3 190.48,-13.29\" fill=\"none\" stroke=\"black\"/>\n",
       "<polygon fill=\"black\" points=\"188.38,-10.48 182.06,-18.98 192.3,-16.28 188.38,-10.48\" stroke=\"black\"/>\n",
       "<text font-family=\"Times,serif\" font-size=\"14.00\" text-anchor=\"middle\" x=\"218\" y=\"-9.8\">\\e</text>\n",
       "</g>\n",
       "</g>\n",
       "</svg>"
      ],
      "text/plain": [
       "<IPython.core.display.SVG object>"
      ]
     },
     "metadata": {},
     "output_type": "display_data"
    }
   ],
   "source": [
    "stt_2 = C.add_state()\n",
    "tr_6 = C.set_eps_transition(stt_2,stt_1)\n",
    "tr_7 = C.set_transition(stt_1,stt_2,\"\\\\e\")\n",
    "C.display()"
   ]
  },
  {
   "cell_type": "markdown",
   "metadata": {},
   "source": [
    "## Deleting edges and states"
   ]
  },
  {
   "cell_type": "markdown",
   "metadata": {},
   "source": [
    "Same as for boolean automata"
   ]
  },
  {
   "cell_type": "markdown",
   "metadata": {},
   "source": [
    "## Loading & saving automata"
   ]
  },
  {
   "cell_type": "markdown",
   "metadata": {},
   "source": [
    "Same as for boolean automata"
   ]
  },
  {
   "cell_type": "markdown",
   "metadata": {},
   "source": [
    "## Access and traversal\n",
    "Same as for unweighted automata, with a few extras"
   ]
  },
  {
   "cell_type": "code",
   "execution_count": 11,
   "metadata": {},
   "outputs": [
    {
     "data": {
      "image/svg+xml": [
       "<svg height=\"81pt\" viewBox=\"0.00 0.00 336.00 80.97\" width=\"336pt\" xmlns=\"http://www.w3.org/2000/svg\" xmlns:xlink=\"http://www.w3.org/1999/xlink\">\n",
       "<g class=\"graph\" id=\"graph0\" transform=\"scale(1 1) rotate(0) translate(4 76.97)\">\n",
       "<title>%3</title>\n",
       "<polygon fill=\"white\" points=\"-4,4 -4,-76.97 332,-76.97 332,4 -4,4\" stroke=\"transparent\"/>\n",
       "<!-- I2 -->\n",
       "<g class=\"node\" id=\"node1\">\n",
       "<title>I2</title>\n",
       "<ellipse cx=\"0\" cy=\"-21.97\" fill=\"black\" rx=\"0\" ry=\"0\" stroke=\"black\"/>\n",
       "</g>\n",
       "<!-- 2 -->\n",
       "<g class=\"node\" id=\"node3\">\n",
       "<title>2</title>\n",
       "<path d=\"M122,-39.97C122,-39.97 92,-39.97 92,-39.97 86,-39.97 80,-33.97 80,-27.97 80,-27.97 80,-15.97 80,-15.97 80,-9.97 86,-3.97 92,-3.97 92,-3.97 122,-3.97 122,-3.97 128,-3.97 134,-9.97 134,-15.97 134,-15.97 134,-27.97 134,-27.97 134,-33.97 128,-39.97 122,-39.97\" fill=\"none\" stroke=\"black\"/>\n",
       "<text font-family=\"Times,serif\" font-size=\"14.00\" text-anchor=\"middle\" x=\"107\" y=\"-18.27\">$0</text>\n",
       "</g>\n",
       "<!-- I2&#45;&gt;2 -->\n",
       "<g class=\"edge\" id=\"edge1\">\n",
       "<title>I2-&gt;2</title>\n",
       "<path d=\"M1.08,-21.97C2.98,-21.97 40.28,-21.97 69.87,-21.97\" fill=\"none\" stroke=\"DimGray\"/>\n",
       "<polygon fill=\"DimGray\" points=\"69.95,-25.47 79.95,-21.97 69.95,-18.47 69.95,-25.47\" stroke=\"DimGray\"/>\n",
       "<text font-family=\"Times,serif\" font-size=\"14.00\" text-anchor=\"middle\" x=\"40\" y=\"-25.77\">&lt;1001&gt;</text>\n",
       "</g>\n",
       "<!-- F3 -->\n",
       "<g class=\"node\" id=\"node2\">\n",
       "<title>F3</title>\n",
       "<ellipse cx=\"328\" cy=\"-21.97\" fill=\"black\" rx=\"0\" ry=\"0\" stroke=\"black\"/>\n",
       "</g>\n",
       "<!-- 2&#45;&gt;2 -->\n",
       "<g class=\"edge\" id=\"edge2\">\n",
       "<title>2-&gt;2</title>\n",
       "<path d=\"M95.06,-40.12C93.22,-49.51 97.2,-57.97 107,-57.97 112.97,-57.97 116.78,-54.83 118.43,-50.25\" fill=\"none\" stroke=\"black\"/>\n",
       "<polygon fill=\"black\" points=\"121.93,-50.28 118.94,-40.12 114.94,-49.93 121.93,-50.28\" stroke=\"black\"/>\n",
       "<text font-family=\"Times,serif\" font-size=\"14.00\" text-anchor=\"middle\" x=\"107\" y=\"-61.77\">&lt;11&gt;0, 1</text>\n",
       "</g>\n",
       "<!-- 3 -->\n",
       "<g class=\"node\" id=\"node4\">\n",
       "<title>3</title>\n",
       "<path d=\"M256,-39.97C256,-39.97 226,-39.97 226,-39.97 220,-39.97 214,-33.97 214,-27.97 214,-27.97 214,-15.97 214,-15.97 214,-9.97 220,-3.97 226,-3.97 226,-3.97 256,-3.97 256,-3.97 262,-3.97 268,-9.97 268,-15.97 268,-15.97 268,-27.97 268,-27.97 268,-33.97 262,-39.97 256,-39.97\" fill=\"none\" stroke=\"black\"/>\n",
       "<text font-family=\"Times,serif\" font-size=\"14.00\" text-anchor=\"middle\" x=\"241\" y=\"-18.27\">$1</text>\n",
       "</g>\n",
       "<!-- 2&#45;&gt;3 -->\n",
       "<g class=\"edge\" id=\"edge3\">\n",
       "<title>2-&gt;3</title>\n",
       "<path d=\"M134.08,-21.97C154.06,-21.97 181.85,-21.97 203.95,-21.97\" fill=\"none\" stroke=\"black\"/>\n",
       "<polygon fill=\"black\" points=\"203.98,-25.47 213.98,-21.97 203.98,-18.47 203.98,-25.47\" stroke=\"black\"/>\n",
       "<text font-family=\"Times,serif\" font-size=\"14.00\" text-anchor=\"middle\" x=\"174\" y=\"-25.77\">1</text>\n",
       "</g>\n",
       "<!-- 3&#45;&gt;F3 -->\n",
       "<g class=\"edge\" id=\"edge4\">\n",
       "<title>3-&gt;F3</title>\n",
       "<path d=\"M268.43,-21.97C284.67,-21.97 304.58,-21.97 316.51,-21.97\" fill=\"none\" stroke=\"DimGray\"/>\n",
       "<polygon fill=\"DimGray\" points=\"316.9,-25.47 326.9,-21.97 316.9,-18.47 316.9,-25.47\" stroke=\"DimGray\"/>\n",
       "<text font-family=\"Times,serif\" font-size=\"14.00\" text-anchor=\"middle\" x=\"298\" y=\"-25.77\">&lt;2&gt;</text>\n",
       "</g>\n",
       "<!-- 3&#45;&gt;2 -->\n",
       "<g class=\"edge\" id=\"edge5\">\n",
       "<title>3-&gt;2</title>\n",
       "<path d=\"M213.58,-8.51C207.91,-6.21 201.87,-4.18 196,-2.97 176.85,0.99 171.15,0.99 152,-2.97 149.34,-3.52 146.65,-4.24 143.97,-5.07\" fill=\"none\" stroke=\"black\"/>\n",
       "<polygon fill=\"black\" points=\"142.64,-1.83 134.42,-8.51 145.02,-8.41 142.64,-1.83\" stroke=\"black\"/>\n",
       "<text font-family=\"Times,serif\" font-size=\"14.00\" text-anchor=\"middle\" x=\"174\" y=\"-6.77\">&lt;100&gt;0</text>\n",
       "</g>\n",
       "<!-- 3&#45;&gt;3 -->\n",
       "<g class=\"edge\" id=\"edge6\">\n",
       "<title>3-&gt;3</title>\n",
       "<path d=\"M230.87,-40.12C229.31,-49.51 232.69,-57.97 241,-57.97 246.07,-57.97 249.3,-54.83 250.7,-50.25\" fill=\"none\" stroke=\"black\"/>\n",
       "<polygon fill=\"black\" points=\"254.2,-50.26 251.13,-40.12 247.21,-49.96 254.2,-50.26\" stroke=\"black\"/>\n",
       "<text font-family=\"Times,serif\" font-size=\"14.00\" text-anchor=\"middle\" x=\"241\" y=\"-61.77\">&lt;2&gt;0, &lt;2&gt;1</text>\n",
       "</g>\n",
       "</g>\n",
       "</svg>"
      ],
      "text/plain": [
       "<IPython.core.display.SVG object>"
      ]
     },
     "metadata": {},
     "output_type": "display_data"
    }
   ],
   "source": [
    "B.display()"
   ]
  },
  {
   "cell_type": "markdown",
   "metadata": {},
   "source": [
    "---\n",
    "Functions `src_of`, `dst_of` and `label_of` work just as for boolean automata. \n",
    "\n",
    "---\n",
    "Getting the weight of a transition."
   ]
  },
  {
   "cell_type": "code",
   "execution_count": 12,
   "metadata": {},
   "outputs": [
    {
     "data": {
      "text/plain": [
       "'11'"
      ]
     },
     "execution_count": 12,
     "metadata": {},
     "output_type": "execute_result"
    }
   ],
   "source": [
    "B.weight_of(tr_0)  # tr_0 is the transition s0 --<11>0--> s1"
   ]
  },
  {
   "cell_type": "markdown",
   "metadata": {},
   "source": [
    "---\n",
    "Getting the initial/final weight of a state."
   ]
  },
  {
   "cell_type": "code",
   "execution_count": 13,
   "metadata": {},
   "outputs": [
    {
     "data": {
      "text/plain": [
       "('1001', '0')"
      ]
     },
     "execution_count": 13,
     "metadata": {},
     "output_type": "execute_result"
    }
   ],
   "source": [
    "B.get_initial_weight(stt_0), B.get_final_weight(stt_0)"
   ]
  },
  {
   "cell_type": "markdown",
   "metadata": {},
   "source": [
    "---\n",
    "Note also that the third parameter of `unpack_transition(tr_id)` is the weight."
   ]
  },
  {
   "cell_type": "code",
   "execution_count": 14,
   "metadata": {},
   "outputs": [
    {
     "name": "stdout",
     "output_type": "stream",
     "text": [
      "(1, '0', '100', 0)\n",
      "source: 1\n",
      "label: 0\n",
      "weight: 100\n",
      "destination: 0\n"
     ]
    }
   ],
   "source": [
    "tr_content = B.unpack_transition(tr_6)\n",
    "print (tr_content)\n",
    "print (\"source: \"+str(tr_content[0]))\n",
    "print (\"label: \"+str(tr_content[1]))\n",
    "print (\"weight: \"+str(tr_content[2]))\n",
    "print (\"destination: \"+str(tr_content[3]))"
   ]
  },
  {
   "cell_type": "code",
   "execution_count": null,
   "metadata": {},
   "outputs": [],
   "source": []
  }
 ],
 "metadata": {
  "kernelspec": {
   "display_name": "Python 2",
   "language": "python",
   "name": "python2"
  },
  "language_info": {
   "codemirror_mode": {
    "name": "ipython",
    "version": 2
   },
   "file_extension": ".py",
   "mimetype": "text/x-python",
   "name": "python",
   "nbconvert_exporter": "python",
   "pygments_lexer": "ipython2",
   "version": "2.7.13"
  }
 },
 "nbformat": 4,
 "nbformat_minor": 1
}
