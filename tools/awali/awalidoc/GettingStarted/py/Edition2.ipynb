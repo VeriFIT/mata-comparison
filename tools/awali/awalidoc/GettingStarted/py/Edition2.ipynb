{
 "cells": [
  {
   "cell_type": "markdown",
   "metadata": {},
   "source": [
    "# Edition, visualisation, traversal\n",
    "## Boolean transducers\n",
    "<br>\n"
   ]
  },
  {
   "cell_type": "code",
   "execution_count": 1,
   "metadata": {},
   "outputs": [
    {
     "data": {
      "application/javascript": [
       "IPython.notebook.set_autosave_interval(0)"
      ]
     },
     "metadata": {},
     "output_type": "display_data"
    },
    {
     "name": "stdout",
     "output_type": "stream",
     "text": [
      "Autosave disabled\n"
     ]
    }
   ],
   "source": [
    "# We disable autosave for technical reasons.\n",
    "# Replace 0 by 120 in next line to restore default.\n",
    "%autosave 0"
   ]
  },
  {
   "cell_type": "code",
   "execution_count": 2,
   "metadata": {},
   "outputs": [
    {
     "name": "stdout",
     "output_type": "stream",
     "text": [
      "[Warning] The python module awalipy relies on compilation executed \"on-the-fly\" depending on the context (type of weights, of labels, etc.). As a result, the very first call to a given function in a given context may take up to 10 seconds. \n"
     ]
    }
   ],
   "source": [
    "import awalipy # If import fails, check that \n",
    "               # Python version used as Jupyter\n",
    "               # kernel matches the one\n",
    "               # Awalipy was compiled with."
   ]
  },
  {
   "cell_type": "markdown",
   "metadata": {},
   "source": [
    "## Creating a transducer"
   ]
  },
  {
   "cell_type": "markdown",
   "metadata": {},
   "source": [
    "A **Transducer** is an automaton with multiple tapes.  It is built from a list of alphabets."
   ]
  },
  {
   "cell_type": "code",
   "execution_count": 3,
   "metadata": {},
   "outputs": [],
   "source": [
    "T = awalipy.Transducer([\"012\",\"01\"])"
   ]
  },
  {
   "cell_type": "markdown",
   "metadata": {},
   "source": [
    "---\n",
    "Adding states is the same as for automata"
   ]
  },
  {
   "cell_type": "code",
   "execution_count": 4,
   "metadata": {},
   "outputs": [],
   "source": [
    "stt_0 = T.add_state()\n",
    "stt_1 = T.add_state()\n",
    "T.set_initial(stt_0)\n",
    "T.set_final(stt_0)"
   ]
  },
  {
   "cell_type": "markdown",
   "metadata": {},
   "source": [
    "---\n",
    "Transitions of transducer bear multiple labels (in the example, two). The third argument of `set_transition ` is now a list of labels."
   ]
  },
  {
   "cell_type": "code",
   "execution_count": 5,
   "metadata": {},
   "outputs": [],
   "source": [
    "tr_0 = T.set_transition(stt_0,stt_0,['0','0'])\n",
    "tr_1 = T.set_transition(stt_0,stt_0,['1','1'])\n",
    "tr_2 = T.set_transition(stt_0,stt_1,['2','0'])\n",
    "tr_3 = T.set_transition(stt_1,stt_0,['0','1'])\n",
    "tr_4 = T.set_transition(stt_1,stt_1,['2','1'])\n",
    "tr_5 = T.set_transition(stt_1,stt_1,['1','0'])"
   ]
  },
  {
   "cell_type": "markdown",
   "metadata": {},
   "source": [
    "# Displaying a Transducer"
   ]
  },
  {
   "cell_type": "markdown",
   "metadata": {},
   "source": [
    "---\n",
    "Displaying a Transducer is the same as for automata."
   ]
  },
  {
   "cell_type": "code",
   "execution_count": 6,
   "metadata": {},
   "outputs": [
    {
     "data": {
      "image/svg+xml": [
       "<svg height=\"115pt\" viewBox=\"0.00 0.00 219.50 115.00\" width=\"220pt\" xmlns=\"http://www.w3.org/2000/svg\" xmlns:xlink=\"http://www.w3.org/1999/xlink\">\n",
       "<g class=\"graph\" id=\"graph0\" transform=\"scale(1 1) rotate(0) translate(4 111)\">\n",
       "<title>%3</title>\n",
       "<polygon fill=\"white\" points=\"-4,4 -4,-111 215.5,-111 215.5,4 -4,4\" stroke=\"transparent\"/>\n",
       "<!-- I2 -->\n",
       "<g class=\"node\" id=\"node1\">\n",
       "<title>I2</title>\n",
       "<ellipse cx=\"0\" cy=\"-56\" fill=\"black\" rx=\"0\" ry=\"0\" stroke=\"black\"/>\n",
       "</g>\n",
       "<!-- 2 -->\n",
       "<g class=\"node\" id=\"node3\">\n",
       "<title>2</title>\n",
       "<path d=\"M79,-74C79,-74 49,-74 49,-74 43,-74 37,-68 37,-62 37,-62 37,-50 37,-50 37,-44 43,-38 49,-38 49,-38 79,-38 79,-38 85,-38 91,-44 91,-50 91,-50 91,-62 91,-62 91,-68 85,-74 79,-74\" fill=\"none\" stroke=\"black\"/>\n",
       "<text font-family=\"Times,serif\" font-size=\"14.00\" text-anchor=\"middle\" x=\"64\" y=\"-52.3\">$0</text>\n",
       "</g>\n",
       "<!-- I2&#45;&gt;2 -->\n",
       "<g class=\"edge\" id=\"edge1\">\n",
       "<title>I2-&gt;2</title>\n",
       "<path d=\"M1.04,-56C1.86,-56 13.73,-56 26.87,-56\" fill=\"none\" stroke=\"DimGray\"/>\n",
       "<polygon fill=\"DimGray\" points=\"27,-59.5 37,-56 27,-52.5 27,-59.5\" stroke=\"DimGray\"/>\n",
       "</g>\n",
       "<!-- F2 -->\n",
       "<g class=\"node\" id=\"node2\">\n",
       "<title>F2</title>\n",
       "<ellipse cx=\"181\" cy=\"-87\" fill=\"black\" rx=\"0\" ry=\"0\" stroke=\"black\"/>\n",
       "</g>\n",
       "<!-- 2&#45;&gt;F2 -->\n",
       "<g class=\"edge\" id=\"edge2\">\n",
       "<title>2-&gt;F2</title>\n",
       "<path d=\"M91.27,-67.01C97.05,-69.18 103.18,-71.32 109,-73 130.28,-79.16 155.92,-83.47 169.83,-85.56\" fill=\"none\" stroke=\"DimGray\"/>\n",
       "<polygon fill=\"DimGray\" points=\"169.49,-89.05 179.88,-86.99 170.47,-82.12 169.49,-89.05\" stroke=\"DimGray\"/>\n",
       "</g>\n",
       "<!-- 2&#45;&gt;2 -->\n",
       "<g class=\"edge\" id=\"edge3\">\n",
       "<title>2-&gt;2</title>\n",
       "<path d=\"M56.04,-74.15C54.82,-83.54 57.47,-92 64,-92 67.98,-92 70.52,-88.86 71.62,-84.28\" fill=\"none\" stroke=\"black\"/>\n",
       "<polygon fill=\"black\" points=\"75.12,-84.26 71.96,-74.15 68.13,-84.03 75.12,-84.26\" stroke=\"black\"/>\n",
       "<text font-family=\"Times,serif\" font-size=\"14.00\" text-anchor=\"middle\" x=\"64\" y=\"-95.8\">[0,0], [1,1]</text>\n",
       "</g>\n",
       "<!-- 3 -->\n",
       "<g class=\"node\" id=\"node4\">\n",
       "<title>3</title>\n",
       "<path d=\"M196,-36C196,-36 166,-36 166,-36 160,-36 154,-30 154,-24 154,-24 154,-12 154,-12 154,-6 160,0 166,0 166,0 196,0 196,0 202,0 208,-6 208,-12 208,-12 208,-24 208,-24 208,-30 202,-36 196,-36\" fill=\"none\" stroke=\"black\"/>\n",
       "<text font-family=\"Times,serif\" font-size=\"14.00\" text-anchor=\"middle\" x=\"181\" y=\"-14.3\">$1</text>\n",
       "</g>\n",
       "<!-- 2&#45;&gt;3 -->\n",
       "<g class=\"edge\" id=\"edge4\">\n",
       "<title>2-&gt;3</title>\n",
       "<path d=\"M91.06,-48.25C104.53,-44.17 121.2,-38.98 136,-34 138.58,-33.13 141.24,-32.21 143.92,-31.28\" fill=\"none\" stroke=\"black\"/>\n",
       "<polygon fill=\"black\" points=\"145.3,-34.5 153.55,-27.85 142.95,-27.91 145.3,-34.5\" stroke=\"black\"/>\n",
       "<text font-family=\"Times,serif\" font-size=\"14.00\" text-anchor=\"middle\" x=\"122.5\" y=\"-45.8\">[2,0]</text>\n",
       "</g>\n",
       "<!-- 3&#45;&gt;2 -->\n",
       "<g class=\"edge\" id=\"edge5\">\n",
       "<title>3-&gt;2</title>\n",
       "<path d=\"M153.85,-11.91C140.06,-9.92 123.12,-9.44 109,-15 100.48,-18.35 92.64,-24.22 86,-30.49\" fill=\"none\" stroke=\"black\"/>\n",
       "<polygon fill=\"black\" points=\"83.26,-28.28 78.8,-37.9 88.28,-33.16 83.26,-28.28\" stroke=\"black\"/>\n",
       "<text font-family=\"Times,serif\" font-size=\"14.00\" text-anchor=\"middle\" x=\"122.5\" y=\"-18.8\">[0,1]</text>\n",
       "</g>\n",
       "<!-- 3&#45;&gt;3 -->\n",
       "<g class=\"edge\" id=\"edge6\">\n",
       "<title>3-&gt;3</title>\n",
       "<path d=\"M170.51,-36.15C168.89,-45.54 172.39,-54 181,-54 186.25,-54 189.59,-50.86 191.04,-46.28\" fill=\"none\" stroke=\"black\"/>\n",
       "<polygon fill=\"black\" points=\"194.55,-46.3 191.49,-36.15 187.55,-45.99 194.55,-46.3\" stroke=\"black\"/>\n",
       "<text font-family=\"Times,serif\" font-size=\"14.00\" text-anchor=\"middle\" x=\"181\" y=\"-57.8\">[1,0], [2,1]</text>\n",
       "</g>\n",
       "</g>\n",
       "</svg>"
      ],
      "text/plain": [
       "<IPython.core.display.SVG object>"
      ]
     },
     "metadata": {},
     "output_type": "display_data"
    }
   ],
   "source": [
    "T.display()"
   ]
  },
  {
   "cell_type": "code",
   "execution_count": 7,
   "metadata": {},
   "outputs": [
    {
     "data": {
      "text/plain": [
       "Transducer (lat<lan<lal_char>,lan<lal_char>>_b):\tWeight Set: B\tAlphabets: ['012', '01']\n",
       "States:{\t0(i,f)\t1\t}\n",
       "Transitions:{\t0--(0,0)-->0\t0--(1,1)-->0\t0--(2,0)-->1\t1--(0,1)-->0\t1--(2,1)-->1\t1--(1,0)-->1\t\t}"
      ]
     },
     "execution_count": 7,
     "metadata": {},
     "output_type": "execute_result"
    }
   ],
   "source": [
    "T"
   ]
  },
  {
   "cell_type": "markdown",
   "metadata": {},
   "source": [
    "NB: the mention \"(i)\" following a state means that the state is *initial*.  Similarly, \"(f)\" means *final* and \"(i,f)\" means *initial and final*."
   ]
  },
  {
   "cell_type": "markdown",
   "metadata": {},
   "source": [
    "## Epsilon transitions\n",
    "By default, transducers allow epsilon on any number of tapes. "
   ]
  },
  {
   "cell_type": "code",
   "execution_count": 8,
   "metadata": {},
   "outputs": [],
   "source": [
    "stt_2 = T.add_state()"
   ]
  },
  {
   "cell_type": "markdown",
   "metadata": {},
   "source": [
    "Adding an epsilon-transition, that is, with epsilon on all tapes."
   ]
  },
  {
   "cell_type": "code",
   "execution_count": 9,
   "metadata": {},
   "outputs": [
    {
     "data": {
      "image/svg+xml": [
       "<svg height=\"118pt\" viewBox=\"0.00 0.00 339.00 118.23\" width=\"339pt\" xmlns=\"http://www.w3.org/2000/svg\" xmlns:xlink=\"http://www.w3.org/1999/xlink\">\n",
       "<g class=\"graph\" id=\"graph0\" transform=\"scale(1 1) rotate(0) translate(4 114.23)\">\n",
       "<title>%3</title>\n",
       "<polygon fill=\"white\" points=\"-4,4 -4,-114.23 335,-114.23 335,4 -4,4\" stroke=\"transparent\"/>\n",
       "<!-- I2 -->\n",
       "<g class=\"node\" id=\"node1\">\n",
       "<title>I2</title>\n",
       "<ellipse cx=\"0\" cy=\"-59.23\" fill=\"black\" rx=\"0\" ry=\"0\" stroke=\"black\"/>\n",
       "</g>\n",
       "<!-- 2 -->\n",
       "<g class=\"node\" id=\"node3\">\n",
       "<title>2</title>\n",
       "<path d=\"M79,-77.23C79,-77.23 49,-77.23 49,-77.23 43,-77.23 37,-71.23 37,-65.23 37,-65.23 37,-53.23 37,-53.23 37,-47.23 43,-41.23 49,-41.23 49,-41.23 79,-41.23 79,-41.23 85,-41.23 91,-47.23 91,-53.23 91,-53.23 91,-65.23 91,-65.23 91,-71.23 85,-77.23 79,-77.23\" fill=\"none\" stroke=\"black\"/>\n",
       "<text font-family=\"Times,serif\" font-size=\"14.00\" text-anchor=\"middle\" x=\"64\" y=\"-55.53\">$0</text>\n",
       "</g>\n",
       "<!-- I2&#45;&gt;2 -->\n",
       "<g class=\"edge\" id=\"edge1\">\n",
       "<title>I2-&gt;2</title>\n",
       "<path d=\"M1.04,-59.23C1.86,-59.23 13.73,-59.23 26.87,-59.23\" fill=\"none\" stroke=\"DimGray\"/>\n",
       "<polygon fill=\"DimGray\" points=\"27,-62.73 37,-59.23 27,-55.73 27,-62.73\" stroke=\"DimGray\"/>\n",
       "</g>\n",
       "<!-- F2 -->\n",
       "<g class=\"node\" id=\"node2\">\n",
       "<title>F2</title>\n",
       "<ellipse cx=\"181\" cy=\"-90.23\" fill=\"black\" rx=\"0\" ry=\"0\" stroke=\"black\"/>\n",
       "</g>\n",
       "<!-- 2&#45;&gt;F2 -->\n",
       "<g class=\"edge\" id=\"edge2\">\n",
       "<title>2-&gt;F2</title>\n",
       "<path d=\"M91.27,-70.23C97.05,-72.41 103.18,-74.54 109,-76.23 130.28,-82.38 155.92,-86.7 169.83,-88.79\" fill=\"none\" stroke=\"DimGray\"/>\n",
       "<polygon fill=\"DimGray\" points=\"169.49,-92.28 179.88,-90.21 170.47,-85.35 169.49,-92.28\" stroke=\"DimGray\"/>\n",
       "</g>\n",
       "<!-- 2&#45;&gt;2 -->\n",
       "<g class=\"edge\" id=\"edge3\">\n",
       "<title>2-&gt;2</title>\n",
       "<path d=\"M56.04,-77.38C54.82,-86.77 57.47,-95.23 64,-95.23 67.98,-95.23 70.52,-92.08 71.62,-87.51\" fill=\"none\" stroke=\"black\"/>\n",
       "<polygon fill=\"black\" points=\"75.12,-87.49 71.96,-77.38 68.13,-87.26 75.12,-87.49\" stroke=\"black\"/>\n",
       "<text font-family=\"Times,serif\" font-size=\"14.00\" text-anchor=\"middle\" x=\"64\" y=\"-99.03\">[0,0], [1,1]</text>\n",
       "</g>\n",
       "<!-- 3 -->\n",
       "<g class=\"node\" id=\"node4\">\n",
       "<title>3</title>\n",
       "<path d=\"M196,-39.23C196,-39.23 166,-39.23 166,-39.23 160,-39.23 154,-33.23 154,-27.23 154,-27.23 154,-15.23 154,-15.23 154,-9.23 160,-3.23 166,-3.23 166,-3.23 196,-3.23 196,-3.23 202,-3.23 208,-9.23 208,-15.23 208,-15.23 208,-27.23 208,-27.23 208,-33.23 202,-39.23 196,-39.23\" fill=\"none\" stroke=\"black\"/>\n",
       "<text font-family=\"Times,serif\" font-size=\"14.00\" text-anchor=\"middle\" x=\"181\" y=\"-17.53\">$1</text>\n",
       "</g>\n",
       "<!-- 2&#45;&gt;3 -->\n",
       "<g class=\"edge\" id=\"edge4\">\n",
       "<title>2-&gt;3</title>\n",
       "<path d=\"M91.06,-51.48C104.53,-47.39 121.2,-42.21 136,-37.23 138.58,-36.36 141.24,-35.44 143.92,-34.51\" fill=\"none\" stroke=\"black\"/>\n",
       "<polygon fill=\"black\" points=\"145.3,-37.73 153.55,-31.08 142.95,-31.13 145.3,-37.73\" stroke=\"black\"/>\n",
       "<text font-family=\"Times,serif\" font-size=\"14.00\" text-anchor=\"middle\" x=\"122.5\" y=\"-49.03\">[2,0]</text>\n",
       "</g>\n",
       "<!-- 3&#45;&gt;2 -->\n",
       "<g class=\"edge\" id=\"edge5\">\n",
       "<title>3-&gt;2</title>\n",
       "<path d=\"M153.85,-15.14C140.06,-13.14 123.12,-12.67 109,-18.23 100.48,-21.58 92.64,-27.45 86,-33.71\" fill=\"none\" stroke=\"black\"/>\n",
       "<polygon fill=\"black\" points=\"83.26,-31.51 78.8,-41.12 88.28,-36.39 83.26,-31.51\" stroke=\"black\"/>\n",
       "<text font-family=\"Times,serif\" font-size=\"14.00\" text-anchor=\"middle\" x=\"122.5\" y=\"-22.03\">[0,1]</text>\n",
       "</g>\n",
       "<!-- 3&#45;&gt;3 -->\n",
       "<g class=\"edge\" id=\"edge6\">\n",
       "<title>3-&gt;3</title>\n",
       "<path d=\"M170.51,-39.38C168.89,-48.77 172.39,-57.23 181,-57.23 186.25,-57.23 189.59,-54.08 191.04,-49.51\" fill=\"none\" stroke=\"black\"/>\n",
       "<polygon fill=\"black\" points=\"194.55,-49.52 191.49,-39.38 187.55,-49.21 194.55,-49.52\" stroke=\"black\"/>\n",
       "<text font-family=\"Times,serif\" font-size=\"14.00\" text-anchor=\"middle\" x=\"181\" y=\"-61.03\">[1,0], [2,1]</text>\n",
       "</g>\n",
       "<!-- 4 -->\n",
       "<g class=\"node\" id=\"node5\">\n",
       "<title>4</title>\n",
       "<path d=\"M319,-39.23C319,-39.23 289,-39.23 289,-39.23 283,-39.23 277,-33.23 277,-27.23 277,-27.23 277,-15.23 277,-15.23 277,-9.23 283,-3.23 289,-3.23 289,-3.23 319,-3.23 319,-3.23 325,-3.23 331,-9.23 331,-15.23 331,-15.23 331,-27.23 331,-27.23 331,-33.23 325,-39.23 319,-39.23\" fill=\"none\" stroke=\"black\"/>\n",
       "<text font-family=\"Times,serif\" font-size=\"14.00\" text-anchor=\"middle\" x=\"304\" y=\"-17.53\">$2</text>\n",
       "</g>\n",
       "<!-- 3&#45;&gt;4 -->\n",
       "<g class=\"edge\" id=\"edge7\">\n",
       "<title>3-&gt;4</title>\n",
       "<path d=\"M208.26,-21.23C225.38,-21.23 247.96,-21.23 266.78,-21.23\" fill=\"none\" stroke=\"black\"/>\n",
       "<polygon fill=\"black\" points=\"266.8,-24.73 276.8,-21.23 266.8,-17.73 266.8,-24.73\" stroke=\"black\"/>\n",
       "<text font-family=\"Times,serif\" font-size=\"14.00\" text-anchor=\"middle\" x=\"242.5\" y=\"-25.03\">[\\e,\\e]</text>\n",
       "</g>\n",
       "<!-- 4&#45;&gt;3 -->\n",
       "<g class=\"edge\" id=\"edge8\">\n",
       "<title>4-&gt;3</title>\n",
       "<path d=\"M276.58,-7.77C270.91,-5.47 264.87,-3.44 259,-2.23 244.64,0.74 240.36,0.74 226,-2.23 223.34,-2.78 220.65,-3.49 217.97,-4.33\" fill=\"none\" stroke=\"black\"/>\n",
       "<polygon fill=\"black\" points=\"216.64,-1.08 208.42,-7.77 219.02,-7.67 216.64,-1.08\" stroke=\"black\"/>\n",
       "<text font-family=\"Times,serif\" font-size=\"14.00\" text-anchor=\"middle\" x=\"242.5\" y=\"-6.03\">[\\e,\\e]</text>\n",
       "</g>\n",
       "</g>\n",
       "</svg>"
      ],
      "text/plain": [
       "<IPython.core.display.SVG object>"
      ]
     },
     "metadata": {},
     "output_type": "display_data"
    }
   ],
   "source": [
    "tr_6 = T.set_eps_transition(stt_2,stt_1)\n",
    "tr_7 = T.set_transition(stt_1,stt_2,[\"\",\"\"])\n",
    "T.display()"
   ]
  },
  {
   "cell_type": "markdown",
   "metadata": {},
   "source": [
    "---\n",
    "Adding a transition with epsilon on only one tape."
   ]
  },
  {
   "cell_type": "code",
   "execution_count": 10,
   "metadata": {},
   "outputs": [
    {
     "data": {
      "image/svg+xml": [
       "<svg height=\"123pt\" viewBox=\"0.00 0.00 339.00 122.93\" width=\"339pt\" xmlns=\"http://www.w3.org/2000/svg\" xmlns:xlink=\"http://www.w3.org/1999/xlink\">\n",
       "<g class=\"graph\" id=\"graph0\" transform=\"scale(1 1) rotate(0) translate(4 118.93)\">\n",
       "<title>%3</title>\n",
       "<polygon fill=\"white\" points=\"-4,4 -4,-118.93 335,-118.93 335,4 -4,4\" stroke=\"transparent\"/>\n",
       "<!-- I2 -->\n",
       "<g class=\"node\" id=\"node1\">\n",
       "<title>I2</title>\n",
       "<ellipse cx=\"0\" cy=\"-55.93\" fill=\"black\" rx=\"0\" ry=\"0\" stroke=\"black\"/>\n",
       "</g>\n",
       "<!-- 2 -->\n",
       "<g class=\"node\" id=\"node3\">\n",
       "<title>2</title>\n",
       "<path d=\"M79,-73.93C79,-73.93 49,-73.93 49,-73.93 43,-73.93 37,-67.93 37,-61.93 37,-61.93 37,-49.93 37,-49.93 37,-43.93 43,-37.93 49,-37.93 49,-37.93 79,-37.93 79,-37.93 85,-37.93 91,-43.93 91,-49.93 91,-49.93 91,-61.93 91,-61.93 91,-67.93 85,-73.93 79,-73.93\" fill=\"none\" stroke=\"black\"/>\n",
       "<text font-family=\"Times,serif\" font-size=\"14.00\" text-anchor=\"middle\" x=\"64\" y=\"-52.23\">$0</text>\n",
       "</g>\n",
       "<!-- I2&#45;&gt;2 -->\n",
       "<g class=\"edge\" id=\"edge1\">\n",
       "<title>I2-&gt;2</title>\n",
       "<path d=\"M1.04,-55.93C1.86,-55.93 13.73,-55.93 26.87,-55.93\" fill=\"none\" stroke=\"DimGray\"/>\n",
       "<polygon fill=\"DimGray\" points=\"27,-59.43 37,-55.93 27,-52.43 27,-59.43\" stroke=\"DimGray\"/>\n",
       "</g>\n",
       "<!-- F2 -->\n",
       "<g class=\"node\" id=\"node2\">\n",
       "<title>F2</title>\n",
       "<ellipse cx=\"181\" cy=\"-114.93\" fill=\"black\" rx=\"0\" ry=\"0\" stroke=\"black\"/>\n",
       "</g>\n",
       "<!-- 2&#45;&gt;F2 -->\n",
       "<g class=\"edge\" id=\"edge2\">\n",
       "<title>2-&gt;F2</title>\n",
       "<path d=\"M91.23,-72.31C108.62,-82.75 132.18,-96.12 154,-105.93 159.23,-108.28 165.27,-110.41 170.21,-112\" fill=\"none\" stroke=\"DimGray\"/>\n",
       "<polygon fill=\"DimGray\" points=\"169.25,-115.37 179.83,-114.89 171.26,-108.66 169.25,-115.37\" stroke=\"DimGray\"/>\n",
       "</g>\n",
       "<!-- 2&#45;&gt;2 -->\n",
       "<g class=\"edge\" id=\"edge3\">\n",
       "<title>2-&gt;2</title>\n",
       "<path d=\"M56.04,-74.09C54.82,-83.47 57.47,-91.93 64,-91.93 67.98,-91.93 70.52,-88.79 71.62,-84.21\" fill=\"none\" stroke=\"black\"/>\n",
       "<polygon fill=\"black\" points=\"75.12,-84.2 71.96,-74.09 68.13,-83.96 75.12,-84.2\" stroke=\"black\"/>\n",
       "<text font-family=\"Times,serif\" font-size=\"14.00\" text-anchor=\"middle\" x=\"64\" y=\"-95.73\">[0,0], [1,1]</text>\n",
       "</g>\n",
       "<!-- 3 -->\n",
       "<g class=\"node\" id=\"node4\">\n",
       "<title>3</title>\n",
       "<path d=\"M196,-63.93C196,-63.93 166,-63.93 166,-63.93 160,-63.93 154,-57.93 154,-51.93 154,-51.93 154,-39.93 154,-39.93 154,-33.93 160,-27.93 166,-27.93 166,-27.93 196,-27.93 196,-27.93 202,-27.93 208,-33.93 208,-39.93 208,-39.93 208,-51.93 208,-51.93 208,-57.93 202,-63.93 196,-63.93\" fill=\"none\" stroke=\"black\"/>\n",
       "<text font-family=\"Times,serif\" font-size=\"14.00\" text-anchor=\"middle\" x=\"181\" y=\"-42.23\">$1</text>\n",
       "</g>\n",
       "<!-- 2&#45;&gt;3 -->\n",
       "<g class=\"edge\" id=\"edge4\">\n",
       "<title>2-&gt;3</title>\n",
       "<path d=\"M91.02,-55.55C104.47,-55.18 121.15,-54.42 136,-52.93 138.49,-52.68 141.06,-52.39 143.64,-52.05\" fill=\"none\" stroke=\"black\"/>\n",
       "<polygon fill=\"black\" points=\"144.13,-55.52 153.54,-50.65 143.15,-48.59 144.13,-55.52\" stroke=\"black\"/>\n",
       "<text font-family=\"Times,serif\" font-size=\"14.00\" text-anchor=\"middle\" x=\"122.5\" y=\"-57.73\">[2,0]</text>\n",
       "</g>\n",
       "<!-- 3&#45;&gt;2 -->\n",
       "<g class=\"edge\" id=\"edge5\">\n",
       "<title>3-&gt;2</title>\n",
       "<path d=\"M153.87,-36.54C140.39,-32.95 123.72,-30.46 109,-33.93 106.19,-34.6 103.36,-35.47 100.56,-36.48\" fill=\"none\" stroke=\"black\"/>\n",
       "<polygon fill=\"black\" points=\"99.12,-33.29 91.24,-40.37 101.82,-39.75 99.12,-33.29\" stroke=\"black\"/>\n",
       "<text font-family=\"Times,serif\" font-size=\"14.00\" text-anchor=\"middle\" x=\"122.5\" y=\"-37.73\">[0,1]</text>\n",
       "</g>\n",
       "<!-- 3&#45;&gt;3 -->\n",
       "<g class=\"edge\" id=\"edge6\">\n",
       "<title>3-&gt;3</title>\n",
       "<path d=\"M170.51,-64.09C168.89,-73.47 172.39,-81.93 181,-81.93 186.25,-81.93 189.59,-78.79 191.04,-74.21\" fill=\"none\" stroke=\"black\"/>\n",
       "<polygon fill=\"black\" points=\"194.55,-74.23 191.49,-64.09 187.55,-73.92 194.55,-74.23\" stroke=\"black\"/>\n",
       "<text font-family=\"Times,serif\" font-size=\"14.00\" text-anchor=\"middle\" x=\"181\" y=\"-85.73\">[1,0], [2,1]</text>\n",
       "</g>\n",
       "<!-- 4 -->\n",
       "<g class=\"node\" id=\"node5\">\n",
       "<title>4</title>\n",
       "<path d=\"M319,-45.93C319,-45.93 289,-45.93 289,-45.93 283,-45.93 277,-39.93 277,-33.93 277,-33.93 277,-21.93 277,-21.93 277,-15.93 283,-9.93 289,-9.93 289,-9.93 319,-9.93 319,-9.93 325,-9.93 331,-15.93 331,-21.93 331,-21.93 331,-33.93 331,-33.93 331,-39.93 325,-45.93 319,-45.93\" fill=\"none\" stroke=\"black\"/>\n",
       "<text font-family=\"Times,serif\" font-size=\"14.00\" text-anchor=\"middle\" x=\"304\" y=\"-24.23\">$2</text>\n",
       "</g>\n",
       "<!-- 3&#45;&gt;4 -->\n",
       "<g class=\"edge\" id=\"edge7\">\n",
       "<title>3-&gt;4</title>\n",
       "<path d=\"M208.24,-47.33C223.23,-47.61 242.31,-47.1 259,-43.93 261.68,-43.43 264.41,-42.78 267.13,-42.03\" fill=\"none\" stroke=\"black\"/>\n",
       "<polygon fill=\"black\" points=\"268.36,-45.32 276.86,-39 266.28,-38.63 268.36,-45.32\" stroke=\"black\"/>\n",
       "<text font-family=\"Times,serif\" font-size=\"14.00\" text-anchor=\"middle\" x=\"242.5\" y=\"-50.73\">[\\e,\\e]</text>\n",
       "</g>\n",
       "<!-- 4&#45;&gt;2 -->\n",
       "<g class=\"edge\" id=\"edge8\">\n",
       "<title>4-&gt;2</title>\n",
       "<path d=\"M276.89,-17.4C246.92,-6.77 196.45,6.68 154,-3.93 133.2,-9.13 112.37,-20.86 96.1,-31.86\" fill=\"none\" stroke=\"black\"/>\n",
       "<polygon fill=\"black\" points=\"93.74,-29.24 87.56,-37.85 97.76,-34.97 93.74,-29.24\" stroke=\"black\"/>\n",
       "<text font-family=\"Times,serif\" font-size=\"14.00\" text-anchor=\"middle\" x=\"181\" y=\"-7.73\">[0,\\e]</text>\n",
       "</g>\n",
       "<!-- 4&#45;&gt;3 -->\n",
       "<g class=\"edge\" id=\"edge9\">\n",
       "<title>4-&gt;3</title>\n",
       "<path d=\"M276.67,-23.56C261.65,-21.89 242.57,-21.18 226,-24.93 223.21,-25.56 220.4,-26.39 217.61,-27.36\" fill=\"none\" stroke=\"black\"/>\n",
       "<polygon fill=\"black\" points=\"216.3,-24.11 208.3,-31.07 218.89,-30.62 216.3,-24.11\" stroke=\"black\"/>\n",
       "<text font-family=\"Times,serif\" font-size=\"14.00\" text-anchor=\"middle\" x=\"242.5\" y=\"-28.73\">[\\e,\\e]</text>\n",
       "</g>\n",
       "<!-- 4&#45;&gt;4 -->\n",
       "<g class=\"edge\" id=\"edge10\">\n",
       "<title>4-&gt;4</title>\n",
       "<path d=\"M293.15,-46.09C291.48,-55.47 295.09,-63.93 304,-63.93 309.43,-63.93 312.89,-60.79 314.39,-56.21\" fill=\"none\" stroke=\"black\"/>\n",
       "<polygon fill=\"black\" points=\"317.89,-56.24 314.85,-46.09 310.9,-55.92 317.89,-56.24\" stroke=\"black\"/>\n",
       "<text font-family=\"Times,serif\" font-size=\"14.00\" text-anchor=\"middle\" x=\"304\" y=\"-67.73\">[\\e,1]</text>\n",
       "</g>\n",
       "</g>\n",
       "</svg>"
      ],
      "text/plain": [
       "<IPython.core.display.SVG object>"
      ]
     },
     "metadata": {},
     "output_type": "display_data"
    }
   ],
   "source": [
    "tr_8 = T.set_transition(stt_2,stt_0,[\"0\",\"\"])\n",
    "tr_9 = T.set_transition(stt_2,stt_2,[\"\",\"1\"])\n",
    "T.display()"
   ]
  },
  {
   "cell_type": "markdown",
   "metadata": {},
   "source": [
    "## Deleting edges and states"
   ]
  },
  {
   "cell_type": "markdown",
   "metadata": {},
   "source": [
    "Let us consider the automaton A"
   ]
  },
  {
   "cell_type": "code",
   "execution_count": 11,
   "metadata": {},
   "outputs": [
    {
     "data": {
      "image/svg+xml": [
       "<svg height=\"123pt\" viewBox=\"0.00 0.00 339.00 122.93\" width=\"339pt\" xmlns=\"http://www.w3.org/2000/svg\" xmlns:xlink=\"http://www.w3.org/1999/xlink\">\n",
       "<g class=\"graph\" id=\"graph0\" transform=\"scale(1 1) rotate(0) translate(4 118.93)\">\n",
       "<title>%3</title>\n",
       "<polygon fill=\"white\" points=\"-4,4 -4,-118.93 335,-118.93 335,4 -4,4\" stroke=\"transparent\"/>\n",
       "<!-- I2 -->\n",
       "<g class=\"node\" id=\"node1\">\n",
       "<title>I2</title>\n",
       "<ellipse cx=\"0\" cy=\"-55.93\" fill=\"black\" rx=\"0\" ry=\"0\" stroke=\"black\"/>\n",
       "</g>\n",
       "<!-- 2 -->\n",
       "<g class=\"node\" id=\"node3\">\n",
       "<title>2</title>\n",
       "<path d=\"M79,-73.93C79,-73.93 49,-73.93 49,-73.93 43,-73.93 37,-67.93 37,-61.93 37,-61.93 37,-49.93 37,-49.93 37,-43.93 43,-37.93 49,-37.93 49,-37.93 79,-37.93 79,-37.93 85,-37.93 91,-43.93 91,-49.93 91,-49.93 91,-61.93 91,-61.93 91,-67.93 85,-73.93 79,-73.93\" fill=\"none\" stroke=\"black\"/>\n",
       "<text font-family=\"Times,serif\" font-size=\"14.00\" text-anchor=\"middle\" x=\"64\" y=\"-52.23\">$0</text>\n",
       "</g>\n",
       "<!-- I2&#45;&gt;2 -->\n",
       "<g class=\"edge\" id=\"edge1\">\n",
       "<title>I2-&gt;2</title>\n",
       "<path d=\"M1.04,-55.93C1.86,-55.93 13.73,-55.93 26.87,-55.93\" fill=\"none\" stroke=\"DimGray\"/>\n",
       "<polygon fill=\"DimGray\" points=\"27,-59.43 37,-55.93 27,-52.43 27,-59.43\" stroke=\"DimGray\"/>\n",
       "</g>\n",
       "<!-- F2 -->\n",
       "<g class=\"node\" id=\"node2\">\n",
       "<title>F2</title>\n",
       "<ellipse cx=\"181\" cy=\"-114.93\" fill=\"black\" rx=\"0\" ry=\"0\" stroke=\"black\"/>\n",
       "</g>\n",
       "<!-- 2&#45;&gt;F2 -->\n",
       "<g class=\"edge\" id=\"edge2\">\n",
       "<title>2-&gt;F2</title>\n",
       "<path d=\"M91.23,-72.31C108.62,-82.75 132.18,-96.12 154,-105.93 159.23,-108.28 165.27,-110.41 170.21,-112\" fill=\"none\" stroke=\"DimGray\"/>\n",
       "<polygon fill=\"DimGray\" points=\"169.25,-115.37 179.83,-114.89 171.26,-108.66 169.25,-115.37\" stroke=\"DimGray\"/>\n",
       "</g>\n",
       "<!-- 2&#45;&gt;2 -->\n",
       "<g class=\"edge\" id=\"edge3\">\n",
       "<title>2-&gt;2</title>\n",
       "<path d=\"M56.04,-74.09C54.82,-83.47 57.47,-91.93 64,-91.93 67.98,-91.93 70.52,-88.79 71.62,-84.21\" fill=\"none\" stroke=\"black\"/>\n",
       "<polygon fill=\"black\" points=\"75.12,-84.2 71.96,-74.09 68.13,-83.96 75.12,-84.2\" stroke=\"black\"/>\n",
       "<text font-family=\"Times,serif\" font-size=\"14.00\" text-anchor=\"middle\" x=\"64\" y=\"-95.73\">[0,0], [1,1]</text>\n",
       "</g>\n",
       "<!-- 3 -->\n",
       "<g class=\"node\" id=\"node4\">\n",
       "<title>3</title>\n",
       "<path d=\"M196,-63.93C196,-63.93 166,-63.93 166,-63.93 160,-63.93 154,-57.93 154,-51.93 154,-51.93 154,-39.93 154,-39.93 154,-33.93 160,-27.93 166,-27.93 166,-27.93 196,-27.93 196,-27.93 202,-27.93 208,-33.93 208,-39.93 208,-39.93 208,-51.93 208,-51.93 208,-57.93 202,-63.93 196,-63.93\" fill=\"none\" stroke=\"black\"/>\n",
       "<text font-family=\"Times,serif\" font-size=\"14.00\" text-anchor=\"middle\" x=\"181\" y=\"-42.23\">$1</text>\n",
       "</g>\n",
       "<!-- 2&#45;&gt;3 -->\n",
       "<g class=\"edge\" id=\"edge4\">\n",
       "<title>2-&gt;3</title>\n",
       "<path d=\"M91.02,-55.55C104.47,-55.18 121.15,-54.42 136,-52.93 138.49,-52.68 141.06,-52.39 143.64,-52.05\" fill=\"none\" stroke=\"black\"/>\n",
       "<polygon fill=\"black\" points=\"144.13,-55.52 153.54,-50.65 143.15,-48.59 144.13,-55.52\" stroke=\"black\"/>\n",
       "<text font-family=\"Times,serif\" font-size=\"14.00\" text-anchor=\"middle\" x=\"122.5\" y=\"-57.73\">[2,0]</text>\n",
       "</g>\n",
       "<!-- 3&#45;&gt;2 -->\n",
       "<g class=\"edge\" id=\"edge5\">\n",
       "<title>3-&gt;2</title>\n",
       "<path d=\"M153.87,-36.54C140.39,-32.95 123.72,-30.46 109,-33.93 106.19,-34.6 103.36,-35.47 100.56,-36.48\" fill=\"none\" stroke=\"black\"/>\n",
       "<polygon fill=\"black\" points=\"99.12,-33.29 91.24,-40.37 101.82,-39.75 99.12,-33.29\" stroke=\"black\"/>\n",
       "<text font-family=\"Times,serif\" font-size=\"14.00\" text-anchor=\"middle\" x=\"122.5\" y=\"-37.73\">[0,1]</text>\n",
       "</g>\n",
       "<!-- 3&#45;&gt;3 -->\n",
       "<g class=\"edge\" id=\"edge6\">\n",
       "<title>3-&gt;3</title>\n",
       "<path d=\"M170.51,-64.09C168.89,-73.47 172.39,-81.93 181,-81.93 186.25,-81.93 189.59,-78.79 191.04,-74.21\" fill=\"none\" stroke=\"black\"/>\n",
       "<polygon fill=\"black\" points=\"194.55,-74.23 191.49,-64.09 187.55,-73.92 194.55,-74.23\" stroke=\"black\"/>\n",
       "<text font-family=\"Times,serif\" font-size=\"14.00\" text-anchor=\"middle\" x=\"181\" y=\"-85.73\">[1,0], [2,1]</text>\n",
       "</g>\n",
       "<!-- 4 -->\n",
       "<g class=\"node\" id=\"node5\">\n",
       "<title>4</title>\n",
       "<path d=\"M319,-45.93C319,-45.93 289,-45.93 289,-45.93 283,-45.93 277,-39.93 277,-33.93 277,-33.93 277,-21.93 277,-21.93 277,-15.93 283,-9.93 289,-9.93 289,-9.93 319,-9.93 319,-9.93 325,-9.93 331,-15.93 331,-21.93 331,-21.93 331,-33.93 331,-33.93 331,-39.93 325,-45.93 319,-45.93\" fill=\"none\" stroke=\"black\"/>\n",
       "<text font-family=\"Times,serif\" font-size=\"14.00\" text-anchor=\"middle\" x=\"304\" y=\"-24.23\">$2</text>\n",
       "</g>\n",
       "<!-- 3&#45;&gt;4 -->\n",
       "<g class=\"edge\" id=\"edge7\">\n",
       "<title>3-&gt;4</title>\n",
       "<path d=\"M208.24,-47.33C223.23,-47.61 242.31,-47.1 259,-43.93 261.68,-43.43 264.41,-42.78 267.13,-42.03\" fill=\"none\" stroke=\"black\"/>\n",
       "<polygon fill=\"black\" points=\"268.36,-45.32 276.86,-39 266.28,-38.63 268.36,-45.32\" stroke=\"black\"/>\n",
       "<text font-family=\"Times,serif\" font-size=\"14.00\" text-anchor=\"middle\" x=\"242.5\" y=\"-50.73\">[\\e,\\e]</text>\n",
       "</g>\n",
       "<!-- 4&#45;&gt;2 -->\n",
       "<g class=\"edge\" id=\"edge8\">\n",
       "<title>4-&gt;2</title>\n",
       "<path d=\"M276.89,-17.4C246.92,-6.77 196.45,6.68 154,-3.93 133.2,-9.13 112.37,-20.86 96.1,-31.86\" fill=\"none\" stroke=\"black\"/>\n",
       "<polygon fill=\"black\" points=\"93.74,-29.24 87.56,-37.85 97.76,-34.97 93.74,-29.24\" stroke=\"black\"/>\n",
       "<text font-family=\"Times,serif\" font-size=\"14.00\" text-anchor=\"middle\" x=\"181\" y=\"-7.73\">[0,\\e]</text>\n",
       "</g>\n",
       "<!-- 4&#45;&gt;3 -->\n",
       "<g class=\"edge\" id=\"edge9\">\n",
       "<title>4-&gt;3</title>\n",
       "<path d=\"M276.67,-23.56C261.65,-21.89 242.57,-21.18 226,-24.93 223.21,-25.56 220.4,-26.39 217.61,-27.36\" fill=\"none\" stroke=\"black\"/>\n",
       "<polygon fill=\"black\" points=\"216.3,-24.11 208.3,-31.07 218.89,-30.62 216.3,-24.11\" stroke=\"black\"/>\n",
       "<text font-family=\"Times,serif\" font-size=\"14.00\" text-anchor=\"middle\" x=\"242.5\" y=\"-28.73\">[\\e,\\e]</text>\n",
       "</g>\n",
       "<!-- 4&#45;&gt;4 -->\n",
       "<g class=\"edge\" id=\"edge10\">\n",
       "<title>4-&gt;4</title>\n",
       "<path d=\"M293.15,-46.09C291.48,-55.47 295.09,-63.93 304,-63.93 309.43,-63.93 312.89,-60.79 314.39,-56.21\" fill=\"none\" stroke=\"black\"/>\n",
       "<polygon fill=\"black\" points=\"317.89,-56.24 314.85,-46.09 310.9,-55.92 317.89,-56.24\" stroke=\"black\"/>\n",
       "<text font-family=\"Times,serif\" font-size=\"14.00\" text-anchor=\"middle\" x=\"304\" y=\"-67.73\">[\\e,1]</text>\n",
       "</g>\n",
       "</g>\n",
       "</svg>"
      ],
      "text/plain": [
       "<IPython.core.display.SVG object>"
      ]
     },
     "metadata": {},
     "output_type": "display_data"
    }
   ],
   "source": [
    "T.display()"
   ]
  },
  {
   "cell_type": "markdown",
   "metadata": {},
   "source": [
    "<hr> Let us add a transition."
   ]
  },
  {
   "cell_type": "code",
   "execution_count": 12,
   "metadata": {},
   "outputs": [
    {
     "data": {
      "image/svg+xml": [
       "<svg height=\"144pt\" viewBox=\"0.00 0.00 339.00 144.21\" width=\"339pt\" xmlns=\"http://www.w3.org/2000/svg\" xmlns:xlink=\"http://www.w3.org/1999/xlink\">\n",
       "<g class=\"graph\" id=\"graph0\" transform=\"scale(1 1) rotate(0) translate(4 140.21)\">\n",
       "<title>%3</title>\n",
       "<polygon fill=\"white\" points=\"-4,4 -4,-140.21 335,-140.21 335,4 -4,4\" stroke=\"transparent\"/>\n",
       "<!-- I2 -->\n",
       "<g class=\"node\" id=\"node1\">\n",
       "<title>I2</title>\n",
       "<ellipse cx=\"0\" cy=\"-49.21\" fill=\"black\" rx=\"0\" ry=\"0\" stroke=\"black\"/>\n",
       "</g>\n",
       "<!-- 2 -->\n",
       "<g class=\"node\" id=\"node3\">\n",
       "<title>2</title>\n",
       "<path d=\"M79,-67.21C79,-67.21 49,-67.21 49,-67.21 43,-67.21 37,-61.21 37,-55.21 37,-55.21 37,-43.21 37,-43.21 37,-37.21 43,-31.21 49,-31.21 49,-31.21 79,-31.21 79,-31.21 85,-31.21 91,-37.21 91,-43.21 91,-43.21 91,-55.21 91,-55.21 91,-61.21 85,-67.21 79,-67.21\" fill=\"none\" stroke=\"black\"/>\n",
       "<text font-family=\"Times,serif\" font-size=\"14.00\" text-anchor=\"middle\" x=\"64\" y=\"-45.51\">$0</text>\n",
       "</g>\n",
       "<!-- I2&#45;&gt;2 -->\n",
       "<g class=\"edge\" id=\"edge1\">\n",
       "<title>I2-&gt;2</title>\n",
       "<path d=\"M1.04,-49.21C1.86,-49.21 13.73,-49.21 26.87,-49.21\" fill=\"none\" stroke=\"DimGray\"/>\n",
       "<polygon fill=\"DimGray\" points=\"27,-52.71 37,-49.21 27,-45.71 27,-52.71\" stroke=\"DimGray\"/>\n",
       "</g>\n",
       "<!-- F2 -->\n",
       "<g class=\"node\" id=\"node2\">\n",
       "<title>F2</title>\n",
       "<ellipse cx=\"181\" cy=\"-136.21\" fill=\"black\" rx=\"0\" ry=\"0\" stroke=\"black\"/>\n",
       "</g>\n",
       "<!-- 2&#45;&gt;F2 -->\n",
       "<g class=\"edge\" id=\"edge2\">\n",
       "<title>2-&gt;F2</title>\n",
       "<path d=\"M81.48,-67.25C98.26,-84.68 125.76,-110.8 154,-127.21 158.96,-130.1 164.99,-132.25 169.99,-133.73\" fill=\"none\" stroke=\"DimGray\"/>\n",
       "<polygon fill=\"DimGray\" points=\"169.41,-137.19 179.96,-136.2 171.09,-130.4 169.41,-137.19\" stroke=\"DimGray\"/>\n",
       "</g>\n",
       "<!-- 2&#45;&gt;2 -->\n",
       "<g class=\"edge\" id=\"edge3\">\n",
       "<title>2-&gt;2</title>\n",
       "<path d=\"M56.04,-67.37C54.82,-76.75 57.47,-85.21 64,-85.21 67.98,-85.21 70.52,-82.07 71.62,-77.49\" fill=\"none\" stroke=\"black\"/>\n",
       "<polygon fill=\"black\" points=\"75.12,-77.48 71.96,-67.37 68.13,-77.24 75.12,-77.48\" stroke=\"black\"/>\n",
       "<text font-family=\"Times,serif\" font-size=\"14.00\" text-anchor=\"middle\" x=\"64\" y=\"-89.01\">[0,0], [1,1]</text>\n",
       "</g>\n",
       "<!-- 3 -->\n",
       "<g class=\"node\" id=\"node4\">\n",
       "<title>3</title>\n",
       "<path d=\"M196,-85.21C196,-85.21 166,-85.21 166,-85.21 160,-85.21 154,-79.21 154,-73.21 154,-73.21 154,-61.21 154,-61.21 154,-55.21 160,-49.21 166,-49.21 166,-49.21 196,-49.21 196,-49.21 202,-49.21 208,-55.21 208,-61.21 208,-61.21 208,-73.21 208,-73.21 208,-79.21 202,-85.21 196,-85.21\" fill=\"none\" stroke=\"black\"/>\n",
       "<text font-family=\"Times,serif\" font-size=\"14.00\" text-anchor=\"middle\" x=\"181\" y=\"-63.51\">$1</text>\n",
       "</g>\n",
       "<!-- 2&#45;&gt;3 -->\n",
       "<g class=\"edge\" id=\"edge4\">\n",
       "<title>2-&gt;3</title>\n",
       "<path d=\"M91.14,-60.27C96.92,-62.27 103.09,-64.09 109,-65.21 120.11,-67.33 132.37,-68.19 143.53,-68.42\" fill=\"none\" stroke=\"black\"/>\n",
       "<polygon fill=\"black\" points=\"143.8,-71.92 153.82,-68.46 143.83,-64.92 143.8,-71.92\" stroke=\"black\"/>\n",
       "<text font-family=\"Times,serif\" font-size=\"14.00\" text-anchor=\"middle\" x=\"122.5\" y=\"-71.01\">[2,0]</text>\n",
       "</g>\n",
       "<!-- 4 -->\n",
       "<g class=\"node\" id=\"node5\">\n",
       "<title>4</title>\n",
       "<path d=\"M319,-50.21C319,-50.21 289,-50.21 289,-50.21 283,-50.21 277,-44.21 277,-38.21 277,-38.21 277,-26.21 277,-26.21 277,-20.21 283,-14.21 289,-14.21 289,-14.21 319,-14.21 319,-14.21 325,-14.21 331,-20.21 331,-26.21 331,-26.21 331,-38.21 331,-38.21 331,-44.21 325,-50.21 319,-50.21\" fill=\"none\" stroke=\"black\"/>\n",
       "<text font-family=\"Times,serif\" font-size=\"14.00\" text-anchor=\"middle\" x=\"304\" y=\"-28.51\">$2</text>\n",
       "</g>\n",
       "<!-- 2&#45;&gt;4 -->\n",
       "<g class=\"edge\" id=\"edge5\">\n",
       "<title>2-&gt;4</title>\n",
       "<path d=\"M91.11,-40.22C108.65,-34.67 132.42,-28.07 154,-25.21 192.24,-20.15 236.42,-23.35 266.68,-26.91\" fill=\"none\" stroke=\"black\"/>\n",
       "<polygon fill=\"black\" points=\"266.42,-30.4 276.77,-28.17 267.28,-23.45 266.42,-30.4\" stroke=\"black\"/>\n",
       "<text font-family=\"Times,serif\" font-size=\"14.00\" text-anchor=\"middle\" x=\"181\" y=\"-29.01\">[0,1]</text>\n",
       "</g>\n",
       "<!-- 3&#45;&gt;2 -->\n",
       "<g class=\"edge\" id=\"edge6\">\n",
       "<title>3-&gt;2</title>\n",
       "<path d=\"M153.7,-52.35C148.02,-49.81 141.94,-47.56 136,-46.21 124.97,-43.71 112.73,-43.39 101.56,-44\" fill=\"none\" stroke=\"black\"/>\n",
       "<polygon fill=\"black\" points=\"100.95,-40.54 91.26,-44.84 101.51,-47.52 100.95,-40.54\" stroke=\"black\"/>\n",
       "<text font-family=\"Times,serif\" font-size=\"14.00\" text-anchor=\"middle\" x=\"122.5\" y=\"-50.01\">[0,1]</text>\n",
       "</g>\n",
       "<!-- 3&#45;&gt;3 -->\n",
       "<g class=\"edge\" id=\"edge7\">\n",
       "<title>3-&gt;3</title>\n",
       "<path d=\"M170.51,-85.37C168.89,-94.75 172.39,-103.21 181,-103.21 186.25,-103.21 189.59,-100.07 191.04,-95.49\" fill=\"none\" stroke=\"black\"/>\n",
       "<polygon fill=\"black\" points=\"194.55,-95.51 191.49,-85.37 187.55,-95.2 194.55,-95.51\" stroke=\"black\"/>\n",
       "<text font-family=\"Times,serif\" font-size=\"14.00\" text-anchor=\"middle\" x=\"181\" y=\"-107.01\">[1,0], [2,1]</text>\n",
       "</g>\n",
       "<!-- 3&#45;&gt;4 -->\n",
       "<g class=\"edge\" id=\"edge8\">\n",
       "<title>3-&gt;4</title>\n",
       "<path d=\"M208.02,-70.41C223.28,-71.34 242.71,-70.88 259,-65.21 264.78,-63.2 270.42,-60.13 275.63,-56.66\" fill=\"none\" stroke=\"black\"/>\n",
       "<polygon fill=\"black\" points=\"277.96,-59.29 283.94,-50.55 273.81,-53.65 277.96,-59.29\" stroke=\"black\"/>\n",
       "<text font-family=\"Times,serif\" font-size=\"14.00\" text-anchor=\"middle\" x=\"242.5\" y=\"-74.01\">[\\e,\\e]</text>\n",
       "</g>\n",
       "<!-- 4&#45;&gt;2 -->\n",
       "<g class=\"edge\" id=\"edge9\">\n",
       "<title>4-&gt;2</title>\n",
       "<path d=\"M276.81,-20.57C246.98,-8.83 196.84,6.29 154,-3.21 135.12,-7.4 115.85,-16.63 100.1,-25.73\" fill=\"none\" stroke=\"black\"/>\n",
       "<polygon fill=\"black\" points=\"98.03,-22.88 91.25,-31.03 101.63,-28.89 98.03,-22.88\" stroke=\"black\"/>\n",
       "<text font-family=\"Times,serif\" font-size=\"14.00\" text-anchor=\"middle\" x=\"181\" y=\"-7.01\">[0,\\e]</text>\n",
       "</g>\n",
       "<!-- 4&#45;&gt;3 -->\n",
       "<g class=\"edge\" id=\"edge10\">\n",
       "<title>4-&gt;3</title>\n",
       "<path d=\"M276.91,-35.2C261.8,-37.36 242.55,-40.86 226,-46.21 223.11,-47.15 220.17,-48.23 217.25,-49.4\" fill=\"none\" stroke=\"black\"/>\n",
       "<polygon fill=\"black\" points=\"215.84,-46.2 208.06,-53.38 218.63,-52.62 215.84,-46.2\" stroke=\"black\"/>\n",
       "<text font-family=\"Times,serif\" font-size=\"14.00\" text-anchor=\"middle\" x=\"242.5\" y=\"-50.01\">[\\e,\\e]</text>\n",
       "</g>\n",
       "<!-- 4&#45;&gt;4 -->\n",
       "<g class=\"edge\" id=\"edge11\">\n",
       "<title>4-&gt;4</title>\n",
       "<path d=\"M293.15,-50.37C291.48,-59.75 295.09,-68.21 304,-68.21 309.43,-68.21 312.89,-65.07 314.39,-60.49\" fill=\"none\" stroke=\"black\"/>\n",
       "<polygon fill=\"black\" points=\"317.89,-60.51 314.85,-50.37 310.9,-60.19 317.89,-60.51\" stroke=\"black\"/>\n",
       "<text font-family=\"Times,serif\" font-size=\"14.00\" text-anchor=\"middle\" x=\"304\" y=\"-72.01\">[\\e,1]</text>\n",
       "</g>\n",
       "</g>\n",
       "</svg>"
      ],
      "text/plain": [
       "<IPython.core.display.SVG object>"
      ]
     },
     "metadata": {},
     "output_type": "display_data"
    }
   ],
   "source": [
    "tr_10 = T.set_transition(stt_0,stt_2,[\"0\",\"1\"])\n",
    "T.display()"
   ]
  },
  {
   "cell_type": "markdown",
   "metadata": {},
   "source": [
    "---\n",
    "Deleting the transition we just added by id."
   ]
  },
  {
   "cell_type": "code",
   "execution_count": 13,
   "metadata": {},
   "outputs": [
    {
     "data": {
      "image/svg+xml": [
       "<svg height=\"123pt\" viewBox=\"0.00 0.00 339.00 122.93\" width=\"339pt\" xmlns=\"http://www.w3.org/2000/svg\" xmlns:xlink=\"http://www.w3.org/1999/xlink\">\n",
       "<g class=\"graph\" id=\"graph0\" transform=\"scale(1 1) rotate(0) translate(4 118.93)\">\n",
       "<title>%3</title>\n",
       "<polygon fill=\"white\" points=\"-4,4 -4,-118.93 335,-118.93 335,4 -4,4\" stroke=\"transparent\"/>\n",
       "<!-- I2 -->\n",
       "<g class=\"node\" id=\"node1\">\n",
       "<title>I2</title>\n",
       "<ellipse cx=\"0\" cy=\"-55.93\" fill=\"black\" rx=\"0\" ry=\"0\" stroke=\"black\"/>\n",
       "</g>\n",
       "<!-- 2 -->\n",
       "<g class=\"node\" id=\"node3\">\n",
       "<title>2</title>\n",
       "<path d=\"M79,-73.93C79,-73.93 49,-73.93 49,-73.93 43,-73.93 37,-67.93 37,-61.93 37,-61.93 37,-49.93 37,-49.93 37,-43.93 43,-37.93 49,-37.93 49,-37.93 79,-37.93 79,-37.93 85,-37.93 91,-43.93 91,-49.93 91,-49.93 91,-61.93 91,-61.93 91,-67.93 85,-73.93 79,-73.93\" fill=\"none\" stroke=\"black\"/>\n",
       "<text font-family=\"Times,serif\" font-size=\"14.00\" text-anchor=\"middle\" x=\"64\" y=\"-52.23\">$0</text>\n",
       "</g>\n",
       "<!-- I2&#45;&gt;2 -->\n",
       "<g class=\"edge\" id=\"edge1\">\n",
       "<title>I2-&gt;2</title>\n",
       "<path d=\"M1.04,-55.93C1.86,-55.93 13.73,-55.93 26.87,-55.93\" fill=\"none\" stroke=\"DimGray\"/>\n",
       "<polygon fill=\"DimGray\" points=\"27,-59.43 37,-55.93 27,-52.43 27,-59.43\" stroke=\"DimGray\"/>\n",
       "</g>\n",
       "<!-- F2 -->\n",
       "<g class=\"node\" id=\"node2\">\n",
       "<title>F2</title>\n",
       "<ellipse cx=\"181\" cy=\"-114.93\" fill=\"black\" rx=\"0\" ry=\"0\" stroke=\"black\"/>\n",
       "</g>\n",
       "<!-- 2&#45;&gt;F2 -->\n",
       "<g class=\"edge\" id=\"edge2\">\n",
       "<title>2-&gt;F2</title>\n",
       "<path d=\"M91.23,-72.31C108.62,-82.75 132.18,-96.12 154,-105.93 159.23,-108.28 165.27,-110.41 170.21,-112\" fill=\"none\" stroke=\"DimGray\"/>\n",
       "<polygon fill=\"DimGray\" points=\"169.25,-115.37 179.83,-114.89 171.26,-108.66 169.25,-115.37\" stroke=\"DimGray\"/>\n",
       "</g>\n",
       "<!-- 2&#45;&gt;2 -->\n",
       "<g class=\"edge\" id=\"edge3\">\n",
       "<title>2-&gt;2</title>\n",
       "<path d=\"M56.04,-74.09C54.82,-83.47 57.47,-91.93 64,-91.93 67.98,-91.93 70.52,-88.79 71.62,-84.21\" fill=\"none\" stroke=\"black\"/>\n",
       "<polygon fill=\"black\" points=\"75.12,-84.2 71.96,-74.09 68.13,-83.96 75.12,-84.2\" stroke=\"black\"/>\n",
       "<text font-family=\"Times,serif\" font-size=\"14.00\" text-anchor=\"middle\" x=\"64\" y=\"-95.73\">[0,0], [1,1]</text>\n",
       "</g>\n",
       "<!-- 3 -->\n",
       "<g class=\"node\" id=\"node4\">\n",
       "<title>3</title>\n",
       "<path d=\"M196,-63.93C196,-63.93 166,-63.93 166,-63.93 160,-63.93 154,-57.93 154,-51.93 154,-51.93 154,-39.93 154,-39.93 154,-33.93 160,-27.93 166,-27.93 166,-27.93 196,-27.93 196,-27.93 202,-27.93 208,-33.93 208,-39.93 208,-39.93 208,-51.93 208,-51.93 208,-57.93 202,-63.93 196,-63.93\" fill=\"none\" stroke=\"black\"/>\n",
       "<text font-family=\"Times,serif\" font-size=\"14.00\" text-anchor=\"middle\" x=\"181\" y=\"-42.23\">$1</text>\n",
       "</g>\n",
       "<!-- 2&#45;&gt;3 -->\n",
       "<g class=\"edge\" id=\"edge4\">\n",
       "<title>2-&gt;3</title>\n",
       "<path d=\"M91.02,-55.55C104.47,-55.18 121.15,-54.42 136,-52.93 138.49,-52.68 141.06,-52.39 143.64,-52.05\" fill=\"none\" stroke=\"black\"/>\n",
       "<polygon fill=\"black\" points=\"144.13,-55.52 153.54,-50.65 143.15,-48.59 144.13,-55.52\" stroke=\"black\"/>\n",
       "<text font-family=\"Times,serif\" font-size=\"14.00\" text-anchor=\"middle\" x=\"122.5\" y=\"-57.73\">[2,0]</text>\n",
       "</g>\n",
       "<!-- 3&#45;&gt;2 -->\n",
       "<g class=\"edge\" id=\"edge5\">\n",
       "<title>3-&gt;2</title>\n",
       "<path d=\"M153.87,-36.54C140.39,-32.95 123.72,-30.46 109,-33.93 106.19,-34.6 103.36,-35.47 100.56,-36.48\" fill=\"none\" stroke=\"black\"/>\n",
       "<polygon fill=\"black\" points=\"99.12,-33.29 91.24,-40.37 101.82,-39.75 99.12,-33.29\" stroke=\"black\"/>\n",
       "<text font-family=\"Times,serif\" font-size=\"14.00\" text-anchor=\"middle\" x=\"122.5\" y=\"-37.73\">[0,1]</text>\n",
       "</g>\n",
       "<!-- 3&#45;&gt;3 -->\n",
       "<g class=\"edge\" id=\"edge6\">\n",
       "<title>3-&gt;3</title>\n",
       "<path d=\"M170.51,-64.09C168.89,-73.47 172.39,-81.93 181,-81.93 186.25,-81.93 189.59,-78.79 191.04,-74.21\" fill=\"none\" stroke=\"black\"/>\n",
       "<polygon fill=\"black\" points=\"194.55,-74.23 191.49,-64.09 187.55,-73.92 194.55,-74.23\" stroke=\"black\"/>\n",
       "<text font-family=\"Times,serif\" font-size=\"14.00\" text-anchor=\"middle\" x=\"181\" y=\"-85.73\">[1,0], [2,1]</text>\n",
       "</g>\n",
       "<!-- 4 -->\n",
       "<g class=\"node\" id=\"node5\">\n",
       "<title>4</title>\n",
       "<path d=\"M319,-45.93C319,-45.93 289,-45.93 289,-45.93 283,-45.93 277,-39.93 277,-33.93 277,-33.93 277,-21.93 277,-21.93 277,-15.93 283,-9.93 289,-9.93 289,-9.93 319,-9.93 319,-9.93 325,-9.93 331,-15.93 331,-21.93 331,-21.93 331,-33.93 331,-33.93 331,-39.93 325,-45.93 319,-45.93\" fill=\"none\" stroke=\"black\"/>\n",
       "<text font-family=\"Times,serif\" font-size=\"14.00\" text-anchor=\"middle\" x=\"304\" y=\"-24.23\">$2</text>\n",
       "</g>\n",
       "<!-- 3&#45;&gt;4 -->\n",
       "<g class=\"edge\" id=\"edge7\">\n",
       "<title>3-&gt;4</title>\n",
       "<path d=\"M208.24,-47.33C223.23,-47.61 242.31,-47.1 259,-43.93 261.68,-43.43 264.41,-42.78 267.13,-42.03\" fill=\"none\" stroke=\"black\"/>\n",
       "<polygon fill=\"black\" points=\"268.36,-45.32 276.86,-39 266.28,-38.63 268.36,-45.32\" stroke=\"black\"/>\n",
       "<text font-family=\"Times,serif\" font-size=\"14.00\" text-anchor=\"middle\" x=\"242.5\" y=\"-50.73\">[\\e,\\e]</text>\n",
       "</g>\n",
       "<!-- 4&#45;&gt;2 -->\n",
       "<g class=\"edge\" id=\"edge8\">\n",
       "<title>4-&gt;2</title>\n",
       "<path d=\"M276.89,-17.4C246.92,-6.77 196.45,6.68 154,-3.93 133.2,-9.13 112.37,-20.86 96.1,-31.86\" fill=\"none\" stroke=\"black\"/>\n",
       "<polygon fill=\"black\" points=\"93.74,-29.24 87.56,-37.85 97.76,-34.97 93.74,-29.24\" stroke=\"black\"/>\n",
       "<text font-family=\"Times,serif\" font-size=\"14.00\" text-anchor=\"middle\" x=\"181\" y=\"-7.73\">[0,\\e]</text>\n",
       "</g>\n",
       "<!-- 4&#45;&gt;3 -->\n",
       "<g class=\"edge\" id=\"edge9\">\n",
       "<title>4-&gt;3</title>\n",
       "<path d=\"M276.67,-23.56C261.65,-21.89 242.57,-21.18 226,-24.93 223.21,-25.56 220.4,-26.39 217.61,-27.36\" fill=\"none\" stroke=\"black\"/>\n",
       "<polygon fill=\"black\" points=\"216.3,-24.11 208.3,-31.07 218.89,-30.62 216.3,-24.11\" stroke=\"black\"/>\n",
       "<text font-family=\"Times,serif\" font-size=\"14.00\" text-anchor=\"middle\" x=\"242.5\" y=\"-28.73\">[\\e,\\e]</text>\n",
       "</g>\n",
       "<!-- 4&#45;&gt;4 -->\n",
       "<g class=\"edge\" id=\"edge10\">\n",
       "<title>4-&gt;4</title>\n",
       "<path d=\"M293.15,-46.09C291.48,-55.47 295.09,-63.93 304,-63.93 309.43,-63.93 312.89,-60.79 314.39,-56.21\" fill=\"none\" stroke=\"black\"/>\n",
       "<polygon fill=\"black\" points=\"317.89,-56.24 314.85,-46.09 310.9,-55.92 317.89,-56.24\" stroke=\"black\"/>\n",
       "<text font-family=\"Times,serif\" font-size=\"14.00\" text-anchor=\"middle\" x=\"304\" y=\"-67.73\">[\\e,1]</text>\n",
       "</g>\n",
       "</g>\n",
       "</svg>"
      ],
      "text/plain": [
       "<IPython.core.display.SVG object>"
      ]
     },
     "metadata": {},
     "output_type": "display_data"
    }
   ],
   "source": [
    "T.del_transition(tr_10)\n",
    "T.display()"
   ]
  },
  {
   "cell_type": "markdown",
   "metadata": {},
   "source": [
    "---\n",
    "Deleting a transition by triplet (origin, destination, label list)  "
   ]
  },
  {
   "cell_type": "code",
   "execution_count": 14,
   "metadata": {},
   "outputs": [
    {
     "data": {
      "image/svg+xml": [
       "<svg height=\"123pt\" viewBox=\"0.00 0.00 339.00 122.93\" width=\"339pt\" xmlns=\"http://www.w3.org/2000/svg\" xmlns:xlink=\"http://www.w3.org/1999/xlink\">\n",
       "<g class=\"graph\" id=\"graph0\" transform=\"scale(1 1) rotate(0) translate(4 118.93)\">\n",
       "<title>%3</title>\n",
       "<polygon fill=\"white\" points=\"-4,4 -4,-118.93 335,-118.93 335,4 -4,4\" stroke=\"transparent\"/>\n",
       "<!-- I2 -->\n",
       "<g class=\"node\" id=\"node1\">\n",
       "<title>I2</title>\n",
       "<ellipse cx=\"0\" cy=\"-55.93\" fill=\"black\" rx=\"0\" ry=\"0\" stroke=\"black\"/>\n",
       "</g>\n",
       "<!-- 2 -->\n",
       "<g class=\"node\" id=\"node3\">\n",
       "<title>2</title>\n",
       "<path d=\"M79,-73.93C79,-73.93 49,-73.93 49,-73.93 43,-73.93 37,-67.93 37,-61.93 37,-61.93 37,-49.93 37,-49.93 37,-43.93 43,-37.93 49,-37.93 49,-37.93 79,-37.93 79,-37.93 85,-37.93 91,-43.93 91,-49.93 91,-49.93 91,-61.93 91,-61.93 91,-67.93 85,-73.93 79,-73.93\" fill=\"none\" stroke=\"black\"/>\n",
       "<text font-family=\"Times,serif\" font-size=\"14.00\" text-anchor=\"middle\" x=\"64\" y=\"-52.23\">$0</text>\n",
       "</g>\n",
       "<!-- I2&#45;&gt;2 -->\n",
       "<g class=\"edge\" id=\"edge1\">\n",
       "<title>I2-&gt;2</title>\n",
       "<path d=\"M1.04,-55.93C1.86,-55.93 13.73,-55.93 26.87,-55.93\" fill=\"none\" stroke=\"DimGray\"/>\n",
       "<polygon fill=\"DimGray\" points=\"27,-59.43 37,-55.93 27,-52.43 27,-59.43\" stroke=\"DimGray\"/>\n",
       "</g>\n",
       "<!-- F2 -->\n",
       "<g class=\"node\" id=\"node2\">\n",
       "<title>F2</title>\n",
       "<ellipse cx=\"181\" cy=\"-114.93\" fill=\"black\" rx=\"0\" ry=\"0\" stroke=\"black\"/>\n",
       "</g>\n",
       "<!-- 2&#45;&gt;F2 -->\n",
       "<g class=\"edge\" id=\"edge2\">\n",
       "<title>2-&gt;F2</title>\n",
       "<path d=\"M91.23,-72.31C108.62,-82.75 132.18,-96.12 154,-105.93 159.23,-108.28 165.27,-110.41 170.21,-112\" fill=\"none\" stroke=\"DimGray\"/>\n",
       "<polygon fill=\"DimGray\" points=\"169.25,-115.37 179.83,-114.89 171.26,-108.66 169.25,-115.37\" stroke=\"DimGray\"/>\n",
       "</g>\n",
       "<!-- 2&#45;&gt;2 -->\n",
       "<g class=\"edge\" id=\"edge3\">\n",
       "<title>2-&gt;2</title>\n",
       "<path d=\"M56.04,-74.09C54.82,-83.47 57.47,-91.93 64,-91.93 67.98,-91.93 70.52,-88.79 71.62,-84.21\" fill=\"none\" stroke=\"black\"/>\n",
       "<polygon fill=\"black\" points=\"75.12,-84.2 71.96,-74.09 68.13,-83.96 75.12,-84.2\" stroke=\"black\"/>\n",
       "<text font-family=\"Times,serif\" font-size=\"14.00\" text-anchor=\"middle\" x=\"64\" y=\"-95.73\">[0,0], [1,1]</text>\n",
       "</g>\n",
       "<!-- 3 -->\n",
       "<g class=\"node\" id=\"node4\">\n",
       "<title>3</title>\n",
       "<path d=\"M196,-63.93C196,-63.93 166,-63.93 166,-63.93 160,-63.93 154,-57.93 154,-51.93 154,-51.93 154,-39.93 154,-39.93 154,-33.93 160,-27.93 166,-27.93 166,-27.93 196,-27.93 196,-27.93 202,-27.93 208,-33.93 208,-39.93 208,-39.93 208,-51.93 208,-51.93 208,-57.93 202,-63.93 196,-63.93\" fill=\"none\" stroke=\"black\"/>\n",
       "<text font-family=\"Times,serif\" font-size=\"14.00\" text-anchor=\"middle\" x=\"181\" y=\"-42.23\">$1</text>\n",
       "</g>\n",
       "<!-- 2&#45;&gt;3 -->\n",
       "<g class=\"edge\" id=\"edge4\">\n",
       "<title>2-&gt;3</title>\n",
       "<path d=\"M91.02,-55.55C104.47,-55.18 121.15,-54.42 136,-52.93 138.49,-52.68 141.06,-52.39 143.64,-52.05\" fill=\"none\" stroke=\"black\"/>\n",
       "<polygon fill=\"black\" points=\"144.13,-55.52 153.54,-50.65 143.15,-48.59 144.13,-55.52\" stroke=\"black\"/>\n",
       "<text font-family=\"Times,serif\" font-size=\"14.00\" text-anchor=\"middle\" x=\"122.5\" y=\"-57.73\">[2,0]</text>\n",
       "</g>\n",
       "<!-- 3&#45;&gt;2 -->\n",
       "<g class=\"edge\" id=\"edge5\">\n",
       "<title>3-&gt;2</title>\n",
       "<path d=\"M153.87,-36.54C140.39,-32.95 123.72,-30.46 109,-33.93 106.19,-34.6 103.36,-35.47 100.56,-36.48\" fill=\"none\" stroke=\"black\"/>\n",
       "<polygon fill=\"black\" points=\"99.12,-33.29 91.24,-40.37 101.82,-39.75 99.12,-33.29\" stroke=\"black\"/>\n",
       "<text font-family=\"Times,serif\" font-size=\"14.00\" text-anchor=\"middle\" x=\"122.5\" y=\"-37.73\">[0,1]</text>\n",
       "</g>\n",
       "<!-- 3&#45;&gt;3 -->\n",
       "<g class=\"edge\" id=\"edge6\">\n",
       "<title>3-&gt;3</title>\n",
       "<path d=\"M170.51,-64.09C168.89,-73.47 172.39,-81.93 181,-81.93 186.25,-81.93 189.59,-78.79 191.04,-74.21\" fill=\"none\" stroke=\"black\"/>\n",
       "<polygon fill=\"black\" points=\"194.55,-74.23 191.49,-64.09 187.55,-73.92 194.55,-74.23\" stroke=\"black\"/>\n",
       "<text font-family=\"Times,serif\" font-size=\"14.00\" text-anchor=\"middle\" x=\"181\" y=\"-85.73\">[1,0], [2,1]</text>\n",
       "</g>\n",
       "<!-- 4 -->\n",
       "<g class=\"node\" id=\"node5\">\n",
       "<title>4</title>\n",
       "<path d=\"M319,-45.93C319,-45.93 289,-45.93 289,-45.93 283,-45.93 277,-39.93 277,-33.93 277,-33.93 277,-21.93 277,-21.93 277,-15.93 283,-9.93 289,-9.93 289,-9.93 319,-9.93 319,-9.93 325,-9.93 331,-15.93 331,-21.93 331,-21.93 331,-33.93 331,-33.93 331,-39.93 325,-45.93 319,-45.93\" fill=\"none\" stroke=\"black\"/>\n",
       "<text font-family=\"Times,serif\" font-size=\"14.00\" text-anchor=\"middle\" x=\"304\" y=\"-24.23\">$2</text>\n",
       "</g>\n",
       "<!-- 3&#45;&gt;4 -->\n",
       "<g class=\"edge\" id=\"edge7\">\n",
       "<title>3-&gt;4</title>\n",
       "<path d=\"M208.24,-47.33C223.23,-47.61 242.31,-47.1 259,-43.93 261.68,-43.43 264.41,-42.78 267.13,-42.03\" fill=\"none\" stroke=\"black\"/>\n",
       "<polygon fill=\"black\" points=\"268.36,-45.32 276.86,-39 266.28,-38.63 268.36,-45.32\" stroke=\"black\"/>\n",
       "<text font-family=\"Times,serif\" font-size=\"14.00\" text-anchor=\"middle\" x=\"242.5\" y=\"-50.73\">[\\e,\\e]</text>\n",
       "</g>\n",
       "<!-- 4&#45;&gt;2 -->\n",
       "<g class=\"edge\" id=\"edge8\">\n",
       "<title>4-&gt;2</title>\n",
       "<path d=\"M276.89,-17.4C246.92,-6.77 196.45,6.68 154,-3.93 133.2,-9.13 112.37,-20.86 96.1,-31.86\" fill=\"none\" stroke=\"black\"/>\n",
       "<polygon fill=\"black\" points=\"93.74,-29.24 87.56,-37.85 97.76,-34.97 93.74,-29.24\" stroke=\"black\"/>\n",
       "<text font-family=\"Times,serif\" font-size=\"14.00\" text-anchor=\"middle\" x=\"181\" y=\"-7.73\">[0,\\e]</text>\n",
       "</g>\n",
       "<!-- 4&#45;&gt;3 -->\n",
       "<g class=\"edge\" id=\"edge9\">\n",
       "<title>4-&gt;3</title>\n",
       "<path d=\"M276.67,-23.56C261.65,-21.89 242.57,-21.18 226,-24.93 223.21,-25.56 220.4,-26.39 217.61,-27.36\" fill=\"none\" stroke=\"black\"/>\n",
       "<polygon fill=\"black\" points=\"216.3,-24.11 208.3,-31.07 218.89,-30.62 216.3,-24.11\" stroke=\"black\"/>\n",
       "<text font-family=\"Times,serif\" font-size=\"14.00\" text-anchor=\"middle\" x=\"242.5\" y=\"-28.73\">[\\e,\\e]</text>\n",
       "</g>\n",
       "</g>\n",
       "</svg>"
      ],
      "text/plain": [
       "<IPython.core.display.SVG object>"
      ]
     },
     "metadata": {},
     "output_type": "display_data"
    }
   ],
   "source": [
    "T.del_transition(stt_2,stt_2,[\"\",\"1\"])\n",
    "T.display()"
   ]
  },
  {
   "cell_type": "markdown",
   "metadata": {},
   "source": [
    "---\n",
    "Deleting all transitions from a state to another (order matters)."
   ]
  },
  {
   "cell_type": "code",
   "execution_count": 15,
   "metadata": {},
   "outputs": [
    {
     "data": {
      "image/svg+xml": [
       "<svg height=\"130pt\" viewBox=\"0.00 0.00 339.00 130.00\" width=\"339pt\" xmlns=\"http://www.w3.org/2000/svg\" xmlns:xlink=\"http://www.w3.org/1999/xlink\">\n",
       "<g class=\"graph\" id=\"graph0\" transform=\"scale(1 1) rotate(0) translate(4 126)\">\n",
       "<title>%3</title>\n",
       "<polygon fill=\"white\" points=\"-4,4 -4,-126 335,-126 335,4 -4,4\" stroke=\"transparent\"/>\n",
       "<!-- I2 -->\n",
       "<g class=\"node\" id=\"node1\">\n",
       "<title>I2</title>\n",
       "<ellipse cx=\"0\" cy=\"-63\" fill=\"black\" rx=\"0\" ry=\"0\" stroke=\"black\"/>\n",
       "</g>\n",
       "<!-- 2 -->\n",
       "<g class=\"node\" id=\"node3\">\n",
       "<title>2</title>\n",
       "<path d=\"M79,-81C79,-81 49,-81 49,-81 43,-81 37,-75 37,-69 37,-69 37,-57 37,-57 37,-51 43,-45 49,-45 49,-45 79,-45 79,-45 85,-45 91,-51 91,-57 91,-57 91,-69 91,-69 91,-75 85,-81 79,-81\" fill=\"none\" stroke=\"black\"/>\n",
       "<text font-family=\"Times,serif\" font-size=\"14.00\" text-anchor=\"middle\" x=\"64\" y=\"-59.3\">$0</text>\n",
       "</g>\n",
       "<!-- I2&#45;&gt;2 -->\n",
       "<g class=\"edge\" id=\"edge1\">\n",
       "<title>I2-&gt;2</title>\n",
       "<path d=\"M1.04,-63C1.86,-63 13.73,-63 26.87,-63\" fill=\"none\" stroke=\"DimGray\"/>\n",
       "<polygon fill=\"DimGray\" points=\"27,-66.5 37,-63 27,-59.5 27,-66.5\" stroke=\"DimGray\"/>\n",
       "</g>\n",
       "<!-- F2 -->\n",
       "<g class=\"node\" id=\"node2\">\n",
       "<title>F2</title>\n",
       "<ellipse cx=\"181\" cy=\"-122\" fill=\"black\" rx=\"0\" ry=\"0\" stroke=\"black\"/>\n",
       "</g>\n",
       "<!-- 2&#45;&gt;F2 -->\n",
       "<g class=\"edge\" id=\"edge2\">\n",
       "<title>2-&gt;F2</title>\n",
       "<path d=\"M91.23,-79.38C108.62,-89.82 132.18,-103.19 154,-113 159.23,-115.35 165.27,-117.48 170.21,-119.07\" fill=\"none\" stroke=\"DimGray\"/>\n",
       "<polygon fill=\"DimGray\" points=\"169.25,-122.43 179.83,-121.95 171.26,-115.73 169.25,-122.43\" stroke=\"DimGray\"/>\n",
       "</g>\n",
       "<!-- 2&#45;&gt;2 -->\n",
       "<g class=\"edge\" id=\"edge3\">\n",
       "<title>2-&gt;2</title>\n",
       "<path d=\"M56.04,-81.15C54.82,-90.54 57.47,-99 64,-99 67.98,-99 70.52,-95.86 71.62,-91.28\" fill=\"none\" stroke=\"black\"/>\n",
       "<polygon fill=\"black\" points=\"75.12,-91.26 71.96,-81.15 68.13,-91.03 75.12,-91.26\" stroke=\"black\"/>\n",
       "<text font-family=\"Times,serif\" font-size=\"14.00\" text-anchor=\"middle\" x=\"64\" y=\"-102.8\">[0,0], [1,1]</text>\n",
       "</g>\n",
       "<!-- 3 -->\n",
       "<g class=\"node\" id=\"node4\">\n",
       "<title>3</title>\n",
       "<path d=\"M196,-71C196,-71 166,-71 166,-71 160,-71 154,-65 154,-59 154,-59 154,-47 154,-47 154,-41 160,-35 166,-35 166,-35 196,-35 196,-35 202,-35 208,-41 208,-47 208,-47 208,-59 208,-59 208,-65 202,-71 196,-71\" fill=\"none\" stroke=\"black\"/>\n",
       "<text font-family=\"Times,serif\" font-size=\"14.00\" text-anchor=\"middle\" x=\"181\" y=\"-49.3\">$1</text>\n",
       "</g>\n",
       "<!-- 2&#45;&gt;3 -->\n",
       "<g class=\"edge\" id=\"edge4\">\n",
       "<title>2-&gt;3</title>\n",
       "<path d=\"M91.02,-62.62C104.47,-62.24 121.15,-61.49 136,-60 138.49,-59.75 141.06,-59.45 143.64,-59.12\" fill=\"none\" stroke=\"black\"/>\n",
       "<polygon fill=\"black\" points=\"144.13,-62.59 153.54,-57.72 143.15,-55.65 144.13,-62.59\" stroke=\"black\"/>\n",
       "<text font-family=\"Times,serif\" font-size=\"14.00\" text-anchor=\"middle\" x=\"122.5\" y=\"-64.8\">[2,0]</text>\n",
       "</g>\n",
       "<!-- 3&#45;&gt;2 -->\n",
       "<g class=\"edge\" id=\"edge5\">\n",
       "<title>3-&gt;2</title>\n",
       "<path d=\"M153.87,-43.61C140.39,-40.02 123.72,-37.52 109,-41 106.19,-41.66 103.36,-42.53 100.56,-43.54\" fill=\"none\" stroke=\"black\"/>\n",
       "<polygon fill=\"black\" points=\"99.12,-40.35 91.24,-47.43 101.82,-46.81 99.12,-40.35\" stroke=\"black\"/>\n",
       "<text font-family=\"Times,serif\" font-size=\"14.00\" text-anchor=\"middle\" x=\"122.5\" y=\"-44.8\">[0,1]</text>\n",
       "</g>\n",
       "<!-- 3&#45;&gt;3 -->\n",
       "<g class=\"edge\" id=\"edge6\">\n",
       "<title>3-&gt;3</title>\n",
       "<path d=\"M170.51,-71.15C168.89,-80.54 172.39,-89 181,-89 186.25,-89 189.59,-85.86 191.04,-81.28\" fill=\"none\" stroke=\"black\"/>\n",
       "<polygon fill=\"black\" points=\"194.55,-81.3 191.49,-71.15 187.55,-80.99 194.55,-81.3\" stroke=\"black\"/>\n",
       "<text font-family=\"Times,serif\" font-size=\"14.00\" text-anchor=\"middle\" x=\"181\" y=\"-92.8\">[1,0], [2,1]</text>\n",
       "</g>\n",
       "<!-- 4 -->\n",
       "<g class=\"node\" id=\"node5\">\n",
       "<title>4</title>\n",
       "<path d=\"M319,-36C319,-36 289,-36 289,-36 283,-36 277,-30 277,-24 277,-24 277,-12 277,-12 277,-6 283,0 289,0 289,0 319,0 319,0 325,0 331,-6 331,-12 331,-12 331,-24 331,-24 331,-30 325,-36 319,-36\" fill=\"none\" stroke=\"black\"/>\n",
       "<text font-family=\"Times,serif\" font-size=\"14.00\" text-anchor=\"middle\" x=\"304\" y=\"-14.3\">$2</text>\n",
       "</g>\n",
       "<!-- 3&#45;&gt;4 -->\n",
       "<g class=\"edge\" id=\"edge7\">\n",
       "<title>3-&gt;4</title>\n",
       "<path d=\"M208.26,-45.41C225.46,-40.43 248.17,-33.86 267.05,-28.4\" fill=\"none\" stroke=\"black\"/>\n",
       "<polygon fill=\"black\" points=\"268.16,-31.72 276.8,-25.58 266.22,-25 268.16,-31.72\" stroke=\"black\"/>\n",
       "<text font-family=\"Times,serif\" font-size=\"14.00\" text-anchor=\"middle\" x=\"242.5\" y=\"-42.8\">[\\e,\\e]</text>\n",
       "</g>\n",
       "<!-- 4&#45;&gt;2 -->\n",
       "<g class=\"edge\" id=\"edge8\">\n",
       "<title>4-&gt;2</title>\n",
       "<path d=\"M276.98,-12.3C246.88,-6.72 196.08,-0.48 154,-11 133.2,-16.2 112.37,-27.92 96.1,-38.92\" fill=\"none\" stroke=\"black\"/>\n",
       "<polygon fill=\"black\" points=\"93.74,-36.31 87.56,-44.92 97.76,-42.04 93.74,-36.31\" stroke=\"black\"/>\n",
       "<text font-family=\"Times,serif\" font-size=\"14.00\" text-anchor=\"middle\" x=\"181\" y=\"-14.8\">[0,\\e]</text>\n",
       "</g>\n",
       "</g>\n",
       "</svg>"
      ],
      "text/plain": [
       "<IPython.core.display.SVG object>"
      ]
     },
     "metadata": {},
     "output_type": "display_data"
    }
   ],
   "source": [
    "T.del_transition(stt_2,stt_1)\n",
    "T.display()"
   ]
  },
  {
   "cell_type": "markdown",
   "metadata": {},
   "source": [
    "---\n",
    "Deleting a state (and all outgoing and incomings transitions) "
   ]
  },
  {
   "cell_type": "code",
   "execution_count": 16,
   "metadata": {},
   "outputs": [
    {
     "data": {
      "image/svg+xml": [
       "<svg height=\"115pt\" viewBox=\"0.00 0.00 219.50 115.00\" width=\"220pt\" xmlns=\"http://www.w3.org/2000/svg\" xmlns:xlink=\"http://www.w3.org/1999/xlink\">\n",
       "<g class=\"graph\" id=\"graph0\" transform=\"scale(1 1) rotate(0) translate(4 111)\">\n",
       "<title>%3</title>\n",
       "<polygon fill=\"white\" points=\"-4,4 -4,-111 215.5,-111 215.5,4 -4,4\" stroke=\"transparent\"/>\n",
       "<!-- I2 -->\n",
       "<g class=\"node\" id=\"node1\">\n",
       "<title>I2</title>\n",
       "<ellipse cx=\"0\" cy=\"-56\" fill=\"black\" rx=\"0\" ry=\"0\" stroke=\"black\"/>\n",
       "</g>\n",
       "<!-- 2 -->\n",
       "<g class=\"node\" id=\"node3\">\n",
       "<title>2</title>\n",
       "<path d=\"M79,-74C79,-74 49,-74 49,-74 43,-74 37,-68 37,-62 37,-62 37,-50 37,-50 37,-44 43,-38 49,-38 49,-38 79,-38 79,-38 85,-38 91,-44 91,-50 91,-50 91,-62 91,-62 91,-68 85,-74 79,-74\" fill=\"none\" stroke=\"black\"/>\n",
       "<text font-family=\"Times,serif\" font-size=\"14.00\" text-anchor=\"middle\" x=\"64\" y=\"-52.3\">$0</text>\n",
       "</g>\n",
       "<!-- I2&#45;&gt;2 -->\n",
       "<g class=\"edge\" id=\"edge1\">\n",
       "<title>I2-&gt;2</title>\n",
       "<path d=\"M1.04,-56C1.86,-56 13.73,-56 26.87,-56\" fill=\"none\" stroke=\"DimGray\"/>\n",
       "<polygon fill=\"DimGray\" points=\"27,-59.5 37,-56 27,-52.5 27,-59.5\" stroke=\"DimGray\"/>\n",
       "</g>\n",
       "<!-- F2 -->\n",
       "<g class=\"node\" id=\"node2\">\n",
       "<title>F2</title>\n",
       "<ellipse cx=\"181\" cy=\"-87\" fill=\"black\" rx=\"0\" ry=\"0\" stroke=\"black\"/>\n",
       "</g>\n",
       "<!-- 2&#45;&gt;F2 -->\n",
       "<g class=\"edge\" id=\"edge2\">\n",
       "<title>2-&gt;F2</title>\n",
       "<path d=\"M91.27,-67.01C97.05,-69.18 103.18,-71.32 109,-73 130.28,-79.16 155.92,-83.47 169.83,-85.56\" fill=\"none\" stroke=\"DimGray\"/>\n",
       "<polygon fill=\"DimGray\" points=\"169.49,-89.05 179.88,-86.99 170.47,-82.12 169.49,-89.05\" stroke=\"DimGray\"/>\n",
       "</g>\n",
       "<!-- 2&#45;&gt;2 -->\n",
       "<g class=\"edge\" id=\"edge3\">\n",
       "<title>2-&gt;2</title>\n",
       "<path d=\"M56.04,-74.15C54.82,-83.54 57.47,-92 64,-92 67.98,-92 70.52,-88.86 71.62,-84.28\" fill=\"none\" stroke=\"black\"/>\n",
       "<polygon fill=\"black\" points=\"75.12,-84.26 71.96,-74.15 68.13,-84.03 75.12,-84.26\" stroke=\"black\"/>\n",
       "<text font-family=\"Times,serif\" font-size=\"14.00\" text-anchor=\"middle\" x=\"64\" y=\"-95.8\">[0,0], [1,1]</text>\n",
       "</g>\n",
       "<!-- 3 -->\n",
       "<g class=\"node\" id=\"node4\">\n",
       "<title>3</title>\n",
       "<path d=\"M196,-36C196,-36 166,-36 166,-36 160,-36 154,-30 154,-24 154,-24 154,-12 154,-12 154,-6 160,0 166,0 166,0 196,0 196,0 202,0 208,-6 208,-12 208,-12 208,-24 208,-24 208,-30 202,-36 196,-36\" fill=\"none\" stroke=\"black\"/>\n",
       "<text font-family=\"Times,serif\" font-size=\"14.00\" text-anchor=\"middle\" x=\"181\" y=\"-14.3\">$1</text>\n",
       "</g>\n",
       "<!-- 2&#45;&gt;3 -->\n",
       "<g class=\"edge\" id=\"edge4\">\n",
       "<title>2-&gt;3</title>\n",
       "<path d=\"M91.06,-48.25C104.53,-44.17 121.2,-38.98 136,-34 138.58,-33.13 141.24,-32.21 143.92,-31.28\" fill=\"none\" stroke=\"black\"/>\n",
       "<polygon fill=\"black\" points=\"145.3,-34.5 153.55,-27.85 142.95,-27.91 145.3,-34.5\" stroke=\"black\"/>\n",
       "<text font-family=\"Times,serif\" font-size=\"14.00\" text-anchor=\"middle\" x=\"122.5\" y=\"-45.8\">[2,0]</text>\n",
       "</g>\n",
       "<!-- 3&#45;&gt;2 -->\n",
       "<g class=\"edge\" id=\"edge5\">\n",
       "<title>3-&gt;2</title>\n",
       "<path d=\"M153.85,-11.91C140.06,-9.92 123.12,-9.44 109,-15 100.48,-18.35 92.64,-24.22 86,-30.49\" fill=\"none\" stroke=\"black\"/>\n",
       "<polygon fill=\"black\" points=\"83.26,-28.28 78.8,-37.9 88.28,-33.16 83.26,-28.28\" stroke=\"black\"/>\n",
       "<text font-family=\"Times,serif\" font-size=\"14.00\" text-anchor=\"middle\" x=\"122.5\" y=\"-18.8\">[0,1]</text>\n",
       "</g>\n",
       "<!-- 3&#45;&gt;3 -->\n",
       "<g class=\"edge\" id=\"edge6\">\n",
       "<title>3-&gt;3</title>\n",
       "<path d=\"M170.51,-36.15C168.89,-45.54 172.39,-54 181,-54 186.25,-54 189.59,-50.86 191.04,-46.28\" fill=\"none\" stroke=\"black\"/>\n",
       "<polygon fill=\"black\" points=\"194.55,-46.3 191.49,-36.15 187.55,-45.99 194.55,-46.3\" stroke=\"black\"/>\n",
       "<text font-family=\"Times,serif\" font-size=\"14.00\" text-anchor=\"middle\" x=\"181\" y=\"-57.8\">[1,0], [2,1]</text>\n",
       "</g>\n",
       "</g>\n",
       "</svg>"
      ],
      "text/plain": [
       "<IPython.core.display.SVG object>"
      ]
     },
     "metadata": {},
     "output_type": "display_data"
    }
   ],
   "source": [
    "T.del_state(stt_2)\n",
    "T.display()"
   ]
  },
  {
   "cell_type": "markdown",
   "metadata": {},
   "source": [
    "## Loading & saving automata"
   ]
  },
  {
   "cell_type": "markdown",
   "metadata": {},
   "source": [
    "Saving an automaton to file.  The format used is JavaScript Object Notation (JSON) hence the extension \".json\" ."
   ]
  },
  {
   "cell_type": "code",
   "execution_count": 17,
   "metadata": {},
   "outputs": [],
   "source": [
    "T.save(\"fibo_LR_additioner.json\")"
   ]
  },
  {
   "cell_type": "code",
   "execution_count": 18,
   "metadata": {},
   "outputs": [
    {
     "name": "stdout",
     "output_type": "stream",
     "text": [
      "fibo.json  fibo_LR_additioner.json\r\n"
     ]
    }
   ],
   "source": [
    "ls *json"
   ]
  },
  {
   "cell_type": "markdown",
   "metadata": {},
   "source": [
    "---\n",
    "Loading an automaton."
   ]
  },
  {
   "cell_type": "code",
   "execution_count": 19,
   "metadata": {},
   "outputs": [
    {
     "data": {
      "image/svg+xml": [
       "<svg height=\"115pt\" viewBox=\"0.00 0.00 219.50 115.00\" width=\"220pt\" xmlns=\"http://www.w3.org/2000/svg\" xmlns:xlink=\"http://www.w3.org/1999/xlink\">\n",
       "<g class=\"graph\" id=\"graph0\" transform=\"scale(1 1) rotate(0) translate(4 111)\">\n",
       "<title>%3</title>\n",
       "<polygon fill=\"white\" points=\"-4,4 -4,-111 215.5,-111 215.5,4 -4,4\" stroke=\"transparent\"/>\n",
       "<!-- I2 -->\n",
       "<g class=\"node\" id=\"node1\">\n",
       "<title>I2</title>\n",
       "<ellipse cx=\"0\" cy=\"-56\" fill=\"black\" rx=\"0\" ry=\"0\" stroke=\"black\"/>\n",
       "</g>\n",
       "<!-- 2 -->\n",
       "<g class=\"node\" id=\"node3\">\n",
       "<title>2</title>\n",
       "<path d=\"M79,-74C79,-74 49,-74 49,-74 43,-74 37,-68 37,-62 37,-62 37,-50 37,-50 37,-44 43,-38 49,-38 49,-38 79,-38 79,-38 85,-38 91,-44 91,-50 91,-50 91,-62 91,-62 91,-68 85,-74 79,-74\" fill=\"none\" stroke=\"black\"/>\n",
       "<text font-family=\"Times,serif\" font-size=\"14.00\" text-anchor=\"middle\" x=\"64\" y=\"-52.3\">$0</text>\n",
       "</g>\n",
       "<!-- I2&#45;&gt;2 -->\n",
       "<g class=\"edge\" id=\"edge1\">\n",
       "<title>I2-&gt;2</title>\n",
       "<path d=\"M1.04,-56C1.86,-56 13.73,-56 26.87,-56\" fill=\"none\" stroke=\"DimGray\"/>\n",
       "<polygon fill=\"DimGray\" points=\"27,-59.5 37,-56 27,-52.5 27,-59.5\" stroke=\"DimGray\"/>\n",
       "</g>\n",
       "<!-- F2 -->\n",
       "<g class=\"node\" id=\"node2\">\n",
       "<title>F2</title>\n",
       "<ellipse cx=\"181\" cy=\"-87\" fill=\"black\" rx=\"0\" ry=\"0\" stroke=\"black\"/>\n",
       "</g>\n",
       "<!-- 2&#45;&gt;F2 -->\n",
       "<g class=\"edge\" id=\"edge2\">\n",
       "<title>2-&gt;F2</title>\n",
       "<path d=\"M91.27,-67.01C97.05,-69.18 103.18,-71.32 109,-73 130.28,-79.16 155.92,-83.47 169.83,-85.56\" fill=\"none\" stroke=\"DimGray\"/>\n",
       "<polygon fill=\"DimGray\" points=\"169.49,-89.05 179.88,-86.99 170.47,-82.12 169.49,-89.05\" stroke=\"DimGray\"/>\n",
       "</g>\n",
       "<!-- 2&#45;&gt;2 -->\n",
       "<g class=\"edge\" id=\"edge3\">\n",
       "<title>2-&gt;2</title>\n",
       "<path d=\"M56.04,-74.15C54.82,-83.54 57.47,-92 64,-92 67.98,-92 70.52,-88.86 71.62,-84.28\" fill=\"none\" stroke=\"black\"/>\n",
       "<polygon fill=\"black\" points=\"75.12,-84.26 71.96,-74.15 68.13,-84.03 75.12,-84.26\" stroke=\"black\"/>\n",
       "<text font-family=\"Times,serif\" font-size=\"14.00\" text-anchor=\"middle\" x=\"64\" y=\"-95.8\">[0,0], [1,1]</text>\n",
       "</g>\n",
       "<!-- 3 -->\n",
       "<g class=\"node\" id=\"node4\">\n",
       "<title>3</title>\n",
       "<path d=\"M196,-36C196,-36 166,-36 166,-36 160,-36 154,-30 154,-24 154,-24 154,-12 154,-12 154,-6 160,0 166,0 166,0 196,0 196,0 202,0 208,-6 208,-12 208,-12 208,-24 208,-24 208,-30 202,-36 196,-36\" fill=\"none\" stroke=\"black\"/>\n",
       "<text font-family=\"Times,serif\" font-size=\"14.00\" text-anchor=\"middle\" x=\"181\" y=\"-14.3\">$1</text>\n",
       "</g>\n",
       "<!-- 2&#45;&gt;3 -->\n",
       "<g class=\"edge\" id=\"edge4\">\n",
       "<title>2-&gt;3</title>\n",
       "<path d=\"M91.06,-48.25C104.53,-44.17 121.2,-38.98 136,-34 138.58,-33.13 141.24,-32.21 143.92,-31.28\" fill=\"none\" stroke=\"black\"/>\n",
       "<polygon fill=\"black\" points=\"145.3,-34.5 153.55,-27.85 142.95,-27.91 145.3,-34.5\" stroke=\"black\"/>\n",
       "<text font-family=\"Times,serif\" font-size=\"14.00\" text-anchor=\"middle\" x=\"122.5\" y=\"-45.8\">[2,0]</text>\n",
       "</g>\n",
       "<!-- 3&#45;&gt;2 -->\n",
       "<g class=\"edge\" id=\"edge5\">\n",
       "<title>3-&gt;2</title>\n",
       "<path d=\"M153.85,-11.91C140.06,-9.92 123.12,-9.44 109,-15 100.48,-18.35 92.64,-24.22 86,-30.49\" fill=\"none\" stroke=\"black\"/>\n",
       "<polygon fill=\"black\" points=\"83.26,-28.28 78.8,-37.9 88.28,-33.16 83.26,-28.28\" stroke=\"black\"/>\n",
       "<text font-family=\"Times,serif\" font-size=\"14.00\" text-anchor=\"middle\" x=\"122.5\" y=\"-18.8\">[0,1]</text>\n",
       "</g>\n",
       "<!-- 3&#45;&gt;3 -->\n",
       "<g class=\"edge\" id=\"edge6\">\n",
       "<title>3-&gt;3</title>\n",
       "<path d=\"M170.51,-36.15C168.89,-45.54 172.39,-54 181,-54 186.25,-54 189.59,-50.86 191.04,-46.28\" fill=\"none\" stroke=\"black\"/>\n",
       "<polygon fill=\"black\" points=\"194.55,-46.3 191.49,-36.15 187.55,-45.99 194.55,-46.3\" stroke=\"black\"/>\n",
       "<text font-family=\"Times,serif\" font-size=\"14.00\" text-anchor=\"middle\" x=\"181\" y=\"-57.8\">[1,0], [2,1]</text>\n",
       "</g>\n",
       "</g>\n",
       "</svg>"
      ],
      "text/plain": [
       "<IPython.core.display.SVG object>"
      ]
     },
     "metadata": {},
     "output_type": "display_data"
    }
   ],
   "source": [
    "B = awalipy.load(\"fibo_LR_additioner.json\")\n",
    "B.display()"
   ]
  },
  {
   "cell_type": "markdown",
   "metadata": {},
   "source": [
    "---\n",
    "Listing the example automata given with the library.  Some of them are  transducers"
   ]
  },
  {
   "cell_type": "code",
   "execution_count": 20,
   "metadata": {},
   "outputs": [
    {
     "data": {
      "text/plain": [
       "{'a1': \"NFA that accepts words with at least one factor 'ab'\",\n",
       " 'ab': \"NFA with epsilon transition which recognizes words in 'a*b*'\",\n",
       " 'b1': \"Z-FA that counts the number of 'b' in words of {a,b}*\",\n",
       " 'binary': 'Z-FA that converts words of {0,1}^* into their binary values',\n",
       " 'binary-int': 'Z-FA that converts words of {0,1}^* into their binary values',\n",
       " 'c1': 'Z-FA that converts words of {a,b}^* into their binary values',\n",
       " 'd1': \"Z-FA computes the difference between the numbers of 'a' and 'b'\",\n",
       " 'e1': 'Q-FA that converts words of {a,b}^* into their binary values after the radix point',\n",
       " 'evena': \"DFA which recognizes words with an even number of 'a'\",\n",
       " 'fibotdc-lr': \"Sequential transducer which tries to replace 'abb' by 'baa'\",\n",
       " 'flipper': 'Transducer that mimics a flipper game',\n",
       " 'gray': 'Gray code increment',\n",
       " 'heapmodel': 'Z-max-plus automaton, heap model with 2 pieces',\n",
       " 'lamplighter': 'Group automaton which realizes the Lamplighter group',\n",
       " 'minab': \"Z-min-plus-automaton which computes the minimum among the numbers of 'a' and 'b' in every word\",\n",
       " 'minblocka': \"Z-min-plus-automaton which computes the length of the shortest block of 'a' in every word\",\n",
       " 'oddb': \"DFA which recognizes words with an odd number of 'b'\",\n",
       " 'prob-rabin': 'R-automaton (probabilistic automaton) that accepts w with prob. expansion(w)',\n",
       " 'rotation': 'C-automaton realizing a rotation',\n",
       " 'slowcerny': 'Synchronisable NFA which meets Cerny bound',\n",
       " 'slowgrow': 'Z-min-plus-automaton with a slow growing length function',\n",
       " 'url-validator': 'Automaton with epsilon transition that validates url'}"
      ]
     },
     "execution_count": 20,
     "metadata": {},
     "output_type": "execute_result"
    }
   ],
   "source": [
    "awalipy.list_examples()[\"automata\"]"
   ]
  },
  {
   "cell_type": "markdown",
   "metadata": {},
   "source": [
    "---\n",
    "Loading an example automaton (given with the library): just use the name of the automaton given above, without extension."
   ]
  },
  {
   "cell_type": "code",
   "execution_count": 21,
   "metadata": {},
   "outputs": [
    {
     "data": {
      "image/svg+xml": [
       "<svg height=\"192pt\" viewBox=\"0.00 0.00 453.00 192.00\" width=\"453pt\" xmlns=\"http://www.w3.org/2000/svg\" xmlns:xlink=\"http://www.w3.org/1999/xlink\">\n",
       "<g class=\"graph\" id=\"graph0\" transform=\"scale(1 1) rotate(0) translate(4 188)\">\n",
       "<title>%3</title>\n",
       "<polygon fill=\"white\" points=\"-4,4 -4,-188 449,-188 449,4 -4,4\" stroke=\"transparent\"/>\n",
       "<!-- I2 -->\n",
       "<g class=\"node\" id=\"node1\">\n",
       "<title>I2</title>\n",
       "<ellipse cx=\"0\" cy=\"-92\" fill=\"black\" rx=\"0\" ry=\"0\" stroke=\"black\"/>\n",
       "</g>\n",
       "<!-- 2 -->\n",
       "<g class=\"node\" id=\"node5\">\n",
       "<title>2</title>\n",
       "<path d=\"M79,-110C79,-110 49,-110 49,-110 43,-110 37,-104 37,-98 37,-98 37,-86 37,-86 37,-80 43,-74 49,-74 49,-74 79,-74 79,-74 85,-74 91,-80 91,-86 91,-86 91,-98 91,-98 91,-104 85,-110 79,-110\" fill=\"none\" stroke=\"black\"/>\n",
       "<text font-family=\"Times,serif\" font-size=\"14.00\" text-anchor=\"middle\" x=\"64\" y=\"-88.3\">s0</text>\n",
       "</g>\n",
       "<!-- I2&#45;&gt;2 -->\n",
       "<g class=\"edge\" id=\"edge1\">\n",
       "<title>I2-&gt;2</title>\n",
       "<path d=\"M1.04,-92C1.86,-92 13.73,-92 26.87,-92\" fill=\"none\" stroke=\"DimGray\"/>\n",
       "<polygon fill=\"DimGray\" points=\"27,-95.5 37,-92 27,-88.5 27,-95.5\" stroke=\"DimGray\"/>\n",
       "</g>\n",
       "<!-- I3 -->\n",
       "<g class=\"node\" id=\"node2\">\n",
       "<title>I3</title>\n",
       "<ellipse cx=\"64\" cy=\"-56\" fill=\"black\" rx=\"0\" ry=\"0\" stroke=\"black\"/>\n",
       "</g>\n",
       "<!-- 3 -->\n",
       "<g class=\"node\" id=\"node6\">\n",
       "<title>3</title>\n",
       "<path d=\"M196,-90C196,-90 166,-90 166,-90 160,-90 154,-84 154,-78 154,-78 154,-66 154,-66 154,-60 160,-54 166,-54 166,-54 196,-54 196,-54 202,-54 208,-60 208,-66 208,-66 208,-78 208,-78 208,-84 202,-90 196,-90\" fill=\"none\" stroke=\"black\"/>\n",
       "<text font-family=\"Times,serif\" font-size=\"14.00\" text-anchor=\"middle\" x=\"181\" y=\"-68.3\">s1</text>\n",
       "</g>\n",
       "<!-- I3&#45;&gt;3 -->\n",
       "<g class=\"edge\" id=\"edge2\">\n",
       "<title>I3-&gt;3</title>\n",
       "<path d=\"M65.08,-56.01C67.24,-56.31 110.7,-62.36 143.54,-66.93\" fill=\"none\" stroke=\"DimGray\"/>\n",
       "<polygon fill=\"DimGray\" points=\"143.38,-70.44 153.77,-68.35 144.34,-63.51 143.38,-70.44\" stroke=\"DimGray\"/>\n",
       "</g>\n",
       "<!-- F4 -->\n",
       "<g class=\"node\" id=\"node3\">\n",
       "<title>F4</title>\n",
       "<ellipse cx=\"418\" cy=\"-173\" fill=\"black\" rx=\"0\" ry=\"0\" stroke=\"black\"/>\n",
       "</g>\n",
       "<!-- F6 -->\n",
       "<g class=\"node\" id=\"node4\">\n",
       "<title>F6</title>\n",
       "<ellipse cx=\"418\" cy=\"-18\" fill=\"black\" rx=\"0\" ry=\"0\" stroke=\"black\"/>\n",
       "</g>\n",
       "<!-- 2&#45;&gt;2 -->\n",
       "<g class=\"edge\" id=\"edge3\">\n",
       "<title>2-&gt;2</title>\n",
       "<path d=\"M56.04,-110.15C54.82,-119.54 57.47,-128 64,-128 67.98,-128 70.52,-124.86 71.62,-120.28\" fill=\"none\" stroke=\"black\"/>\n",
       "<polygon fill=\"black\" points=\"75.12,-120.26 71.96,-110.15 68.13,-120.03 75.12,-120.26\" stroke=\"black\"/>\n",
       "<text font-family=\"Times,serif\" font-size=\"14.00\" text-anchor=\"middle\" x=\"64\" y=\"-131.8\">[0,0]</text>\n",
       "</g>\n",
       "<!-- 2&#45;&gt;3 -->\n",
       "<g class=\"edge\" id=\"edge4\">\n",
       "<title>2-&gt;3</title>\n",
       "<path d=\"M91.1,-87.46C106.57,-84.77 126.43,-81.32 143.44,-78.36\" fill=\"none\" stroke=\"black\"/>\n",
       "<polygon fill=\"black\" points=\"144.36,-81.75 153.61,-76.59 143.16,-74.85 144.36,-81.75\" stroke=\"black\"/>\n",
       "<text font-family=\"Times,serif\" font-size=\"14.00\" text-anchor=\"middle\" x=\"122.5\" y=\"-87.8\">[1,1]</text>\n",
       "</g>\n",
       "<!-- 4 -->\n",
       "<g class=\"node\" id=\"node7\">\n",
       "<title>4</title>\n",
       "<path d=\"M316,-151C316,-151 286,-151 286,-151 280,-151 274,-145 274,-139 274,-139 274,-127 274,-127 274,-121 280,-115 286,-115 286,-115 316,-115 316,-115 322,-115 328,-121 328,-127 328,-127 328,-139 328,-139 328,-145 322,-151 316,-151\" fill=\"none\" stroke=\"black\"/>\n",
       "<text font-family=\"Times,serif\" font-size=\"14.00\" text-anchor=\"middle\" x=\"301\" y=\"-129.3\">s2</text>\n",
       "</g>\n",
       "<!-- 3&#45;&gt;4 -->\n",
       "<g class=\"edge\" id=\"edge5\">\n",
       "<title>3-&gt;4</title>\n",
       "<path d=\"M208.19,-85.54C224.84,-94.15 246.61,-105.4 264.76,-114.78\" fill=\"none\" stroke=\"black\"/>\n",
       "<polygon fill=\"black\" points=\"263.39,-118.02 273.89,-119.5 266.61,-111.8 263.39,-118.02\" stroke=\"black\"/>\n",
       "<text font-family=\"Times,serif\" font-size=\"14.00\" text-anchor=\"middle\" x=\"241\" y=\"-112.8\">[0,1]</text>\n",
       "</g>\n",
       "<!-- 5 -->\n",
       "<g class=\"node\" id=\"node8\">\n",
       "<title>5</title>\n",
       "<path d=\"M433,-122C433,-122 403,-122 403,-122 397,-122 391,-116 391,-110 391,-110 391,-98 391,-98 391,-92 397,-86 403,-86 403,-86 433,-86 433,-86 439,-86 445,-92 445,-98 445,-98 445,-110 445,-110 445,-116 439,-122 433,-122\" fill=\"none\" stroke=\"black\"/>\n",
       "<text font-family=\"Times,serif\" font-size=\"14.00\" text-anchor=\"middle\" x=\"418\" y=\"-100.3\">s3</text>\n",
       "</g>\n",
       "<!-- 3&#45;&gt;5 -->\n",
       "<g class=\"edge\" id=\"edge6\">\n",
       "<title>3-&gt;5</title>\n",
       "<path d=\"M208.08,-74.1C244.97,-77.27 314.43,-84 373,-94 375.5,-94.43 378.07,-94.91 380.66,-95.42\" fill=\"none\" stroke=\"black\"/>\n",
       "<polygon fill=\"black\" points=\"380.06,-98.87 390.57,-97.5 381.5,-92.02 380.06,-98.87\" stroke=\"black\"/>\n",
       "<text font-family=\"Times,serif\" font-size=\"14.00\" text-anchor=\"middle\" x=\"301\" y=\"-90.8\">[1,0]</text>\n",
       "</g>\n",
       "<!-- 6 -->\n",
       "<g class=\"node\" id=\"node9\">\n",
       "<title>6</title>\n",
       "<path d=\"M316,-36C316,-36 286,-36 286,-36 280,-36 274,-30 274,-24 274,-24 274,-12 274,-12 274,-6 280,0 286,0 286,0 316,0 316,0 322,0 328,-6 328,-12 328,-12 328,-24 328,-24 328,-30 322,-36 316,-36\" fill=\"none\" stroke=\"black\"/>\n",
       "<text font-family=\"Times,serif\" font-size=\"14.00\" text-anchor=\"middle\" x=\"301\" y=\"-14.3\">s4</text>\n",
       "</g>\n",
       "<!-- 3&#45;&gt;6 -->\n",
       "<g class=\"edge\" id=\"edge7\">\n",
       "<title>3-&gt;6</title>\n",
       "<path d=\"M206.93,-53.98C213,-50.05 219.59,-46.13 226,-43 238.02,-37.13 251.76,-32.07 264.11,-28.07\" fill=\"none\" stroke=\"black\"/>\n",
       "<polygon fill=\"black\" points=\"265.16,-31.41 273.66,-25.1 263.08,-24.73 265.16,-31.41\" stroke=\"black\"/>\n",
       "<text font-family=\"Times,serif\" font-size=\"14.00\" text-anchor=\"middle\" x=\"241\" y=\"-46.8\">[\\e,1]</text>\n",
       "</g>\n",
       "<!-- 4&#45;&gt;F4 -->\n",
       "<g class=\"edge\" id=\"edge8\">\n",
       "<title>4-&gt;F4</title>\n",
       "<path d=\"M328.09,-142.1C345.82,-148.29 369.82,-156.65 391,-164 396.41,-165.88 402.47,-167.98 407.37,-169.67\" fill=\"none\" stroke=\"DimGray\"/>\n",
       "<polygon fill=\"DimGray\" points=\"406.24,-172.98 416.83,-172.94 408.53,-166.37 406.24,-172.98\" stroke=\"DimGray\"/>\n",
       "</g>\n",
       "<!-- 4&#45;&gt;4 -->\n",
       "<g class=\"edge\" id=\"edge9\">\n",
       "<title>4-&gt;4</title>\n",
       "<path d=\"M290.51,-151.15C288.89,-160.54 292.39,-169 301,-169 306.25,-169 309.59,-165.86 311.04,-161.28\" fill=\"none\" stroke=\"black\"/>\n",
       "<polygon fill=\"black\" points=\"314.55,-161.3 311.49,-151.15 307.55,-160.99 314.55,-161.3\" stroke=\"black\"/>\n",
       "<text font-family=\"Times,serif\" font-size=\"14.00\" text-anchor=\"middle\" x=\"301\" y=\"-172.8\">[0,0]</text>\n",
       "</g>\n",
       "<!-- 4&#45;&gt;5 -->\n",
       "<g class=\"edge\" id=\"edge10\">\n",
       "<title>4-&gt;5</title>\n",
       "<path d=\"M328.24,-129.85C341.75,-127.91 358.41,-125.01 373,-121 375.65,-120.27 378.36,-119.44 381.07,-118.55\" fill=\"none\" stroke=\"black\"/>\n",
       "<polygon fill=\"black\" points=\"382.5,-121.76 390.76,-115.13 380.17,-115.16 382.5,-121.76\" stroke=\"black\"/>\n",
       "<text font-family=\"Times,serif\" font-size=\"14.00\" text-anchor=\"middle\" x=\"359.5\" y=\"-129.8\">[1,1]</text>\n",
       "</g>\n",
       "<!-- 5&#45;&gt;4 -->\n",
       "<g class=\"edge\" id=\"edge11\">\n",
       "<title>5-&gt;4</title>\n",
       "<path d=\"M390.79,-99.19C377.14,-97.7 360.34,-97.46 346,-102 340.66,-103.69 335.4,-106.3 330.48,-109.29\" fill=\"none\" stroke=\"black\"/>\n",
       "<polygon fill=\"black\" points=\"328.38,-106.48 322.06,-114.98 332.3,-112.28 328.38,-106.48\" stroke=\"black\"/>\n",
       "<text font-family=\"Times,serif\" font-size=\"14.00\" text-anchor=\"middle\" x=\"359.5\" y=\"-105.8\">[1,1]</text>\n",
       "</g>\n",
       "<!-- 5&#45;&gt;5 -->\n",
       "<g class=\"edge\" id=\"edge12\">\n",
       "<title>5-&gt;5</title>\n",
       "<path d=\"M407.51,-122.15C405.89,-131.54 409.39,-140 418,-140 423.25,-140 426.59,-136.86 428.04,-132.28\" fill=\"none\" stroke=\"black\"/>\n",
       "<polygon fill=\"black\" points=\"431.55,-132.3 428.49,-122.15 424.55,-131.99 431.55,-132.3\" stroke=\"black\"/>\n",
       "<text font-family=\"Times,serif\" font-size=\"14.00\" text-anchor=\"middle\" x=\"418\" y=\"-143.8\">[0,0]</text>\n",
       "</g>\n",
       "<!-- 6&#45;&gt;F6 -->\n",
       "<g class=\"edge\" id=\"edge13\">\n",
       "<title>6-&gt;F6</title>\n",
       "<path d=\"M328.1,-18C353,-18 389.26,-18 406.77,-18\" fill=\"none\" stroke=\"DimGray\"/>\n",
       "<polygon fill=\"DimGray\" points=\"406.84,-21.5 416.84,-18 406.84,-14.5 406.84,-21.5\" stroke=\"DimGray\"/>\n",
       "</g>\n",
       "</g>\n",
       "</svg>"
      ],
      "text/plain": [
       "<IPython.core.display.SVG object>"
      ]
     },
     "metadata": {},
     "output_type": "display_data"
    }
   ],
   "source": [
    "L = awalipy.load(\"gray\")\n",
    "L.display()"
   ]
  },
  {
   "cell_type": "code",
   "execution_count": 22,
   "metadata": {},
   "outputs": [
    {
     "name": "stdout",
     "output_type": "stream",
     "text": [
      "0 is represented as 0\n",
      "1 is represented as 1\n",
      "2 is represented as 11\n",
      "3 is represented as 01\n",
      "4 is represented as 011\n",
      "5 is represented as 111\n",
      "6 is represented as 101\n",
      "7 is represented as 001\n",
      "8 is represented as 0011\n",
      "9 is represented as 1011\n",
      "10 is represented as 1111\n",
      "11 is represented as 0111\n",
      "12 is represented as 0101\n",
      "13 is represented as 1101\n",
      "14 is represented as 1001\n",
      "15 is represented as 0001\n",
      "16 is represented as 00011\n",
      "17 is represented as 10011\n",
      "18 is represented as 11011\n",
      "19 is represented as 01011\n"
     ]
    }
   ],
   "source": [
    "s = awalipy.RatExp(\"0\")\n",
    "for i in range(20):\n",
    "    print (str(i) + \" is represented as \" + str(s))\n",
    "    s = L(s)"
   ]
  },
  {
   "cell_type": "markdown",
   "metadata": {},
   "source": [
    "## Access and browsing\n",
    "Accessing and browsing is essentially the same for transducers and automata. "
   ]
  },
  {
   "cell_type": "code",
   "execution_count": 23,
   "metadata": {},
   "outputs": [
    {
     "data": {
      "image/svg+xml": [
       "<svg height=\"115pt\" viewBox=\"0.00 0.00 219.50 115.00\" width=\"220pt\" xmlns=\"http://www.w3.org/2000/svg\" xmlns:xlink=\"http://www.w3.org/1999/xlink\">\n",
       "<g class=\"graph\" id=\"graph0\" transform=\"scale(1 1) rotate(0) translate(4 111)\">\n",
       "<title>%3</title>\n",
       "<polygon fill=\"white\" points=\"-4,4 -4,-111 215.5,-111 215.5,4 -4,4\" stroke=\"transparent\"/>\n",
       "<!-- I2 -->\n",
       "<g class=\"node\" id=\"node1\">\n",
       "<title>I2</title>\n",
       "<ellipse cx=\"0\" cy=\"-56\" fill=\"black\" rx=\"0\" ry=\"0\" stroke=\"black\"/>\n",
       "</g>\n",
       "<!-- 2 -->\n",
       "<g class=\"node\" id=\"node3\">\n",
       "<title>2</title>\n",
       "<path d=\"M79,-74C79,-74 49,-74 49,-74 43,-74 37,-68 37,-62 37,-62 37,-50 37,-50 37,-44 43,-38 49,-38 49,-38 79,-38 79,-38 85,-38 91,-44 91,-50 91,-50 91,-62 91,-62 91,-68 85,-74 79,-74\" fill=\"none\" stroke=\"black\"/>\n",
       "<text font-family=\"Times,serif\" font-size=\"14.00\" text-anchor=\"middle\" x=\"64\" y=\"-52.3\">$0</text>\n",
       "</g>\n",
       "<!-- I2&#45;&gt;2 -->\n",
       "<g class=\"edge\" id=\"edge1\">\n",
       "<title>I2-&gt;2</title>\n",
       "<path d=\"M1.04,-56C1.86,-56 13.73,-56 26.87,-56\" fill=\"none\" stroke=\"DimGray\"/>\n",
       "<polygon fill=\"DimGray\" points=\"27,-59.5 37,-56 27,-52.5 27,-59.5\" stroke=\"DimGray\"/>\n",
       "</g>\n",
       "<!-- F2 -->\n",
       "<g class=\"node\" id=\"node2\">\n",
       "<title>F2</title>\n",
       "<ellipse cx=\"181\" cy=\"-87\" fill=\"black\" rx=\"0\" ry=\"0\" stroke=\"black\"/>\n",
       "</g>\n",
       "<!-- 2&#45;&gt;F2 -->\n",
       "<g class=\"edge\" id=\"edge2\">\n",
       "<title>2-&gt;F2</title>\n",
       "<path d=\"M91.27,-67.01C97.05,-69.18 103.18,-71.32 109,-73 130.28,-79.16 155.92,-83.47 169.83,-85.56\" fill=\"none\" stroke=\"DimGray\"/>\n",
       "<polygon fill=\"DimGray\" points=\"169.49,-89.05 179.88,-86.99 170.47,-82.12 169.49,-89.05\" stroke=\"DimGray\"/>\n",
       "</g>\n",
       "<!-- 2&#45;&gt;2 -->\n",
       "<g class=\"edge\" id=\"edge3\">\n",
       "<title>2-&gt;2</title>\n",
       "<path d=\"M56.04,-74.15C54.82,-83.54 57.47,-92 64,-92 67.98,-92 70.52,-88.86 71.62,-84.28\" fill=\"none\" stroke=\"black\"/>\n",
       "<polygon fill=\"black\" points=\"75.12,-84.26 71.96,-74.15 68.13,-84.03 75.12,-84.26\" stroke=\"black\"/>\n",
       "<text font-family=\"Times,serif\" font-size=\"14.00\" text-anchor=\"middle\" x=\"64\" y=\"-95.8\">[0,0], [1,1]</text>\n",
       "</g>\n",
       "<!-- 3 -->\n",
       "<g class=\"node\" id=\"node4\">\n",
       "<title>3</title>\n",
       "<path d=\"M196,-36C196,-36 166,-36 166,-36 160,-36 154,-30 154,-24 154,-24 154,-12 154,-12 154,-6 160,0 166,0 166,0 196,0 196,0 202,0 208,-6 208,-12 208,-12 208,-24 208,-24 208,-30 202,-36 196,-36\" fill=\"none\" stroke=\"black\"/>\n",
       "<text font-family=\"Times,serif\" font-size=\"14.00\" text-anchor=\"middle\" x=\"181\" y=\"-14.3\">$1</text>\n",
       "</g>\n",
       "<!-- 2&#45;&gt;3 -->\n",
       "<g class=\"edge\" id=\"edge4\">\n",
       "<title>2-&gt;3</title>\n",
       "<path d=\"M91.06,-48.25C104.53,-44.17 121.2,-38.98 136,-34 138.58,-33.13 141.24,-32.21 143.92,-31.28\" fill=\"none\" stroke=\"black\"/>\n",
       "<polygon fill=\"black\" points=\"145.3,-34.5 153.55,-27.85 142.95,-27.91 145.3,-34.5\" stroke=\"black\"/>\n",
       "<text font-family=\"Times,serif\" font-size=\"14.00\" text-anchor=\"middle\" x=\"122.5\" y=\"-45.8\">[2,0]</text>\n",
       "</g>\n",
       "<!-- 3&#45;&gt;2 -->\n",
       "<g class=\"edge\" id=\"edge5\">\n",
       "<title>3-&gt;2</title>\n",
       "<path d=\"M153.85,-11.91C140.06,-9.92 123.12,-9.44 109,-15 100.48,-18.35 92.64,-24.22 86,-30.49\" fill=\"none\" stroke=\"black\"/>\n",
       "<polygon fill=\"black\" points=\"83.26,-28.28 78.8,-37.9 88.28,-33.16 83.26,-28.28\" stroke=\"black\"/>\n",
       "<text font-family=\"Times,serif\" font-size=\"14.00\" text-anchor=\"middle\" x=\"122.5\" y=\"-18.8\">[0,1]</text>\n",
       "</g>\n",
       "<!-- 3&#45;&gt;3 -->\n",
       "<g class=\"edge\" id=\"edge6\">\n",
       "<title>3-&gt;3</title>\n",
       "<path d=\"M170.51,-36.15C168.89,-45.54 172.39,-54 181,-54 186.25,-54 189.59,-50.86 191.04,-46.28\" fill=\"none\" stroke=\"black\"/>\n",
       "<polygon fill=\"black\" points=\"194.55,-46.3 191.49,-36.15 187.55,-45.99 194.55,-46.3\" stroke=\"black\"/>\n",
       "<text font-family=\"Times,serif\" font-size=\"14.00\" text-anchor=\"middle\" x=\"181\" y=\"-57.8\">[1,0], [2,1]</text>\n",
       "</g>\n",
       "</g>\n",
       "</svg>"
      ],
      "text/plain": [
       "<IPython.core.display.SVG object>"
      ]
     },
     "metadata": {},
     "output_type": "display_data"
    }
   ],
   "source": [
    "T.display()"
   ]
  },
  {
   "cell_type": "markdown",
   "metadata": {},
   "source": [
    "---\n",
    "Getting the list of states, or transitions<br>\n",
    "(*It cannot be assumed that the ids of states are [0,1,...,n] for some n *)"
   ]
  },
  {
   "cell_type": "code",
   "execution_count": 24,
   "metadata": {},
   "outputs": [
    {
     "data": {
      "text/plain": [
       "([0, 1], [2, 3, 4, 5, 6, 7])"
      ]
     },
     "execution_count": 24,
     "metadata": {},
     "output_type": "execute_result"
    }
   ],
   "source": [
    "T.states(), T.transitions()"
   ]
  },
  {
   "cell_type": "markdown",
   "metadata": {},
   "source": [
    "---\n",
    "Getting the list of initial states,of final states."
   ]
  },
  {
   "cell_type": "code",
   "execution_count": 25,
   "metadata": {},
   "outputs": [
    {
     "data": {
      "text/plain": [
       "([0], [0])"
      ]
     },
     "execution_count": 25,
     "metadata": {},
     "output_type": "execute_result"
    }
   ],
   "source": [
    "T.initial_states(), T.final_states()"
   ]
  },
  {
   "cell_type": "markdown",
   "metadata": {
    "collapsed": true
   },
   "source": [
    "---\n",
    "List of transitions adjacent of a state"
   ]
  },
  {
   "cell_type": "code",
   "execution_count": 26,
   "metadata": {},
   "outputs": [
    {
     "data": {
      "text/plain": [
       "([5, 6, 7], [4, 6, 7])"
      ]
     },
     "execution_count": 26,
     "metadata": {},
     "output_type": "execute_result"
    }
   ],
   "source": [
    "T.outgoing(stt_1), T.incoming(stt_1)"
   ]
  },
  {
   "cell_type": "markdown",
   "metadata": {},
   "source": [
    "---\n",
    "List of transitions from a state to another."
   ]
  },
  {
   "cell_type": "code",
   "execution_count": 27,
   "metadata": {},
   "outputs": [
    {
     "data": {
      "text/plain": [
       "[4]"
      ]
     },
     "execution_count": 27,
     "metadata": {},
     "output_type": "execute_result"
    }
   ],
   "source": [
    "T.outin(stt_0,stt_1)"
   ]
  },
  {
   "cell_type": "markdown",
   "metadata": {},
   "source": [
    "---\n",
    "List of states reachable from a state in one transition."
   ]
  },
  {
   "cell_type": "code",
   "execution_count": 28,
   "metadata": {},
   "outputs": [
    {
     "data": {
      "text/plain": [
       "([0, 0, 1], [])"
      ]
     },
     "execution_count": 28,
     "metadata": {},
     "output_type": "execute_result"
    }
   ],
   "source": [
    "T.successors(stt_0), T.successors(stt_0, [\"1\",\"0\"])"
   ]
  },
  {
   "cell_type": "markdown",
   "metadata": {},
   "source": [
    "---\n",
    "List of states that may reach a state in one transition."
   ]
  },
  {
   "cell_type": "code",
   "execution_count": 29,
   "metadata": {},
   "outputs": [
    {
     "data": {
      "text/plain": [
       "([0, 0, 1], [0])"
      ]
     },
     "execution_count": 29,
     "metadata": {},
     "output_type": "execute_result"
    }
   ],
   "source": [
    "T.predecessors(stt_0), T.predecessors(stt_0, [\"0\",\"0\"])"
   ]
  }
 ],
 "metadata": {
  "kernelspec": {
   "display_name": "Python 2",
   "language": "python",
   "name": "python2"
  },
  "language_info": {
   "codemirror_mode": {
    "name": "ipython",
    "version": 2
   },
   "file_extension": ".py",
   "mimetype": "text/x-python",
   "name": "python",
   "nbconvert_exporter": "python",
   "pygments_lexer": "ipython2",
   "version": "2.7.13"
  }
 },
 "nbformat": 4,
 "nbformat_minor": 1
}
