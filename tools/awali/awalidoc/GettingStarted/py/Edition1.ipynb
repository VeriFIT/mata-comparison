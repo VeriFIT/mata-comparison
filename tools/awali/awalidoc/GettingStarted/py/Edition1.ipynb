{
 "cells": [
  {
   "cell_type": "markdown",
   "metadata": {},
   "source": [
    "# Edition, visualisation, traversal\n",
    "## Boolean automata\n"
   ]
  },
  {
   "cell_type": "code",
   "execution_count": 1,
   "metadata": {},
   "outputs": [
    {
     "data": {
      "application/javascript": [
       "IPython.notebook.set_autosave_interval(0)"
      ]
     },
     "metadata": {},
     "output_type": "display_data"
    },
    {
     "name": "stdout",
     "output_type": "stream",
     "text": [
      "Autosave disabled\n"
     ]
    }
   ],
   "source": [
    "# We disable autosave for technical reasons.\n",
    "# Replace 0 by 120 in next line to restore default.\n",
    "%autosave 0"
   ]
  },
  {
   "cell_type": "code",
   "execution_count": 2,
   "metadata": {},
   "outputs": [
    {
     "name": "stdout",
     "output_type": "stream",
     "text": [
      "[Warning] The python module awalipy relies on compilation executed \"on-the-fly\" depending on the context (type of weights, of labels, etc.). As a result, the very first call to a given function in a given context may take up to 10 seconds. \n"
     ]
    }
   ],
   "source": [
    "import awalipy # If import fails, check that \n",
    "               # Python version used as Jupyter\n",
    "               # kernel matches the one\n",
    "               # Awalipy was compiled with."
   ]
  },
  {
   "cell_type": "markdown",
   "metadata": {},
   "source": [
    "(The above warning is displayed every time awalipy is imported.)"
   ]
  },
  {
   "cell_type": "markdown",
   "metadata": {},
   "source": [
    "## Creating an automaton"
   ]
  },
  {
   "cell_type": "markdown",
   "metadata": {},
   "source": [
    "Alphabets we use are Python `str`\n",
    "- each `char` of the `str` is a letter the alphabet\n",
    "- order does not matter (`\"abc\"` and `\"bac\"` represent the same alphabet)"
   ]
  },
  {
   "cell_type": "code",
   "execution_count": 3,
   "metadata": {},
   "outputs": [],
   "source": [
    "alph1 = \"abc\"  # represents {a,b,c}\n",
    "alph2 = \"01\"   # represents {0,1}"
   ]
  },
  {
   "cell_type": "markdown",
   "metadata": {},
   "source": [
    "An **automaton** is built from an alphabet"
   ]
  },
  {
   "cell_type": "code",
   "execution_count": 4,
   "metadata": {},
   "outputs": [],
   "source": [
    "A = awalipy.Automaton(alph1)\n",
    "# or directly  `awalipy.Automaton(\"abc\")`"
   ]
  },
  {
   "cell_type": "markdown",
   "metadata": {},
   "source": [
    "`A` is an automaton with no states and no transitions over the alphabet {a,b,c}"
   ]
  },
  {
   "cell_type": "markdown",
   "metadata": {},
   "source": [
    "---\n",
    "Adding states\n",
    "\n",
    "By default the displayed name of the state is given by its index: the first state is named `\"s0\"`, the second `\"s1\"`, etc."
   ]
  },
  {
   "cell_type": "code",
   "execution_count": 5,
   "metadata": {},
   "outputs": [],
   "source": [
    "stt_0 = A.add_state()\n",
    "stt_1 = A.add_state()"
   ]
  },
  {
   "cell_type": "markdown",
   "metadata": {},
   "source": [
    "---\n",
    "Adding transitions"
   ]
  },
  {
   "cell_type": "code",
   "execution_count": 6,
   "metadata": {},
   "outputs": [],
   "source": [
    "tr_0 = A.set_transition(stt_0,stt_1,'a')\n",
    "tr_1 = A.set_transition(stt_1,stt_0,'b')\n",
    "tr_2 = A.set_transition(stt_0,stt_0,'b')"
   ]
  },
  {
   "cell_type": "markdown",
   "metadata": {},
   "source": [
    "<hr>\n",
    "There is no Python class for transitions or states. We manipulate only their identifiers."
   ]
  },
  {
   "cell_type": "code",
   "execution_count": 7,
   "metadata": {},
   "outputs": [
    {
     "name": "stdout",
     "output_type": "stream",
     "text": [
      "0\n",
      "2\n"
     ]
    }
   ],
   "source": [
    "print (stt_0)\n",
    "print (tr_2)"
   ]
  },
  {
   "cell_type": "markdown",
   "metadata": {},
   "source": [
    "---\n",
    "Making states initial or final"
   ]
  },
  {
   "cell_type": "code",
   "execution_count": 8,
   "metadata": {},
   "outputs": [],
   "source": [
    "A.set_initial(stt_0)\n",
    "A.set_final(stt_1)"
   ]
  },
  {
   "cell_type": "markdown",
   "metadata": {},
   "source": [
    "# Displaying an automaton"
   ]
  },
  {
   "cell_type": "markdown",
   "metadata": {},
   "source": [
    "Displaying an automaton graphically, using dot for state placement.<br>\n",
    "(Works well for small automata only.)"
   ]
  },
  {
   "cell_type": "code",
   "execution_count": 9,
   "metadata": {},
   "outputs": [
    {
     "data": {
      "image/svg+xml": [
       "<svg height=\"79pt\" viewBox=\"0.00 0.00 233.00 78.86\" width=\"233pt\" xmlns=\"http://www.w3.org/2000/svg\" xmlns:xlink=\"http://www.w3.org/1999/xlink\">\n",
       "<g class=\"graph\" id=\"graph0\" transform=\"scale(1 1) rotate(0) translate(4 74.86)\">\n",
       "<title>%3</title>\n",
       "<polygon fill=\"white\" points=\"-4,4 -4,-74.86 229,-74.86 229,4 -4,4\" stroke=\"transparent\"/>\n",
       "<!-- I2 -->\n",
       "<g class=\"node\" id=\"node1\">\n",
       "<title>I2</title>\n",
       "<ellipse cx=\"0\" cy=\"-19.86\" fill=\"black\" rx=\"0\" ry=\"0\" stroke=\"black\"/>\n",
       "</g>\n",
       "<!-- 2 -->\n",
       "<g class=\"node\" id=\"node3\">\n",
       "<title>2</title>\n",
       "<path d=\"M79,-37.86C79,-37.86 49,-37.86 49,-37.86 43,-37.86 37,-31.86 37,-25.86 37,-25.86 37,-13.86 37,-13.86 37,-7.86 43,-1.86 49,-1.86 49,-1.86 79,-1.86 79,-1.86 85,-1.86 91,-7.86 91,-13.86 91,-13.86 91,-25.86 91,-25.86 91,-31.86 85,-37.86 79,-37.86\" fill=\"none\" stroke=\"black\"/>\n",
       "<text font-family=\"Times,serif\" font-size=\"14.00\" text-anchor=\"middle\" x=\"64\" y=\"-16.16\">$0</text>\n",
       "</g>\n",
       "<!-- I2&#45;&gt;2 -->\n",
       "<g class=\"edge\" id=\"edge1\">\n",
       "<title>I2-&gt;2</title>\n",
       "<path d=\"M1.04,-19.86C1.86,-19.86 13.73,-19.86 26.87,-19.86\" fill=\"none\" stroke=\"DimGray\"/>\n",
       "<polygon fill=\"DimGray\" points=\"27,-23.36 37,-19.86 27,-16.36 27,-23.36\" stroke=\"DimGray\"/>\n",
       "</g>\n",
       "<!-- F3 -->\n",
       "<g class=\"node\" id=\"node2\">\n",
       "<title>F3</title>\n",
       "<ellipse cx=\"225\" cy=\"-19.86\" fill=\"black\" rx=\"0\" ry=\"0\" stroke=\"black\"/>\n",
       "</g>\n",
       "<!-- 2&#45;&gt;2 -->\n",
       "<g class=\"edge\" id=\"edge2\">\n",
       "<title>2-&gt;2</title>\n",
       "<path d=\"M56.04,-38.01C54.82,-47.4 57.47,-55.86 64,-55.86 67.98,-55.86 70.52,-52.72 71.62,-48.14\" fill=\"none\" stroke=\"black\"/>\n",
       "<polygon fill=\"black\" points=\"75.12,-48.13 71.96,-38.01 68.13,-47.89 75.12,-48.13\" stroke=\"black\"/>\n",
       "<text font-family=\"Times,serif\" font-size=\"14.00\" text-anchor=\"middle\" x=\"64\" y=\"-59.66\">b</text>\n",
       "</g>\n",
       "<!-- 3 -->\n",
       "<g class=\"node\" id=\"node4\">\n",
       "<title>3</title>\n",
       "<path d=\"M176,-37.86C176,-37.86 146,-37.86 146,-37.86 140,-37.86 134,-31.86 134,-25.86 134,-25.86 134,-13.86 134,-13.86 134,-7.86 140,-1.86 146,-1.86 146,-1.86 176,-1.86 176,-1.86 182,-1.86 188,-7.86 188,-13.86 188,-13.86 188,-25.86 188,-25.86 188,-31.86 182,-37.86 176,-37.86\" fill=\"none\" stroke=\"black\"/>\n",
       "<text font-family=\"Times,serif\" font-size=\"14.00\" text-anchor=\"middle\" x=\"161\" y=\"-16.16\">$1</text>\n",
       "</g>\n",
       "<!-- 2&#45;&gt;3 -->\n",
       "<g class=\"edge\" id=\"edge3\">\n",
       "<title>2-&gt;3</title>\n",
       "<path d=\"M91.21,-19.86C101.28,-19.86 112.96,-19.86 123.81,-19.86\" fill=\"none\" stroke=\"black\"/>\n",
       "<polygon fill=\"black\" points=\"123.87,-23.36 133.87,-19.86 123.87,-16.36 123.87,-23.36\" stroke=\"black\"/>\n",
       "<text font-family=\"Times,serif\" font-size=\"14.00\" text-anchor=\"middle\" x=\"112.5\" y=\"-23.66\">a</text>\n",
       "</g>\n",
       "<!-- 3&#45;&gt;F3 -->\n",
       "<g class=\"edge\" id=\"edge4\">\n",
       "<title>3-&gt;F3</title>\n",
       "<path d=\"M188.29,-19.86C197.25,-19.86 206.73,-19.86 213.68,-19.86\" fill=\"none\" stroke=\"DimGray\"/>\n",
       "<polygon fill=\"DimGray\" points=\"213.95,-23.36 223.95,-19.86 213.95,-16.36 213.95,-23.36\" stroke=\"DimGray\"/>\n",
       "</g>\n",
       "<!-- 3&#45;&gt;2 -->\n",
       "<g class=\"edge\" id=\"edge5\">\n",
       "<title>3-&gt;2</title>\n",
       "<path d=\"M133.98,-4.08C126.1,-0.98 117.33,0.86 109,-0.86 106.34,-1.41 103.65,-2.13 100.97,-2.96\" fill=\"none\" stroke=\"black\"/>\n",
       "<polygon fill=\"black\" points=\"99.64,0.28 91.42,-6.4 102.02,-6.3 99.64,0.28\" stroke=\"black\"/>\n",
       "<text font-family=\"Times,serif\" font-size=\"14.00\" text-anchor=\"middle\" x=\"112.5\" y=\"-4.66\">b</text>\n",
       "</g>\n",
       "</g>\n",
       "</svg>"
      ],
      "text/plain": [
       "<IPython.core.display.SVG object>"
      ]
     },
     "metadata": {},
     "output_type": "display_data"
    }
   ],
   "source": [
    "A.display()"
   ]
  },
  {
   "cell_type": "markdown",
   "metadata": {},
   "source": [
    "---\n",
    "Displayin an automaton in text format."
   ]
  },
  {
   "cell_type": "code",
   "execution_count": 10,
   "metadata": {},
   "outputs": [
    {
     "data": {
      "text/plain": [
       "Automaton (lal_char_b):\tWeight Set: B\tAlphabet: abc\n",
       "States:{\t0(i)\t1(f)\t}\n",
       "Transitions:{\t0--a-->1\t1--b-->0\t0--b-->0\t\t}"
      ]
     },
     "execution_count": 10,
     "metadata": {},
     "output_type": "execute_result"
    }
   ],
   "source": [
    "A"
   ]
  },
  {
   "cell_type": "markdown",
   "metadata": {},
   "source": [
    "NB: the mention `(i)` following a state means that the state is *initial*.  Similarly, `(f)` means *final* and `(i,f)` means *initial and final*."
   ]
  },
  {
   "cell_type": "markdown",
   "metadata": {},
   "source": [
    "## Epsilon transitions\n",
    "By default, automata do not allow epsilon transitions.  \n",
    "Moreover, automata with/without epsilon transitions are not represented by the same data structure. Allowing epsilon transition hence provokes a complete copy of the automaton."
   ]
  },
  {
   "cell_type": "code",
   "execution_count": 11,
   "metadata": {},
   "outputs": [
    {
     "data": {
      "image/svg+xml": [
       "<svg height=\"79pt\" viewBox=\"0.00 0.00 233.00 78.86\" width=\"233pt\" xmlns=\"http://www.w3.org/2000/svg\" xmlns:xlink=\"http://www.w3.org/1999/xlink\">\n",
       "<g class=\"graph\" id=\"graph0\" transform=\"scale(1 1) rotate(0) translate(4 74.86)\">\n",
       "<title>%3</title>\n",
       "<polygon fill=\"white\" points=\"-4,4 -4,-74.86 229,-74.86 229,4 -4,4\" stroke=\"transparent\"/>\n",
       "<!-- I2 -->\n",
       "<g class=\"node\" id=\"node1\">\n",
       "<title>I2</title>\n",
       "<ellipse cx=\"0\" cy=\"-19.86\" fill=\"black\" rx=\"0\" ry=\"0\" stroke=\"black\"/>\n",
       "</g>\n",
       "<!-- 2 -->\n",
       "<g class=\"node\" id=\"node3\">\n",
       "<title>2</title>\n",
       "<path d=\"M79,-37.86C79,-37.86 49,-37.86 49,-37.86 43,-37.86 37,-31.86 37,-25.86 37,-25.86 37,-13.86 37,-13.86 37,-7.86 43,-1.86 49,-1.86 49,-1.86 79,-1.86 79,-1.86 85,-1.86 91,-7.86 91,-13.86 91,-13.86 91,-25.86 91,-25.86 91,-31.86 85,-37.86 79,-37.86\" fill=\"none\" stroke=\"black\"/>\n",
       "<text font-family=\"Times,serif\" font-size=\"14.00\" text-anchor=\"middle\" x=\"64\" y=\"-16.16\">$0</text>\n",
       "</g>\n",
       "<!-- I2&#45;&gt;2 -->\n",
       "<g class=\"edge\" id=\"edge1\">\n",
       "<title>I2-&gt;2</title>\n",
       "<path d=\"M1.04,-19.86C1.86,-19.86 13.73,-19.86 26.87,-19.86\" fill=\"none\" stroke=\"DimGray\"/>\n",
       "<polygon fill=\"DimGray\" points=\"27,-23.36 37,-19.86 27,-16.36 27,-23.36\" stroke=\"DimGray\"/>\n",
       "</g>\n",
       "<!-- F3 -->\n",
       "<g class=\"node\" id=\"node2\">\n",
       "<title>F3</title>\n",
       "<ellipse cx=\"225\" cy=\"-19.86\" fill=\"black\" rx=\"0\" ry=\"0\" stroke=\"black\"/>\n",
       "</g>\n",
       "<!-- 2&#45;&gt;2 -->\n",
       "<g class=\"edge\" id=\"edge2\">\n",
       "<title>2-&gt;2</title>\n",
       "<path d=\"M56.04,-38.01C54.82,-47.4 57.47,-55.86 64,-55.86 67.98,-55.86 70.52,-52.72 71.62,-48.14\" fill=\"none\" stroke=\"black\"/>\n",
       "<polygon fill=\"black\" points=\"75.12,-48.13 71.96,-38.01 68.13,-47.89 75.12,-48.13\" stroke=\"black\"/>\n",
       "<text font-family=\"Times,serif\" font-size=\"14.00\" text-anchor=\"middle\" x=\"64\" y=\"-59.66\">b</text>\n",
       "</g>\n",
       "<!-- 3 -->\n",
       "<g class=\"node\" id=\"node4\">\n",
       "<title>3</title>\n",
       "<path d=\"M176,-37.86C176,-37.86 146,-37.86 146,-37.86 140,-37.86 134,-31.86 134,-25.86 134,-25.86 134,-13.86 134,-13.86 134,-7.86 140,-1.86 146,-1.86 146,-1.86 176,-1.86 176,-1.86 182,-1.86 188,-7.86 188,-13.86 188,-13.86 188,-25.86 188,-25.86 188,-31.86 182,-37.86 176,-37.86\" fill=\"none\" stroke=\"black\"/>\n",
       "<text font-family=\"Times,serif\" font-size=\"14.00\" text-anchor=\"middle\" x=\"161\" y=\"-16.16\">$1</text>\n",
       "</g>\n",
       "<!-- 2&#45;&gt;3 -->\n",
       "<g class=\"edge\" id=\"edge3\">\n",
       "<title>2-&gt;3</title>\n",
       "<path d=\"M91.21,-19.86C101.28,-19.86 112.96,-19.86 123.81,-19.86\" fill=\"none\" stroke=\"black\"/>\n",
       "<polygon fill=\"black\" points=\"123.87,-23.36 133.87,-19.86 123.87,-16.36 123.87,-23.36\" stroke=\"black\"/>\n",
       "<text font-family=\"Times,serif\" font-size=\"14.00\" text-anchor=\"middle\" x=\"112.5\" y=\"-23.66\">a</text>\n",
       "</g>\n",
       "<!-- 3&#45;&gt;F3 -->\n",
       "<g class=\"edge\" id=\"edge4\">\n",
       "<title>3-&gt;F3</title>\n",
       "<path d=\"M188.29,-19.86C197.25,-19.86 206.73,-19.86 213.68,-19.86\" fill=\"none\" stroke=\"DimGray\"/>\n",
       "<polygon fill=\"DimGray\" points=\"213.95,-23.36 223.95,-19.86 213.95,-16.36 213.95,-23.36\" stroke=\"DimGray\"/>\n",
       "</g>\n",
       "<!-- 3&#45;&gt;2 -->\n",
       "<g class=\"edge\" id=\"edge5\">\n",
       "<title>3-&gt;2</title>\n",
       "<path d=\"M133.98,-4.08C126.1,-0.98 117.33,0.86 109,-0.86 106.34,-1.41 103.65,-2.13 100.97,-2.96\" fill=\"none\" stroke=\"black\"/>\n",
       "<polygon fill=\"black\" points=\"99.64,0.28 91.42,-6.4 102.02,-6.3 99.64,0.28\" stroke=\"black\"/>\n",
       "<text font-family=\"Times,serif\" font-size=\"14.00\" text-anchor=\"middle\" x=\"112.5\" y=\"-4.66\">b</text>\n",
       "</g>\n",
       "</g>\n",
       "</svg>"
      ],
      "text/plain": [
       "<IPython.core.display.SVG object>"
      ]
     },
     "metadata": {},
     "output_type": "display_data"
    }
   ],
   "source": [
    "Ae = A.allow_eps_transition()\n",
    "Ae.display()"
   ]
  },
  {
   "cell_type": "markdown",
   "metadata": {},
   "source": [
    "---\n",
    "Adding an epsilon transition using the specific function."
   ]
  },
  {
   "cell_type": "code",
   "execution_count": 12,
   "metadata": {},
   "outputs": [
    {
     "data": {
      "image/svg+xml": [
       "<svg height=\"80pt\" viewBox=\"0.00 0.00 251.00 79.69\" width=\"251pt\" xmlns=\"http://www.w3.org/2000/svg\" xmlns:xlink=\"http://www.w3.org/1999/xlink\">\n",
       "<g class=\"graph\" id=\"graph0\" transform=\"scale(1 1) rotate(0) translate(4 75.69)\">\n",
       "<title>%3</title>\n",
       "<polygon fill=\"white\" points=\"-4,4 -4,-75.69 247,-75.69 247,4 -4,4\" stroke=\"transparent\"/>\n",
       "<!-- I2 -->\n",
       "<g class=\"node\" id=\"node1\">\n",
       "<title>I2</title>\n",
       "<ellipse cx=\"0\" cy=\"-20.69\" fill=\"black\" rx=\"0\" ry=\"0\" stroke=\"black\"/>\n",
       "</g>\n",
       "<!-- 2 -->\n",
       "<g class=\"node\" id=\"node3\">\n",
       "<title>2</title>\n",
       "<path d=\"M79,-38.69C79,-38.69 49,-38.69 49,-38.69 43,-38.69 37,-32.69 37,-26.69 37,-26.69 37,-14.69 37,-14.69 37,-8.69 43,-2.69 49,-2.69 49,-2.69 79,-2.69 79,-2.69 85,-2.69 91,-8.69 91,-14.69 91,-14.69 91,-26.69 91,-26.69 91,-32.69 85,-38.69 79,-38.69\" fill=\"none\" stroke=\"black\"/>\n",
       "<text font-family=\"Times,serif\" font-size=\"14.00\" text-anchor=\"middle\" x=\"64\" y=\"-16.99\">$0</text>\n",
       "</g>\n",
       "<!-- I2&#45;&gt;2 -->\n",
       "<g class=\"edge\" id=\"edge1\">\n",
       "<title>I2-&gt;2</title>\n",
       "<path d=\"M1.04,-20.69C1.86,-20.69 13.73,-20.69 26.87,-20.69\" fill=\"none\" stroke=\"DimGray\"/>\n",
       "<polygon fill=\"DimGray\" points=\"27,-24.19 37,-20.69 27,-17.19 27,-24.19\" stroke=\"DimGray\"/>\n",
       "</g>\n",
       "<!-- F3 -->\n",
       "<g class=\"node\" id=\"node2\">\n",
       "<title>F3</title>\n",
       "<ellipse cx=\"243\" cy=\"-20.69\" fill=\"black\" rx=\"0\" ry=\"0\" stroke=\"black\"/>\n",
       "</g>\n",
       "<!-- 2&#45;&gt;2 -->\n",
       "<g class=\"edge\" id=\"edge2\">\n",
       "<title>2-&gt;2</title>\n",
       "<path d=\"M56.04,-38.84C54.82,-48.23 57.47,-56.69 64,-56.69 67.98,-56.69 70.52,-53.54 71.62,-48.97\" fill=\"none\" stroke=\"black\"/>\n",
       "<polygon fill=\"black\" points=\"75.12,-48.95 71.96,-38.84 68.13,-48.72 75.12,-48.95\" stroke=\"black\"/>\n",
       "<text font-family=\"Times,serif\" font-size=\"14.00\" text-anchor=\"middle\" x=\"64\" y=\"-60.49\">b</text>\n",
       "</g>\n",
       "<!-- 3 -->\n",
       "<g class=\"node\" id=\"node4\">\n",
       "<title>3</title>\n",
       "<path d=\"M194,-38.69C194,-38.69 164,-38.69 164,-38.69 158,-38.69 152,-32.69 152,-26.69 152,-26.69 152,-14.69 152,-14.69 152,-8.69 158,-2.69 164,-2.69 164,-2.69 194,-2.69 194,-2.69 200,-2.69 206,-8.69 206,-14.69 206,-14.69 206,-26.69 206,-26.69 206,-32.69 200,-38.69 194,-38.69\" fill=\"none\" stroke=\"black\"/>\n",
       "<text font-family=\"Times,serif\" font-size=\"14.00\" text-anchor=\"middle\" x=\"179\" y=\"-16.99\">$1</text>\n",
       "</g>\n",
       "<!-- 2&#45;&gt;3 -->\n",
       "<g class=\"edge\" id=\"edge3\">\n",
       "<title>2-&gt;3</title>\n",
       "<path d=\"M91.21,-20.69C106.18,-20.69 125.19,-20.69 141.6,-20.69\" fill=\"none\" stroke=\"black\"/>\n",
       "<polygon fill=\"black\" points=\"141.93,-24.19 151.93,-20.69 141.93,-17.19 141.93,-24.19\" stroke=\"black\"/>\n",
       "<text font-family=\"Times,serif\" font-size=\"14.00\" text-anchor=\"middle\" x=\"121.5\" y=\"-24.49\">a</text>\n",
       "</g>\n",
       "<!-- 3&#45;&gt;F3 -->\n",
       "<g class=\"edge\" id=\"edge4\">\n",
       "<title>3-&gt;F3</title>\n",
       "<path d=\"M206.29,-20.69C215.25,-20.69 224.73,-20.69 231.68,-20.69\" fill=\"none\" stroke=\"DimGray\"/>\n",
       "<polygon fill=\"DimGray\" points=\"231.95,-24.19 241.95,-20.69 231.95,-17.19 231.95,-24.19\" stroke=\"DimGray\"/>\n",
       "</g>\n",
       "<!-- 3&#45;&gt;2 -->\n",
       "<g class=\"edge\" id=\"edge5\">\n",
       "<title>3-&gt;2</title>\n",
       "<path d=\"M151.58,-7.23C145.91,-4.93 139.87,-2.9 134,-1.69 123.12,0.56 119.88,0.56 109,-1.69 106.34,-2.24 103.65,-2.95 100.97,-3.79\" fill=\"none\" stroke=\"black\"/>\n",
       "<polygon fill=\"black\" points=\"99.64,-0.54 91.42,-7.23 102.02,-7.13 99.64,-0.54\" stroke=\"black\"/>\n",
       "<text font-family=\"Times,serif\" font-size=\"14.00\" text-anchor=\"middle\" x=\"121.5\" y=\"-5.49\">\\e, b</text>\n",
       "</g>\n",
       "</g>\n",
       "</svg>"
      ],
      "text/plain": [
       "<IPython.core.display.SVG object>"
      ]
     },
     "metadata": {},
     "output_type": "display_data"
    }
   ],
   "source": [
    "tr_3 = Ae.set_eps_transition(stt_1,stt_0)\n",
    "Ae.display()"
   ]
  },
  {
   "cell_type": "markdown",
   "metadata": {},
   "source": [
    "Epsilon transition is represented by the string `\"\\e\"`.\n",
    "\n",
    "(*NB: the `'\\'` must be escaped by a preceding `'\\'`*)\n",
    "\n",
    "---\n",
    "Adding an epsilon-transition using the general function."
   ]
  },
  {
   "cell_type": "code",
   "execution_count": 13,
   "metadata": {},
   "outputs": [
    {
     "data": {
      "text/plain": [
       "6"
      ]
     },
     "execution_count": 13,
     "metadata": {},
     "output_type": "execute_result"
    }
   ],
   "source": [
    "Ae.set_transition(stt_1,stt_1,\"\\\\e\")"
   ]
  },
  {
   "cell_type": "markdown",
   "metadata": {},
   "source": [
    "For convenience we also allow `\"\"` as input to mean epsilon."
   ]
  },
  {
   "cell_type": "code",
   "execution_count": 14,
   "metadata": {},
   "outputs": [
    {
     "data": {
      "text/plain": [
       "7"
      ]
     },
     "execution_count": 14,
     "metadata": {},
     "output_type": "execute_result"
    }
   ],
   "source": [
    "Ae.set_transition(stt_0,stt_0,\"\")"
   ]
  },
  {
   "cell_type": "markdown",
   "metadata": {},
   "source": [
    "---\n",
    "Resulting automaton:"
   ]
  },
  {
   "cell_type": "code",
   "execution_count": 15,
   "metadata": {},
   "outputs": [
    {
     "data": {
      "image/svg+xml": [
       "<svg height=\"80pt\" viewBox=\"0.00 0.00 251.00 79.69\" width=\"251pt\" xmlns=\"http://www.w3.org/2000/svg\" xmlns:xlink=\"http://www.w3.org/1999/xlink\">\n",
       "<g class=\"graph\" id=\"graph0\" transform=\"scale(1 1) rotate(0) translate(4 75.69)\">\n",
       "<title>%3</title>\n",
       "<polygon fill=\"white\" points=\"-4,4 -4,-75.69 247,-75.69 247,4 -4,4\" stroke=\"transparent\"/>\n",
       "<!-- I2 -->\n",
       "<g class=\"node\" id=\"node1\">\n",
       "<title>I2</title>\n",
       "<ellipse cx=\"0\" cy=\"-20.69\" fill=\"black\" rx=\"0\" ry=\"0\" stroke=\"black\"/>\n",
       "</g>\n",
       "<!-- 2 -->\n",
       "<g class=\"node\" id=\"node3\">\n",
       "<title>2</title>\n",
       "<path d=\"M79,-38.69C79,-38.69 49,-38.69 49,-38.69 43,-38.69 37,-32.69 37,-26.69 37,-26.69 37,-14.69 37,-14.69 37,-8.69 43,-2.69 49,-2.69 49,-2.69 79,-2.69 79,-2.69 85,-2.69 91,-8.69 91,-14.69 91,-14.69 91,-26.69 91,-26.69 91,-32.69 85,-38.69 79,-38.69\" fill=\"none\" stroke=\"black\"/>\n",
       "<text font-family=\"Times,serif\" font-size=\"14.00\" text-anchor=\"middle\" x=\"64\" y=\"-16.99\">$0</text>\n",
       "</g>\n",
       "<!-- I2&#45;&gt;2 -->\n",
       "<g class=\"edge\" id=\"edge1\">\n",
       "<title>I2-&gt;2</title>\n",
       "<path d=\"M1.04,-20.69C1.86,-20.69 13.73,-20.69 26.87,-20.69\" fill=\"none\" stroke=\"DimGray\"/>\n",
       "<polygon fill=\"DimGray\" points=\"27,-24.19 37,-20.69 27,-17.19 27,-24.19\" stroke=\"DimGray\"/>\n",
       "</g>\n",
       "<!-- F3 -->\n",
       "<g class=\"node\" id=\"node2\">\n",
       "<title>F3</title>\n",
       "<ellipse cx=\"243\" cy=\"-20.69\" fill=\"black\" rx=\"0\" ry=\"0\" stroke=\"black\"/>\n",
       "</g>\n",
       "<!-- 2&#45;&gt;2 -->\n",
       "<g class=\"edge\" id=\"edge2\">\n",
       "<title>2-&gt;2</title>\n",
       "<path d=\"M56.04,-38.84C54.82,-48.23 57.47,-56.69 64,-56.69 67.98,-56.69 70.52,-53.54 71.62,-48.97\" fill=\"none\" stroke=\"black\"/>\n",
       "<polygon fill=\"black\" points=\"75.12,-48.95 71.96,-38.84 68.13,-48.72 75.12,-48.95\" stroke=\"black\"/>\n",
       "<text font-family=\"Times,serif\" font-size=\"14.00\" text-anchor=\"middle\" x=\"64\" y=\"-60.49\">\\e, b</text>\n",
       "</g>\n",
       "<!-- 3 -->\n",
       "<g class=\"node\" id=\"node4\">\n",
       "<title>3</title>\n",
       "<path d=\"M194,-38.69C194,-38.69 164,-38.69 164,-38.69 158,-38.69 152,-32.69 152,-26.69 152,-26.69 152,-14.69 152,-14.69 152,-8.69 158,-2.69 164,-2.69 164,-2.69 194,-2.69 194,-2.69 200,-2.69 206,-8.69 206,-14.69 206,-14.69 206,-26.69 206,-26.69 206,-32.69 200,-38.69 194,-38.69\" fill=\"none\" stroke=\"black\"/>\n",
       "<text font-family=\"Times,serif\" font-size=\"14.00\" text-anchor=\"middle\" x=\"179\" y=\"-16.99\">$1</text>\n",
       "</g>\n",
       "<!-- 2&#45;&gt;3 -->\n",
       "<g class=\"edge\" id=\"edge3\">\n",
       "<title>2-&gt;3</title>\n",
       "<path d=\"M91.21,-20.69C106.18,-20.69 125.19,-20.69 141.6,-20.69\" fill=\"none\" stroke=\"black\"/>\n",
       "<polygon fill=\"black\" points=\"141.93,-24.19 151.93,-20.69 141.93,-17.19 141.93,-24.19\" stroke=\"black\"/>\n",
       "<text font-family=\"Times,serif\" font-size=\"14.00\" text-anchor=\"middle\" x=\"121.5\" y=\"-24.49\">a</text>\n",
       "</g>\n",
       "<!-- 3&#45;&gt;F3 -->\n",
       "<g class=\"edge\" id=\"edge4\">\n",
       "<title>3-&gt;F3</title>\n",
       "<path d=\"M206.29,-20.69C215.25,-20.69 224.73,-20.69 231.68,-20.69\" fill=\"none\" stroke=\"DimGray\"/>\n",
       "<polygon fill=\"DimGray\" points=\"231.95,-24.19 241.95,-20.69 231.95,-17.19 231.95,-24.19\" stroke=\"DimGray\"/>\n",
       "</g>\n",
       "<!-- 3&#45;&gt;2 -->\n",
       "<g class=\"edge\" id=\"edge5\">\n",
       "<title>3-&gt;2</title>\n",
       "<path d=\"M151.58,-7.23C145.91,-4.93 139.87,-2.9 134,-1.69 123.12,0.56 119.88,0.56 109,-1.69 106.34,-2.24 103.65,-2.95 100.97,-3.79\" fill=\"none\" stroke=\"black\"/>\n",
       "<polygon fill=\"black\" points=\"99.64,-0.54 91.42,-7.23 102.02,-7.13 99.64,-0.54\" stroke=\"black\"/>\n",
       "<text font-family=\"Times,serif\" font-size=\"14.00\" text-anchor=\"middle\" x=\"121.5\" y=\"-5.49\">\\e, b</text>\n",
       "</g>\n",
       "<!-- 3&#45;&gt;3 -->\n",
       "<g class=\"edge\" id=\"edge6\">\n",
       "<title>3-&gt;3</title>\n",
       "<path d=\"M171.04,-38.84C169.82,-48.23 172.47,-56.69 179,-56.69 182.98,-56.69 185.52,-53.54 186.62,-48.97\" fill=\"none\" stroke=\"black\"/>\n",
       "<polygon fill=\"black\" points=\"190.12,-48.95 186.96,-38.84 183.13,-48.72 190.12,-48.95\" stroke=\"black\"/>\n",
       "<text font-family=\"Times,serif\" font-size=\"14.00\" text-anchor=\"middle\" x=\"179\" y=\"-60.49\">\\e</text>\n",
       "</g>\n",
       "</g>\n",
       "</svg>"
      ],
      "text/plain": [
       "<IPython.core.display.SVG object>"
      ]
     },
     "metadata": {},
     "output_type": "display_data"
    }
   ],
   "source": [
    "Ae.display()"
   ]
  },
  {
   "cell_type": "markdown",
   "metadata": {},
   "source": [
    "## Deleting edges and states"
   ]
  },
  {
   "cell_type": "markdown",
   "metadata": {},
   "source": [
    "Let us consider the automaton `A`."
   ]
  },
  {
   "cell_type": "code",
   "execution_count": 16,
   "metadata": {},
   "outputs": [
    {
     "data": {
      "image/svg+xml": [
       "<svg height=\"79pt\" viewBox=\"0.00 0.00 233.00 78.86\" width=\"233pt\" xmlns=\"http://www.w3.org/2000/svg\" xmlns:xlink=\"http://www.w3.org/1999/xlink\">\n",
       "<g class=\"graph\" id=\"graph0\" transform=\"scale(1 1) rotate(0) translate(4 74.86)\">\n",
       "<title>%3</title>\n",
       "<polygon fill=\"white\" points=\"-4,4 -4,-74.86 229,-74.86 229,4 -4,4\" stroke=\"transparent\"/>\n",
       "<!-- I2 -->\n",
       "<g class=\"node\" id=\"node1\">\n",
       "<title>I2</title>\n",
       "<ellipse cx=\"0\" cy=\"-19.86\" fill=\"black\" rx=\"0\" ry=\"0\" stroke=\"black\"/>\n",
       "</g>\n",
       "<!-- 2 -->\n",
       "<g class=\"node\" id=\"node3\">\n",
       "<title>2</title>\n",
       "<path d=\"M79,-37.86C79,-37.86 49,-37.86 49,-37.86 43,-37.86 37,-31.86 37,-25.86 37,-25.86 37,-13.86 37,-13.86 37,-7.86 43,-1.86 49,-1.86 49,-1.86 79,-1.86 79,-1.86 85,-1.86 91,-7.86 91,-13.86 91,-13.86 91,-25.86 91,-25.86 91,-31.86 85,-37.86 79,-37.86\" fill=\"none\" stroke=\"black\"/>\n",
       "<text font-family=\"Times,serif\" font-size=\"14.00\" text-anchor=\"middle\" x=\"64\" y=\"-16.16\">$0</text>\n",
       "</g>\n",
       "<!-- I2&#45;&gt;2 -->\n",
       "<g class=\"edge\" id=\"edge1\">\n",
       "<title>I2-&gt;2</title>\n",
       "<path d=\"M1.04,-19.86C1.86,-19.86 13.73,-19.86 26.87,-19.86\" fill=\"none\" stroke=\"DimGray\"/>\n",
       "<polygon fill=\"DimGray\" points=\"27,-23.36 37,-19.86 27,-16.36 27,-23.36\" stroke=\"DimGray\"/>\n",
       "</g>\n",
       "<!-- F3 -->\n",
       "<g class=\"node\" id=\"node2\">\n",
       "<title>F3</title>\n",
       "<ellipse cx=\"225\" cy=\"-19.86\" fill=\"black\" rx=\"0\" ry=\"0\" stroke=\"black\"/>\n",
       "</g>\n",
       "<!-- 2&#45;&gt;2 -->\n",
       "<g class=\"edge\" id=\"edge2\">\n",
       "<title>2-&gt;2</title>\n",
       "<path d=\"M56.04,-38.01C54.82,-47.4 57.47,-55.86 64,-55.86 67.98,-55.86 70.52,-52.72 71.62,-48.14\" fill=\"none\" stroke=\"black\"/>\n",
       "<polygon fill=\"black\" points=\"75.12,-48.13 71.96,-38.01 68.13,-47.89 75.12,-48.13\" stroke=\"black\"/>\n",
       "<text font-family=\"Times,serif\" font-size=\"14.00\" text-anchor=\"middle\" x=\"64\" y=\"-59.66\">b</text>\n",
       "</g>\n",
       "<!-- 3 -->\n",
       "<g class=\"node\" id=\"node4\">\n",
       "<title>3</title>\n",
       "<path d=\"M176,-37.86C176,-37.86 146,-37.86 146,-37.86 140,-37.86 134,-31.86 134,-25.86 134,-25.86 134,-13.86 134,-13.86 134,-7.86 140,-1.86 146,-1.86 146,-1.86 176,-1.86 176,-1.86 182,-1.86 188,-7.86 188,-13.86 188,-13.86 188,-25.86 188,-25.86 188,-31.86 182,-37.86 176,-37.86\" fill=\"none\" stroke=\"black\"/>\n",
       "<text font-family=\"Times,serif\" font-size=\"14.00\" text-anchor=\"middle\" x=\"161\" y=\"-16.16\">$1</text>\n",
       "</g>\n",
       "<!-- 2&#45;&gt;3 -->\n",
       "<g class=\"edge\" id=\"edge3\">\n",
       "<title>2-&gt;3</title>\n",
       "<path d=\"M91.21,-19.86C101.28,-19.86 112.96,-19.86 123.81,-19.86\" fill=\"none\" stroke=\"black\"/>\n",
       "<polygon fill=\"black\" points=\"123.87,-23.36 133.87,-19.86 123.87,-16.36 123.87,-23.36\" stroke=\"black\"/>\n",
       "<text font-family=\"Times,serif\" font-size=\"14.00\" text-anchor=\"middle\" x=\"112.5\" y=\"-23.66\">a</text>\n",
       "</g>\n",
       "<!-- 3&#45;&gt;F3 -->\n",
       "<g class=\"edge\" id=\"edge4\">\n",
       "<title>3-&gt;F3</title>\n",
       "<path d=\"M188.29,-19.86C197.25,-19.86 206.73,-19.86 213.68,-19.86\" fill=\"none\" stroke=\"DimGray\"/>\n",
       "<polygon fill=\"DimGray\" points=\"213.95,-23.36 223.95,-19.86 213.95,-16.36 213.95,-23.36\" stroke=\"DimGray\"/>\n",
       "</g>\n",
       "<!-- 3&#45;&gt;2 -->\n",
       "<g class=\"edge\" id=\"edge5\">\n",
       "<title>3-&gt;2</title>\n",
       "<path d=\"M133.98,-4.08C126.1,-0.98 117.33,0.86 109,-0.86 106.34,-1.41 103.65,-2.13 100.97,-2.96\" fill=\"none\" stroke=\"black\"/>\n",
       "<polygon fill=\"black\" points=\"99.64,0.28 91.42,-6.4 102.02,-6.3 99.64,0.28\" stroke=\"black\"/>\n",
       "<text font-family=\"Times,serif\" font-size=\"14.00\" text-anchor=\"middle\" x=\"112.5\" y=\"-4.66\">b</text>\n",
       "</g>\n",
       "</g>\n",
       "</svg>"
      ],
      "text/plain": [
       "<IPython.core.display.SVG object>"
      ]
     },
     "metadata": {},
     "output_type": "display_data"
    }
   ],
   "source": [
    "A.display()"
   ]
  },
  {
   "cell_type": "markdown",
   "metadata": {},
   "source": [
    "---\n",
    "First we add a bunch of states and transitions"
   ]
  },
  {
   "cell_type": "code",
   "execution_count": 17,
   "metadata": {},
   "outputs": [
    {
     "data": {
      "image/svg+xml": [
       "<svg height=\"135pt\" viewBox=\"0.00 0.00 307.00 135.28\" width=\"307pt\" xmlns=\"http://www.w3.org/2000/svg\" xmlns:xlink=\"http://www.w3.org/1999/xlink\">\n",
       "<g class=\"graph\" id=\"graph0\" transform=\"scale(1 1) rotate(0) translate(4 131.28)\">\n",
       "<title>%3</title>\n",
       "<polygon fill=\"white\" points=\"-4,4 -4,-131.28 303,-131.28 303,4 -4,4\" stroke=\"transparent\"/>\n",
       "<!-- I2 -->\n",
       "<g class=\"node\" id=\"node1\">\n",
       "<title>I2</title>\n",
       "<ellipse cx=\"0\" cy=\"-21.28\" fill=\"black\" rx=\"0\" ry=\"0\" stroke=\"black\"/>\n",
       "</g>\n",
       "<!-- 2 -->\n",
       "<g class=\"node\" id=\"node3\">\n",
       "<title>2</title>\n",
       "<path d=\"M79,-39.28C79,-39.28 49,-39.28 49,-39.28 43,-39.28 37,-33.28 37,-27.28 37,-27.28 37,-15.28 37,-15.28 37,-9.28 43,-3.28 49,-3.28 49,-3.28 79,-3.28 79,-3.28 85,-3.28 91,-9.28 91,-15.28 91,-15.28 91,-27.28 91,-27.28 91,-33.28 85,-39.28 79,-39.28\" fill=\"none\" stroke=\"black\"/>\n",
       "<text font-family=\"Times,serif\" font-size=\"14.00\" text-anchor=\"middle\" x=\"64\" y=\"-17.58\">$0</text>\n",
       "</g>\n",
       "<!-- I2&#45;&gt;2 -->\n",
       "<g class=\"edge\" id=\"edge1\">\n",
       "<title>I2-&gt;2</title>\n",
       "<path d=\"M1.04,-21.28C1.86,-21.28 13.73,-21.28 26.87,-21.28\" fill=\"none\" stroke=\"DimGray\"/>\n",
       "<polygon fill=\"DimGray\" points=\"27,-24.78 37,-21.28 27,-17.78 27,-24.78\" stroke=\"DimGray\"/>\n",
       "</g>\n",
       "<!-- F3 -->\n",
       "<g class=\"node\" id=\"node2\">\n",
       "<title>F3</title>\n",
       "<ellipse cx=\"272\" cy=\"-106.28\" fill=\"black\" rx=\"0\" ry=\"0\" stroke=\"black\"/>\n",
       "</g>\n",
       "<!-- 2&#45;&gt;2 -->\n",
       "<g class=\"edge\" id=\"edge2\">\n",
       "<title>2-&gt;2</title>\n",
       "<path d=\"M56.04,-39.43C54.82,-48.82 57.47,-57.28 64,-57.28 67.98,-57.28 70.52,-54.14 71.62,-49.56\" fill=\"none\" stroke=\"black\"/>\n",
       "<polygon fill=\"black\" points=\"75.12,-49.55 71.96,-39.43 68.13,-49.31 75.12,-49.55\" stroke=\"black\"/>\n",
       "<text font-family=\"Times,serif\" font-size=\"14.00\" text-anchor=\"middle\" x=\"64\" y=\"-61.08\">b</text>\n",
       "</g>\n",
       "<!-- 3 -->\n",
       "<g class=\"node\" id=\"node4\">\n",
       "<title>3</title>\n",
       "<path d=\"M176,-94.28C176,-94.28 146,-94.28 146,-94.28 140,-94.28 134,-88.28 134,-82.28 134,-82.28 134,-70.28 134,-70.28 134,-64.28 140,-58.28 146,-58.28 146,-58.28 176,-58.28 176,-58.28 182,-58.28 188,-64.28 188,-70.28 188,-70.28 188,-82.28 188,-82.28 188,-88.28 182,-94.28 176,-94.28\" fill=\"none\" stroke=\"black\"/>\n",
       "<text font-family=\"Times,serif\" font-size=\"14.00\" text-anchor=\"middle\" x=\"161\" y=\"-72.58\">$1</text>\n",
       "</g>\n",
       "<!-- 2&#45;&gt;3 -->\n",
       "<g class=\"edge\" id=\"edge3\">\n",
       "<title>2-&gt;3</title>\n",
       "<path d=\"M87.13,-39.48C93.92,-44.61 101.57,-49.97 109,-54.28 113.9,-57.12 119.24,-59.82 124.55,-62.29\" fill=\"none\" stroke=\"black\"/>\n",
       "<polygon fill=\"black\" points=\"123.44,-65.62 134,-66.46 126.27,-59.22 123.44,-65.62\" stroke=\"black\"/>\n",
       "<text font-family=\"Times,serif\" font-size=\"14.00\" text-anchor=\"middle\" x=\"112.5\" y=\"-61.08\">a</text>\n",
       "</g>\n",
       "<!-- 4 -->\n",
       "<g class=\"node\" id=\"node5\">\n",
       "<title>4</title>\n",
       "<path d=\"M287,-39.28C287,-39.28 257,-39.28 257,-39.28 251,-39.28 245,-33.28 245,-27.28 245,-27.28 245,-15.28 245,-15.28 245,-9.28 251,-3.28 257,-3.28 257,-3.28 287,-3.28 287,-3.28 293,-3.28 299,-9.28 299,-15.28 299,-15.28 299,-27.28 299,-27.28 299,-33.28 293,-39.28 287,-39.28\" fill=\"none\" stroke=\"black\"/>\n",
       "<text font-family=\"Times,serif\" font-size=\"14.00\" text-anchor=\"middle\" x=\"272\" y=\"-17.58\">$2</text>\n",
       "</g>\n",
       "<!-- 2&#45;&gt;4 -->\n",
       "<g class=\"edge\" id=\"edge4\">\n",
       "<title>2-&gt;4</title>\n",
       "<path d=\"M91.09,-21.28C127.44,-21.28 193.49,-21.28 234.65,-21.28\" fill=\"none\" stroke=\"black\"/>\n",
       "<polygon fill=\"black\" points=\"234.8,-24.78 244.8,-21.28 234.8,-17.78 234.8,-24.78\" stroke=\"black\"/>\n",
       "<text font-family=\"Times,serif\" font-size=\"14.00\" text-anchor=\"middle\" x=\"161\" y=\"-25.08\">a</text>\n",
       "</g>\n",
       "<!-- 3&#45;&gt;F3 -->\n",
       "<g class=\"edge\" id=\"edge5\">\n",
       "<title>3-&gt;F3</title>\n",
       "<path d=\"M188.33,-86.52C194.11,-88.58 200.22,-90.62 206,-92.28 225.13,-97.79 247.98,-102.23 260.86,-104.54\" fill=\"none\" stroke=\"DimGray\"/>\n",
       "<polygon fill=\"DimGray\" points=\"260.45,-108.02 270.89,-106.26 261.63,-101.12 260.45,-108.02\" stroke=\"DimGray\"/>\n",
       "</g>\n",
       "<!-- 3&#45;&gt;2 -->\n",
       "<g class=\"edge\" id=\"edge6\">\n",
       "<title>3-&gt;2</title>\n",
       "<path d=\"M144.4,-58.2C136.6,-50.15 126.58,-41.18 116,-35.28 111.36,-32.69 106.21,-30.56 101.02,-28.8\" fill=\"none\" stroke=\"black\"/>\n",
       "<polygon fill=\"black\" points=\"101.69,-25.35 91.1,-25.88 99.71,-32.07 101.69,-25.35\" stroke=\"black\"/>\n",
       "<text font-family=\"Times,serif\" font-size=\"14.00\" text-anchor=\"middle\" x=\"112.5\" y=\"-39.08\">b</text>\n",
       "</g>\n",
       "<!-- 3&#45;&gt;3 -->\n",
       "<g class=\"edge\" id=\"edge7\">\n",
       "<title>3-&gt;3</title>\n",
       "<path d=\"M152.32,-94.43C150.98,-103.82 153.88,-112.28 161,-112.28 165.34,-112.28 168.11,-109.14 169.31,-104.56\" fill=\"none\" stroke=\"black\"/>\n",
       "<polygon fill=\"black\" points=\"172.82,-104.56 169.68,-94.43 165.82,-104.3 172.82,-104.56\" stroke=\"black\"/>\n",
       "<text font-family=\"Times,serif\" font-size=\"14.00\" text-anchor=\"middle\" x=\"161\" y=\"-116.08\">a</text>\n",
       "</g>\n",
       "<!-- 3&#45;&gt;4 -->\n",
       "<g class=\"edge\" id=\"edge8\">\n",
       "<title>3-&gt;4</title>\n",
       "<path d=\"M188.09,-69.52C200.28,-65.84 214.77,-60.72 227,-54.28 231.86,-51.72 236.75,-48.65 241.42,-45.42\" fill=\"none\" stroke=\"black\"/>\n",
       "<polygon fill=\"black\" points=\"243.51,-48.23 249.53,-39.52 239.39,-42.57 243.51,-48.23\" stroke=\"black\"/>\n",
       "<text font-family=\"Times,serif\" font-size=\"14.00\" text-anchor=\"middle\" x=\"216.5\" y=\"-67.08\">a, b</text>\n",
       "</g>\n",
       "<!-- 4&#45;&gt;2 -->\n",
       "<g class=\"edge\" id=\"edge9\">\n",
       "<title>4-&gt;2</title>\n",
       "<path d=\"M244.72,-13.67C228.53,-9.38 207.24,-4.46 188,-2.28 164.15,0.41 157.78,0.93 134,-2.28 123.08,-3.76 111.45,-6.49 100.91,-9.43\" fill=\"none\" stroke=\"black\"/>\n",
       "<polygon fill=\"black\" points=\"99.8,-6.11 91.19,-12.28 101.78,-12.82 99.8,-6.11\" stroke=\"black\"/>\n",
       "<text font-family=\"Times,serif\" font-size=\"14.00\" text-anchor=\"middle\" x=\"161\" y=\"-6.08\">b</text>\n",
       "</g>\n",
       "<!-- 4&#45;&gt;3 -->\n",
       "<g class=\"edge\" id=\"edge10\">\n",
       "<title>4-&gt;3</title>\n",
       "<path d=\"M244.91,-23.65C232.58,-25.57 217.97,-29.03 206,-35.28 198.45,-39.22 191.25,-44.81 184.93,-50.6\" fill=\"none\" stroke=\"black\"/>\n",
       "<polygon fill=\"black\" points=\"182.14,-48.44 177.45,-57.94 187.04,-53.44 182.14,-48.44\" stroke=\"black\"/>\n",
       "<text font-family=\"Times,serif\" font-size=\"14.00\" text-anchor=\"middle\" x=\"216.5\" y=\"-39.08\">a</text>\n",
       "</g>\n",
       "<!-- 4&#45;&gt;4 -->\n",
       "<g class=\"edge\" id=\"edge11\">\n",
       "<title>4-&gt;4</title>\n",
       "<path d=\"M262.23,-39.43C260.73,-48.82 263.98,-57.28 272,-57.28 276.88,-57.28 280,-54.14 281.35,-49.56\" fill=\"none\" stroke=\"black\"/>\n",
       "<polygon fill=\"black\" points=\"284.85,-49.57 281.77,-39.43 277.86,-49.28 284.85,-49.57\" stroke=\"black\"/>\n",
       "<text font-family=\"Times,serif\" font-size=\"14.00\" text-anchor=\"middle\" x=\"272\" y=\"-61.08\">b</text>\n",
       "</g>\n",
       "</g>\n",
       "</svg>"
      ],
      "text/plain": [
       "<IPython.core.display.SVG object>"
      ]
     },
     "metadata": {},
     "output_type": "display_data"
    }
   ],
   "source": [
    "stt_2 = A.add_state()\n",
    "tr_3 = A.set_transition(stt_1,stt_1,'a')\n",
    "# Not recording ids of transitions any further\n",
    "A.set_transition(stt_2,stt_2,'b')\n",
    "A.set_transition(stt_0,stt_2,'a')\n",
    "A.set_transition(stt_2,stt_0,'b')\n",
    "A.set_transition(stt_1,stt_2,'b')\n",
    "A.set_transition(stt_1,stt_2,'a')\n",
    "A.set_transition(stt_2,stt_1,'a')\n",
    "A.display()"
   ]
  },
  {
   "cell_type": "markdown",
   "metadata": {},
   "source": [
    "---\n",
    "Deleting a transition by id"
   ]
  },
  {
   "cell_type": "code",
   "execution_count": 18,
   "metadata": {},
   "outputs": [
    {
     "data": {
      "image/svg+xml": [
       "<svg height=\"114pt\" viewBox=\"0.00 0.00 307.00 114.28\" width=\"307pt\" xmlns=\"http://www.w3.org/2000/svg\" xmlns:xlink=\"http://www.w3.org/1999/xlink\">\n",
       "<g class=\"graph\" id=\"graph0\" transform=\"scale(1 1) rotate(0) translate(4 110.28)\">\n",
       "<title>%3</title>\n",
       "<polygon fill=\"white\" points=\"-4,4 -4,-110.28 303,-110.28 303,4 -4,4\" stroke=\"transparent\"/>\n",
       "<!-- I2 -->\n",
       "<g class=\"node\" id=\"node1\">\n",
       "<title>I2</title>\n",
       "<ellipse cx=\"0\" cy=\"-21.28\" fill=\"black\" rx=\"0\" ry=\"0\" stroke=\"black\"/>\n",
       "</g>\n",
       "<!-- 2 -->\n",
       "<g class=\"node\" id=\"node3\">\n",
       "<title>2</title>\n",
       "<path d=\"M79,-39.28C79,-39.28 49,-39.28 49,-39.28 43,-39.28 37,-33.28 37,-27.28 37,-27.28 37,-15.28 37,-15.28 37,-9.28 43,-3.28 49,-3.28 49,-3.28 79,-3.28 79,-3.28 85,-3.28 91,-9.28 91,-15.28 91,-15.28 91,-27.28 91,-27.28 91,-33.28 85,-39.28 79,-39.28\" fill=\"none\" stroke=\"black\"/>\n",
       "<text font-family=\"Times,serif\" font-size=\"14.00\" text-anchor=\"middle\" x=\"64\" y=\"-17.58\">$0</text>\n",
       "</g>\n",
       "<!-- I2&#45;&gt;2 -->\n",
       "<g class=\"edge\" id=\"edge1\">\n",
       "<title>I2-&gt;2</title>\n",
       "<path d=\"M1.04,-21.28C1.86,-21.28 13.73,-21.28 26.87,-21.28\" fill=\"none\" stroke=\"DimGray\"/>\n",
       "<polygon fill=\"DimGray\" points=\"27,-24.78 37,-21.28 27,-17.78 27,-24.78\" stroke=\"DimGray\"/>\n",
       "</g>\n",
       "<!-- F3 -->\n",
       "<g class=\"node\" id=\"node2\">\n",
       "<title>F3</title>\n",
       "<ellipse cx=\"272\" cy=\"-106.28\" fill=\"black\" rx=\"0\" ry=\"0\" stroke=\"black\"/>\n",
       "</g>\n",
       "<!-- 2&#45;&gt;2 -->\n",
       "<g class=\"edge\" id=\"edge2\">\n",
       "<title>2-&gt;2</title>\n",
       "<path d=\"M56.04,-39.43C54.82,-48.82 57.47,-57.28 64,-57.28 67.98,-57.28 70.52,-54.14 71.62,-49.56\" fill=\"none\" stroke=\"black\"/>\n",
       "<polygon fill=\"black\" points=\"75.12,-49.55 71.96,-39.43 68.13,-49.31 75.12,-49.55\" stroke=\"black\"/>\n",
       "<text font-family=\"Times,serif\" font-size=\"14.00\" text-anchor=\"middle\" x=\"64\" y=\"-61.08\">b</text>\n",
       "</g>\n",
       "<!-- 3 -->\n",
       "<g class=\"node\" id=\"node4\">\n",
       "<title>3</title>\n",
       "<path d=\"M176,-94.28C176,-94.28 146,-94.28 146,-94.28 140,-94.28 134,-88.28 134,-82.28 134,-82.28 134,-70.28 134,-70.28 134,-64.28 140,-58.28 146,-58.28 146,-58.28 176,-58.28 176,-58.28 182,-58.28 188,-64.28 188,-70.28 188,-70.28 188,-82.28 188,-82.28 188,-88.28 182,-94.28 176,-94.28\" fill=\"none\" stroke=\"black\"/>\n",
       "<text font-family=\"Times,serif\" font-size=\"14.00\" text-anchor=\"middle\" x=\"161\" y=\"-72.58\">$1</text>\n",
       "</g>\n",
       "<!-- 2&#45;&gt;3 -->\n",
       "<g class=\"edge\" id=\"edge3\">\n",
       "<title>2-&gt;3</title>\n",
       "<path d=\"M87.13,-39.48C93.92,-44.61 101.57,-49.97 109,-54.28 113.9,-57.12 119.24,-59.82 124.55,-62.29\" fill=\"none\" stroke=\"black\"/>\n",
       "<polygon fill=\"black\" points=\"123.44,-65.62 134,-66.46 126.27,-59.22 123.44,-65.62\" stroke=\"black\"/>\n",
       "<text font-family=\"Times,serif\" font-size=\"14.00\" text-anchor=\"middle\" x=\"112.5\" y=\"-61.08\">a</text>\n",
       "</g>\n",
       "<!-- 4 -->\n",
       "<g class=\"node\" id=\"node5\">\n",
       "<title>4</title>\n",
       "<path d=\"M287,-39.28C287,-39.28 257,-39.28 257,-39.28 251,-39.28 245,-33.28 245,-27.28 245,-27.28 245,-15.28 245,-15.28 245,-9.28 251,-3.28 257,-3.28 257,-3.28 287,-3.28 287,-3.28 293,-3.28 299,-9.28 299,-15.28 299,-15.28 299,-27.28 299,-27.28 299,-33.28 293,-39.28 287,-39.28\" fill=\"none\" stroke=\"black\"/>\n",
       "<text font-family=\"Times,serif\" font-size=\"14.00\" text-anchor=\"middle\" x=\"272\" y=\"-17.58\">$2</text>\n",
       "</g>\n",
       "<!-- 2&#45;&gt;4 -->\n",
       "<g class=\"edge\" id=\"edge4\">\n",
       "<title>2-&gt;4</title>\n",
       "<path d=\"M91.09,-21.28C127.44,-21.28 193.49,-21.28 234.65,-21.28\" fill=\"none\" stroke=\"black\"/>\n",
       "<polygon fill=\"black\" points=\"234.8,-24.78 244.8,-21.28 234.8,-17.78 234.8,-24.78\" stroke=\"black\"/>\n",
       "<text font-family=\"Times,serif\" font-size=\"14.00\" text-anchor=\"middle\" x=\"161\" y=\"-25.08\">a</text>\n",
       "</g>\n",
       "<!-- 3&#45;&gt;F3 -->\n",
       "<g class=\"edge\" id=\"edge5\">\n",
       "<title>3-&gt;F3</title>\n",
       "<path d=\"M188.33,-86.52C194.11,-88.58 200.22,-90.62 206,-92.28 225.13,-97.79 247.98,-102.23 260.86,-104.54\" fill=\"none\" stroke=\"DimGray\"/>\n",
       "<polygon fill=\"DimGray\" points=\"260.45,-108.02 270.89,-106.26 261.63,-101.12 260.45,-108.02\" stroke=\"DimGray\"/>\n",
       "</g>\n",
       "<!-- 3&#45;&gt;2 -->\n",
       "<g class=\"edge\" id=\"edge6\">\n",
       "<title>3-&gt;2</title>\n",
       "<path d=\"M144.4,-58.2C136.6,-50.15 126.58,-41.18 116,-35.28 111.36,-32.69 106.21,-30.56 101.02,-28.8\" fill=\"none\" stroke=\"black\"/>\n",
       "<polygon fill=\"black\" points=\"101.69,-25.35 91.1,-25.88 99.71,-32.07 101.69,-25.35\" stroke=\"black\"/>\n",
       "<text font-family=\"Times,serif\" font-size=\"14.00\" text-anchor=\"middle\" x=\"112.5\" y=\"-39.08\">b</text>\n",
       "</g>\n",
       "<!-- 3&#45;&gt;4 -->\n",
       "<g class=\"edge\" id=\"edge7\">\n",
       "<title>3-&gt;4</title>\n",
       "<path d=\"M188.09,-69.52C200.28,-65.84 214.77,-60.72 227,-54.28 231.86,-51.72 236.75,-48.65 241.42,-45.42\" fill=\"none\" stroke=\"black\"/>\n",
       "<polygon fill=\"black\" points=\"243.51,-48.23 249.53,-39.52 239.39,-42.57 243.51,-48.23\" stroke=\"black\"/>\n",
       "<text font-family=\"Times,serif\" font-size=\"14.00\" text-anchor=\"middle\" x=\"216.5\" y=\"-67.08\">a, b</text>\n",
       "</g>\n",
       "<!-- 4&#45;&gt;2 -->\n",
       "<g class=\"edge\" id=\"edge8\">\n",
       "<title>4-&gt;2</title>\n",
       "<path d=\"M244.72,-13.67C228.53,-9.38 207.24,-4.46 188,-2.28 164.15,0.41 157.78,0.93 134,-2.28 123.08,-3.76 111.45,-6.49 100.91,-9.43\" fill=\"none\" stroke=\"black\"/>\n",
       "<polygon fill=\"black\" points=\"99.8,-6.11 91.19,-12.28 101.78,-12.82 99.8,-6.11\" stroke=\"black\"/>\n",
       "<text font-family=\"Times,serif\" font-size=\"14.00\" text-anchor=\"middle\" x=\"161\" y=\"-6.08\">b</text>\n",
       "</g>\n",
       "<!-- 4&#45;&gt;3 -->\n",
       "<g class=\"edge\" id=\"edge9\">\n",
       "<title>4-&gt;3</title>\n",
       "<path d=\"M244.91,-23.65C232.58,-25.57 217.97,-29.03 206,-35.28 198.45,-39.22 191.25,-44.81 184.93,-50.6\" fill=\"none\" stroke=\"black\"/>\n",
       "<polygon fill=\"black\" points=\"182.14,-48.44 177.45,-57.94 187.04,-53.44 182.14,-48.44\" stroke=\"black\"/>\n",
       "<text font-family=\"Times,serif\" font-size=\"14.00\" text-anchor=\"middle\" x=\"216.5\" y=\"-39.08\">a</text>\n",
       "</g>\n",
       "<!-- 4&#45;&gt;4 -->\n",
       "<g class=\"edge\" id=\"edge10\">\n",
       "<title>4-&gt;4</title>\n",
       "<path d=\"M262.23,-39.43C260.73,-48.82 263.98,-57.28 272,-57.28 276.88,-57.28 280,-54.14 281.35,-49.56\" fill=\"none\" stroke=\"black\"/>\n",
       "<polygon fill=\"black\" points=\"284.85,-49.57 281.77,-39.43 277.86,-49.28 284.85,-49.57\" stroke=\"black\"/>\n",
       "<text font-family=\"Times,serif\" font-size=\"14.00\" text-anchor=\"middle\" x=\"272\" y=\"-61.08\">b</text>\n",
       "</g>\n",
       "</g>\n",
       "</svg>"
      ],
      "text/plain": [
       "<IPython.core.display.SVG object>"
      ]
     },
     "metadata": {},
     "output_type": "display_data"
    }
   ],
   "source": [
    "A.del_transition(tr_3) # tr_3 is the transition: s2 --a--> s2\n",
    "A.display()"
   ]
  },
  {
   "cell_type": "markdown",
   "metadata": {},
   "source": [
    "---\n",
    "Deleting a transition by triplet (origin, destination, label)  "
   ]
  },
  {
   "cell_type": "code",
   "execution_count": 19,
   "metadata": {},
   "outputs": [
    {
     "data": {
      "image/svg+xml": [
       "<svg height=\"114pt\" viewBox=\"0.00 0.00 307.00 114.32\" width=\"307pt\" xmlns=\"http://www.w3.org/2000/svg\" xmlns:xlink=\"http://www.w3.org/1999/xlink\">\n",
       "<g class=\"graph\" id=\"graph0\" transform=\"scale(1 1) rotate(0) translate(4 110.32)\">\n",
       "<title>%3</title>\n",
       "<polygon fill=\"white\" points=\"-4,4 -4,-110.32 303,-110.32 303,4 -4,4\" stroke=\"transparent\"/>\n",
       "<!-- I2 -->\n",
       "<g class=\"node\" id=\"node1\">\n",
       "<title>I2</title>\n",
       "<ellipse cx=\"0\" cy=\"-21.32\" fill=\"black\" rx=\"0\" ry=\"0\" stroke=\"black\"/>\n",
       "</g>\n",
       "<!-- 2 -->\n",
       "<g class=\"node\" id=\"node3\">\n",
       "<title>2</title>\n",
       "<path d=\"M79,-39.32C79,-39.32 49,-39.32 49,-39.32 43,-39.32 37,-33.32 37,-27.32 37,-27.32 37,-15.32 37,-15.32 37,-9.32 43,-3.32 49,-3.32 49,-3.32 79,-3.32 79,-3.32 85,-3.32 91,-9.32 91,-15.32 91,-15.32 91,-27.32 91,-27.32 91,-33.32 85,-39.32 79,-39.32\" fill=\"none\" stroke=\"black\"/>\n",
       "<text font-family=\"Times,serif\" font-size=\"14.00\" text-anchor=\"middle\" x=\"64\" y=\"-17.62\">$0</text>\n",
       "</g>\n",
       "<!-- I2&#45;&gt;2 -->\n",
       "<g class=\"edge\" id=\"edge1\">\n",
       "<title>I2-&gt;2</title>\n",
       "<path d=\"M1.04,-21.32C1.86,-21.32 13.73,-21.32 26.87,-21.32\" fill=\"none\" stroke=\"DimGray\"/>\n",
       "<polygon fill=\"DimGray\" points=\"27,-24.82 37,-21.32 27,-17.82 27,-24.82\" stroke=\"DimGray\"/>\n",
       "</g>\n",
       "<!-- F3 -->\n",
       "<g class=\"node\" id=\"node2\">\n",
       "<title>F3</title>\n",
       "<ellipse cx=\"272\" cy=\"-106.32\" fill=\"black\" rx=\"0\" ry=\"0\" stroke=\"black\"/>\n",
       "</g>\n",
       "<!-- 2&#45;&gt;2 -->\n",
       "<g class=\"edge\" id=\"edge2\">\n",
       "<title>2-&gt;2</title>\n",
       "<path d=\"M56.04,-39.47C54.82,-48.85 57.47,-57.32 64,-57.32 67.98,-57.32 70.52,-54.17 71.62,-49.59\" fill=\"none\" stroke=\"black\"/>\n",
       "<polygon fill=\"black\" points=\"75.12,-49.58 71.96,-39.47 68.13,-49.34 75.12,-49.58\" stroke=\"black\"/>\n",
       "<text font-family=\"Times,serif\" font-size=\"14.00\" text-anchor=\"middle\" x=\"64\" y=\"-61.12\">b</text>\n",
       "</g>\n",
       "<!-- 3 -->\n",
       "<g class=\"node\" id=\"node4\">\n",
       "<title>3</title>\n",
       "<path d=\"M176,-94.32C176,-94.32 146,-94.32 146,-94.32 140,-94.32 134,-88.32 134,-82.32 134,-82.32 134,-70.32 134,-70.32 134,-64.32 140,-58.32 146,-58.32 146,-58.32 176,-58.32 176,-58.32 182,-58.32 188,-64.32 188,-70.32 188,-70.32 188,-82.32 188,-82.32 188,-88.32 182,-94.32 176,-94.32\" fill=\"none\" stroke=\"black\"/>\n",
       "<text font-family=\"Times,serif\" font-size=\"14.00\" text-anchor=\"middle\" x=\"161\" y=\"-72.62\">$1</text>\n",
       "</g>\n",
       "<!-- 2&#45;&gt;3 -->\n",
       "<g class=\"edge\" id=\"edge3\">\n",
       "<title>2-&gt;3</title>\n",
       "<path d=\"M87.13,-39.51C93.92,-44.65 101.57,-50 109,-54.32 113.9,-57.16 119.24,-59.85 124.55,-62.32\" fill=\"none\" stroke=\"black\"/>\n",
       "<polygon fill=\"black\" points=\"123.44,-65.65 134,-66.5 126.27,-59.25 123.44,-65.65\" stroke=\"black\"/>\n",
       "<text font-family=\"Times,serif\" font-size=\"14.00\" text-anchor=\"middle\" x=\"112.5\" y=\"-61.12\">a</text>\n",
       "</g>\n",
       "<!-- 4 -->\n",
       "<g class=\"node\" id=\"node5\">\n",
       "<title>4</title>\n",
       "<path d=\"M287,-40.32C287,-40.32 257,-40.32 257,-40.32 251,-40.32 245,-34.32 245,-28.32 245,-28.32 245,-16.32 245,-16.32 245,-10.32 251,-4.32 257,-4.32 257,-4.32 287,-4.32 287,-4.32 293,-4.32 299,-10.32 299,-16.32 299,-16.32 299,-28.32 299,-28.32 299,-34.32 293,-40.32 287,-40.32\" fill=\"none\" stroke=\"black\"/>\n",
       "<text font-family=\"Times,serif\" font-size=\"14.00\" text-anchor=\"middle\" x=\"272\" y=\"-18.62\">$2</text>\n",
       "</g>\n",
       "<!-- 2&#45;&gt;4 -->\n",
       "<g class=\"edge\" id=\"edge4\">\n",
       "<title>2-&gt;4</title>\n",
       "<path d=\"M91.09,-21.44C127.44,-21.62 193.49,-21.94 234.65,-22.14\" fill=\"none\" stroke=\"black\"/>\n",
       "<polygon fill=\"black\" points=\"234.78,-25.64 244.8,-22.19 234.81,-18.64 234.78,-25.64\" stroke=\"black\"/>\n",
       "<text font-family=\"Times,serif\" font-size=\"14.00\" text-anchor=\"middle\" x=\"161\" y=\"-25.12\">a</text>\n",
       "</g>\n",
       "<!-- 3&#45;&gt;F3 -->\n",
       "<g class=\"edge\" id=\"edge5\">\n",
       "<title>3-&gt;F3</title>\n",
       "<path d=\"M188.33,-86.55C194.11,-88.61 200.22,-90.65 206,-92.32 225.13,-97.82 247.98,-102.26 260.86,-104.58\" fill=\"none\" stroke=\"DimGray\"/>\n",
       "<polygon fill=\"DimGray\" points=\"260.45,-108.06 270.89,-106.3 261.63,-101.16 260.45,-108.06\" stroke=\"DimGray\"/>\n",
       "</g>\n",
       "<!-- 3&#45;&gt;2 -->\n",
       "<g class=\"edge\" id=\"edge6\">\n",
       "<title>3-&gt;2</title>\n",
       "<path d=\"M144.4,-58.24C136.6,-50.19 126.58,-41.22 116,-35.32 111.36,-32.72 106.21,-30.59 101.02,-28.84\" fill=\"none\" stroke=\"black\"/>\n",
       "<polygon fill=\"black\" points=\"101.69,-25.39 91.1,-25.92 99.71,-32.1 101.69,-25.39\" stroke=\"black\"/>\n",
       "<text font-family=\"Times,serif\" font-size=\"14.00\" text-anchor=\"middle\" x=\"112.5\" y=\"-39.12\">b</text>\n",
       "</g>\n",
       "<!-- 3&#45;&gt;4 -->\n",
       "<g class=\"edge\" id=\"edge7\">\n",
       "<title>3-&gt;4</title>\n",
       "<path d=\"M188.04,-69.47C200.23,-65.78 214.73,-60.67 227,-54.32 231.38,-52.05 235.81,-49.37 240.08,-46.55\" fill=\"none\" stroke=\"black\"/>\n",
       "<polygon fill=\"black\" points=\"242.36,-49.23 248.56,-40.63 238.36,-43.48 242.36,-49.23\" stroke=\"black\"/>\n",
       "<text font-family=\"Times,serif\" font-size=\"14.00\" text-anchor=\"middle\" x=\"216.5\" y=\"-67.12\">a, b</text>\n",
       "</g>\n",
       "<!-- 4&#45;&gt;2 -->\n",
       "<g class=\"edge\" id=\"edge8\">\n",
       "<title>4-&gt;2</title>\n",
       "<path d=\"M244.75,-14.3C228.56,-9.79 207.28,-4.61 188,-2.32 164.17,0.52 157.78,0.9 134,-2.32 123.08,-3.79 111.45,-6.52 100.91,-9.47\" fill=\"none\" stroke=\"black\"/>\n",
       "<polygon fill=\"black\" points=\"99.8,-6.14 91.19,-12.32 101.78,-12.86 99.8,-6.14\" stroke=\"black\"/>\n",
       "<text font-family=\"Times,serif\" font-size=\"14.00\" text-anchor=\"middle\" x=\"161\" y=\"-6.12\">b</text>\n",
       "</g>\n",
       "<!-- 4&#45;&gt;3 -->\n",
       "<g class=\"edge\" id=\"edge9\">\n",
       "<title>4-&gt;3</title>\n",
       "<path d=\"M244.92,-24.22C232.59,-25.93 217.98,-29.17 206,-35.32 198.42,-39.2 191.21,-44.77 184.89,-50.56\" fill=\"none\" stroke=\"black\"/>\n",
       "<polygon fill=\"black\" points=\"182.1,-48.4 177.41,-57.9 187,-53.39 182.1,-48.4\" stroke=\"black\"/>\n",
       "<text font-family=\"Times,serif\" font-size=\"14.00\" text-anchor=\"middle\" x=\"216.5\" y=\"-39.12\">a</text>\n",
       "</g>\n",
       "</g>\n",
       "</svg>"
      ],
      "text/plain": [
       "<IPython.core.display.SVG object>"
      ]
     },
     "metadata": {},
     "output_type": "display_data"
    }
   ],
   "source": [
    "A.del_transition(stt_2,stt_2,'b')\n",
    "A.display()"
   ]
  },
  {
   "cell_type": "markdown",
   "metadata": {},
   "source": [
    "---\n",
    "Deleting all transitions from a state to another (order matters)."
   ]
  },
  {
   "cell_type": "code",
   "execution_count": 20,
   "metadata": {},
   "outputs": [
    {
     "data": {
      "image/svg+xml": [
       "<svg height=\"109pt\" viewBox=\"0.00 0.00 330.00 109.04\" width=\"330pt\" xmlns=\"http://www.w3.org/2000/svg\" xmlns:xlink=\"http://www.w3.org/1999/xlink\">\n",
       "<g class=\"graph\" id=\"graph0\" transform=\"scale(1 1) rotate(0) translate(4 105.04)\">\n",
       "<title>%3</title>\n",
       "<polygon fill=\"white\" points=\"-4,4 -4,-105.04 326,-105.04 326,4 -4,4\" stroke=\"transparent\"/>\n",
       "<!-- I2 -->\n",
       "<g class=\"node\" id=\"node1\">\n",
       "<title>I2</title>\n",
       "<ellipse cx=\"0\" cy=\"-50.04\" fill=\"black\" rx=\"0\" ry=\"0\" stroke=\"black\"/>\n",
       "</g>\n",
       "<!-- 2 -->\n",
       "<g class=\"node\" id=\"node3\">\n",
       "<title>2</title>\n",
       "<path d=\"M79,-68.04C79,-68.04 49,-68.04 49,-68.04 43,-68.04 37,-62.04 37,-56.04 37,-56.04 37,-44.04 37,-44.04 37,-38.04 43,-32.04 49,-32.04 49,-32.04 79,-32.04 79,-32.04 85,-32.04 91,-38.04 91,-44.04 91,-44.04 91,-56.04 91,-56.04 91,-62.04 85,-68.04 79,-68.04\" fill=\"none\" stroke=\"black\"/>\n",
       "<text font-family=\"Times,serif\" font-size=\"14.00\" text-anchor=\"middle\" x=\"64\" y=\"-46.34\">$0</text>\n",
       "</g>\n",
       "<!-- I2&#45;&gt;2 -->\n",
       "<g class=\"edge\" id=\"edge1\">\n",
       "<title>I2-&gt;2</title>\n",
       "<path d=\"M1.04,-50.04C1.86,-50.04 13.73,-50.04 26.87,-50.04\" fill=\"none\" stroke=\"DimGray\"/>\n",
       "<polygon fill=\"DimGray\" points=\"27,-53.54 37,-50.04 27,-46.54 27,-53.54\" stroke=\"DimGray\"/>\n",
       "</g>\n",
       "<!-- F3 -->\n",
       "<g class=\"node\" id=\"node2\">\n",
       "<title>F3</title>\n",
       "<ellipse cx=\"322\" cy=\"-47.04\" fill=\"black\" rx=\"0\" ry=\"0\" stroke=\"black\"/>\n",
       "</g>\n",
       "<!-- 2&#45;&gt;2 -->\n",
       "<g class=\"edge\" id=\"edge2\">\n",
       "<title>2-&gt;2</title>\n",
       "<path d=\"M56.04,-68.19C54.82,-77.58 57.47,-86.04 64,-86.04 67.98,-86.04 70.52,-82.9 71.62,-78.32\" fill=\"none\" stroke=\"black\"/>\n",
       "<polygon fill=\"black\" points=\"75.12,-78.3 71.96,-68.19 68.13,-78.07 75.12,-78.3\" stroke=\"black\"/>\n",
       "<text font-family=\"Times,serif\" font-size=\"14.00\" text-anchor=\"middle\" x=\"64\" y=\"-89.84\">b</text>\n",
       "</g>\n",
       "<!-- 3 -->\n",
       "<g class=\"node\" id=\"node4\">\n",
       "<title>3</title>\n",
       "<path d=\"M273,-65.04C273,-65.04 243,-65.04 243,-65.04 237,-65.04 231,-59.04 231,-53.04 231,-53.04 231,-41.04 231,-41.04 231,-35.04 237,-29.04 243,-29.04 243,-29.04 273,-29.04 273,-29.04 279,-29.04 285,-35.04 285,-41.04 285,-41.04 285,-53.04 285,-53.04 285,-59.04 279,-65.04 273,-65.04\" fill=\"none\" stroke=\"black\"/>\n",
       "<text font-family=\"Times,serif\" font-size=\"14.00\" text-anchor=\"middle\" x=\"258\" y=\"-43.34\">$1</text>\n",
       "</g>\n",
       "<!-- 2&#45;&gt;3 -->\n",
       "<g class=\"edge\" id=\"edge3\">\n",
       "<title>2-&gt;3</title>\n",
       "<path d=\"M91.38,-60.7C97.15,-62.9 103.25,-65.13 109,-67.04 142.45,-78.16 153.17,-79.48 188,-74.04 199.29,-72.28 211.05,-68.49 221.59,-64.29\" fill=\"none\" stroke=\"black\"/>\n",
       "<polygon fill=\"black\" points=\"223.04,-67.48 230.89,-60.37 220.32,-61.03 223.04,-67.48\" stroke=\"black\"/>\n",
       "<text font-family=\"Times,serif\" font-size=\"14.00\" text-anchor=\"middle\" x=\"161\" y=\"-80.84\">a</text>\n",
       "</g>\n",
       "<!-- 4 -->\n",
       "<g class=\"node\" id=\"node5\">\n",
       "<title>4</title>\n",
       "<path d=\"M176,-65.04C176,-65.04 146,-65.04 146,-65.04 140,-65.04 134,-59.04 134,-53.04 134,-53.04 134,-41.04 134,-41.04 134,-35.04 140,-29.04 146,-29.04 146,-29.04 176,-29.04 176,-29.04 182,-29.04 188,-35.04 188,-41.04 188,-41.04 188,-53.04 188,-53.04 188,-59.04 182,-65.04 176,-65.04\" fill=\"none\" stroke=\"black\"/>\n",
       "<text font-family=\"Times,serif\" font-size=\"14.00\" text-anchor=\"middle\" x=\"161\" y=\"-43.34\">$2</text>\n",
       "</g>\n",
       "<!-- 2&#45;&gt;4 -->\n",
       "<g class=\"edge\" id=\"edge4\">\n",
       "<title>2-&gt;4</title>\n",
       "<path d=\"M91.21,-49.21C101.28,-48.89 112.96,-48.52 123.81,-48.18\" fill=\"none\" stroke=\"black\"/>\n",
       "<polygon fill=\"black\" points=\"123.99,-51.68 133.87,-47.86 123.77,-44.68 123.99,-51.68\" stroke=\"black\"/>\n",
       "<text font-family=\"Times,serif\" font-size=\"14.00\" text-anchor=\"middle\" x=\"112.5\" y=\"-51.84\">a</text>\n",
       "</g>\n",
       "<!-- 3&#45;&gt;F3 -->\n",
       "<g class=\"edge\" id=\"edge5\">\n",
       "<title>3-&gt;F3</title>\n",
       "<path d=\"M285.29,-47.04C294.25,-47.04 303.73,-47.04 310.68,-47.04\" fill=\"none\" stroke=\"DimGray\"/>\n",
       "<polygon fill=\"DimGray\" points=\"310.95,-50.54 320.95,-47.04 310.95,-43.54 310.95,-50.54\" stroke=\"DimGray\"/>\n",
       "</g>\n",
       "<!-- 3&#45;&gt;2 -->\n",
       "<g class=\"edge\" id=\"edge6\">\n",
       "<title>3-&gt;2</title>\n",
       "<path d=\"M234.55,-29.02C221.73,-19.9 204.88,-9.77 188,-5.04 164.89,1.44 157.01,1.8 134,-5.04 119.66,-9.3 105.52,-17.6 93.81,-25.91\" fill=\"none\" stroke=\"black\"/>\n",
       "<polygon fill=\"black\" points=\"91.67,-23.14 85.74,-31.92 95.85,-28.75 91.67,-23.14\" stroke=\"black\"/>\n",
       "<text font-family=\"Times,serif\" font-size=\"14.00\" text-anchor=\"middle\" x=\"161\" y=\"-8.84\">b</text>\n",
       "</g>\n",
       "<!-- 4&#45;&gt;2 -->\n",
       "<g class=\"edge\" id=\"edge7\">\n",
       "<title>4-&gt;2</title>\n",
       "<path d=\"M133.87,-31.8C125.99,-28.84 117.24,-27.17 109,-29.04 106.21,-29.67 103.4,-30.5 100.61,-31.46\" fill=\"none\" stroke=\"black\"/>\n",
       "<polygon fill=\"black\" points=\"99.3,-28.22 91.3,-35.17 101.89,-34.72 99.3,-28.22\" stroke=\"black\"/>\n",
       "<text font-family=\"Times,serif\" font-size=\"14.00\" text-anchor=\"middle\" x=\"112.5\" y=\"-32.84\">b</text>\n",
       "</g>\n",
       "<!-- 4&#45;&gt;3 -->\n",
       "<g class=\"edge\" id=\"edge8\">\n",
       "<title>4-&gt;3</title>\n",
       "<path d=\"M188.21,-47.04C198.28,-47.04 209.96,-47.04 220.81,-47.04\" fill=\"none\" stroke=\"black\"/>\n",
       "<polygon fill=\"black\" points=\"220.87,-50.54 230.87,-47.04 220.87,-43.54 220.87,-50.54\" stroke=\"black\"/>\n",
       "<text font-family=\"Times,serif\" font-size=\"14.00\" text-anchor=\"middle\" x=\"209.5\" y=\"-50.84\">a</text>\n",
       "</g>\n",
       "</g>\n",
       "</svg>"
      ],
      "text/plain": [
       "<IPython.core.display.SVG object>"
      ]
     },
     "metadata": {},
     "output_type": "display_data"
    }
   ],
   "source": [
    "A.del_transition(stt_1,stt_2)\n",
    "A.display()"
   ]
  },
  {
   "cell_type": "markdown",
   "metadata": {},
   "source": [
    "---\n",
    "Deleting a state (and all its outgoing and incoming transitions) "
   ]
  },
  {
   "cell_type": "code",
   "execution_count": 21,
   "metadata": {},
   "outputs": [
    {
     "data": {
      "image/svg+xml": [
       "<svg height=\"79pt\" viewBox=\"0.00 0.00 233.00 78.86\" width=\"233pt\" xmlns=\"http://www.w3.org/2000/svg\" xmlns:xlink=\"http://www.w3.org/1999/xlink\">\n",
       "<g class=\"graph\" id=\"graph0\" transform=\"scale(1 1) rotate(0) translate(4 74.86)\">\n",
       "<title>%3</title>\n",
       "<polygon fill=\"white\" points=\"-4,4 -4,-74.86 229,-74.86 229,4 -4,4\" stroke=\"transparent\"/>\n",
       "<!-- I2 -->\n",
       "<g class=\"node\" id=\"node1\">\n",
       "<title>I2</title>\n",
       "<ellipse cx=\"0\" cy=\"-19.86\" fill=\"black\" rx=\"0\" ry=\"0\" stroke=\"black\"/>\n",
       "</g>\n",
       "<!-- 2 -->\n",
       "<g class=\"node\" id=\"node3\">\n",
       "<title>2</title>\n",
       "<path d=\"M79,-37.86C79,-37.86 49,-37.86 49,-37.86 43,-37.86 37,-31.86 37,-25.86 37,-25.86 37,-13.86 37,-13.86 37,-7.86 43,-1.86 49,-1.86 49,-1.86 79,-1.86 79,-1.86 85,-1.86 91,-7.86 91,-13.86 91,-13.86 91,-25.86 91,-25.86 91,-31.86 85,-37.86 79,-37.86\" fill=\"none\" stroke=\"black\"/>\n",
       "<text font-family=\"Times,serif\" font-size=\"14.00\" text-anchor=\"middle\" x=\"64\" y=\"-16.16\">$0</text>\n",
       "</g>\n",
       "<!-- I2&#45;&gt;2 -->\n",
       "<g class=\"edge\" id=\"edge1\">\n",
       "<title>I2-&gt;2</title>\n",
       "<path d=\"M1.04,-19.86C1.86,-19.86 13.73,-19.86 26.87,-19.86\" fill=\"none\" stroke=\"DimGray\"/>\n",
       "<polygon fill=\"DimGray\" points=\"27,-23.36 37,-19.86 27,-16.36 27,-23.36\" stroke=\"DimGray\"/>\n",
       "</g>\n",
       "<!-- F3 -->\n",
       "<g class=\"node\" id=\"node2\">\n",
       "<title>F3</title>\n",
       "<ellipse cx=\"225\" cy=\"-19.86\" fill=\"black\" rx=\"0\" ry=\"0\" stroke=\"black\"/>\n",
       "</g>\n",
       "<!-- 2&#45;&gt;2 -->\n",
       "<g class=\"edge\" id=\"edge2\">\n",
       "<title>2-&gt;2</title>\n",
       "<path d=\"M56.04,-38.01C54.82,-47.4 57.47,-55.86 64,-55.86 67.98,-55.86 70.52,-52.72 71.62,-48.14\" fill=\"none\" stroke=\"black\"/>\n",
       "<polygon fill=\"black\" points=\"75.12,-48.13 71.96,-38.01 68.13,-47.89 75.12,-48.13\" stroke=\"black\"/>\n",
       "<text font-family=\"Times,serif\" font-size=\"14.00\" text-anchor=\"middle\" x=\"64\" y=\"-59.66\">b</text>\n",
       "</g>\n",
       "<!-- 3 -->\n",
       "<g class=\"node\" id=\"node4\">\n",
       "<title>3</title>\n",
       "<path d=\"M176,-37.86C176,-37.86 146,-37.86 146,-37.86 140,-37.86 134,-31.86 134,-25.86 134,-25.86 134,-13.86 134,-13.86 134,-7.86 140,-1.86 146,-1.86 146,-1.86 176,-1.86 176,-1.86 182,-1.86 188,-7.86 188,-13.86 188,-13.86 188,-25.86 188,-25.86 188,-31.86 182,-37.86 176,-37.86\" fill=\"none\" stroke=\"black\"/>\n",
       "<text font-family=\"Times,serif\" font-size=\"14.00\" text-anchor=\"middle\" x=\"161\" y=\"-16.16\">$1</text>\n",
       "</g>\n",
       "<!-- 2&#45;&gt;3 -->\n",
       "<g class=\"edge\" id=\"edge3\">\n",
       "<title>2-&gt;3</title>\n",
       "<path d=\"M91.21,-19.86C101.28,-19.86 112.96,-19.86 123.81,-19.86\" fill=\"none\" stroke=\"black\"/>\n",
       "<polygon fill=\"black\" points=\"123.87,-23.36 133.87,-19.86 123.87,-16.36 123.87,-23.36\" stroke=\"black\"/>\n",
       "<text font-family=\"Times,serif\" font-size=\"14.00\" text-anchor=\"middle\" x=\"112.5\" y=\"-23.66\">a</text>\n",
       "</g>\n",
       "<!-- 3&#45;&gt;F3 -->\n",
       "<g class=\"edge\" id=\"edge4\">\n",
       "<title>3-&gt;F3</title>\n",
       "<path d=\"M188.29,-19.86C197.25,-19.86 206.73,-19.86 213.68,-19.86\" fill=\"none\" stroke=\"DimGray\"/>\n",
       "<polygon fill=\"DimGray\" points=\"213.95,-23.36 223.95,-19.86 213.95,-16.36 213.95,-23.36\" stroke=\"DimGray\"/>\n",
       "</g>\n",
       "<!-- 3&#45;&gt;2 -->\n",
       "<g class=\"edge\" id=\"edge5\">\n",
       "<title>3-&gt;2</title>\n",
       "<path d=\"M133.98,-4.08C126.1,-0.98 117.33,0.86 109,-0.86 106.34,-1.41 103.65,-2.13 100.97,-2.96\" fill=\"none\" stroke=\"black\"/>\n",
       "<polygon fill=\"black\" points=\"99.64,0.28 91.42,-6.4 102.02,-6.3 99.64,0.28\" stroke=\"black\"/>\n",
       "<text font-family=\"Times,serif\" font-size=\"14.00\" text-anchor=\"middle\" x=\"112.5\" y=\"-4.66\">b</text>\n",
       "</g>\n",
       "</g>\n",
       "</svg>"
      ],
      "text/plain": [
       "<IPython.core.display.SVG object>"
      ]
     },
     "metadata": {},
     "output_type": "display_data"
    }
   ],
   "source": [
    "A.del_state(stt_2)\n",
    "A.display()"
   ]
  },
  {
   "cell_type": "markdown",
   "metadata": {},
   "source": [
    "## Loading & saving automata"
   ]
  },
  {
   "cell_type": "markdown",
   "metadata": {},
   "source": [
    "Saving an automaton to file.  The format used is JavaScript Object Notation (JSON) hence the extension \".json\" ."
   ]
  },
  {
   "cell_type": "code",
   "execution_count": 22,
   "metadata": {},
   "outputs": [],
   "source": [
    "A.save(\"fibo.json\")"
   ]
  },
  {
   "cell_type": "code",
   "execution_count": 23,
   "metadata": {},
   "outputs": [
    {
     "name": "stdout",
     "output_type": "stream",
     "text": [
      "awalipy-2.0.0_rc2.egg-info        \u001b[0m\u001b[01;36mcython-src\u001b[0m@\r\n",
      "awalipy_purepython_extra.py       \u001b[01;36mEdition1.ipynb\u001b[0m@\r\n",
      "awalipy_purepython_extra.pyc      \u001b[01;36mEdition2.ipynb\u001b[0m@\r\n",
      "\u001b[01;32mawalipy.so\u001b[0m*                       \u001b[01;36mEdition3.ipynb\u001b[0m@\r\n",
      "\u001b[01;34mbuild\u001b[0m/                            fibo.json\r\n",
      "\u001b[01;36mClassicalTransformations1.ipynb\u001b[0m@  fibo_LR_additioner.json\r\n",
      "\u001b[01;36mClassicalTransformations2.ipynb\u001b[0m@  \u001b[01;36mRationalExpression.ipynb\u001b[0m@\r\n",
      "CMakeLists.txt                    setup.py\r\n",
      "cython.log\r\n"
     ]
    }
   ],
   "source": [
    "ls"
   ]
  },
  {
   "cell_type": "markdown",
   "metadata": {},
   "source": [
    "---\n",
    "Loading an automaton."
   ]
  },
  {
   "cell_type": "code",
   "execution_count": 24,
   "metadata": {},
   "outputs": [
    {
     "data": {
      "image/svg+xml": [
       "<svg height=\"79pt\" viewBox=\"0.00 0.00 233.00 78.86\" width=\"233pt\" xmlns=\"http://www.w3.org/2000/svg\" xmlns:xlink=\"http://www.w3.org/1999/xlink\">\n",
       "<g class=\"graph\" id=\"graph0\" transform=\"scale(1 1) rotate(0) translate(4 74.86)\">\n",
       "<title>%3</title>\n",
       "<polygon fill=\"white\" points=\"-4,4 -4,-74.86 229,-74.86 229,4 -4,4\" stroke=\"transparent\"/>\n",
       "<!-- I2 -->\n",
       "<g class=\"node\" id=\"node1\">\n",
       "<title>I2</title>\n",
       "<ellipse cx=\"0\" cy=\"-19.86\" fill=\"black\" rx=\"0\" ry=\"0\" stroke=\"black\"/>\n",
       "</g>\n",
       "<!-- 2 -->\n",
       "<g class=\"node\" id=\"node3\">\n",
       "<title>2</title>\n",
       "<path d=\"M79,-37.86C79,-37.86 49,-37.86 49,-37.86 43,-37.86 37,-31.86 37,-25.86 37,-25.86 37,-13.86 37,-13.86 37,-7.86 43,-1.86 49,-1.86 49,-1.86 79,-1.86 79,-1.86 85,-1.86 91,-7.86 91,-13.86 91,-13.86 91,-25.86 91,-25.86 91,-31.86 85,-37.86 79,-37.86\" fill=\"none\" stroke=\"black\"/>\n",
       "<text font-family=\"Times,serif\" font-size=\"14.00\" text-anchor=\"middle\" x=\"64\" y=\"-16.16\">$0</text>\n",
       "</g>\n",
       "<!-- I2&#45;&gt;2 -->\n",
       "<g class=\"edge\" id=\"edge1\">\n",
       "<title>I2-&gt;2</title>\n",
       "<path d=\"M1.04,-19.86C1.86,-19.86 13.73,-19.86 26.87,-19.86\" fill=\"none\" stroke=\"DimGray\"/>\n",
       "<polygon fill=\"DimGray\" points=\"27,-23.36 37,-19.86 27,-16.36 27,-23.36\" stroke=\"DimGray\"/>\n",
       "</g>\n",
       "<!-- F3 -->\n",
       "<g class=\"node\" id=\"node2\">\n",
       "<title>F3</title>\n",
       "<ellipse cx=\"225\" cy=\"-19.86\" fill=\"black\" rx=\"0\" ry=\"0\" stroke=\"black\"/>\n",
       "</g>\n",
       "<!-- 2&#45;&gt;2 -->\n",
       "<g class=\"edge\" id=\"edge2\">\n",
       "<title>2-&gt;2</title>\n",
       "<path d=\"M56.04,-38.01C54.82,-47.4 57.47,-55.86 64,-55.86 67.98,-55.86 70.52,-52.72 71.62,-48.14\" fill=\"none\" stroke=\"black\"/>\n",
       "<polygon fill=\"black\" points=\"75.12,-48.13 71.96,-38.01 68.13,-47.89 75.12,-48.13\" stroke=\"black\"/>\n",
       "<text font-family=\"Times,serif\" font-size=\"14.00\" text-anchor=\"middle\" x=\"64\" y=\"-59.66\">b</text>\n",
       "</g>\n",
       "<!-- 3 -->\n",
       "<g class=\"node\" id=\"node4\">\n",
       "<title>3</title>\n",
       "<path d=\"M176,-37.86C176,-37.86 146,-37.86 146,-37.86 140,-37.86 134,-31.86 134,-25.86 134,-25.86 134,-13.86 134,-13.86 134,-7.86 140,-1.86 146,-1.86 146,-1.86 176,-1.86 176,-1.86 182,-1.86 188,-7.86 188,-13.86 188,-13.86 188,-25.86 188,-25.86 188,-31.86 182,-37.86 176,-37.86\" fill=\"none\" stroke=\"black\"/>\n",
       "<text font-family=\"Times,serif\" font-size=\"14.00\" text-anchor=\"middle\" x=\"161\" y=\"-16.16\">$1</text>\n",
       "</g>\n",
       "<!-- 2&#45;&gt;3 -->\n",
       "<g class=\"edge\" id=\"edge3\">\n",
       "<title>2-&gt;3</title>\n",
       "<path d=\"M91.21,-19.86C101.28,-19.86 112.96,-19.86 123.81,-19.86\" fill=\"none\" stroke=\"black\"/>\n",
       "<polygon fill=\"black\" points=\"123.87,-23.36 133.87,-19.86 123.87,-16.36 123.87,-23.36\" stroke=\"black\"/>\n",
       "<text font-family=\"Times,serif\" font-size=\"14.00\" text-anchor=\"middle\" x=\"112.5\" y=\"-23.66\">a</text>\n",
       "</g>\n",
       "<!-- 3&#45;&gt;F3 -->\n",
       "<g class=\"edge\" id=\"edge4\">\n",
       "<title>3-&gt;F3</title>\n",
       "<path d=\"M188.29,-19.86C197.25,-19.86 206.73,-19.86 213.68,-19.86\" fill=\"none\" stroke=\"DimGray\"/>\n",
       "<polygon fill=\"DimGray\" points=\"213.95,-23.36 223.95,-19.86 213.95,-16.36 213.95,-23.36\" stroke=\"DimGray\"/>\n",
       "</g>\n",
       "<!-- 3&#45;&gt;2 -->\n",
       "<g class=\"edge\" id=\"edge5\">\n",
       "<title>3-&gt;2</title>\n",
       "<path d=\"M133.98,-4.08C126.1,-0.98 117.33,0.86 109,-0.86 106.34,-1.41 103.65,-2.13 100.97,-2.96\" fill=\"none\" stroke=\"black\"/>\n",
       "<polygon fill=\"black\" points=\"99.64,0.28 91.42,-6.4 102.02,-6.3 99.64,0.28\" stroke=\"black\"/>\n",
       "<text font-family=\"Times,serif\" font-size=\"14.00\" text-anchor=\"middle\" x=\"112.5\" y=\"-4.66\">b</text>\n",
       "</g>\n",
       "</g>\n",
       "</svg>"
      ],
      "text/plain": [
       "<IPython.core.display.SVG object>"
      ]
     },
     "metadata": {},
     "output_type": "display_data"
    }
   ],
   "source": [
    "B = awalipy.load(\"fibo.json\")\n",
    "B.display()"
   ]
  },
  {
   "cell_type": "markdown",
   "metadata": {},
   "source": [
    "---\n",
    "A few example are given as part of the library.  The examples are listed by the following function."
   ]
  },
  {
   "cell_type": "code",
   "execution_count": 25,
   "metadata": {},
   "outputs": [
    {
     "name": "stdout",
     "output_type": "stream",
     "text": [
      "======== automata ==========\n",
      "- lamplighter\tGroup automaton which realizes the Lamplighter group\n",
      "- minab\tZ-min-plus-automaton which computes the minimum among the numbers of 'a' and 'b' in every word\n",
      "- ab\tNFA with epsilon transition which recognizes words in 'a*b*'\n",
      "- slowcerny\tSynchronisable NFA which meets Cerny bound\n",
      "- evena\tDFA which recognizes words with an even number of 'a'\n",
      "- b1\tZ-FA that counts the number of 'b' in words of {a,b}*\n",
      "- slowgrow\tZ-min-plus-automaton with a slow growing length function\n",
      "- heapmodel\tZ-max-plus automaton, heap model with 2 pieces\n",
      "- c1\tZ-FA that converts words of {a,b}^* into their binary values\n",
      "- d1\tZ-FA computes the difference between the numbers of 'a' and 'b'\n",
      "- binary\tZ-FA that converts words of {0,1}^* into their binary values\n",
      "- url-validator\tAutomaton with epsilon transition that validates url\n",
      "- minblocka\tZ-min-plus-automaton which computes the length of the shortest block of 'a' in every word\n",
      "- prob-rabin\tR-automaton (probabilistic automaton) that accepts w with prob. expansion(w)\n",
      "- a1\tNFA that accepts words with at least one factor 'ab'\n",
      "- binary-int\tZ-FA that converts words of {0,1}^* into their binary values\n",
      "- rotation\tC-automaton realizing a rotation\n",
      "- e1\tQ-FA that converts words of {a,b}^* into their binary values after the radix point\n",
      "- gray\tGray code increment\n",
      "- fibotdc-lr\tSequential transducer which tries to replace 'abb' by 'baa'\n",
      "- flipper\tTransducer that mimics a flipper game\n",
      "- oddb\tDFA which recognizes words with an odd number of 'b'\n",
      "\n",
      "======== ratexps ==========\n",
      "- div3b2-exp\tWriting in base 2 of the integers divisible by 3\n",
      "- conway-exp\tRunning example of an expression in Conway's book Regular Algebra and Finite Machines\n",
      "\n"
     ]
    }
   ],
   "source": [
    "examples_dict = awalipy.list_examples()\n",
    "for kind in [\"automata\",\"ratexps\"]:\n",
    "    print(\"======== {} ==========\".format(kind))\n",
    "    for name in examples_dict[kind]:\n",
    "        print(\"- {}\\t{}\".format(name, examples_dict[kind][name]))\n",
    "    print (\"\")"
   ]
  },
  {
   "cell_type": "markdown",
   "metadata": {},
   "source": [
    "---\n",
    "Example automata can be loaded with the function `load` with their name"
   ]
  },
  {
   "cell_type": "code",
   "execution_count": 26,
   "metadata": {
    "scrolled": true
   },
   "outputs": [
    {
     "data": {
      "image/svg+xml": [
       "<svg height=\"77pt\" viewBox=\"0.00 0.00 330.00 77.00\" width=\"330pt\" xmlns=\"http://www.w3.org/2000/svg\" xmlns:xlink=\"http://www.w3.org/1999/xlink\">\n",
       "<g class=\"graph\" id=\"graph0\" transform=\"scale(1 1) rotate(0) translate(4 73)\">\n",
       "<title>%3</title>\n",
       "<polygon fill=\"white\" points=\"-4,4 -4,-73 326,-73 326,4 -4,4\" stroke=\"transparent\"/>\n",
       "<!-- I2 -->\n",
       "<g class=\"node\" id=\"node1\">\n",
       "<title>I2</title>\n",
       "<ellipse cx=\"0\" cy=\"-18\" fill=\"black\" rx=\"0\" ry=\"0\" stroke=\"black\"/>\n",
       "</g>\n",
       "<!-- 2 -->\n",
       "<g class=\"node\" id=\"node3\">\n",
       "<title>2</title>\n",
       "<path d=\"M79,-36C79,-36 49,-36 49,-36 43,-36 37,-30 37,-24 37,-24 37,-12 37,-12 37,-6 43,0 49,0 49,0 79,0 79,0 85,0 91,-6 91,-12 91,-12 91,-24 91,-24 91,-30 85,-36 79,-36\" fill=\"none\" stroke=\"black\"/>\n",
       "<text font-family=\"Times,serif\" font-size=\"14.00\" text-anchor=\"middle\" x=\"64\" y=\"-14.3\">p</text>\n",
       "</g>\n",
       "<!-- I2&#45;&gt;2 -->\n",
       "<g class=\"edge\" id=\"edge1\">\n",
       "<title>I2-&gt;2</title>\n",
       "<path d=\"M1.04,-18C1.86,-18 13.73,-18 26.87,-18\" fill=\"none\" stroke=\"DimGray\"/>\n",
       "<polygon fill=\"DimGray\" points=\"27,-21.5 37,-18 27,-14.5 27,-21.5\" stroke=\"DimGray\"/>\n",
       "</g>\n",
       "<!-- F4 -->\n",
       "<g class=\"node\" id=\"node2\">\n",
       "<title>F4</title>\n",
       "<ellipse cx=\"322\" cy=\"-18\" fill=\"black\" rx=\"0\" ry=\"0\" stroke=\"black\"/>\n",
       "</g>\n",
       "<!-- 2&#45;&gt;2 -->\n",
       "<g class=\"edge\" id=\"edge2\">\n",
       "<title>2-&gt;2</title>\n",
       "<path d=\"M56.04,-36.15C54.82,-45.54 57.47,-54 64,-54 67.98,-54 70.52,-50.86 71.62,-46.28\" fill=\"none\" stroke=\"black\"/>\n",
       "<polygon fill=\"black\" points=\"75.12,-46.26 71.96,-36.15 68.13,-46.03 75.12,-46.26\" stroke=\"black\"/>\n",
       "<text font-family=\"Times,serif\" font-size=\"14.00\" text-anchor=\"middle\" x=\"64\" y=\"-57.8\">a, b</text>\n",
       "</g>\n",
       "<!-- 3 -->\n",
       "<g class=\"node\" id=\"node4\">\n",
       "<title>3</title>\n",
       "<path d=\"M176,-36C176,-36 146,-36 146,-36 140,-36 134,-30 134,-24 134,-24 134,-12 134,-12 134,-6 140,0 146,0 146,0 176,0 176,0 182,0 188,-6 188,-12 188,-12 188,-24 188,-24 188,-30 182,-36 176,-36\" fill=\"none\" stroke=\"black\"/>\n",
       "<text font-family=\"Times,serif\" font-size=\"14.00\" text-anchor=\"middle\" x=\"161\" y=\"-14.3\">q</text>\n",
       "</g>\n",
       "<!-- 2&#45;&gt;3 -->\n",
       "<g class=\"edge\" id=\"edge3\">\n",
       "<title>2-&gt;3</title>\n",
       "<path d=\"M91.21,-18C101.28,-18 112.96,-18 123.81,-18\" fill=\"none\" stroke=\"black\"/>\n",
       "<polygon fill=\"black\" points=\"123.87,-21.5 133.87,-18 123.87,-14.5 123.87,-21.5\" stroke=\"black\"/>\n",
       "<text font-family=\"Times,serif\" font-size=\"14.00\" text-anchor=\"middle\" x=\"112.5\" y=\"-21.8\">a</text>\n",
       "</g>\n",
       "<!-- 4 -->\n",
       "<g class=\"node\" id=\"node5\">\n",
       "<title>4</title>\n",
       "<path d=\"M273,-36C273,-36 243,-36 243,-36 237,-36 231,-30 231,-24 231,-24 231,-12 231,-12 231,-6 237,0 243,0 243,0 273,0 273,0 279,0 285,-6 285,-12 285,-12 285,-24 285,-24 285,-30 279,-36 273,-36\" fill=\"none\" stroke=\"black\"/>\n",
       "<text font-family=\"Times,serif\" font-size=\"14.00\" text-anchor=\"middle\" x=\"258\" y=\"-14.3\">r</text>\n",
       "</g>\n",
       "<!-- 3&#45;&gt;4 -->\n",
       "<g class=\"edge\" id=\"edge4\">\n",
       "<title>3-&gt;4</title>\n",
       "<path d=\"M188.21,-18C198.28,-18 209.96,-18 220.81,-18\" fill=\"none\" stroke=\"black\"/>\n",
       "<polygon fill=\"black\" points=\"220.87,-21.5 230.87,-18 220.87,-14.5 220.87,-21.5\" stroke=\"black\"/>\n",
       "<text font-family=\"Times,serif\" font-size=\"14.00\" text-anchor=\"middle\" x=\"209.5\" y=\"-21.8\">b</text>\n",
       "</g>\n",
       "<!-- 4&#45;&gt;F4 -->\n",
       "<g class=\"edge\" id=\"edge5\">\n",
       "<title>4-&gt;F4</title>\n",
       "<path d=\"M285.29,-18C294.25,-18 303.73,-18 310.68,-18\" fill=\"none\" stroke=\"DimGray\"/>\n",
       "<polygon fill=\"DimGray\" points=\"310.95,-21.5 320.95,-18 310.95,-14.5 310.95,-21.5\" stroke=\"DimGray\"/>\n",
       "</g>\n",
       "<!-- 4&#45;&gt;4 -->\n",
       "<g class=\"edge\" id=\"edge6\">\n",
       "<title>4-&gt;4</title>\n",
       "<path d=\"M250.04,-36.15C248.82,-45.54 251.47,-54 258,-54 261.98,-54 264.52,-50.86 265.62,-46.28\" fill=\"none\" stroke=\"black\"/>\n",
       "<polygon fill=\"black\" points=\"269.12,-46.26 265.96,-36.15 262.13,-46.03 269.12,-46.26\" stroke=\"black\"/>\n",
       "<text font-family=\"Times,serif\" font-size=\"14.00\" text-anchor=\"middle\" x=\"258\" y=\"-57.8\">a, b</text>\n",
       "</g>\n",
       "</g>\n",
       "</svg>"
      ],
      "text/plain": [
       "<IPython.core.display.SVG object>"
      ]
     },
     "metadata": {},
     "output_type": "display_data"
    }
   ],
   "source": [
    "C = awalipy.load(\"a1\")\n",
    "C.display()"
   ]
  },
  {
   "cell_type": "markdown",
   "metadata": {},
   "source": [
    "## A few factories\n"
   ]
  },
  {
   "cell_type": "markdown",
   "metadata": {},
   "source": [
    "`make_cerny(n)` returns an `n`-states DFA whose smallest synchronising word is of length `(n-1)**2`. This automaton attains the upper bound for the Cerny conjecture."
   ]
  },
  {
   "cell_type": "code",
   "execution_count": 27,
   "metadata": {},
   "outputs": [
    {
     "data": {
      "image/svg+xml": [
       "<svg height=\"126pt\" viewBox=\"0.00 0.00 487.00 126.00\" width=\"487pt\" xmlns=\"http://www.w3.org/2000/svg\" xmlns:xlink=\"http://www.w3.org/1999/xlink\">\n",
       "<g class=\"graph\" id=\"graph0\" transform=\"scale(1 1) rotate(0) translate(4 122)\">\n",
       "<title>%3</title>\n",
       "<polygon fill=\"white\" points=\"-4,4 -4,-122 483,-122 483,4 -4,4\" stroke=\"transparent\"/>\n",
       "<!-- I2 -->\n",
       "<g class=\"node\" id=\"node1\">\n",
       "<title>I2</title>\n",
       "<ellipse cx=\"0\" cy=\"-49\" fill=\"black\" rx=\"0\" ry=\"0\" stroke=\"black\"/>\n",
       "</g>\n",
       "<!-- 2 -->\n",
       "<g class=\"node\" id=\"node3\">\n",
       "<title>2</title>\n",
       "<path d=\"M79,-67C79,-67 49,-67 49,-67 43,-67 37,-61 37,-55 37,-55 37,-43 37,-43 37,-37 43,-31 49,-31 49,-31 79,-31 79,-31 85,-31 91,-37 91,-43 91,-43 91,-55 91,-55 91,-61 85,-67 79,-67\" fill=\"none\" stroke=\"black\"/>\n",
       "<text font-family=\"Times,serif\" font-size=\"14.00\" text-anchor=\"middle\" x=\"64\" y=\"-45.3\">$0</text>\n",
       "</g>\n",
       "<!-- I2&#45;&gt;2 -->\n",
       "<g class=\"edge\" id=\"edge1\">\n",
       "<title>I2-&gt;2</title>\n",
       "<path d=\"M1.04,-49C1.86,-49 13.73,-49 26.87,-49\" fill=\"none\" stroke=\"DimGray\"/>\n",
       "<polygon fill=\"DimGray\" points=\"27,-52.5 37,-49 27,-45.5 27,-52.5\" stroke=\"DimGray\"/>\n",
       "</g>\n",
       "<!-- F2 -->\n",
       "<g class=\"node\" id=\"node2\">\n",
       "<title>F2</title>\n",
       "<ellipse cx=\"161\" cy=\"-118\" fill=\"black\" rx=\"0\" ry=\"0\" stroke=\"black\"/>\n",
       "</g>\n",
       "<!-- 2&#45;&gt;F2 -->\n",
       "<g class=\"edge\" id=\"edge2\">\n",
       "<title>2-&gt;F2</title>\n",
       "<path d=\"M81.98,-67.11C95.12,-80.24 114.35,-97.63 134,-109 138.97,-111.87 145,-114.03 150,-115.51\" fill=\"none\" stroke=\"DimGray\"/>\n",
       "<polygon fill=\"DimGray\" points=\"149.41,-118.97 159.96,-117.99 151.1,-112.18 149.41,-118.97\" stroke=\"DimGray\"/>\n",
       "</g>\n",
       "<!-- 2&#45;&gt;2 -->\n",
       "<g class=\"edge\" id=\"edge3\">\n",
       "<title>2-&gt;2</title>\n",
       "<path d=\"M56.04,-67.15C54.82,-76.54 57.47,-85 64,-85 67.98,-85 70.52,-81.86 71.62,-77.28\" fill=\"none\" stroke=\"black\"/>\n",
       "<polygon fill=\"black\" points=\"75.12,-77.26 71.96,-67.15 68.13,-77.03 75.12,-77.26\" stroke=\"black\"/>\n",
       "<text font-family=\"Times,serif\" font-size=\"14.00\" text-anchor=\"middle\" x=\"64\" y=\"-88.8\">b</text>\n",
       "</g>\n",
       "<!-- 3 -->\n",
       "<g class=\"node\" id=\"node4\">\n",
       "<title>3</title>\n",
       "<path d=\"M176,-67C176,-67 146,-67 146,-67 140,-67 134,-61 134,-55 134,-55 134,-43 134,-43 134,-37 140,-31 146,-31 146,-31 176,-31 176,-31 182,-31 188,-37 188,-43 188,-43 188,-55 188,-55 188,-61 182,-67 176,-67\" fill=\"none\" stroke=\"black\"/>\n",
       "<text font-family=\"Times,serif\" font-size=\"14.00\" text-anchor=\"middle\" x=\"161\" y=\"-45.3\">$1</text>\n",
       "</g>\n",
       "<!-- 2&#45;&gt;3 -->\n",
       "<g class=\"edge\" id=\"edge4\">\n",
       "<title>2-&gt;3</title>\n",
       "<path d=\"M91.21,-49C101.28,-49 112.96,-49 123.81,-49\" fill=\"none\" stroke=\"black\"/>\n",
       "<polygon fill=\"black\" points=\"123.87,-52.5 133.87,-49 123.87,-45.5 123.87,-52.5\" stroke=\"black\"/>\n",
       "<text font-family=\"Times,serif\" font-size=\"14.00\" text-anchor=\"middle\" x=\"112.5\" y=\"-52.8\">a</text>\n",
       "</g>\n",
       "<!-- 3&#45;&gt;3 -->\n",
       "<g class=\"edge\" id=\"edge5\">\n",
       "<title>3-&gt;3</title>\n",
       "<path d=\"M152.32,-67.15C150.98,-76.54 153.88,-85 161,-85 165.34,-85 168.11,-81.86 169.31,-77.28\" fill=\"none\" stroke=\"black\"/>\n",
       "<polygon fill=\"black\" points=\"172.82,-77.27 169.68,-67.15 165.82,-77.02 172.82,-77.27\" stroke=\"black\"/>\n",
       "<text font-family=\"Times,serif\" font-size=\"14.00\" text-anchor=\"middle\" x=\"161\" y=\"-88.8\">b</text>\n",
       "</g>\n",
       "<!-- 4 -->\n",
       "<g class=\"node\" id=\"node5\">\n",
       "<title>4</title>\n",
       "<path d=\"M273,-71C273,-71 243,-71 243,-71 237,-71 231,-65 231,-59 231,-59 231,-47 231,-47 231,-41 237,-35 243,-35 243,-35 273,-35 273,-35 279,-35 285,-41 285,-47 285,-47 285,-59 285,-59 285,-65 279,-71 273,-71\" fill=\"none\" stroke=\"black\"/>\n",
       "<text font-family=\"Times,serif\" font-size=\"14.00\" text-anchor=\"middle\" x=\"258\" y=\"-49.3\">$2</text>\n",
       "</g>\n",
       "<!-- 3&#45;&gt;4 -->\n",
       "<g class=\"edge\" id=\"edge6\">\n",
       "<title>3-&gt;4</title>\n",
       "<path d=\"M188.21,-50.1C198.28,-50.53 209.96,-51.02 220.81,-51.48\" fill=\"none\" stroke=\"black\"/>\n",
       "<polygon fill=\"black\" points=\"220.74,-54.98 230.87,-51.9 221.03,-47.98 220.74,-54.98\" stroke=\"black\"/>\n",
       "<text font-family=\"Times,serif\" font-size=\"14.00\" text-anchor=\"middle\" x=\"209.5\" y=\"-54.8\">a</text>\n",
       "</g>\n",
       "<!-- 4&#45;&gt;4 -->\n",
       "<g class=\"edge\" id=\"edge7\">\n",
       "<title>4-&gt;4</title>\n",
       "<path d=\"M249.32,-71.15C247.98,-80.54 250.88,-89 258,-89 262.34,-89 265.11,-85.86 266.31,-81.28\" fill=\"none\" stroke=\"black\"/>\n",
       "<polygon fill=\"black\" points=\"269.82,-81.27 266.68,-71.15 262.82,-81.02 269.82,-81.27\" stroke=\"black\"/>\n",
       "<text font-family=\"Times,serif\" font-size=\"14.00\" text-anchor=\"middle\" x=\"258\" y=\"-92.8\">b</text>\n",
       "</g>\n",
       "<!-- 5 -->\n",
       "<g class=\"node\" id=\"node6\">\n",
       "<title>5</title>\n",
       "<path d=\"M370,-68C370,-68 340,-68 340,-68 334,-68 328,-62 328,-56 328,-56 328,-44 328,-44 328,-38 334,-32 340,-32 340,-32 370,-32 370,-32 376,-32 382,-38 382,-44 382,-44 382,-56 382,-56 382,-62 376,-68 370,-68\" fill=\"none\" stroke=\"black\"/>\n",
       "<text font-family=\"Times,serif\" font-size=\"14.00\" text-anchor=\"middle\" x=\"355\" y=\"-46.3\">$3</text>\n",
       "</g>\n",
       "<!-- 4&#45;&gt;5 -->\n",
       "<g class=\"edge\" id=\"edge8\">\n",
       "<title>4-&gt;5</title>\n",
       "<path d=\"M285.21,-52.17C295.28,-51.85 306.96,-51.49 317.81,-51.14\" fill=\"none\" stroke=\"black\"/>\n",
       "<polygon fill=\"black\" points=\"317.99,-54.64 327.87,-50.83 317.77,-47.64 317.99,-54.64\" stroke=\"black\"/>\n",
       "<text font-family=\"Times,serif\" font-size=\"14.00\" text-anchor=\"middle\" x=\"306.5\" y=\"-54.8\">a</text>\n",
       "</g>\n",
       "<!-- 5&#45;&gt;5 -->\n",
       "<g class=\"edge\" id=\"edge9\">\n",
       "<title>5-&gt;5</title>\n",
       "<path d=\"M346.32,-68.15C344.98,-77.54 347.88,-86 355,-86 359.34,-86 362.11,-82.86 363.31,-78.28\" fill=\"none\" stroke=\"black\"/>\n",
       "<polygon fill=\"black\" points=\"366.82,-78.27 363.68,-68.15 359.82,-78.02 366.82,-78.27\" stroke=\"black\"/>\n",
       "<text font-family=\"Times,serif\" font-size=\"14.00\" text-anchor=\"middle\" x=\"355\" y=\"-89.8\">b</text>\n",
       "</g>\n",
       "<!-- 6 -->\n",
       "<g class=\"node\" id=\"node7\">\n",
       "<title>6</title>\n",
       "<path d=\"M467,-36C467,-36 437,-36 437,-36 431,-36 425,-30 425,-24 425,-24 425,-12 425,-12 425,-6 431,0 437,0 437,0 467,0 467,0 473,0 479,-6 479,-12 479,-12 479,-24 479,-24 479,-30 473,-36 467,-36\" fill=\"none\" stroke=\"black\"/>\n",
       "<text font-family=\"Times,serif\" font-size=\"14.00\" text-anchor=\"middle\" x=\"452\" y=\"-14.3\">$4</text>\n",
       "</g>\n",
       "<!-- 5&#45;&gt;6 -->\n",
       "<g class=\"edge\" id=\"edge10\">\n",
       "<title>5-&gt;6</title>\n",
       "<path d=\"M382.21,-41.17C392.39,-37.74 404.21,-33.76 415.15,-30.08\" fill=\"none\" stroke=\"black\"/>\n",
       "<polygon fill=\"black\" points=\"416.52,-33.31 424.87,-26.8 414.28,-26.68 416.52,-33.31\" stroke=\"black\"/>\n",
       "<text font-family=\"Times,serif\" font-size=\"14.00\" text-anchor=\"middle\" x=\"403.5\" y=\"-37.8\">a</text>\n",
       "</g>\n",
       "<!-- 6&#45;&gt;2 -->\n",
       "<g class=\"edge\" id=\"edge11\">\n",
       "<title>6-&gt;2</title>\n",
       "<path d=\"M424.99,-11.21C406.01,-6.85 379.58,-2 356,-2 160,-2 160,-2 160,-2 136.6,-2 113,-13.6 95.18,-25.28\" fill=\"none\" stroke=\"black\"/>\n",
       "<polygon fill=\"black\" points=\"93.17,-22.41 86.92,-30.96 97.14,-28.17 93.17,-22.41\" stroke=\"black\"/>\n",
       "<text font-family=\"Times,serif\" font-size=\"14.00\" text-anchor=\"middle\" x=\"258\" y=\"-5.8\">a, b</text>\n",
       "</g>\n",
       "</g>\n",
       "</svg>"
      ],
      "text/plain": [
       "<IPython.core.display.SVG object>"
      ]
     },
     "metadata": {},
     "output_type": "display_data"
    }
   ],
   "source": [
    "awalipy.make_cerny(5).display()"
   ]
  },
  {
   "cell_type": "markdown",
   "metadata": {},
   "source": [
    "---\n",
    "`make_divkbaseb(k,b)` returns an automaton accepting integers divisible by `k`, written in base `b`."
   ]
  },
  {
   "cell_type": "code",
   "execution_count": 28,
   "metadata": {},
   "outputs": [
    {
     "data": {
      "image/svg+xml": [
       "<svg height=\"101pt\" viewBox=\"0.00 0.00 293.00 100.86\" width=\"293pt\" xmlns=\"http://www.w3.org/2000/svg\" xmlns:xlink=\"http://www.w3.org/1999/xlink\">\n",
       "<g class=\"graph\" id=\"graph0\" transform=\"scale(1 1) rotate(0) translate(4 96.86)\">\n",
       "<title>%3</title>\n",
       "<polygon fill=\"white\" points=\"-4,4 -4,-96.86 289,-96.86 289,4 -4,4\" stroke=\"transparent\"/>\n",
       "<!-- I2 -->\n",
       "<g class=\"node\" id=\"node1\">\n",
       "<title>I2</title>\n",
       "<ellipse cx=\"0\" cy=\"-41.86\" fill=\"black\" rx=\"0\" ry=\"0\" stroke=\"black\"/>\n",
       "</g>\n",
       "<!-- 2 -->\n",
       "<g class=\"node\" id=\"node3\">\n",
       "<title>2</title>\n",
       "<path d=\"M79,-59.86C79,-59.86 49,-59.86 49,-59.86 43,-59.86 37,-53.86 37,-47.86 37,-47.86 37,-35.86 37,-35.86 37,-29.86 43,-23.86 49,-23.86 49,-23.86 79,-23.86 79,-23.86 85,-23.86 91,-29.86 91,-35.86 91,-35.86 91,-47.86 91,-47.86 91,-53.86 85,-59.86 79,-59.86\" fill=\"none\" stroke=\"black\"/>\n",
       "<text font-family=\"Times,serif\" font-size=\"14.00\" text-anchor=\"middle\" x=\"64\" y=\"-38.16\">$0</text>\n",
       "</g>\n",
       "<!-- I2&#45;&gt;2 -->\n",
       "<g class=\"edge\" id=\"edge1\">\n",
       "<title>I2-&gt;2</title>\n",
       "<path d=\"M1.04,-41.86C1.86,-41.86 13.73,-41.86 26.87,-41.86\" fill=\"none\" stroke=\"DimGray\"/>\n",
       "<polygon fill=\"DimGray\" points=\"27,-45.36 37,-41.86 27,-38.36 27,-45.36\" stroke=\"DimGray\"/>\n",
       "</g>\n",
       "<!-- F2 -->\n",
       "<g class=\"node\" id=\"node2\">\n",
       "<title>F2</title>\n",
       "<ellipse cx=\"161\" cy=\"-71.86\" fill=\"black\" rx=\"0\" ry=\"0\" stroke=\"black\"/>\n",
       "</g>\n",
       "<!-- 2&#45;&gt;F2 -->\n",
       "<g class=\"edge\" id=\"edge2\">\n",
       "<title>2-&gt;F2</title>\n",
       "<path d=\"M91.21,-50.14C110.79,-56.32 136.45,-64.42 150.24,-68.78\" fill=\"none\" stroke=\"DimGray\"/>\n",
       "<polygon fill=\"DimGray\" points=\"149.29,-72.15 159.88,-71.82 151.4,-65.47 149.29,-72.15\" stroke=\"DimGray\"/>\n",
       "</g>\n",
       "<!-- 2&#45;&gt;2 -->\n",
       "<g class=\"edge\" id=\"edge3\">\n",
       "<title>2-&gt;2</title>\n",
       "<path d=\"M56.04,-60.01C54.82,-69.4 57.47,-77.86 64,-77.86 67.98,-77.86 70.52,-74.72 71.62,-70.14\" fill=\"none\" stroke=\"black\"/>\n",
       "<polygon fill=\"black\" points=\"75.12,-70.13 71.96,-60.01 68.13,-69.89 75.12,-70.13\" stroke=\"black\"/>\n",
       "<text font-family=\"Times,serif\" font-size=\"14.00\" text-anchor=\"middle\" x=\"64\" y=\"-81.66\">0</text>\n",
       "</g>\n",
       "<!-- 3 -->\n",
       "<g class=\"node\" id=\"node4\">\n",
       "<title>3</title>\n",
       "<path d=\"M176,-37.86C176,-37.86 146,-37.86 146,-37.86 140,-37.86 134,-31.86 134,-25.86 134,-25.86 134,-13.86 134,-13.86 134,-7.86 140,-1.86 146,-1.86 146,-1.86 176,-1.86 176,-1.86 182,-1.86 188,-7.86 188,-13.86 188,-13.86 188,-25.86 188,-25.86 188,-31.86 182,-37.86 176,-37.86\" fill=\"none\" stroke=\"black\"/>\n",
       "<text font-family=\"Times,serif\" font-size=\"14.00\" text-anchor=\"middle\" x=\"161\" y=\"-16.16\">$1</text>\n",
       "</g>\n",
       "<!-- 2&#45;&gt;3 -->\n",
       "<g class=\"edge\" id=\"edge4\">\n",
       "<title>2-&gt;3</title>\n",
       "<path d=\"M91.21,-35.79C101.28,-33.46 112.96,-30.75 123.81,-28.24\" fill=\"none\" stroke=\"black\"/>\n",
       "<polygon fill=\"black\" points=\"124.92,-31.58 133.87,-25.91 123.34,-24.76 124.92,-31.58\" stroke=\"black\"/>\n",
       "<text font-family=\"Times,serif\" font-size=\"14.00\" text-anchor=\"middle\" x=\"112.5\" y=\"-34.66\">1</text>\n",
       "</g>\n",
       "<!-- 3&#45;&gt;2 -->\n",
       "<g class=\"edge\" id=\"edge5\">\n",
       "<title>3-&gt;2</title>\n",
       "<path d=\"M134,-10.49C125.88,-8.83 116.97,-8.33 109,-10.86 103.66,-12.55 98.4,-15.16 93.48,-18.15\" fill=\"none\" stroke=\"black\"/>\n",
       "<polygon fill=\"black\" points=\"91.38,-15.35 85.06,-23.84 95.3,-21.14 91.38,-15.35\" stroke=\"black\"/>\n",
       "<text font-family=\"Times,serif\" font-size=\"14.00\" text-anchor=\"middle\" x=\"112.5\" y=\"-14.66\">1</text>\n",
       "</g>\n",
       "<!-- 4 -->\n",
       "<g class=\"node\" id=\"node5\">\n",
       "<title>4</title>\n",
       "<path d=\"M273,-37.86C273,-37.86 243,-37.86 243,-37.86 237,-37.86 231,-31.86 231,-25.86 231,-25.86 231,-13.86 231,-13.86 231,-7.86 237,-1.86 243,-1.86 243,-1.86 273,-1.86 273,-1.86 279,-1.86 285,-7.86 285,-13.86 285,-13.86 285,-25.86 285,-25.86 285,-31.86 279,-37.86 273,-37.86\" fill=\"none\" stroke=\"black\"/>\n",
       "<text font-family=\"Times,serif\" font-size=\"14.00\" text-anchor=\"middle\" x=\"258\" y=\"-16.16\">$2</text>\n",
       "</g>\n",
       "<!-- 3&#45;&gt;4 -->\n",
       "<g class=\"edge\" id=\"edge6\">\n",
       "<title>3-&gt;4</title>\n",
       "<path d=\"M188.21,-19.86C198.28,-19.86 209.96,-19.86 220.81,-19.86\" fill=\"none\" stroke=\"black\"/>\n",
       "<polygon fill=\"black\" points=\"220.87,-23.36 230.87,-19.86 220.87,-16.36 220.87,-23.36\" stroke=\"black\"/>\n",
       "<text font-family=\"Times,serif\" font-size=\"14.00\" text-anchor=\"middle\" x=\"209.5\" y=\"-23.66\">0</text>\n",
       "</g>\n",
       "<!-- 4&#45;&gt;3 -->\n",
       "<g class=\"edge\" id=\"edge7\">\n",
       "<title>4-&gt;3</title>\n",
       "<path d=\"M230.98,-4.08C223.1,-0.98 214.33,0.86 206,-0.86 203.34,-1.41 200.65,-2.13 197.97,-2.96\" fill=\"none\" stroke=\"black\"/>\n",
       "<polygon fill=\"black\" points=\"196.64,0.28 188.42,-6.4 199.02,-6.3 196.64,0.28\" stroke=\"black\"/>\n",
       "<text font-family=\"Times,serif\" font-size=\"14.00\" text-anchor=\"middle\" x=\"209.5\" y=\"-4.66\">0</text>\n",
       "</g>\n",
       "<!-- 4&#45;&gt;4 -->\n",
       "<g class=\"edge\" id=\"edge8\">\n",
       "<title>4-&gt;4</title>\n",
       "<path d=\"M249.32,-38.01C247.98,-47.4 250.88,-55.86 258,-55.86 262.34,-55.86 265.11,-52.72 266.31,-48.14\" fill=\"none\" stroke=\"black\"/>\n",
       "<polygon fill=\"black\" points=\"269.82,-48.13 266.68,-38.01 262.82,-47.88 269.82,-48.13\" stroke=\"black\"/>\n",
       "<text font-family=\"Times,serif\" font-size=\"14.00\" text-anchor=\"middle\" x=\"258\" y=\"-59.66\">1</text>\n",
       "</g>\n",
       "</g>\n",
       "</svg>"
      ],
      "text/plain": [
       "<IPython.core.display.SVG object>"
      ]
     },
     "metadata": {},
     "output_type": "display_data"
    }
   ],
   "source": [
    "awalipy.make_divkbaseb(3,2).display()"
   ]
  },
  {
   "cell_type": "markdown",
   "metadata": {},
   "source": [
    "---\n",
    "`make_ladybird(n)` returns an automaton with `n`-states, whose equivalent minimal DFA has `2**n` states."
   ]
  },
  {
   "cell_type": "code",
   "execution_count": 29,
   "metadata": {},
   "outputs": [
    {
     "data": {
      "image/svg+xml": [
       "<svg height=\"219pt\" viewBox=\"0.00 0.00 487.00 219.00\" width=\"487pt\" xmlns=\"http://www.w3.org/2000/svg\" xmlns:xlink=\"http://www.w3.org/1999/xlink\">\n",
       "<g class=\"graph\" id=\"graph0\" transform=\"scale(1 1) rotate(0) translate(4 215)\">\n",
       "<title>%3</title>\n",
       "<polygon fill=\"white\" points=\"-4,4 -4,-215 483,-215 483,4 -4,4\" stroke=\"transparent\"/>\n",
       "<!-- I2 -->\n",
       "<g class=\"node\" id=\"node1\">\n",
       "<title>I2</title>\n",
       "<ellipse cx=\"0\" cy=\"-107\" fill=\"black\" rx=\"0\" ry=\"0\" stroke=\"black\"/>\n",
       "</g>\n",
       "<!-- 2 -->\n",
       "<g class=\"node\" id=\"node3\">\n",
       "<title>2</title>\n",
       "<path d=\"M79,-125C79,-125 49,-125 49,-125 43,-125 37,-119 37,-113 37,-113 37,-101 37,-101 37,-95 43,-89 49,-89 49,-89 79,-89 79,-89 85,-89 91,-95 91,-101 91,-101 91,-113 91,-113 91,-119 85,-125 79,-125\" fill=\"none\" stroke=\"black\"/>\n",
       "<text font-family=\"Times,serif\" font-size=\"14.00\" text-anchor=\"middle\" x=\"64\" y=\"-103.3\">$0</text>\n",
       "</g>\n",
       "<!-- I2&#45;&gt;2 -->\n",
       "<g class=\"edge\" id=\"edge1\">\n",
       "<title>I2-&gt;2</title>\n",
       "<path d=\"M1.04,-107C1.86,-107 13.73,-107 26.87,-107\" fill=\"none\" stroke=\"DimGray\"/>\n",
       "<polygon fill=\"DimGray\" points=\"27,-110.5 37,-107 27,-103.5 27,-110.5\" stroke=\"DimGray\"/>\n",
       "</g>\n",
       "<!-- F2 -->\n",
       "<g class=\"node\" id=\"node2\">\n",
       "<title>F2</title>\n",
       "<ellipse cx=\"161\" cy=\"-211\" fill=\"black\" rx=\"0\" ry=\"0\" stroke=\"black\"/>\n",
       "</g>\n",
       "<!-- 2&#45;&gt;F2 -->\n",
       "<g class=\"edge\" id=\"edge2\">\n",
       "<title>2-&gt;F2</title>\n",
       "<path d=\"M73.9,-125.35C85.12,-146.65 106.33,-181.48 134,-202 138.61,-205.42 144.62,-207.61 149.7,-208.97\" fill=\"none\" stroke=\"DimGray\"/>\n",
       "<polygon fill=\"DimGray\" points=\"149.47,-212.49 159.95,-210.99 150.82,-205.63 149.47,-212.49\" stroke=\"DimGray\"/>\n",
       "</g>\n",
       "<!-- 3 -->\n",
       "<g class=\"node\" id=\"node4\">\n",
       "<title>3</title>\n",
       "<path d=\"M176,-160C176,-160 146,-160 146,-160 140,-160 134,-154 134,-148 134,-148 134,-136 134,-136 134,-130 140,-124 146,-124 146,-124 176,-124 176,-124 182,-124 188,-130 188,-136 188,-136 188,-148 188,-148 188,-154 182,-160 176,-160\" fill=\"none\" stroke=\"black\"/>\n",
       "<text font-family=\"Times,serif\" font-size=\"14.00\" text-anchor=\"middle\" x=\"161\" y=\"-138.3\">$1</text>\n",
       "</g>\n",
       "<!-- 2&#45;&gt;3 -->\n",
       "<g class=\"edge\" id=\"edge3\">\n",
       "<title>2-&gt;3</title>\n",
       "<path d=\"M84.08,-125.27C91.32,-131.07 100,-136.8 109,-140 113.61,-141.64 118.61,-142.66 123.6,-143.26\" fill=\"none\" stroke=\"black\"/>\n",
       "<polygon fill=\"black\" points=\"123.53,-146.76 133.75,-143.96 124.01,-139.78 123.53,-146.76\" stroke=\"black\"/>\n",
       "<text font-family=\"Times,serif\" font-size=\"14.00\" text-anchor=\"middle\" x=\"112.5\" y=\"-144.8\">a</text>\n",
       "</g>\n",
       "<!-- 3&#45;&gt;2 -->\n",
       "<g class=\"edge\" id=\"edge4\">\n",
       "<title>3-&gt;2</title>\n",
       "<path d=\"M133.8,-128.57C128.02,-125.86 121.87,-123.19 116,-121 111.18,-119.2 106.02,-117.52 100.91,-115.99\" fill=\"none\" stroke=\"black\"/>\n",
       "<polygon fill=\"black\" points=\"101.8,-112.61 91.23,-113.24 99.89,-119.34 101.8,-112.61\" stroke=\"black\"/>\n",
       "<text font-family=\"Times,serif\" font-size=\"14.00\" text-anchor=\"middle\" x=\"112.5\" y=\"-124.8\">c</text>\n",
       "</g>\n",
       "<!-- 3&#45;&gt;3 -->\n",
       "<g class=\"edge\" id=\"edge5\">\n",
       "<title>3-&gt;3</title>\n",
       "<path d=\"M152.32,-160.15C150.98,-169.54 153.88,-178 161,-178 165.34,-178 168.11,-174.86 169.31,-170.28\" fill=\"none\" stroke=\"black\"/>\n",
       "<polygon fill=\"black\" points=\"172.82,-170.27 169.68,-160.15 165.82,-170.02 172.82,-170.27\" stroke=\"black\"/>\n",
       "<text font-family=\"Times,serif\" font-size=\"14.00\" text-anchor=\"middle\" x=\"161\" y=\"-181.8\">b, c</text>\n",
       "</g>\n",
       "<!-- 4 -->\n",
       "<g class=\"node\" id=\"node5\">\n",
       "<title>4</title>\n",
       "<path d=\"M273,-109C273,-109 243,-109 243,-109 237,-109 231,-103 231,-97 231,-97 231,-85 231,-85 231,-79 237,-73 243,-73 243,-73 273,-73 273,-73 279,-73 285,-79 285,-85 285,-85 285,-97 285,-97 285,-103 279,-109 273,-109\" fill=\"none\" stroke=\"black\"/>\n",
       "<text font-family=\"Times,serif\" font-size=\"14.00\" text-anchor=\"middle\" x=\"258\" y=\"-87.3\">$2</text>\n",
       "</g>\n",
       "<!-- 3&#45;&gt;4 -->\n",
       "<g class=\"edge\" id=\"edge6\">\n",
       "<title>3-&gt;4</title>\n",
       "<path d=\"M188.21,-127.93C198.59,-122.35 210.69,-115.86 221.82,-109.89\" fill=\"none\" stroke=\"black\"/>\n",
       "<polygon fill=\"black\" points=\"223.72,-112.84 230.87,-105.03 220.41,-106.67 223.72,-112.84\" stroke=\"black\"/>\n",
       "<text font-family=\"Times,serif\" font-size=\"14.00\" text-anchor=\"middle\" x=\"209.5\" y=\"-121.8\">a</text>\n",
       "</g>\n",
       "<!-- 4&#45;&gt;2 -->\n",
       "<g class=\"edge\" id=\"edge7\">\n",
       "<title>4-&gt;2</title>\n",
       "<path d=\"M230.59,-92.72C205.67,-94.39 167.28,-97.1 134,-100 123.38,-100.93 111.86,-102.05 101.33,-103.12\" fill=\"none\" stroke=\"black\"/>\n",
       "<polygon fill=\"black\" points=\"100.78,-99.66 91.2,-104.17 101.5,-106.62 100.78,-99.66\" stroke=\"black\"/>\n",
       "<text font-family=\"Times,serif\" font-size=\"14.00\" text-anchor=\"middle\" x=\"161\" y=\"-103.8\">c</text>\n",
       "</g>\n",
       "<!-- 4&#45;&gt;4 -->\n",
       "<g class=\"edge\" id=\"edge8\">\n",
       "<title>4-&gt;4</title>\n",
       "<path d=\"M249.32,-109.15C247.98,-118.54 250.88,-127 258,-127 262.34,-127 265.11,-123.86 266.31,-119.28\" fill=\"none\" stroke=\"black\"/>\n",
       "<polygon fill=\"black\" points=\"269.82,-119.27 266.68,-109.15 262.82,-119.02 269.82,-119.27\" stroke=\"black\"/>\n",
       "<text font-family=\"Times,serif\" font-size=\"14.00\" text-anchor=\"middle\" x=\"258\" y=\"-130.8\">b, c</text>\n",
       "</g>\n",
       "<!-- 5 -->\n",
       "<g class=\"node\" id=\"node6\">\n",
       "<title>5</title>\n",
       "<path d=\"M370,-66C370,-66 340,-66 340,-66 334,-66 328,-60 328,-54 328,-54 328,-42 328,-42 328,-36 334,-30 340,-30 340,-30 370,-30 370,-30 376,-30 382,-36 382,-42 382,-42 382,-54 382,-54 382,-60 376,-66 370,-66\" fill=\"none\" stroke=\"black\"/>\n",
       "<text font-family=\"Times,serif\" font-size=\"14.00\" text-anchor=\"middle\" x=\"355\" y=\"-44.3\">$3</text>\n",
       "</g>\n",
       "<!-- 4&#45;&gt;5 -->\n",
       "<g class=\"edge\" id=\"edge9\">\n",
       "<title>4-&gt;5</title>\n",
       "<path d=\"M285.21,-79.14C295.49,-74.48 307.45,-69.07 318.48,-64.08\" fill=\"none\" stroke=\"black\"/>\n",
       "<polygon fill=\"black\" points=\"320.21,-67.14 327.87,-59.83 317.32,-60.76 320.21,-67.14\" stroke=\"black\"/>\n",
       "<text font-family=\"Times,serif\" font-size=\"14.00\" text-anchor=\"middle\" x=\"306.5\" y=\"-73.8\">a</text>\n",
       "</g>\n",
       "<!-- 5&#45;&gt;2 -->\n",
       "<g class=\"edge\" id=\"edge10\">\n",
       "<title>5-&gt;2</title>\n",
       "<path d=\"M327.93,-50.44C302.93,-53.01 264.19,-57.57 231,-64 185.71,-72.78 134.42,-86.68 100.99,-96.3\" fill=\"none\" stroke=\"black\"/>\n",
       "<polygon fill=\"black\" points=\"99.85,-92.98 91.22,-99.13 101.8,-99.71 99.85,-92.98\" stroke=\"black\"/>\n",
       "<text font-family=\"Times,serif\" font-size=\"14.00\" text-anchor=\"middle\" x=\"209.5\" y=\"-72.8\">c</text>\n",
       "</g>\n",
       "<!-- 5&#45;&gt;5 -->\n",
       "<g class=\"edge\" id=\"edge11\">\n",
       "<title>5-&gt;5</title>\n",
       "<path d=\"M346.32,-66.15C344.98,-75.54 347.88,-84 355,-84 359.34,-84 362.11,-80.86 363.31,-76.28\" fill=\"none\" stroke=\"black\"/>\n",
       "<polygon fill=\"black\" points=\"366.82,-76.27 363.68,-66.15 359.82,-76.02 366.82,-76.27\" stroke=\"black\"/>\n",
       "<text font-family=\"Times,serif\" font-size=\"14.00\" text-anchor=\"middle\" x=\"355\" y=\"-87.8\">b, c</text>\n",
       "</g>\n",
       "<!-- 6 -->\n",
       "<g class=\"node\" id=\"node7\">\n",
       "<title>6</title>\n",
       "<path d=\"M467,-36C467,-36 437,-36 437,-36 431,-36 425,-30 425,-24 425,-24 425,-12 425,-12 425,-6 431,0 437,0 437,0 467,0 467,0 473,0 479,-6 479,-12 479,-12 479,-24 479,-24 479,-30 473,-36 467,-36\" fill=\"none\" stroke=\"black\"/>\n",
       "<text font-family=\"Times,serif\" font-size=\"14.00\" text-anchor=\"middle\" x=\"452\" y=\"-14.3\">$4</text>\n",
       "</g>\n",
       "<!-- 5&#45;&gt;6 -->\n",
       "<g class=\"edge\" id=\"edge12\">\n",
       "<title>5-&gt;6</title>\n",
       "<path d=\"M382.21,-39.72C392.39,-36.51 404.21,-32.78 415.15,-29.32\" fill=\"none\" stroke=\"black\"/>\n",
       "<polygon fill=\"black\" points=\"416.39,-32.6 424.87,-26.25 414.29,-25.92 416.39,-32.6\" stroke=\"black\"/>\n",
       "<text font-family=\"Times,serif\" font-size=\"14.00\" text-anchor=\"middle\" x=\"403.5\" y=\"-37.8\">a</text>\n",
       "</g>\n",
       "<!-- 6&#45;&gt;2 -->\n",
       "<g class=\"edge\" id=\"edge13\">\n",
       "<title>6-&gt;2</title>\n",
       "<path d=\"M424.99,-11.21C406.01,-6.85 379.58,-2 356,-2 160,-2 160,-2 160,-2 118.3,-2 90.15,-48.11 75.9,-79.21\" fill=\"none\" stroke=\"black\"/>\n",
       "<polygon fill=\"black\" points=\"72.55,-78.14 71.77,-88.71 78.97,-80.94 72.55,-78.14\" stroke=\"black\"/>\n",
       "<text font-family=\"Times,serif\" font-size=\"14.00\" text-anchor=\"middle\" x=\"258\" y=\"-5.8\">a, c</text>\n",
       "</g>\n",
       "<!-- 6&#45;&gt;6 -->\n",
       "<g class=\"edge\" id=\"edge14\">\n",
       "<title>6-&gt;6</title>\n",
       "<path d=\"M443.32,-36.15C441.98,-45.54 444.88,-54 452,-54 456.34,-54 459.11,-50.86 460.31,-46.28\" fill=\"none\" stroke=\"black\"/>\n",
       "<polygon fill=\"black\" points=\"463.82,-46.27 460.68,-36.15 456.82,-46.02 463.82,-46.27\" stroke=\"black\"/>\n",
       "<text font-family=\"Times,serif\" font-size=\"14.00\" text-anchor=\"middle\" x=\"452\" y=\"-57.8\">b, c</text>\n",
       "</g>\n",
       "</g>\n",
       "</svg>"
      ],
      "text/plain": [
       "<IPython.core.display.SVG object>"
      ]
     },
     "metadata": {},
     "output_type": "display_data"
    }
   ],
   "source": [
    "awalipy.make_ladybird(5).display()"
   ]
  },
  {
   "cell_type": "markdown",
   "metadata": {},
   "source": [
    "---\n",
    "See also `make_de_bruijn` ,  `make_double_ring` , `make_witness`"
   ]
  },
  {
   "cell_type": "markdown",
   "metadata": {},
   "source": [
    "## Generate a random accessible DFA"
   ]
  },
  {
   "cell_type": "code",
   "execution_count": 30,
   "metadata": {},
   "outputs": [
    {
     "data": {
      "image/svg+xml": [
       "<svg height=\"129pt\" viewBox=\"0.00 0.00 538.00 129.00\" width=\"538pt\" xmlns=\"http://www.w3.org/2000/svg\" xmlns:xlink=\"http://www.w3.org/1999/xlink\">\n",
       "<g class=\"graph\" id=\"graph0\" transform=\"scale(1 1) rotate(0) translate(4 125)\">\n",
       "<title>%3</title>\n",
       "<polygon fill=\"white\" points=\"-4,4 -4,-125 534,-125 534,4 -4,4\" stroke=\"transparent\"/>\n",
       "<!-- I2 -->\n",
       "<g class=\"node\" id=\"node1\">\n",
       "<title>I2</title>\n",
       "<ellipse cx=\"0\" cy=\"-37\" fill=\"black\" rx=\"0\" ry=\"0\" stroke=\"black\"/>\n",
       "</g>\n",
       "<!-- 2 -->\n",
       "<g class=\"node\" id=\"node5\">\n",
       "<title>2</title>\n",
       "<path d=\"M79,-55C79,-55 49,-55 49,-55 43,-55 37,-49 37,-43 37,-43 37,-31 37,-31 37,-25 43,-19 49,-19 49,-19 79,-19 79,-19 85,-19 91,-25 91,-31 91,-31 91,-43 91,-43 91,-49 85,-55 79,-55\" fill=\"none\" stroke=\"black\"/>\n",
       "<text font-family=\"Times,serif\" font-size=\"14.00\" text-anchor=\"middle\" x=\"64\" y=\"-33.3\">$0</text>\n",
       "</g>\n",
       "<!-- I2&#45;&gt;2 -->\n",
       "<g class=\"edge\" id=\"edge1\">\n",
       "<title>I2-&gt;2</title>\n",
       "<path d=\"M1.04,-37C1.86,-37 13.73,-37 26.87,-37\" fill=\"none\" stroke=\"DimGray\"/>\n",
       "<polygon fill=\"DimGray\" points=\"27,-40.5 37,-37 27,-33.5 27,-40.5\" stroke=\"DimGray\"/>\n",
       "</g>\n",
       "<!-- F3 -->\n",
       "<g class=\"node\" id=\"node2\">\n",
       "<title>F3</title>\n",
       "<ellipse cx=\"258\" cy=\"-111\" fill=\"black\" rx=\"0\" ry=\"0\" stroke=\"black\"/>\n",
       "</g>\n",
       "<!-- F5 -->\n",
       "<g class=\"node\" id=\"node3\">\n",
       "<title>F5</title>\n",
       "<ellipse cx=\"466\" cy=\"-109\" fill=\"black\" rx=\"0\" ry=\"0\" stroke=\"black\"/>\n",
       "</g>\n",
       "<!-- F6 -->\n",
       "<g class=\"node\" id=\"node4\">\n",
       "<title>F6</title>\n",
       "<ellipse cx=\"530\" cy=\"-46\" fill=\"black\" rx=\"0\" ry=\"0\" stroke=\"black\"/>\n",
       "</g>\n",
       "<!-- 2&#45;&gt;2 -->\n",
       "<g class=\"edge\" id=\"edge2\">\n",
       "<title>2-&gt;2</title>\n",
       "<path d=\"M56.04,-55.15C54.82,-64.54 57.47,-73 64,-73 67.98,-73 70.52,-69.86 71.62,-65.28\" fill=\"none\" stroke=\"black\"/>\n",
       "<polygon fill=\"black\" points=\"75.12,-65.26 71.96,-55.15 68.13,-65.03 75.12,-65.26\" stroke=\"black\"/>\n",
       "<text font-family=\"Times,serif\" font-size=\"14.00\" text-anchor=\"middle\" x=\"64\" y=\"-76.8\">a</text>\n",
       "</g>\n",
       "<!-- 3 -->\n",
       "<g class=\"node\" id=\"node6\">\n",
       "<title>3</title>\n",
       "<path d=\"M176,-93C176,-93 146,-93 146,-93 140,-93 134,-87 134,-81 134,-81 134,-69 134,-69 134,-63 140,-57 146,-57 146,-57 176,-57 176,-57 182,-57 188,-63 188,-69 188,-69 188,-81 188,-81 188,-87 182,-93 176,-93\" fill=\"none\" stroke=\"black\"/>\n",
       "<text font-family=\"Times,serif\" font-size=\"14.00\" text-anchor=\"middle\" x=\"161\" y=\"-71.3\">$1</text>\n",
       "</g>\n",
       "<!-- 2&#45;&gt;3 -->\n",
       "<g class=\"edge\" id=\"edge3\">\n",
       "<title>2-&gt;3</title>\n",
       "<path d=\"M91.21,-47.48C101.49,-51.6 113.45,-56.38 124.48,-60.79\" fill=\"none\" stroke=\"black\"/>\n",
       "<polygon fill=\"black\" points=\"123.29,-64.09 133.87,-64.55 125.89,-57.59 123.29,-64.09\" stroke=\"black\"/>\n",
       "<text font-family=\"Times,serif\" font-size=\"14.00\" text-anchor=\"middle\" x=\"112.5\" y=\"-60.8\">b</text>\n",
       "</g>\n",
       "<!-- 3&#45;&gt;F3 -->\n",
       "<g class=\"edge\" id=\"edge4\">\n",
       "<title>3-&gt;F3</title>\n",
       "<path d=\"M188.37,-86.83C194.14,-89.29 200.25,-91.8 206,-94 220.19,-99.42 236.95,-104.82 247.28,-108.03\" fill=\"none\" stroke=\"DimGray\"/>\n",
       "<polygon fill=\"DimGray\" points=\"246.33,-111.4 256.92,-110.98 248.37,-104.71 246.33,-111.4\" stroke=\"DimGray\"/>\n",
       "</g>\n",
       "<!-- 3&#45;&gt;2 -->\n",
       "<g class=\"edge\" id=\"edge5\">\n",
       "<title>3-&gt;2</title>\n",
       "<path d=\"M145.72,-56.91C137.95,-48.54 127.55,-39.47 116,-35 111.39,-33.22 106.36,-32.31 101.32,-31.97\" fill=\"none\" stroke=\"black\"/>\n",
       "<polygon fill=\"black\" points=\"101.08,-28.47 91.09,-32 101.1,-35.47 101.08,-28.47\" stroke=\"black\"/>\n",
       "<text font-family=\"Times,serif\" font-size=\"14.00\" text-anchor=\"middle\" x=\"112.5\" y=\"-38.8\">a</text>\n",
       "</g>\n",
       "<!-- 4 -->\n",
       "<g class=\"node\" id=\"node7\">\n",
       "<title>4</title>\n",
       "<path d=\"M273,-93C273,-93 243,-93 243,-93 237,-93 231,-87 231,-81 231,-81 231,-69 231,-69 231,-63 237,-57 243,-57 243,-57 273,-57 273,-57 279,-57 285,-63 285,-69 285,-69 285,-81 285,-81 285,-87 279,-93 273,-93\" fill=\"none\" stroke=\"black\"/>\n",
       "<text font-family=\"Times,serif\" font-size=\"14.00\" text-anchor=\"middle\" x=\"258\" y=\"-71.3\">$2</text>\n",
       "</g>\n",
       "<!-- 3&#45;&gt;4 -->\n",
       "<g class=\"edge\" id=\"edge6\">\n",
       "<title>3-&gt;4</title>\n",
       "<path d=\"M188.21,-75C198.28,-75 209.96,-75 220.81,-75\" fill=\"none\" stroke=\"black\"/>\n",
       "<polygon fill=\"black\" points=\"220.87,-78.5 230.87,-75 220.87,-71.5 220.87,-78.5\" stroke=\"black\"/>\n",
       "<text font-family=\"Times,serif\" font-size=\"14.00\" text-anchor=\"middle\" x=\"209.5\" y=\"-78.8\">b</text>\n",
       "</g>\n",
       "<!-- 5 -->\n",
       "<g class=\"node\" id=\"node8\">\n",
       "<title>5</title>\n",
       "<path d=\"M384,-121C384,-121 354,-121 354,-121 348,-121 342,-115 342,-109 342,-109 342,-97 342,-97 342,-91 348,-85 354,-85 354,-85 384,-85 384,-85 390,-85 396,-91 396,-97 396,-97 396,-109 396,-109 396,-115 390,-121 384,-121\" fill=\"none\" stroke=\"black\"/>\n",
       "<text font-family=\"Times,serif\" font-size=\"14.00\" text-anchor=\"middle\" x=\"369\" y=\"-99.3\">$3</text>\n",
       "</g>\n",
       "<!-- 4&#45;&gt;5 -->\n",
       "<g class=\"edge\" id=\"edge7\">\n",
       "<title>4-&gt;5</title>\n",
       "<path d=\"M285.03,-88.4C290.83,-90.94 297.02,-93.32 303,-95 312.16,-97.58 322.28,-99.33 331.76,-100.51\" fill=\"none\" stroke=\"black\"/>\n",
       "<polygon fill=\"black\" points=\"331.39,-103.99 341.71,-101.59 332.14,-97.03 331.39,-103.99\" stroke=\"black\"/>\n",
       "<text font-family=\"Times,serif\" font-size=\"14.00\" text-anchor=\"middle\" x=\"313.5\" y=\"-102.8\">a, b</text>\n",
       "</g>\n",
       "<!-- 5&#45;&gt;F5 -->\n",
       "<g class=\"edge\" id=\"edge8\">\n",
       "<title>5-&gt;F5</title>\n",
       "<path d=\"M396.21,-104.66C415.58,-105.88 440.9,-107.48 454.78,-108.35\" fill=\"none\" stroke=\"DimGray\"/>\n",
       "<polygon fill=\"DimGray\" points=\"454.68,-111.86 464.88,-108.99 455.12,-104.87 454.68,-111.86\" stroke=\"DimGray\"/>\n",
       "</g>\n",
       "<!-- 5&#45;&gt;4 -->\n",
       "<g class=\"edge\" id=\"edge9\">\n",
       "<title>5-&gt;4</title>\n",
       "<path d=\"M343.5,-84.82C337.42,-81.22 330.71,-77.95 324,-76 314.85,-73.34 304.66,-72.33 295.12,-72.16\" fill=\"none\" stroke=\"black\"/>\n",
       "<polygon fill=\"black\" points=\"295.05,-68.66 285.09,-72.28 295.13,-75.66 295.05,-68.66\" stroke=\"black\"/>\n",
       "<text font-family=\"Times,serif\" font-size=\"14.00\" text-anchor=\"middle\" x=\"313.5\" y=\"-79.8\">a</text>\n",
       "</g>\n",
       "<!-- 6 -->\n",
       "<g class=\"node\" id=\"node9\">\n",
       "<title>6</title>\n",
       "<path d=\"M481,-64C481,-64 451,-64 451,-64 445,-64 439,-58 439,-52 439,-52 439,-40 439,-40 439,-34 445,-28 451,-28 451,-28 481,-28 481,-28 487,-28 493,-34 493,-40 493,-40 493,-52 493,-52 493,-58 487,-64 481,-64\" fill=\"none\" stroke=\"black\"/>\n",
       "<text font-family=\"Times,serif\" font-size=\"14.00\" text-anchor=\"middle\" x=\"466\" y=\"-42.3\">$4</text>\n",
       "</g>\n",
       "<!-- 5&#45;&gt;6 -->\n",
       "<g class=\"edge\" id=\"edge10\">\n",
       "<title>5-&gt;6</title>\n",
       "<path d=\"M396.21,-87.27C406.7,-80.98 418.93,-73.64 430.15,-66.91\" fill=\"none\" stroke=\"black\"/>\n",
       "<polygon fill=\"black\" points=\"432.1,-69.82 438.87,-61.68 428.5,-63.82 432.1,-69.82\" stroke=\"black\"/>\n",
       "<text font-family=\"Times,serif\" font-size=\"14.00\" text-anchor=\"middle\" x=\"417.5\" y=\"-79.8\">b</text>\n",
       "</g>\n",
       "<!-- 6&#45;&gt;F6 -->\n",
       "<g class=\"edge\" id=\"edge11\">\n",
       "<title>6-&gt;F6</title>\n",
       "<path d=\"M493.29,-46C502.25,-46 511.73,-46 518.68,-46\" fill=\"none\" stroke=\"DimGray\"/>\n",
       "<polygon fill=\"DimGray\" points=\"518.95,-49.5 528.95,-46 518.95,-42.5 518.95,-49.5\" stroke=\"DimGray\"/>\n",
       "</g>\n",
       "<!-- 6&#45;&gt;2 -->\n",
       "<g class=\"edge\" id=\"edge12\">\n",
       "<title>6-&gt;2</title>\n",
       "<path d=\"M442.27,-27.82C423.89,-14.96 396.75,0 370,0 160,0 160,0 160,0 139.39,0 117.88,-7.65 100.54,-16\" fill=\"none\" stroke=\"black\"/>\n",
       "<polygon fill=\"black\" points=\"98.7,-13.01 91.38,-20.66 101.88,-19.25 98.7,-13.01\" stroke=\"black\"/>\n",
       "<text font-family=\"Times,serif\" font-size=\"14.00\" text-anchor=\"middle\" x=\"258\" y=\"-3.8\">a</text>\n",
       "</g>\n",
       "<!-- 6&#45;&gt;4 -->\n",
       "<g class=\"edge\" id=\"edge13\">\n",
       "<title>6-&gt;4</title>\n",
       "<path d=\"M438.56,-48.87C413.62,-51.66 375.21,-56.18 342,-61 326.64,-63.23 309.74,-66.02 295.22,-68.52\" fill=\"none\" stroke=\"black\"/>\n",
       "<polygon fill=\"black\" points=\"294.37,-65.12 285.12,-70.28 295.57,-72.01 294.37,-65.12\" stroke=\"black\"/>\n",
       "<text font-family=\"Times,serif\" font-size=\"14.00\" text-anchor=\"middle\" x=\"369\" y=\"-64.8\">b</text>\n",
       "</g>\n",
       "</g>\n",
       "</svg>"
      ],
      "text/plain": [
       "<IPython.core.display.SVG object>"
      ]
     },
     "metadata": {},
     "output_type": "display_data"
    }
   ],
   "source": [
    "awalipy.make_random_DFA(5,\"ab\").display()"
   ]
  },
  {
   "cell_type": "markdown",
   "metadata": {},
   "source": [
    "## Access and browsing"
   ]
  },
  {
   "cell_type": "code",
   "execution_count": 31,
   "metadata": {},
   "outputs": [
    {
     "data": {
      "image/svg+xml": [
       "<svg height=\"79pt\" viewBox=\"0.00 0.00 233.00 78.86\" width=\"233pt\" xmlns=\"http://www.w3.org/2000/svg\" xmlns:xlink=\"http://www.w3.org/1999/xlink\">\n",
       "<g class=\"graph\" id=\"graph0\" transform=\"scale(1 1) rotate(0) translate(4 74.86)\">\n",
       "<title>%3</title>\n",
       "<polygon fill=\"white\" points=\"-4,4 -4,-74.86 229,-74.86 229,4 -4,4\" stroke=\"transparent\"/>\n",
       "<!-- I2 -->\n",
       "<g class=\"node\" id=\"node1\">\n",
       "<title>I2</title>\n",
       "<ellipse cx=\"0\" cy=\"-19.86\" fill=\"black\" rx=\"0\" ry=\"0\" stroke=\"black\"/>\n",
       "</g>\n",
       "<!-- 2 -->\n",
       "<g class=\"node\" id=\"node3\">\n",
       "<title>2</title>\n",
       "<path d=\"M79,-37.86C79,-37.86 49,-37.86 49,-37.86 43,-37.86 37,-31.86 37,-25.86 37,-25.86 37,-13.86 37,-13.86 37,-7.86 43,-1.86 49,-1.86 49,-1.86 79,-1.86 79,-1.86 85,-1.86 91,-7.86 91,-13.86 91,-13.86 91,-25.86 91,-25.86 91,-31.86 85,-37.86 79,-37.86\" fill=\"none\" stroke=\"black\"/>\n",
       "<text font-family=\"Times,serif\" font-size=\"14.00\" text-anchor=\"middle\" x=\"64\" y=\"-16.16\">$0</text>\n",
       "</g>\n",
       "<!-- I2&#45;&gt;2 -->\n",
       "<g class=\"edge\" id=\"edge1\">\n",
       "<title>I2-&gt;2</title>\n",
       "<path d=\"M1.04,-19.86C1.86,-19.86 13.73,-19.86 26.87,-19.86\" fill=\"none\" stroke=\"DimGray\"/>\n",
       "<polygon fill=\"DimGray\" points=\"27,-23.36 37,-19.86 27,-16.36 27,-23.36\" stroke=\"DimGray\"/>\n",
       "</g>\n",
       "<!-- F3 -->\n",
       "<g class=\"node\" id=\"node2\">\n",
       "<title>F3</title>\n",
       "<ellipse cx=\"225\" cy=\"-19.86\" fill=\"black\" rx=\"0\" ry=\"0\" stroke=\"black\"/>\n",
       "</g>\n",
       "<!-- 2&#45;&gt;2 -->\n",
       "<g class=\"edge\" id=\"edge2\">\n",
       "<title>2-&gt;2</title>\n",
       "<path d=\"M56.04,-38.01C54.82,-47.4 57.47,-55.86 64,-55.86 67.98,-55.86 70.52,-52.72 71.62,-48.14\" fill=\"none\" stroke=\"black\"/>\n",
       "<polygon fill=\"black\" points=\"75.12,-48.13 71.96,-38.01 68.13,-47.89 75.12,-48.13\" stroke=\"black\"/>\n",
       "<text font-family=\"Times,serif\" font-size=\"14.00\" text-anchor=\"middle\" x=\"64\" y=\"-59.66\">b</text>\n",
       "</g>\n",
       "<!-- 3 -->\n",
       "<g class=\"node\" id=\"node4\">\n",
       "<title>3</title>\n",
       "<path d=\"M176,-37.86C176,-37.86 146,-37.86 146,-37.86 140,-37.86 134,-31.86 134,-25.86 134,-25.86 134,-13.86 134,-13.86 134,-7.86 140,-1.86 146,-1.86 146,-1.86 176,-1.86 176,-1.86 182,-1.86 188,-7.86 188,-13.86 188,-13.86 188,-25.86 188,-25.86 188,-31.86 182,-37.86 176,-37.86\" fill=\"none\" stroke=\"black\"/>\n",
       "<text font-family=\"Times,serif\" font-size=\"14.00\" text-anchor=\"middle\" x=\"161\" y=\"-16.16\">$1</text>\n",
       "</g>\n",
       "<!-- 2&#45;&gt;3 -->\n",
       "<g class=\"edge\" id=\"edge3\">\n",
       "<title>2-&gt;3</title>\n",
       "<path d=\"M91.21,-19.86C101.28,-19.86 112.96,-19.86 123.81,-19.86\" fill=\"none\" stroke=\"black\"/>\n",
       "<polygon fill=\"black\" points=\"123.87,-23.36 133.87,-19.86 123.87,-16.36 123.87,-23.36\" stroke=\"black\"/>\n",
       "<text font-family=\"Times,serif\" font-size=\"14.00\" text-anchor=\"middle\" x=\"112.5\" y=\"-23.66\">a</text>\n",
       "</g>\n",
       "<!-- 3&#45;&gt;F3 -->\n",
       "<g class=\"edge\" id=\"edge4\">\n",
       "<title>3-&gt;F3</title>\n",
       "<path d=\"M188.29,-19.86C197.25,-19.86 206.73,-19.86 213.68,-19.86\" fill=\"none\" stroke=\"DimGray\"/>\n",
       "<polygon fill=\"DimGray\" points=\"213.95,-23.36 223.95,-19.86 213.95,-16.36 213.95,-23.36\" stroke=\"DimGray\"/>\n",
       "</g>\n",
       "<!-- 3&#45;&gt;2 -->\n",
       "<g class=\"edge\" id=\"edge5\">\n",
       "<title>3-&gt;2</title>\n",
       "<path d=\"M133.98,-4.08C126.1,-0.98 117.33,0.86 109,-0.86 106.34,-1.41 103.65,-2.13 100.97,-2.96\" fill=\"none\" stroke=\"black\"/>\n",
       "<polygon fill=\"black\" points=\"99.64,0.28 91.42,-6.4 102.02,-6.3 99.64,0.28\" stroke=\"black\"/>\n",
       "<text font-family=\"Times,serif\" font-size=\"14.00\" text-anchor=\"middle\" x=\"112.5\" y=\"-4.66\">b</text>\n",
       "</g>\n",
       "</g>\n",
       "</svg>"
      ],
      "text/plain": [
       "<IPython.core.display.SVG object>"
      ]
     },
     "metadata": {},
     "output_type": "display_data"
    }
   ],
   "source": [
    "A.display()"
   ]
  },
  {
   "cell_type": "markdown",
   "metadata": {},
   "source": [
    "---\n",
    "Getting the list of states, of transitions.\n",
    "\n",
    "(It cannot be assumed that the ids of states are `[0,1,...,n]` for some n)"
   ]
  },
  {
   "cell_type": "code",
   "execution_count": 32,
   "metadata": {},
   "outputs": [
    {
     "data": {
      "text/plain": [
       "([0, 1], [0, 1, 2])"
      ]
     },
     "execution_count": 32,
     "metadata": {},
     "output_type": "execute_result"
    }
   ],
   "source": [
    "A.states(), A.transitions()"
   ]
  },
  {
   "cell_type": "markdown",
   "metadata": {},
   "source": [
    "---\n",
    "Getting the list of initial states, of final states."
   ]
  },
  {
   "cell_type": "code",
   "execution_count": 33,
   "metadata": {},
   "outputs": [
    {
     "data": {
      "text/plain": [
       "([0], [1])"
      ]
     },
     "execution_count": 33,
     "metadata": {},
     "output_type": "execute_result"
    }
   ],
   "source": [
    "A.initial_states(), A.final_states()"
   ]
  },
  {
   "cell_type": "markdown",
   "metadata": {
    "collapsed": true
   },
   "source": [
    "---\n",
    "Listing the transitions adjacent to a state."
   ]
  },
  {
   "cell_type": "code",
   "execution_count": 34,
   "metadata": {},
   "outputs": [
    {
     "data": {
      "text/plain": [
       "([1], [0])"
      ]
     },
     "execution_count": 34,
     "metadata": {},
     "output_type": "execute_result"
    }
   ],
   "source": [
    "A.outgoing(stt_1), A.incoming(stt_1)"
   ]
  },
  {
   "cell_type": "markdown",
   "metadata": {},
   "source": [
    "---\n",
    "Listing the transitions from a state to another."
   ]
  },
  {
   "cell_type": "code",
   "execution_count": 35,
   "metadata": {},
   "outputs": [
    {
     "data": {
      "text/plain": [
       "[0]"
      ]
     },
     "execution_count": 35,
     "metadata": {},
     "output_type": "execute_result"
    }
   ],
   "source": [
    "A.outin(stt_0,stt_1)"
   ]
  },
  {
   "cell_type": "markdown",
   "metadata": {},
   "source": [
    "---\n",
    "Getting information from a transition identifier."
   ]
  },
  {
   "cell_type": "code",
   "execution_count": 36,
   "metadata": {},
   "outputs": [
    {
     "name": "stdout",
     "output_type": "stream",
     "text": [
      "1\n",
      "b\n",
      "0\n",
      "(1, 'b', '1', 0)\n"
     ]
    }
   ],
   "source": [
    "# NB: tr_1 is a transition s1 --b--> s0\n",
    "print (A.src_of(tr_1))   ## Source of transition tr_2\n",
    "print (A.label_of(tr_1)) ## Label of tr_2\n",
    "print (A.dst_of(tr_1))   ## Destination of tr_2\n",
    "print (A.unpack_transition(tr_1)) ## All the above. (Third component \n",
    "                                ## is the weight and may be ignored.)"
   ]
  },
  {
   "cell_type": "markdown",
   "metadata": {},
   "source": [
    "---\n",
    "List of states reachable from a state in one transition."
   ]
  },
  {
   "cell_type": "code",
   "execution_count": 37,
   "metadata": {},
   "outputs": [
    {
     "data": {
      "text/plain": [
       "([1, 0], [1])"
      ]
     },
     "execution_count": 37,
     "metadata": {},
     "output_type": "execute_result"
    }
   ],
   "source": [
    "A.successors(stt_0), A.successors(stt_0, 'a')"
   ]
  },
  {
   "cell_type": "markdown",
   "metadata": {},
   "source": [
    "---\n",
    "List of states that may reach a state in one transition."
   ]
  },
  {
   "cell_type": "code",
   "execution_count": 38,
   "metadata": {},
   "outputs": [
    {
     "data": {
      "text/plain": [
       "([1, 0], [])"
      ]
     },
     "execution_count": 38,
     "metadata": {},
     "output_type": "execute_result"
    }
   ],
   "source": [
    "A.predecessors(stt_0), A.predecessors(stt_0, 'a')"
   ]
  },
  {
   "cell_type": "markdown",
   "metadata": {},
   "source": [
    "## Exercice: breadth-first traversal of **A**"
   ]
  },
  {
   "cell_type": "code",
   "execution_count": 39,
   "metadata": {},
   "outputs": [],
   "source": [
    "def bf_traversal(A):\n",
    "    visited = {}\n",
    "    for i in A.states():\n",
    "        visited[i] = False\n",
    "\n",
    "    to_treat = A.initial_states()\n",
    "    while len(to_treat) > 0 :\n",
    "        stt = to_treat.pop()\n",
    "        if not (visited[stt]):\n",
    "            visited[stt] = True\n",
    "            out_trs = A.outgoing(stt)\n",
    "            for tr in out_trs:\n",
    "                print (A.unpack_transition(tr))\n",
    "                to_treat.append(A.dst_of(tr))"
   ]
  },
  {
   "cell_type": "code",
   "execution_count": 40,
   "metadata": {},
   "outputs": [
    {
     "name": "stdout",
     "output_type": "stream",
     "text": [
      "(0, 'a', '1', 1)\n",
      "(0, 'b', '1', 0)\n",
      "(1, 'b', '1', 0)\n"
     ]
    }
   ],
   "source": [
    "bf_traversal(A)"
   ]
  },
  {
   "cell_type": "code",
   "execution_count": 41,
   "metadata": {},
   "outputs": [
    {
     "name": "stdout",
     "output_type": "stream",
     "text": [
      "(0, 'a', '1', 1)\n",
      "(1, 'b', '1', 1)\n",
      "(1, 'c', '1', 1)\n",
      "(1, 'c', '1', 0)\n",
      "(1, 'a', '1', 2)\n",
      "(2, 'b', '1', 2)\n",
      "(2, 'c', '1', 2)\n",
      "(2, 'c', '1', 0)\n",
      "(2, 'a', '1', 0)\n"
     ]
    }
   ],
   "source": [
    "bf_traversal(awalipy.make_ladybird(3))"
   ]
  },
  {
   "cell_type": "code",
   "execution_count": null,
   "metadata": {},
   "outputs": [],
   "source": []
  },
  {
   "cell_type": "code",
   "execution_count": null,
   "metadata": {},
   "outputs": [],
   "source": []
  },
  {
   "cell_type": "code",
   "execution_count": null,
   "metadata": {},
   "outputs": [],
   "source": []
  }
 ],
 "metadata": {
  "kernelspec": {
   "display_name": "Python 2",
   "language": "python",
   "name": "python2"
  },
  "language_info": {
   "codemirror_mode": {
    "name": "ipython",
    "version": 2
   },
   "file_extension": ".py",
   "mimetype": "text/x-python",
   "name": "python",
   "nbconvert_exporter": "python",
   "pygments_lexer": "ipython2",
   "version": "2.7.13"
  }
 },
 "nbformat": 4,
 "nbformat_minor": 1
}
